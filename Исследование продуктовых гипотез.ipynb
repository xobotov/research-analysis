{
 "cells": [
  {
   "cell_type": "markdown",
   "metadata": {},
   "source": [
    "#  Исследование продуктовых гипотез"
   ]
  },
  {
   "cell_type": "markdown",
   "metadata": {},
   "source": [
    "На этом проекте нам нужно будет проанализировать нескольок гипотез (9 гипотез) для увеличения выручки компании. Необходимо приоритизировать гипотезы, запуститть A/B-тест и проанализировать результат."
   ]
  },
  {
   "cell_type": "markdown",
   "metadata": {
    "toc": true
   },
   "source": [
    "<h1>Оглавление<span class=\"tocSkip\"></span></h1>\n",
    "<div class=\"toc\"><ul class=\"toc-item\"><li><span><a href=\"#План\" data-toc-modified-id=\"План-1\"><span class=\"toc-item-num\">1&nbsp;&nbsp;</span>План</a></span></li><li><span><a href=\"#Описание-данных\" data-toc-modified-id=\"Описание-данных-2\"><span class=\"toc-item-num\">2&nbsp;&nbsp;</span>Описание данных</a></span></li><li><span><a href=\"#Анализ-и-предобработка-данных\" data-toc-modified-id=\"Анализ-и-предобработка-данных-3\"><span class=\"toc-item-num\">3&nbsp;&nbsp;</span>Анализ и предобработка данных</a></span></li><li><span><a href=\"#Приоритизация-гипотез\" data-toc-modified-id=\"Приоритизация-гипотез-4\"><span class=\"toc-item-num\">4&nbsp;&nbsp;</span>Приоритизация гипотез</a></span><ul class=\"toc-item\"><li><span><a href=\"#ICE\" data-toc-modified-id=\"ICE-4.1\"><span class=\"toc-item-num\">4.1&nbsp;&nbsp;</span>ICE</a></span></li><li><span><a href=\"#RICE\" data-toc-modified-id=\"RICE-4.2\"><span class=\"toc-item-num\">4.2&nbsp;&nbsp;</span>RICE</a></span></li><li><span><a href=\"#Приоритизация-гипотез-при-применении-RICE-вместо-ICE\" data-toc-modified-id=\"Приоритизация-гипотез-при-применении-RICE-вместо-ICE-4.3\"><span class=\"toc-item-num\">4.3&nbsp;&nbsp;</span>Приоритизация гипотез при применении RICE вместо ICE</a></span></li></ul></li><li><span><a href=\"#Анализ-A/B-теста\" data-toc-modified-id=\"Анализ-A/B-теста-5\"><span class=\"toc-item-num\">5&nbsp;&nbsp;</span>Анализ A/B-теста</a></span><ul class=\"toc-item\"><li><span><a href=\"#График-кумулятивной-выручки\" data-toc-modified-id=\"График-кумулятивной-выручки-5.1\"><span class=\"toc-item-num\">5.1&nbsp;&nbsp;</span>График кумулятивной выручки</a></span></li><li><span><a href=\"#График-кумулятивного-среднего-чека-по-группам\" data-toc-modified-id=\"График-кумулятивного-среднего-чека-по-группам-5.2\"><span class=\"toc-item-num\">5.2&nbsp;&nbsp;</span>График кумулятивного среднего чека по группам</a></span></li><li><span><a href=\"#График-относительного-изменения-кумулятивного-среднего-чека\" data-toc-modified-id=\"График-относительного-изменения-кумулятивного-среднего-чека-5.3\"><span class=\"toc-item-num\">5.3&nbsp;&nbsp;</span>График относительного изменения кумулятивного среднего чека</a></span></li><li><span><a href=\"#График-кумулятивного-среднего-количества-заказов-по-группам\" data-toc-modified-id=\"График-кумулятивного-среднего-количества-заказов-по-группам-5.4\"><span class=\"toc-item-num\">5.4&nbsp;&nbsp;</span>График кумулятивного среднего количества заказов по группам</a></span></li><li><span><a href=\"#График-относительного-изменения-кумулятивного-среднего-количества-заказов-группы-B-к-группе-A.\" data-toc-modified-id=\"График-относительного-изменения-кумулятивного-среднего-количества-заказов-группы-B-к-группе-A.-5.5\"><span class=\"toc-item-num\">5.5&nbsp;&nbsp;</span>График относительного изменения кумулятивного среднего количества заказов группы B к группе A.</a></span></li><li><span><a href=\"#Точечный-график-количества-заказов-по-пользователям\" data-toc-modified-id=\"Точечный-график-количества-заказов-по-пользователям-5.6\"><span class=\"toc-item-num\">5.6&nbsp;&nbsp;</span>Точечный график количества заказов по пользователям</a></span></li><li><span><a href=\"#95-й-и-99-й-перцентили-количества-заказов\" data-toc-modified-id=\"95-й-и-99-й-перцентили-количества-заказов-5.7\"><span class=\"toc-item-num\">5.7&nbsp;&nbsp;</span>95-й и 99-й перцентили количества заказов</a></span></li><li><span><a href=\"#Точечный-график-стоимостей-заказов.\" data-toc-modified-id=\"Точечный-график-стоимостей-заказов.-5.8\"><span class=\"toc-item-num\">5.8&nbsp;&nbsp;</span>Точечный график стоимостей заказов.</a></span></li><li><span><a href=\"#95-й-и-99-й-перцентили-стоимости-заказов.\" data-toc-modified-id=\"95-й-и-99-й-перцентили-стоимости-заказов.-5.9\"><span class=\"toc-item-num\">5.9&nbsp;&nbsp;</span>95-й и 99-й перцентили стоимости заказов.</a></span></li><li><span><a href=\"#Cтатистическая-значимость-различий-в-среднем-количестве-заказов-между-группами-по-«сырым»-данным\" data-toc-modified-id=\"Cтатистическая-значимость-различий-в-среднем-количестве-заказов-между-группами-по-«сырым»-данным-5.10\"><span class=\"toc-item-num\">5.10&nbsp;&nbsp;</span>Cтатистическая значимость различий в среднем количестве заказов между группами по «сырым» данным</a></span></li><li><span><a href=\"#Статистическая-значимость-различий-в-среднем-чеке-заказа-между-группами-по-«сырым»-данным\" data-toc-modified-id=\"Статистическая-значимость-различий-в-среднем-чеке-заказа-между-группами-по-«сырым»-данным-5.11\"><span class=\"toc-item-num\">5.11&nbsp;&nbsp;</span>Статистическая значимость различий в среднем чеке заказа между группами по «сырым» данным</a></span></li><li><span><a href=\"#Cтатистическая-значимость-различий-в-среднем-чеке-конверсию-между-группами-по-«очищенным»-данным.\" data-toc-modified-id=\"Cтатистическая-значимость-различий-в-среднем-чеке-конверсию-между-группами-по-«очищенным»-данным.-5.12\"><span class=\"toc-item-num\">5.12&nbsp;&nbsp;</span>Cтатистическая значимость различий в среднем чеке конверсию между группами по «очищенным» данным.</a></span></li><li><span><a href=\"#Cтатистическая-значимость-различий-в-среднем-чеке-заказа-между-группами-по-«очищенным»-данным.\" data-toc-modified-id=\"Cтатистическая-значимость-различий-в-среднем-чеке-заказа-между-группами-по-«очищенным»-данным.-5.13\"><span class=\"toc-item-num\">5.13&nbsp;&nbsp;</span>Cтатистическая значимость различий в среднем чеке заказа между группами по «очищенным» данным.</a></span></li></ul></li><li><span><a href=\"#Выводы\" data-toc-modified-id=\"Выводы-6\"><span class=\"toc-item-num\">6&nbsp;&nbsp;</span>Выводы</a></span></li></ul></div>"
   ]
  },
  {
   "cell_type": "markdown",
   "metadata": {},
   "source": [
    "## План\n",
    "\n",
    "**Часть 1.**\n",
    "**Приоритизация гипотез.**\n",
    "\n",
    "Задача:\n",
    "- Применить фреймворк `ICE` для приоритизации гипотез. Отсортировать их по убыванию приоритета.\n",
    "- Применить фреймворк `RICE` для приоритизации гипотез. Отсортировать их по убыванию приоритета.\n",
    "- Указать, как изменилась приоритизация гипотез при применении `RICE` вместо `ICE`. Объяснить, почему так произошло.\n",
    "\n",
    "\n",
    "**Часть 2.**\n",
    "**Анализ A/B-теста**\n",
    "\n",
    "Задача:\n",
    "1. **Проанализируйте A/B-тест:**\n",
    "- Построить график кумулятивной выручки по группам. Сделать выводы и предположения.\n",
    "- Построить график кумулятивного среднего чека по группам. Сделать выводы и предположения.\n",
    "- Построить график относительного изменения кумулятивного среднего чека группы B к группе A. Сделать выводы и предположения.\n",
    "- Построить график кумулятивного среднего количества заказов по группам. Сделать выводы и предположения.\n",
    "- Построить график относительного изменения кумулятивного среднего количества заказов группы B к группе A. Сделать выводы и предположения.\n",
    "- Построить точечный график количества заказов по пользователям. Сделать выводы и предположения.\n",
    "- Построить 95-й и 99-й перцентили количества заказов на пользователя. Выбрать границу для определения аномальных пользователей.\n",
    "- Построить точечный график стоимостей заказов. Сделать выводы и предположения.\n",
    "- Построить 95-й и 99-й перцентили стоимости заказов. Выбрать границу для определения аномальных заказов.\n",
    "- Построить статистическую значимость различий в среднем количестве заказов между группами по «сырым» данным. Сделать выводы и предположения.\n",
    "- Построить статистическую значимость различий в среднем чеке заказа между группами по «сырым» данным. Сделать выводы и предположения.\n",
    "- Построить статистическую значимость различий в среднем количестве заказов между группами по «очищенным» данным. Сделать выводы и предположения.\n",
    "- Построить статистическую значимость различий в среднем чеке заказа между группами по «очищенным» данным. Сделать выводы и предположения.\n",
    "- Принять решение по результатам теста и объясните его. \n",
    "   - **Варианты решений:** \n",
    "   1. Остановить тест, зафиксировать победу одной из групп. \n",
    "   2. Остановить тест, зафиксировать отсутствие различий между группами. \n",
    "   3. Продолжить тест."
   ]
  },
  {
   "cell_type": "markdown",
   "metadata": {},
   "source": [
    "## Описание данных\n",
    "\n",
    "\n",
    "- **Файл hypothesis.csv:**\n",
    "\n",
    " - `Hypothesis` — краткое описание гипотезы;\n",
    " - `Reach` — охват пользователей по 10-балльной шкале;\n",
    " - `Impact` — влияние на пользователей по 10-балльной шкале;\n",
    " - `Confidence` — уверенность в гипотезе по 10-балльной шкале;\n",
    " - `Efforts` — затраты ресурсов на проверку гипотезы по 10-балльной шкале. Чем больше значение Efforts, тем дороже проверка гипотезы.\n",
    "\n",
    "- **Файл orders.csv:**\n",
    "\n",
    " - `transactionId` — идентификатор заказа;\n",
    " - `visitorId` — идентификатор пользователя, совершившего заказ;\n",
    " - `date` — дата, когда был совершён заказ;\n",
    " - `revenue` — выручка заказа;\n",
    " - `group` — группа A/B-теста, в которую попал заказ.\n",
    "\n",
    "- **Файл visitors.csv:**\n",
    "\n",
    " - `date` — дата;\n",
    " - `group` — группа A/B-теста;\n",
    " - `visitors` — количество пользователей в указанную дату в указанной группе A/B-теста"
   ]
  },
  {
   "cell_type": "markdown",
   "metadata": {},
   "source": [
    "##  Анализ и предобработка данных"
   ]
  },
  {
   "cell_type": "code",
   "execution_count": 1,
   "metadata": {},
   "outputs": [],
   "source": [
    "# Необходимые библиотеки для исследования \n",
    "import pandas as pd\n",
    "import matplotlib.pyplot as plt\n",
    "import scipy.stats as stats\n",
    "import numpy as np    \n",
    "from scipy import stats as st\n",
    "import seaborn as sns\n",
    "sns.set(rc={'figure.figsize':(10, 8)})\n",
    "import math\n",
    "from IPython.display import display"
   ]
  },
  {
   "cell_type": "code",
   "execution_count": 2,
   "metadata": {},
   "outputs": [],
   "source": [
    "# Выгружаем необходимые данные для анализа\n",
    "hypothesis = pd.read_csv('/datasets/hypothesis.csv')\n",
    "orders = pd.read_csv('/datasets/orders.csv')\n",
    "visitors = pd.read_csv('/datasets/visitors.csv')"
   ]
  },
  {
   "cell_type": "markdown",
   "metadata": {},
   "source": [
    "Выгрузим таблицы приведем их нужному регистру и проверим на пропуски и дубликаты"
   ]
  },
  {
   "cell_type": "code",
   "execution_count": 3,
   "metadata": {},
   "outputs": [
    {
     "name": "stdout",
     "output_type": "stream",
     "text": [
      "<class 'pandas.core.frame.DataFrame'>\n",
      "RangeIndex: 9 entries, 0 to 8\n",
      "Data columns (total 5 columns):\n",
      " #   Column      Non-Null Count  Dtype \n",
      "---  ------      --------------  ----- \n",
      " 0   Hypothesis  9 non-null      object\n",
      " 1   Reach       9 non-null      int64 \n",
      " 2   Impact      9 non-null      int64 \n",
      " 3   Confidence  9 non-null      int64 \n",
      " 4   Efforts     9 non-null      int64 \n",
      "dtypes: int64(4), object(1)\n",
      "memory usage: 488.0+ bytes\n"
     ]
    }
   ],
   "source": [
    "hypothesis.info()"
   ]
  },
  {
   "cell_type": "code",
   "execution_count": 4,
   "metadata": {},
   "outputs": [
    {
     "data": {
      "text/html": [
       "<div>\n",
       "<style scoped>\n",
       "    .dataframe tbody tr th:only-of-type {\n",
       "        vertical-align: middle;\n",
       "    }\n",
       "\n",
       "    .dataframe tbody tr th {\n",
       "        vertical-align: top;\n",
       "    }\n",
       "\n",
       "    .dataframe thead th {\n",
       "        text-align: right;\n",
       "    }\n",
       "</style>\n",
       "<table border=\"1\" class=\"dataframe\">\n",
       "  <thead>\n",
       "    <tr style=\"text-align: right;\">\n",
       "      <th></th>\n",
       "      <th>Hypothesis</th>\n",
       "      <th>Reach</th>\n",
       "      <th>Impact</th>\n",
       "      <th>Confidence</th>\n",
       "      <th>Efforts</th>\n",
       "    </tr>\n",
       "  </thead>\n",
       "  <tbody>\n",
       "    <tr>\n",
       "      <th>0</th>\n",
       "      <td>Добавить два новых канала привлечения трафика, что позволит привлекать на 30% больше пользователей</td>\n",
       "      <td>3</td>\n",
       "      <td>10</td>\n",
       "      <td>8</td>\n",
       "      <td>6</td>\n",
       "    </tr>\n",
       "    <tr>\n",
       "      <th>1</th>\n",
       "      <td>Запустить собственную службу доставки, что сократит срок доставки заказов</td>\n",
       "      <td>2</td>\n",
       "      <td>5</td>\n",
       "      <td>4</td>\n",
       "      <td>10</td>\n",
       "    </tr>\n",
       "    <tr>\n",
       "      <th>2</th>\n",
       "      <td>Добавить блоки рекомендаций товаров на сайт интернет магазина, чтобы повысить конверсию и средний чек заказа</td>\n",
       "      <td>8</td>\n",
       "      <td>3</td>\n",
       "      <td>7</td>\n",
       "      <td>3</td>\n",
       "    </tr>\n",
       "    <tr>\n",
       "      <th>3</th>\n",
       "      <td>Изменить структура категорий, что увеличит конверсию, т.к. пользователи быстрее найдут нужный товар</td>\n",
       "      <td>8</td>\n",
       "      <td>3</td>\n",
       "      <td>3</td>\n",
       "      <td>8</td>\n",
       "    </tr>\n",
       "    <tr>\n",
       "      <th>4</th>\n",
       "      <td>Изменить цвет фона главной страницы, чтобы увеличить вовлеченность пользователей</td>\n",
       "      <td>3</td>\n",
       "      <td>1</td>\n",
       "      <td>1</td>\n",
       "      <td>1</td>\n",
       "    </tr>\n",
       "  </tbody>\n",
       "</table>\n",
       "</div>"
      ],
      "text/plain": [
       "                                                                                                     Hypothesis  \\\n",
       "0            Добавить два новых канала привлечения трафика, что позволит привлекать на 30% больше пользователей   \n",
       "1                                     Запустить собственную службу доставки, что сократит срок доставки заказов   \n",
       "2  Добавить блоки рекомендаций товаров на сайт интернет магазина, чтобы повысить конверсию и средний чек заказа   \n",
       "3           Изменить структура категорий, что увеличит конверсию, т.к. пользователи быстрее найдут нужный товар   \n",
       "4                              Изменить цвет фона главной страницы, чтобы увеличить вовлеченность пользователей   \n",
       "\n",
       "   Reach  Impact  Confidence  Efforts  \n",
       "0      3      10           8        6  \n",
       "1      2       5           4       10  \n",
       "2      8       3           7        3  \n",
       "3      8       3           3        8  \n",
       "4      3       1           1        1  "
      ]
     },
     "execution_count": 4,
     "metadata": {},
     "output_type": "execute_result"
    }
   ],
   "source": [
    "pd.options.display.max_colwidth = 1000\n",
    "hypothesis.head(5)"
   ]
  },
  {
   "cell_type": "code",
   "execution_count": 5,
   "metadata": {},
   "outputs": [],
   "source": [
    "hypothesis.columns = hypothesis.columns.str.lower()"
   ]
  },
  {
   "cell_type": "code",
   "execution_count": 6,
   "metadata": {},
   "outputs": [
    {
     "name": "stdout",
     "output_type": "stream",
     "text": [
      "<class 'pandas.core.frame.DataFrame'>\n",
      "RangeIndex: 1197 entries, 0 to 1196\n",
      "Data columns (total 5 columns):\n",
      " #   Column         Non-Null Count  Dtype \n",
      "---  ------         --------------  ----- \n",
      " 0   transactionId  1197 non-null   int64 \n",
      " 1   visitorId      1197 non-null   int64 \n",
      " 2   date           1197 non-null   object\n",
      " 3   revenue        1197 non-null   int64 \n",
      " 4   group          1197 non-null   object\n",
      "dtypes: int64(3), object(2)\n",
      "memory usage: 46.9+ KB\n"
     ]
    }
   ],
   "source": [
    "orders.info()"
   ]
  },
  {
   "cell_type": "code",
   "execution_count": 7,
   "metadata": {},
   "outputs": [
    {
     "data": {
      "text/html": [
       "<div>\n",
       "<style scoped>\n",
       "    .dataframe tbody tr th:only-of-type {\n",
       "        vertical-align: middle;\n",
       "    }\n",
       "\n",
       "    .dataframe tbody tr th {\n",
       "        vertical-align: top;\n",
       "    }\n",
       "\n",
       "    .dataframe thead th {\n",
       "        text-align: right;\n",
       "    }\n",
       "</style>\n",
       "<table border=\"1\" class=\"dataframe\">\n",
       "  <thead>\n",
       "    <tr style=\"text-align: right;\">\n",
       "      <th></th>\n",
       "      <th>transactionId</th>\n",
       "      <th>visitorId</th>\n",
       "      <th>date</th>\n",
       "      <th>revenue</th>\n",
       "      <th>group</th>\n",
       "    </tr>\n",
       "  </thead>\n",
       "  <tbody>\n",
       "    <tr>\n",
       "      <th>0</th>\n",
       "      <td>3667963787</td>\n",
       "      <td>3312258926</td>\n",
       "      <td>2019-08-15</td>\n",
       "      <td>1650</td>\n",
       "      <td>B</td>\n",
       "    </tr>\n",
       "    <tr>\n",
       "      <th>1</th>\n",
       "      <td>2804400009</td>\n",
       "      <td>3642806036</td>\n",
       "      <td>2019-08-15</td>\n",
       "      <td>730</td>\n",
       "      <td>B</td>\n",
       "    </tr>\n",
       "    <tr>\n",
       "      <th>2</th>\n",
       "      <td>2961555356</td>\n",
       "      <td>4069496402</td>\n",
       "      <td>2019-08-15</td>\n",
       "      <td>400</td>\n",
       "      <td>A</td>\n",
       "    </tr>\n",
       "    <tr>\n",
       "      <th>3</th>\n",
       "      <td>3797467345</td>\n",
       "      <td>1196621759</td>\n",
       "      <td>2019-08-15</td>\n",
       "      <td>9759</td>\n",
       "      <td>B</td>\n",
       "    </tr>\n",
       "    <tr>\n",
       "      <th>4</th>\n",
       "      <td>2282983706</td>\n",
       "      <td>2322279887</td>\n",
       "      <td>2019-08-15</td>\n",
       "      <td>2308</td>\n",
       "      <td>B</td>\n",
       "    </tr>\n",
       "  </tbody>\n",
       "</table>\n",
       "</div>"
      ],
      "text/plain": [
       "   transactionId   visitorId        date  revenue group\n",
       "0     3667963787  3312258926  2019-08-15     1650     B\n",
       "1     2804400009  3642806036  2019-08-15      730     B\n",
       "2     2961555356  4069496402  2019-08-15      400     A\n",
       "3     3797467345  1196621759  2019-08-15     9759     B\n",
       "4     2282983706  2322279887  2019-08-15     2308     B"
      ]
     },
     "execution_count": 7,
     "metadata": {},
     "output_type": "execute_result"
    }
   ],
   "source": [
    "\n",
    "orders.head(5)"
   ]
  },
  {
   "cell_type": "code",
   "execution_count": 8,
   "metadata": {},
   "outputs": [
    {
     "data": {
      "text/plain": [
       "0"
      ]
     },
     "execution_count": 8,
     "metadata": {},
     "output_type": "execute_result"
    }
   ],
   "source": [
    "orders.duplicated().sum()\n"
   ]
  },
  {
   "cell_type": "code",
   "execution_count": 9,
   "metadata": {},
   "outputs": [
    {
     "name": "stdout",
     "output_type": "stream",
     "text": [
      "<class 'pandas.core.frame.DataFrame'>\n",
      "RangeIndex: 62 entries, 0 to 61\n",
      "Data columns (total 3 columns):\n",
      " #   Column    Non-Null Count  Dtype \n",
      "---  ------    --------------  ----- \n",
      " 0   date      62 non-null     object\n",
      " 1   group     62 non-null     object\n",
      " 2   visitors  62 non-null     int64 \n",
      "dtypes: int64(1), object(2)\n",
      "memory usage: 1.6+ KB\n"
     ]
    }
   ],
   "source": [
    "visitors.info()"
   ]
  },
  {
   "cell_type": "code",
   "execution_count": 10,
   "metadata": {},
   "outputs": [
    {
     "data": {
      "text/html": [
       "<div>\n",
       "<style scoped>\n",
       "    .dataframe tbody tr th:only-of-type {\n",
       "        vertical-align: middle;\n",
       "    }\n",
       "\n",
       "    .dataframe tbody tr th {\n",
       "        vertical-align: top;\n",
       "    }\n",
       "\n",
       "    .dataframe thead th {\n",
       "        text-align: right;\n",
       "    }\n",
       "</style>\n",
       "<table border=\"1\" class=\"dataframe\">\n",
       "  <thead>\n",
       "    <tr style=\"text-align: right;\">\n",
       "      <th></th>\n",
       "      <th>date</th>\n",
       "      <th>group</th>\n",
       "      <th>visitors</th>\n",
       "    </tr>\n",
       "  </thead>\n",
       "  <tbody>\n",
       "    <tr>\n",
       "      <th>0</th>\n",
       "      <td>2019-08-01</td>\n",
       "      <td>A</td>\n",
       "      <td>719</td>\n",
       "    </tr>\n",
       "    <tr>\n",
       "      <th>1</th>\n",
       "      <td>2019-08-02</td>\n",
       "      <td>A</td>\n",
       "      <td>619</td>\n",
       "    </tr>\n",
       "    <tr>\n",
       "      <th>2</th>\n",
       "      <td>2019-08-03</td>\n",
       "      <td>A</td>\n",
       "      <td>507</td>\n",
       "    </tr>\n",
       "    <tr>\n",
       "      <th>3</th>\n",
       "      <td>2019-08-04</td>\n",
       "      <td>A</td>\n",
       "      <td>717</td>\n",
       "    </tr>\n",
       "    <tr>\n",
       "      <th>4</th>\n",
       "      <td>2019-08-05</td>\n",
       "      <td>A</td>\n",
       "      <td>756</td>\n",
       "    </tr>\n",
       "  </tbody>\n",
       "</table>\n",
       "</div>"
      ],
      "text/plain": [
       "         date group  visitors\n",
       "0  2019-08-01     A       719\n",
       "1  2019-08-02     A       619\n",
       "2  2019-08-03     A       507\n",
       "3  2019-08-04     A       717\n",
       "4  2019-08-05     A       756"
      ]
     },
     "execution_count": 10,
     "metadata": {},
     "output_type": "execute_result"
    }
   ],
   "source": [
    "\n",
    "visitors.head(5)"
   ]
  },
  {
   "cell_type": "code",
   "execution_count": 11,
   "metadata": {},
   "outputs": [
    {
     "data": {
      "text/plain": [
       "0"
      ]
     },
     "execution_count": 11,
     "metadata": {},
     "output_type": "execute_result"
    }
   ],
   "source": [
    "visitors.duplicated().sum()"
   ]
  },
  {
   "cell_type": "markdown",
   "metadata": {},
   "source": [
    "С данными проблем нет, приведем еще даты к нужному и типу и можно начинать работать с данными."
   ]
  },
  {
   "cell_type": "code",
   "execution_count": 12,
   "metadata": {},
   "outputs": [],
   "source": [
    "orders['date'] = pd.to_datetime(orders['date'])\n",
    "visitors['date'] = pd.to_datetime(visitors['date'])"
   ]
  },
  {
   "cell_type": "markdown",
   "metadata": {},
   "source": [
    "**Вывод:**\n",
    "\n",
    "Преобработка данных закончена, дубликатов в строках не обнаружено, пропусков тоже нет. Привели к нужному типу и регистру некоторые данные. Переходим к проверке самих гипотез"
   ]
  },
  {
   "cell_type": "markdown",
   "metadata": {},
   "source": [
    "## Приоритизация гипотез"
   ]
  },
  {
   "cell_type": "markdown",
   "metadata": {},
   "source": [
    "В нашем распоряжении файл с 9 гипотезами, для которых оценены значения Reach, Impact, Confidence и Efforts:\n",
    "- Применить фреймворк `ICE` для приоритизации гипотез. Отсортировать их по убыванию приоритета.\n",
    "- Применить фреймворк `RICE` для приоритизации гипотез. Отсортировать их по убыванию приоритета.\n",
    "- Указать, как изменилась приоритизация гипотез при применении `RICE` вместо `ICE`. Объяснить, почему так произошло."
   ]
  },
  {
   "cell_type": "markdown",
   "metadata": {},
   "source": [
    "### ICE"
   ]
  },
  {
   "cell_type": "code",
   "execution_count": 13,
   "metadata": {},
   "outputs": [
    {
     "data": {
      "text/html": [
       "<div>\n",
       "<style scoped>\n",
       "    .dataframe tbody tr th:only-of-type {\n",
       "        vertical-align: middle;\n",
       "    }\n",
       "\n",
       "    .dataframe tbody tr th {\n",
       "        vertical-align: top;\n",
       "    }\n",
       "\n",
       "    .dataframe thead th {\n",
       "        text-align: right;\n",
       "    }\n",
       "</style>\n",
       "<table border=\"1\" class=\"dataframe\">\n",
       "  <thead>\n",
       "    <tr style=\"text-align: right;\">\n",
       "      <th></th>\n",
       "      <th>hypothesis</th>\n",
       "      <th>reach</th>\n",
       "      <th>impact</th>\n",
       "      <th>confidence</th>\n",
       "      <th>efforts</th>\n",
       "      <th>ICE</th>\n",
       "    </tr>\n",
       "  </thead>\n",
       "  <tbody>\n",
       "    <tr>\n",
       "      <th>8</th>\n",
       "      <td>Запустить акцию, дающую скидку на товар в день рождения</td>\n",
       "      <td>1</td>\n",
       "      <td>9</td>\n",
       "      <td>9</td>\n",
       "      <td>5</td>\n",
       "      <td>16.20</td>\n",
       "    </tr>\n",
       "    <tr>\n",
       "      <th>0</th>\n",
       "      <td>Добавить два новых канала привлечения трафика, что позволит привлекать на 30% больше пользователей</td>\n",
       "      <td>3</td>\n",
       "      <td>10</td>\n",
       "      <td>8</td>\n",
       "      <td>6</td>\n",
       "      <td>13.33</td>\n",
       "    </tr>\n",
       "    <tr>\n",
       "      <th>7</th>\n",
       "      <td>Добавить форму подписки на все основные страницы, чтобы собрать базу клиентов для email-рассылок</td>\n",
       "      <td>10</td>\n",
       "      <td>7</td>\n",
       "      <td>8</td>\n",
       "      <td>5</td>\n",
       "      <td>11.20</td>\n",
       "    </tr>\n",
       "    <tr>\n",
       "      <th>6</th>\n",
       "      <td>Показать на главной странице баннеры с актуальными акциями и распродажами, чтобы увеличить конверсию</td>\n",
       "      <td>5</td>\n",
       "      <td>3</td>\n",
       "      <td>8</td>\n",
       "      <td>3</td>\n",
       "      <td>8.00</td>\n",
       "    </tr>\n",
       "    <tr>\n",
       "      <th>2</th>\n",
       "      <td>Добавить блоки рекомендаций товаров на сайт интернет магазина, чтобы повысить конверсию и средний чек заказа</td>\n",
       "      <td>8</td>\n",
       "      <td>3</td>\n",
       "      <td>7</td>\n",
       "      <td>3</td>\n",
       "      <td>7.00</td>\n",
       "    </tr>\n",
       "  </tbody>\n",
       "</table>\n",
       "</div>"
      ],
      "text/plain": [
       "                                                                                                     hypothesis  \\\n",
       "8                                                       Запустить акцию, дающую скидку на товар в день рождения   \n",
       "0            Добавить два новых канала привлечения трафика, что позволит привлекать на 30% больше пользователей   \n",
       "7              Добавить форму подписки на все основные страницы, чтобы собрать базу клиентов для email-рассылок   \n",
       "6          Показать на главной странице баннеры с актуальными акциями и распродажами, чтобы увеличить конверсию   \n",
       "2  Добавить блоки рекомендаций товаров на сайт интернет магазина, чтобы повысить конверсию и средний чек заказа   \n",
       "\n",
       "   reach  impact  confidence  efforts    ICE  \n",
       "8      1       9           9        5  16.20  \n",
       "0      3      10           8        6  13.33  \n",
       "7     10       7           8        5  11.20  \n",
       "6      5       3           8        3   8.00  \n",
       "2      8       3           7        3   7.00  "
      ]
     },
     "execution_count": 13,
     "metadata": {},
     "output_type": "execute_result"
    }
   ],
   "source": [
    "pd.options.display.max_colwidth = 1000\n",
    "hypothesis['ICE'] = round(hypothesis['impact'] * hypothesis['confidence'] / hypothesis['efforts'],2)\n",
    "hypothesis.sort_values('ICE', ascending=False).head()"
   ]
  },
  {
   "cell_type": "code",
   "execution_count": 14,
   "metadata": {},
   "outputs": [
    {
     "data": {
      "image/png": "[encoded data removed]",
      "text/plain": [
       "<Figure size 720x576 with 1 Axes>"
      ]
     },
     "metadata": {},
     "output_type": "display_data"
    }
   ],
   "source": [
    "ax = hypothesis[['hypothesis', 'ICE']].set_index('hypothesis').sort_values('ICE', ascending=True).plot(kind='barh')\n",
    "ax.set_xlabel('Приоритет')\n",
    "ax.set_ylabel('Гипотеза')\n",
    "ax.set_title('ICE', fontsize = 15, color = 'BLACK') \n",
    "plt.show();"
   ]
  },
  {
   "cell_type": "markdown",
   "metadata": {},
   "source": [
    "### RICE"
   ]
  },
  {
   "cell_type": "code",
   "execution_count": 15,
   "metadata": {},
   "outputs": [
    {
     "data": {
      "text/html": [
       "<div>\n",
       "<style scoped>\n",
       "    .dataframe tbody tr th:only-of-type {\n",
       "        vertical-align: middle;\n",
       "    }\n",
       "\n",
       "    .dataframe tbody tr th {\n",
       "        vertical-align: top;\n",
       "    }\n",
       "\n",
       "    .dataframe thead th {\n",
       "        text-align: right;\n",
       "    }\n",
       "</style>\n",
       "<table border=\"1\" class=\"dataframe\">\n",
       "  <thead>\n",
       "    <tr style=\"text-align: right;\">\n",
       "      <th></th>\n",
       "      <th>hypothesis</th>\n",
       "      <th>reach</th>\n",
       "      <th>impact</th>\n",
       "      <th>confidence</th>\n",
       "      <th>efforts</th>\n",
       "      <th>ICE</th>\n",
       "      <th>RICE</th>\n",
       "    </tr>\n",
       "  </thead>\n",
       "  <tbody>\n",
       "    <tr>\n",
       "      <th>7</th>\n",
       "      <td>Добавить форму подписки на все основные страницы, чтобы собрать базу клиентов для email-рассылок</td>\n",
       "      <td>10</td>\n",
       "      <td>7</td>\n",
       "      <td>8</td>\n",
       "      <td>5</td>\n",
       "      <td>11.20</td>\n",
       "      <td>112.0</td>\n",
       "    </tr>\n",
       "    <tr>\n",
       "      <th>2</th>\n",
       "      <td>Добавить блоки рекомендаций товаров на сайт интернет магазина, чтобы повысить конверсию и средний чек заказа</td>\n",
       "      <td>8</td>\n",
       "      <td>3</td>\n",
       "      <td>7</td>\n",
       "      <td>3</td>\n",
       "      <td>7.00</td>\n",
       "      <td>56.0</td>\n",
       "    </tr>\n",
       "    <tr>\n",
       "      <th>0</th>\n",
       "      <td>Добавить два новых канала привлечения трафика, что позволит привлекать на 30% больше пользователей</td>\n",
       "      <td>3</td>\n",
       "      <td>10</td>\n",
       "      <td>8</td>\n",
       "      <td>6</td>\n",
       "      <td>13.33</td>\n",
       "      <td>40.0</td>\n",
       "    </tr>\n",
       "    <tr>\n",
       "      <th>6</th>\n",
       "      <td>Показать на главной странице баннеры с актуальными акциями и распродажами, чтобы увеличить конверсию</td>\n",
       "      <td>5</td>\n",
       "      <td>3</td>\n",
       "      <td>8</td>\n",
       "      <td>3</td>\n",
       "      <td>8.00</td>\n",
       "      <td>40.0</td>\n",
       "    </tr>\n",
       "    <tr>\n",
       "      <th>8</th>\n",
       "      <td>Запустить акцию, дающую скидку на товар в день рождения</td>\n",
       "      <td>1</td>\n",
       "      <td>9</td>\n",
       "      <td>9</td>\n",
       "      <td>5</td>\n",
       "      <td>16.20</td>\n",
       "      <td>16.2</td>\n",
       "    </tr>\n",
       "  </tbody>\n",
       "</table>\n",
       "</div>"
      ],
      "text/plain": [
       "                                                                                                     hypothesis  \\\n",
       "7              Добавить форму подписки на все основные страницы, чтобы собрать базу клиентов для email-рассылок   \n",
       "2  Добавить блоки рекомендаций товаров на сайт интернет магазина, чтобы повысить конверсию и средний чек заказа   \n",
       "0            Добавить два новых канала привлечения трафика, что позволит привлекать на 30% больше пользователей   \n",
       "6          Показать на главной странице баннеры с актуальными акциями и распродажами, чтобы увеличить конверсию   \n",
       "8                                                       Запустить акцию, дающую скидку на товар в день рождения   \n",
       "\n",
       "   reach  impact  confidence  efforts    ICE   RICE  \n",
       "7     10       7           8        5  11.20  112.0  \n",
       "2      8       3           7        3   7.00   56.0  \n",
       "0      3      10           8        6  13.33   40.0  \n",
       "6      5       3           8        3   8.00   40.0  \n",
       "8      1       9           9        5  16.20   16.2  "
      ]
     },
     "execution_count": 15,
     "metadata": {},
     "output_type": "execute_result"
    }
   ],
   "source": [
    "pd.options.display.max_colwidth = 1000\n",
    "hypothesis['RICE'] = hypothesis['reach'] * hypothesis['impact'] * hypothesis['confidence'] / hypothesis['efforts']\n",
    "hypothesis.sort_values('RICE', ascending=False).head()\n"
   ]
  },
  {
   "cell_type": "code",
   "execution_count": 16,
   "metadata": {},
   "outputs": [
    {
     "data": {
      "image/png": "[encoded data removed]",
      "text/plain": [
       "<Figure size 720x576 with 1 Axes>"
      ]
     },
     "metadata": {},
     "output_type": "display_data"
    }
   ],
   "source": [
    "ax = hypothesis[['hypothesis', 'RICE']].set_index('hypothesis').sort_values('RICE', ascending=True).plot(kind='barh')\n",
    "ax.set_xlabel('Приоритет')\n",
    "ax.set_ylabel('Гипотеза')\n",
    "ax.set_title('RICE', fontsize = 15, color = 'BLACK') \n",
    "plt.show()"
   ]
  },
  {
   "cell_type": "markdown",
   "metadata": {},
   "source": [
    "### Приоритизация гипотез при применении RICE вместо ICE"
   ]
  },
  {
   "cell_type": "markdown",
   "metadata": {},
   "source": [
    "При применения фреймворка **ICE** для приоритизации гипотез, наилучшиме решениями можно назвать гипотезы 8,0,7 и 6. \n",
    "\n",
    "При применении фреймворка **RICE** для приоритизации гипотез, наилучшиме решениями можно назвать гипотезы 7,2,0 и 6. \n",
    "\n",
    "Гипотеза 7 (*Добавить форму подписки на все основные страницы, чтобы собрать базу клиентов для email-рассылок*) стала на первом месте в фреймворке `RICE` в связи с тем, что ее параметр `Reach` максимальный и равен 10, у гипотезы 2 параметр Reach также велик и равен 8 (*Запустить акцию, дающую скидку на товар в день рождения*)."
   ]
  },
  {
   "cell_type": "markdown",
   "metadata": {},
   "source": [
    "## Анализ A/B-теста"
   ]
  },
  {
   "cell_type": "markdown",
   "metadata": {},
   "source": [
    "- Построить график кумулятивной выручки по группам. Сделать выводы и предположения.\n",
    "- Построить график кумулятивного среднего чека по группам. Сделать выводы и предположения.\n",
    "- Построить график относительного изменения кумулятивного среднего чека группы B к группе A. Сделать выводы и предположения.\n",
    "- Построить график кумулятивного среднего количества заказов по группам. Сделать выводы и предположения.\n",
    "- Построить график относительного изменения кумулятивного среднего количества заказов группы B к группе A. Сделать выводы и предположения.\n",
    "- Построить точечный график количества заказов по пользователям. Сделать выводы и предположения.\n",
    "- Построить 95-й и 99-й перцентили количества заказов на пользователя. Выбрать границу для определения аномальных пользователей.\n",
    "- Построить точечный график стоимостей заказов. Сделать выводы и предположения.\n",
    "- Построить 95-й и 99-й перцентили стоимости заказов. Выбрать границу для определения аномальных заказов.\n",
    "- Построить статистическую значимость различий в среднем количестве заказов между группами по «сырым» данным. Сделать выводы и предположения.\n",
    "- Построить статистическую значимость различий в среднем чеке заказа между группами по «сырым» данным. Сделать выводы и предположения.\n",
    "- Построить статистическую значимость различий в среднем количестве заказов между группами по «очищенным» данным. Сделать выводы и предположения.\n",
    "- Построить статистическую значимость различий в среднем чеке заказа между группами по «очищенным» данным. Сделать выводы и предположения.\n",
    "- Принять решение по результатам теста и объясните его.\n",
    "\n",
    "**Варианты решений:**\n",
    "  - Остановить тест, зафиксировать победу одной из групп.\n",
    "  - Остановить тест, зафиксировать отсутствие различий между группами.\n",
    "  - Продолжить тест."
   ]
  },
  {
   "cell_type": "markdown",
   "metadata": {},
   "source": [
    "### График кумулятивной выручки"
   ]
  },
  {
   "cell_type": "markdown",
   "metadata": {},
   "source": [
    "Первым делом проверим, нет ли пользователей, попавших одновременно в обе группы."
   ]
  },
  {
   "cell_type": "code",
   "execution_count": 17,
   "metadata": {},
   "outputs": [
    {
     "name": "stdout",
     "output_type": "stream",
     "text": [
      "Пользователей, попавших в обе группы: 58\n",
      "Сумма заказов этих пользователей 1558935\n",
      "Количество их заказов 181\n"
     ]
    }
   ],
   "source": [
    "doubles = orders.groupby(['visitorId']).agg({'group' : 'nunique', 'transactionId' : 'count', 'revenue' : 'sum'}).reset_index()\n",
    "print(f'Пользователей, попавших в обе группы: {doubles[doubles.group != 1][\"visitorId\"].count()}')\n",
    "print(f\"Сумма заказов этих пользователей {doubles[doubles.group != 1]['revenue'].sum()}\")\n",
    "print(f\"Количество их заказов {doubles[doubles.group != 1]['transactionId'].sum()}\")"
   ]
  },
  {
   "cell_type": "markdown",
   "metadata": {},
   "source": [
    "58 пользователей попали в обе группы. Всего эти пользователи совершили 181 заказ на более чем 1,5 млн рублей. Неизвестно, какая из версий исследуемой страницы повлияла на их решения, значит, результаты исследования нельзя интерпретировать однозначно. Следует исключить этих пользователей из исследования."
   ]
  },
  {
   "cell_type": "code",
   "execution_count": 18,
   "metadata": {},
   "outputs": [],
   "source": [
    "d_list = list(doubles[doubles.group != 1]['visitorId'])\n",
    "orders = orders.query('visitorId not in @d_list')"
   ]
  },
  {
   "cell_type": "code",
   "execution_count": 19,
   "metadata": {},
   "outputs": [
    {
     "name": "stdout",
     "output_type": "stream",
     "text": [
      "        date a/b  orders  buyers  revenue  visitors\n",
      "0 2019-08-01   A      23      19   142779       719\n",
      "1 2019-08-01   B      17      17    59758       713\n",
      "2 2019-08-02   A      42      36   234381      1338\n",
      "3 2019-08-02   B      40      39   221801      1294\n",
      "4 2019-08-03   A      66      60   346854      1845\n",
      "5 2019-08-03   B      54      53   288850      1803\n",
      "6 2019-08-04   A      77      71   388030      2562\n",
      "7 2019-08-04   B      68      66   385740      2573\n",
      "8 2019-08-05   A      99      92   474413      3318\n",
      "9 2019-08-05   B      89      87   475648      3280\n"
     ]
    }
   ],
   "source": [
    "# уникальные пары значений дат и групп\n",
    "\n",
    "datesGroups = orders[['date','group']].drop_duplicates()\n",
    "\n",
    "# данные по дням (заказы) \n",
    "\n",
    "ordersAggregated = datesGroups.apply(lambda x: orders[np.logical_and(orders['date'] <= x['date'],\n",
    "    orders['group'] == x['group'])].\n",
    "    agg({'date' : 'max', 'group' : 'max', 'transactionId' : 'nunique', 'visitorId' : 'nunique', 'revenue' : 'sum'}), \n",
    "    axis=1).sort_values(by=['date','group'])\n",
    "\n",
    "# данные по дням (посетители)  \n",
    "\n",
    "visitorsAggregated = datesGroups.apply(lambda x: visitors[np.logical_and(visitors['date'] <= x['date'],\n",
    "    visitors['group'] == x['group'])].\n",
    "    agg({'date' : 'max', 'group' : 'max', 'visitors' : 'sum'}), \n",
    "    axis=1).sort_values(by=['date','group'])\n",
    "\n",
    "\n",
    "cumulative = ordersAggregated.merge(visitorsAggregated, left_on=['date', 'group'], right_on=['date', 'group'])\n",
    "cumulative.columns = ['date', 'a/b', 'orders', 'buyers', 'revenue', 'visitors']\n",
    "print(cumulative.head(10))"
   ]
  },
  {
   "cell_type": "code",
   "execution_count": 20,
   "metadata": {},
   "outputs": [
    {
     "data": {
      "image/png": "[encoded data removed]",
      "text/plain": [
       "<Figure size 720x576 with 1 Axes>"
      ]
     },
     "metadata": {},
     "output_type": "display_data"
    }
   ],
   "source": [
    "cumulativeRevenueA = cumulative[cumulative['a/b']=='A'][['date','revenue', 'orders']]\n",
    "cumulativeRevenueB = cumulative[cumulative['a/b']=='B'][['date','revenue', 'orders']]\n",
    "plt.plot(cumulativeRevenueA['date'], cumulativeRevenueA['revenue'], label='A')\n",
    "plt.plot(cumulativeRevenueB['date'], cumulativeRevenueB['revenue'], label='B')\n",
    "plt.legend()\n",
    "plt.ylabel('Выручка')\n",
    "plt.xlabel('Дата')\n",
    "plt.xticks(rotation = 45)\n",
    "plt.title('График выручки по группам', fontsize = 15, color = 'BLACK')\n",
    "plt.show()"
   ]
  },
  {
   "cell_type": "markdown",
   "metadata": {},
   "source": [
    "Средний чек в группе A показывает стабильный рост на протяжении месяца, а в группе B резко подскочил показатели на 17 дней, скорее всего это связанео с ростом колличества или стоимости заказов."
   ]
  },
  {
   "cell_type": "markdown",
   "metadata": {},
   "source": [
    "### График кумулятивного среднего чека по группам"
   ]
  },
  {
   "cell_type": "code",
   "execution_count": 21,
   "metadata": {},
   "outputs": [
    {
     "data": {
      "image/png": "[encoded data removed]",
      "text/plain": [
       "<Figure size 720x576 with 1 Axes>"
      ]
     },
     "metadata": {},
     "output_type": "display_data"
    }
   ],
   "source": [
    "plt.plot(cumulativeRevenueA['date'], cumulativeRevenueA['revenue']/cumulativeRevenueA['orders'], label='A')\n",
    "plt.plot(cumulativeRevenueB['date'], cumulativeRevenueB['revenue']/cumulativeRevenueB['orders'], label='B')\n",
    "plt.legend()\n",
    "\n",
    "plt.ylabel('Средний чек')\n",
    "plt.xlabel('Дата')\n",
    "plt.xticks(rotation = 45)\n",
    "plt.title('Cредний чек по группам', fontsize = 15, color = 'BLACK')\n",
    "plt.show()"
   ]
  },
  {
   "cell_type": "markdown",
   "metadata": {},
   "source": [
    "Группа B после резкого скачка начала опускать к концу эксперемента, нужно больше данных для детально разбора среднего чека данной группы."
   ]
  },
  {
   "cell_type": "markdown",
   "metadata": {},
   "source": [
    "### График относительного изменения кумулятивного среднего чека"
   ]
  },
  {
   "cell_type": "code",
   "execution_count": 22,
   "metadata": {},
   "outputs": [
    {
     "data": {
      "image/png": "[encoded data removed]",
      "text/plain": [
       "<Figure size 720x576 with 1 Axes>"
      ]
     },
     "metadata": {},
     "output_type": "display_data"
    }
   ],
   "source": [
    "\n",
    "CumulativeRevenue_megre = cumulativeRevenueA.merge(\n",
    "    cumulativeRevenueB, left_on='date', right_on='date', how='left', suffixes=['A', 'B'])\n",
    "\n",
    "plt.plot(CumulativeRevenue_megre['date'],\n",
    "         (CumulativeRevenue_megre['revenueB']/CumulativeRevenue_megre['ordersB'])/(CumulativeRevenue_megre ['revenueA']\n",
    "                                                                                   /CumulativeRevenue_megre ['ordersA'])-1)\n",
    "\n",
    "plt.axhline(y=0, color='RED', linestyle='--')\n",
    "\n",
    "plt.ylabel('Изменение среднего чека')\n",
    "plt.xlabel('Дата')\n",
    "plt.xticks(rotation = 45)\n",
    "plt.title('График относительного изменения кумулятивного среднего чека', fontsize = 15, color = 'BLACK')\n",
    "plt.show()"
   ]
  },
  {
   "cell_type": "markdown",
   "metadata": {},
   "source": [
    "Все графики подтверждают, что в этот период были либо крупные заказы либо выбросов."
   ]
  },
  {
   "cell_type": "markdown",
   "metadata": {},
   "source": [
    "### График кумулятивного среднего количества заказов по группам"
   ]
  },
  {
   "cell_type": "code",
   "execution_count": 23,
   "metadata": {},
   "outputs": [
    {
     "data": {
      "image/png": "[encoded data removed]",
      "text/plain": [
       "<Figure size 720x576 with 1 Axes>"
      ]
     },
     "metadata": {},
     "output_type": "display_data"
    }
   ],
   "source": [
    "cumulative['conversion'] = cumulative['orders']/cumulative['visitors']\n",
    "cumulativeDataA = cumulative[cumulative['a/b']=='A']\n",
    "cumulativeDataB = cumulative[cumulative['a/b']=='B']\n",
    "plt.plot(cumulativeDataA['date'], cumulativeDataA['conversion'], label='A')\n",
    "plt.plot(cumulativeDataB['date'], cumulativeDataB['conversion'], label='B')\n",
    "plt.legend()\n",
    "plt.ylabel('Кумулятивное среднее кол.', fontsize = 15, color = 'BLACK')\n",
    "plt.xlabel('Дата')\n",
    "plt.xticks(rotation = 45)\n",
    "plt.title('График кумулятивной конверсии по группам', fontsize = 15, color = 'BLACK')\n",
    "plt.show()"
   ]
  },
  {
   "cell_type": "markdown",
   "metadata": {},
   "source": [
    "Графи показывает, что конверсия группы B выше. У группы A была рекордная конверсия на первых 5 днях."
   ]
  },
  {
   "cell_type": "markdown",
   "metadata": {},
   "source": [
    "### График относительного изменения кумулятивного среднего количества заказов группы B к группе A."
   ]
  },
  {
   "cell_type": "code",
   "execution_count": 24,
   "metadata": {},
   "outputs": [
    {
     "data": {
      "image/png": "[encoded data removed]",
      "text/plain": [
       "<Figure size 720x576 with 1 Axes>"
      ]
     },
     "metadata": {},
     "output_type": "display_data"
    }
   ],
   "source": [
    "CumulativeConversion = cumulativeDataA[['date','conversion']].merge(\n",
    "    cumulativeDataB[['date','conversion']], left_on='date', right_on='date', how='left', suffixes=['A', 'B'])\n",
    "plt.plot(CumulativeConversion['date'], \n",
    "         CumulativeConversion['conversionB']/CumulativeConversion['conversionA']-1, \n",
    "         label=\"Конверсии B к A\")\n",
    "plt.legend()\n",
    "plt.axhline(y=0, color='black', linestyle='--')\n",
    "plt.axhline(y=-0.1, color='red', linestyle='--')\n",
    "\n",
    "plt.ylabel('Кумулятивная конверсия', fontsize = 15, color = 'BLACK')\n",
    "plt.xlabel('Дата')\n",
    "plt.xticks(rotation = 45)\n",
    "plt.title('График относительного изменения кумулятивной конверсии группы B к группе A', fontsize = 15, color = 'BLACK')\n",
    "plt.show()"
   ]
  },
  {
   "cell_type": "markdown",
   "metadata": {},
   "source": [
    "В целом отношение конверсий стабилизировалось - группа A проигрывает группе B на протяжении почти всего теста.  \n",
    "\n",
    "**Вывод:**\n",
    "\n",
    "- Анализ графиков кумулятивных метрик (среднего чека, конверсии) позволяет предположить, что среди заказов в группе B есть экстремально большие, которые сильно влияют на прирост среднего чека. \n",
    "- Конверсия в группах к концу теста стабилизировалась, причем в группе A она выше."
   ]
  },
  {
   "cell_type": "markdown",
   "metadata": {},
   "source": [
    "### Точечный график количества заказов по пользователям"
   ]
  },
  {
   "cell_type": "code",
   "execution_count": 25,
   "metadata": {},
   "outputs": [
    {
     "name": "stdout",
     "output_type": "stream",
     "text": [
      "      visitorId  orders\n",
      "908  3967698036       3\n",
      "55    249864742       3\n",
      "478  2108163459       3\n",
      "687  2988190573       3\n",
      "890  3908431265       3\n",
      "138   611059232       3\n",
      "632  2742574263       3\n",
      "157   678354126       2\n",
      "323  1404560065       2\n",
      "452  1985475298       2\n"
     ]
    },
    {
     "data": {
      "image/png": "[encoded data removed]",
      "text/plain": [
       "<Figure size 720x576 with 1 Axes>"
      ]
     },
     "metadata": {},
     "output_type": "display_data"
    }
   ],
   "source": [
    "Users = (orders.groupby('visitorId', as_index=False).agg({'transactionId': 'nunique'}))\n",
    "Users.columns = ['visitorId', 'orders']\n",
    "print(Users.sort_values(by='orders', ascending=False).head(10))\n",
    "x_values = pd.Series(range(0,len(Users)))\n",
    "plt.scatter(x_values, Users['orders'])\n",
    "plt.ylabel('Количество заказов', fontsize = 15, color = 'BLACK')\n",
    "plt.xlabel('Количество пользователей', fontsize = 15, color = 'BLACK')\n",
    "plt.title('График количества заказов по пользователям', fontsize = 15, color = 'BLACK')\n",
    "plt.show()"
   ]
  },
  {
   "cell_type": "markdown",
   "metadata": {},
   "source": [
    "Большая часть пользоватлей не сделала больше 1-2 заказов."
   ]
  },
  {
   "cell_type": "markdown",
   "metadata": {},
   "source": [
    "### 95-й и 99-й перцентили количества заказов"
   ]
  },
  {
   "cell_type": "code",
   "execution_count": 26,
   "metadata": {},
   "outputs": [
    {
     "data": {
      "text/plain": [
       "count    973.000000\n",
       "mean       1.044193\n",
       "std        0.238090\n",
       "min        1.000000\n",
       "5%         1.000000\n",
       "50%        1.000000\n",
       "90%        1.000000\n",
       "95%        1.000000\n",
       "99%        2.000000\n",
       "max        3.000000\n",
       "Name: orders, dtype: float64"
      ]
     },
     "execution_count": 26,
     "metadata": {},
     "output_type": "execute_result"
    }
   ],
   "source": [
    "Users['orders'].describe(percentiles=[0.05, 0.50, 0.90, 0.95, 0.99])"
   ]
  },
  {
   "cell_type": "markdown",
   "metadata": {},
   "source": [
    "**Вывод:**\n",
    "Не более 5% пользователей заказали больше 2 раз и не более 1% пользователей больше 4 раз. Отсечем аномалии по 4 заказам"
   ]
  },
  {
   "cell_type": "markdown",
   "metadata": {},
   "source": [
    "### Точечный график стоимостей заказов."
   ]
  },
  {
   "cell_type": "code",
   "execution_count": 27,
   "metadata": {},
   "outputs": [
    {
     "data": {
      "image/png": "[encoded data removed]",
      "text/plain": [
       "<Figure size 720x576 with 1 Axes>"
      ]
     },
     "metadata": {},
     "output_type": "display_data"
    }
   ],
   "source": [
    "x_values = pd.Series(range(0,len(orders['revenue'])))\n",
    "plt.scatter(x_values, orders['revenue'])\n",
    "plt.ylabel('Стоимость заказов')\n",
    "plt.xlabel('Количество пользователей')\n",
    "plt.title('График стоимости заказов по пользователям')\n",
    "plt.show()"
   ]
  },
  {
   "cell_type": "markdown",
   "metadata": {},
   "source": [
    "**Вывод:**\n",
    "- Максимальная сумма заказа - 1 294 500\n",
    "- Примерно чем 5% заказов дороже, чем 26785 рублей\n",
    "- Есть один выброс - заказ стоимостью почти 1,3 миллиона. Скорее всего, именно он причина скачка на графиках. \n",
    "\n"
   ]
  },
  {
   "cell_type": "markdown",
   "metadata": {},
   "source": [
    "### 95-й и 99-й перцентили стоимости заказов."
   ]
  },
  {
   "cell_type": "code",
   "execution_count": 28,
   "metadata": {},
   "outputs": [
    {
     "name": "stdout",
     "output_type": "stream",
     "text": [
      "90 перцентиль: 17990.00\n",
      "95 перцентиль: 26785.00\n",
      "99 перцентиль: 53904.00\n"
     ]
    }
   ],
   "source": [
    "print('90 перцентиль: %.2f' % (np.percentile(orders['revenue'], [90])))\n",
    "print('95 перцентиль: %.2f' % (np.percentile(orders['revenue'], [95])))\n",
    "print('99 перцентиль: %.2f' % (np.percentile(orders['revenue'], [99])))"
   ]
  },
  {
   "cell_type": "markdown",
   "metadata": {},
   "source": [
    "Аномальные заказы стоимостью выше 28000 рублей"
   ]
  },
  {
   "cell_type": "markdown",
   "metadata": {},
   "source": [
    "### Cтатистическая значимость различий в среднем количестве заказов между группами по «сырым» данным"
   ]
  },
  {
   "cell_type": "code",
   "execution_count": 29,
   "metadata": {},
   "outputs": [
    {
     "name": "stdout",
     "output_type": "stream",
     "text": [
      "        date  ordersPerDateA_x  revenuePerDateA_x  ordersPerDateA_y  \\\n",
      "0 2019-08-01                23             142779                23   \n",
      "1 2019-08-02                19              91602                19   \n",
      "2 2019-08-03                24             112473                24   \n",
      "3 2019-08-04                11              41176                11   \n",
      "4 2019-08-05                22              86383                22   \n",
      "\n",
      "   revenuePerDateA_y  ordersCummulativeA  revenueCummulativeA  \\\n",
      "0             142779                  23               142779   \n",
      "1              91602                  42               234381   \n",
      "2             112473                  66               346854   \n",
      "3              41176                  77               388030   \n",
      "4              86383                  99               474413   \n",
      "\n",
      "   ordersCummulativeB  revenueCummulativeB  visitorsPerDateA  \\\n",
      "0                  17                59758               719   \n",
      "1                  40               221801               619   \n",
      "2                  54               288850               507   \n",
      "3                  68               385740               717   \n",
      "4                  89               475648               756   \n",
      "\n",
      "   visitorsPerDateB  visitorsCummulativeA  visitorsCummulativeB  \n",
      "0               713                   719                   713  \n",
      "1               581                  1338                  1294  \n",
      "2               509                  1845                  1803  \n",
      "3               770                  2562                  2573  \n",
      "4               707                  3318                  3280  \n"
     ]
    }
   ],
   "source": [
    "visitors_dayly_a = visitors[visitors['group'] == 'A'][['date', 'visitors']]\n",
    "visitors_dayly_a .columns = ['date', 'visitorsPerDateA']\n",
    "\n",
    "visitorsACummulative = visitors_dayly_a .apply(\n",
    "    lambda x: visitors_dayly_a [visitors_dayly_a ['date'] <= x['date']].agg({'date': 'max', 'visitorsPerDateA': 'sum'}),axis=1,)\n",
    "visitorsACummulative.columns = ['date', 'visitorsCummulativeA']\n",
    "\n",
    "visitors_dayly_b = visitors[visitors['group'] == 'B'][['date', 'visitors']]\n",
    "visitors_dayly_b.columns = ['date', 'visitorsPerDateB']\n",
    "\n",
    "visitorsBCummulative = visitors_dayly_b.apply(\n",
    "    lambda x: visitors_dayly_b[visitors_dayly_b['date'] <= x['date']].agg({'date': 'max', 'visitorsPerDateB': 'sum'}),axis=1,)\n",
    "visitorsBCummulative.columns = ['date', 'visitorsCummulativeB']\n",
    "\n",
    "orders_dayly_a = (\n",
    "    orders[orders['group'] == 'A'][['date', 'transactionId', 'visitorId', 'revenue']]\n",
    "    .groupby('date', as_index=False)\n",
    "    .agg({'transactionId': pd.Series.nunique, 'revenue': 'sum'}))\n",
    "orders_dayly_a.columns = ['date', 'ordersPerDateA', 'revenuePerDateA']\n",
    "\n",
    "ordersACummulative = orders_dayly_a.apply(\n",
    "    lambda x: orders_dayly_a[orders_dayly_a['date'] <= x['date']].agg(\n",
    "        {'date': 'max', 'ordersPerDateA': 'sum', 'revenuePerDateA': 'sum'}),axis=1,).sort_values(by=['date'])\n",
    "ordersACummulative.columns = ['date','ordersCummulativeA','revenueCummulativeA',]\n",
    "\n",
    "orders_dayly_b = (\n",
    "    orders[orders['group'] == 'B'][['date', 'transactionId', 'visitorId', 'revenue']]\n",
    "    .groupby('date', as_index=False)\n",
    "    .agg({'transactionId': pd.Series.nunique, 'revenue': 'sum'}))\n",
    "orders_dayly_b.columns = ['date', 'ordersPerDateB', 'revenuePerDateB']\n",
    "\n",
    "ordersBCummulative = orders_dayly_b.apply(\n",
    "    lambda x: orders_dayly_b[orders_dayly_b['date'] <= x['date']].agg(\n",
    "        {'date': 'max', 'ordersPerDateB': 'sum', 'revenuePerDateB': 'sum'}),axis=1,).sort_values(by=['date'])\n",
    "ordersBCummulative.columns = ['date','ordersCummulativeB','revenueCummulativeB',]\n",
    "data = (orders_dayly_a.merge(orders_dayly_a, left_on='date', right_on='date', how='left')\n",
    "    .merge(ordersACummulative, left_on='date', right_on='date', how='left')\n",
    "    .merge(ordersBCummulative, left_on='date', right_on='date', how='left')\n",
    "    .merge(visitors_dayly_a, left_on='date', right_on='date', how='left')\n",
    "    .merge(visitors_dayly_b, left_on='date', right_on='date', how='left')\n",
    "    .merge(visitorsACummulative, left_on='date', right_on='date', how='left')\n",
    "    .merge(visitorsBCummulative, left_on='date', right_on='date', how='left'))\n",
    "print(data.head(5))"
   ]
  },
  {
   "cell_type": "markdown",
   "metadata": {},
   "source": [
    "- Нулевая гипотеза 0 - статистически значимых различий в конверсии между группами нет.\n",
    "- Гипотеза H1 - статистически значимые различия есть."
   ]
  },
  {
   "cell_type": "markdown",
   "metadata": {},
   "source": [
    "**Посчитаем статистическую значимость различия в конверсии между группами.**\n",
    "\n",
    " - Метод, который будем применять для A/B-тестирования, называется критерий Манна-Уитни (st.mannwhitneyu).\n",
    " - Критический уровень статистической значимости p-value = 0,05\n",
    " - Если полученный результат будет меньше < 0,05, то отвергаем нулевую гипотезу: разница статистически значима."
   ]
  },
  {
   "cell_type": "code",
   "execution_count": 30,
   "metadata": {},
   "outputs": [],
   "source": [
    "# Создадим переменные Users_a и Users_b со столбцами ['userId', 'orders']. \n",
    "# в них для пользователей, которые заказывали хотя бы 1 раз, укажем число совершённых заказов. \n",
    "Users_a = (orders[orders['group'] == 'A']\n",
    "    .groupby('visitorId', as_index=False)\n",
    "    .agg({'transactionId': pd.Series.nunique}))\n",
    "Users_a.columns = ['visitorId', 'orders']\n",
    "\n",
    "Users_b = (orders[orders['group'] == 'B']\n",
    "    .groupby('visitorId', as_index=False)\n",
    "    .agg({'transactionId': pd.Series.nunique}))\n",
    "Users_b.columns = ['visitorId', 'orders']"
   ]
  },
  {
   "cell_type": "markdown",
   "metadata": {},
   "source": [
    "- В sampleA сохраним выборку, где каждый элемент — число заказов определённого пользователя, в том числе ноль, т.е число элементов sampleA — это количество пользователей, сумма всех элементов — количество заказов. Чтобы получить конверсию в группе, поделим сумму заказов на число пользователей — найдём среднее в выборке sampleA методом mean(). Аналогично найдём конверсию группы B.\n",
    "- Также выведем относительный прирост конверсии группы B: конверсия группы B / конверсия группы A - 1"
   ]
  },
  {
   "cell_type": "code",
   "execution_count": 31,
   "metadata": {},
   "outputs": [
    {
     "name": "stdout",
     "output_type": "stream",
     "text": [
      "Значение p-value,  0.011\n",
      "0.160\n"
     ]
    }
   ],
   "source": [
    "Users_a = (orders[orders['group'] == 'A']\n",
    "    .groupby('visitorId', as_index=False)\n",
    "    .agg({'transactionId': pd.Series.nunique}))\n",
    "Users_a.columns = ['visitorId', 'orders']\n",
    "\n",
    "Users_b = (orders[orders['group'] == 'B']\n",
    "    .groupby('visitorId', as_index=False)\n",
    "    .agg({'transactionId': pd.Series.nunique}))\n",
    "Users_b.columns = ['visitorId', 'orders']\n",
    "\n",
    "sampleA = pd.concat([Users_a['orders'],\n",
    "        pd.Series(0,index=np.arange(data['visitorsPerDateA'].sum() - len(Users_a['orders'])),\n",
    "            name='orders',),],axis=0,)\n",
    "\n",
    "sampleB = pd.concat([Users_b['orders'],\n",
    "        pd.Series(0,index=np.arange(data['visitorsPerDateB'].sum() - len(Users_b['orders'])),\n",
    "            name='orders',),],axis=0,)\n",
    "\n",
    "print('Значение p-value, ',\"{0:.3f}\".format(stats.mannwhitneyu(sampleA, sampleB)[1]))\n",
    "print(\"{0:.3f}\".format(sampleB.mean() / sampleA.mean() - 1))"
   ]
  },
  {
   "cell_type": "markdown",
   "metadata": {},
   "source": [
    "**Вывод:**\n",
    "- По «сырым» данным различия в конверсии групп A и B есть. \n",
    "- Первое число — p-value = 0.011 меньше 0.05. Значит, нулевую гипотезу о том, что статистически значимых различий в конверсии между группами нет, отвергаем. \n"
   ]
  },
  {
   "cell_type": "markdown",
   "metadata": {},
   "source": [
    " ### Статистическая значимость различий в среднем чеке заказа между группами по «сырым» данным"
   ]
  },
  {
   "cell_type": "markdown",
   "metadata": {},
   "source": [
    "Сформулируем гипотезу\n",
    "\n",
    "Нулевая гипотеза: различий в среднем чеке между группами нет.\n",
    "Альтернативная гипотеза: различия в среднем чеке между группами есть."
   ]
  },
  {
   "cell_type": "code",
   "execution_count": 32,
   "metadata": {},
   "outputs": [
    {
     "name": "stdout",
     "output_type": "stream",
     "text": [
      "Значение p-value,  0.829\n",
      "0.287\n"
     ]
    }
   ],
   "source": [
    "print('Значение p-value, ', '{0:.3f}'.\n",
    "      format(stats.mannwhitneyu(orders[orders['group']=='A']['revenue'], orders[orders['group']=='B']['revenue'])[1]))\n",
    "print('{0:.3f}'.\n",
    "      format(orders[orders['group']=='B']['revenue'].mean()/orders[orders['group']=='A']['revenue'].mean()-1))"
   ]
  },
  {
   "cell_type": "markdown",
   "metadata": {},
   "source": [
    "**Вывод:**\n",
    "\n",
    "P-value = 0.829  больше 0.05. Значит, причин отвергать нулевую гипотезу и считать, что в среднем чеке есть различия, нет. "
   ]
  },
  {
   "cell_type": "markdown",
   "metadata": {},
   "source": [
    "### Cтатистическая значимость различий в среднем чеке конверсию между группами по «очищенным» данным."
   ]
  },
  {
   "cell_type": "code",
   "execution_count": 33,
   "metadata": {},
   "outputs": [
    {
     "name": "stdout",
     "output_type": "stream",
     "text": [
      "1099    148427295\n",
      "928     204675465\n",
      "684     358944393\n",
      "648     382846391\n",
      "751     689129267\n",
      "Name: visitorId, dtype: int64\n",
      "48\n"
     ]
    }
   ],
   "source": [
    "orders_clear = pd.concat([\n",
    "        Users_a[Users_a['orders'] > 4]['visitorId'],\n",
    "        Users_b[Users_b['orders'] > 4]['visitorId'],],axis=0,)\n",
    "orders_clear_all = orders[orders['revenue'] > 28000]['visitorId']\n",
    "tab = (pd.concat([orders_clear, orders_clear_all], axis=0)\n",
    "    .drop_duplicates().sort_values())\n",
    "print(tab.head(5))\n",
    "print(tab.shape[0])"
   ]
  },
  {
   "cell_type": "markdown",
   "metadata": {},
   "source": [
    "Всего 59 аномальных пользователей. \n",
    "- Узнаем, как их действия повлияли на результаты теста. \n",
    "- Посчитаем статистическую значимость различий в конверсии между группами теста по очищенным данным.\n",
    "\n",
    "0: Конверсия в группе A РАВНА конверсии в группе B\n",
    "\n",
    "1: Конверсия в группе A НЕ РАВНА конверсии в группе B\n"
   ]
  },
  {
   "cell_type": "code",
   "execution_count": 34,
   "metadata": {},
   "outputs": [
    {
     "name": "stdout",
     "output_type": "stream",
     "text": [
      "Значение p-value,  0.013\n",
      "0.162\n"
     ]
    }
   ],
   "source": [
    "sampleAFiltered = pd.concat([Users_a[np.logical_not(Users_a['visitorId'].isin(tab))]['orders'],\n",
    "        pd.Series(0,index=np.arange(data['visitorsPerDateA'].sum() - len(Users_a['orders'])),\n",
    "            name='orders',),],axis=0,)\n",
    "\n",
    "sampleBFiltered = pd.concat([Users_b[np.logical_not(Users_b['visitorId'].isin(tab))]['orders'],\n",
    "        pd.Series(0,index=np.arange(data['visitorsPerDateB'].sum() - len(Users_b['orders'])),\n",
    "            name='orders',),],axis=0,)\n",
    "\n",
    "print('Значение p-value, ', '{0:.3f}'.format(stats.mannwhitneyu(sampleAFiltered, sampleBFiltered)[1]))\n",
    "print('{0:.3f}'.format(sampleBFiltered.mean()/sampleAFiltered.mean()-1))"
   ]
  },
  {
   "cell_type": "markdown",
   "metadata": {},
   "source": [
    "Величина P-value меньше 0.05. Значит, принимаем альтернативную гипотезу, что дает основание отвергнуть предположение об отсутствии различий.\n",
    "Средний чек группы B выше среднего чека группы A\n"
   ]
  },
  {
   "cell_type": "markdown",
   "metadata": {},
   "source": [
    "### Cтатистическая значимость различий в среднем чеке заказа между группами по «очищенным» данным."
   ]
  },
  {
   "cell_type": "markdown",
   "metadata": {},
   "source": [
    "0: Средний чек A НЕ ПРЕВОСХОДИТ среднему чеку группы B\n",
    "\n",
    "1: Средний чек A ПРЕВОСХОДИТ среднему чеку группы B"
   ]
  },
  {
   "cell_type": "code",
   "execution_count": 35,
   "metadata": {},
   "outputs": [
    {
     "name": "stdout",
     "output_type": "stream",
     "text": [
      "Значение p-value,  0.862\n",
      "-0.028\n"
     ]
    }
   ],
   "source": [
    "print('Значение p-value, ', '{0:.3f}'.format(stats.mannwhitneyu(orders[np.logical_and(orders['group'] == 'A',\n",
    "                    np.logical_not(orders['visitorId'].isin(tab)),)]['revenue'],\n",
    "            orders[np.logical_and(orders['group'] == 'B',np.logical_not(orders['visitorId'].isin(tab)),)]\n",
    "                  ['revenue'],)[1]))\n",
    "print(\"{0:.3f}\".format(orders[np.logical_and(orders['group'] == 'B',np.logical_not(orders['visitorId'].isin(tab)),)]\n",
    "                  ['revenue'].mean() / orders[np.logical_and(orders['group'] == 'A',np.logical_not(orders['visitorId']\n",
    "                  .isin(tab)),)]['revenue'].mean()- 1))"
   ]
  },
  {
   "cell_type": "markdown",
   "metadata": {},
   "source": [
    "P-value = 0.961 - больше 0.05. Значит, причин отвергать нулевую гипотезу и считать, что в среднем чеке есть различия, нет."
   ]
  },
  {
   "cell_type": "markdown",
   "metadata": {},
   "source": [
    "Общие выводы по результатам теста не изменились, пример показывает, как сильно аномалии могут влиять на результаты A/B-теста."
   ]
  },
  {
   "cell_type": "markdown",
   "metadata": {},
   "source": [
    "## Выводы"
   ]
  },
  {
   "cell_type": "markdown",
   "metadata": {},
   "source": [
    "- Есть статистически значимое различие по конверсии между группами как по сырым данным, так и после фильтрации аномалий.Как по сырым, так и по данным без аномалий нет статистически значимого различия по среднему чеку между группами. \n",
    "- График различия конверсии между группами показывает, что результаты группы B лучше группы A: имеют тенденцию к росту, либо зафиксировались около среднего значения.\n",
    "- График различия среднего чека до фильтрации аномалий колеблется: именно благодаря ему мы нашли аномалии. Сделать из этого графика определённые выводы нельзя.\n",
    "- График различия среднего чека после фильтрации постепенно стабилизировался около 0 - значимых различий между средними чеками в разных группах нет. В целом тест можно остановить. \n",
    "- Мы учидели прирост конверсии в группе B, но на среднем чеке проверяемая гипотеза не сказалась."
   ]
  }
 ],
 "metadata": {
  "ExecuteTimeLog": [
   {
    "duration": 52,
    "start_time": "2022-11-21T18:57:54.150Z"
   },
   {
    "duration": 1289,
    "start_time": "2022-11-21T19:17:11.832Z"
   },
   {
    "duration": 3,
    "start_time": "2022-11-21T19:19:15.068Z"
   },
   {
    "duration": 6,
    "start_time": "2022-11-21T19:19:56.481Z"
   },
   {
    "duration": 5,
    "start_time": "2022-11-21T19:20:20.233Z"
   },
   {
    "duration": 5,
    "start_time": "2022-11-21T19:20:33.417Z"
   },
   {
    "duration": 4,
    "start_time": "2022-11-21T19:20:36.296Z"
   },
   {
    "duration": 194,
    "start_time": "2022-11-21T19:21:09.320Z"
   },
   {
    "duration": 62,
    "start_time": "2022-11-21T19:22:57.267Z"
   },
   {
    "duration": 13,
    "start_time": "2022-11-21T19:23:04.437Z"
   },
   {
    "duration": 14,
    "start_time": "2022-11-21T19:24:36.877Z"
   },
   {
    "duration": 3,
    "start_time": "2022-11-21T19:25:15.988Z"
   },
   {
    "duration": 8,
    "start_time": "2022-11-21T19:25:20.309Z"
   },
   {
    "duration": 9,
    "start_time": "2022-11-21T19:25:28.444Z"
   },
   {
    "duration": 10,
    "start_time": "2022-11-21T19:25:42.693Z"
   },
   {
    "duration": 12,
    "start_time": "2022-11-21T19:25:50.076Z"
   },
   {
    "duration": 6,
    "start_time": "2022-11-21T19:26:20.060Z"
   },
   {
    "duration": 12,
    "start_time": "2022-11-21T19:26:47.303Z"
   },
   {
    "duration": 7,
    "start_time": "2022-11-21T19:26:58.996Z"
   },
   {
    "duration": 5,
    "start_time": "2022-11-21T19:27:11.100Z"
   },
   {
    "duration": 6,
    "start_time": "2022-11-21T19:28:09.801Z"
   },
   {
    "duration": 51,
    "start_time": "2022-11-21T19:28:42.610Z"
   },
   {
    "duration": 6,
    "start_time": "2022-11-21T19:28:47.642Z"
   },
   {
    "duration": 4,
    "start_time": "2022-11-21T19:30:20.834Z"
   },
   {
    "duration": 78,
    "start_time": "2022-11-21T19:30:21.192Z"
   },
   {
    "duration": 12,
    "start_time": "2022-11-21T19:30:22.956Z"
   },
   {
    "duration": 9,
    "start_time": "2022-11-21T19:30:23.440Z"
   },
   {
    "duration": 4,
    "start_time": "2022-11-21T19:30:23.777Z"
   },
   {
    "duration": 10,
    "start_time": "2022-11-21T19:30:24.067Z"
   },
   {
    "duration": 8,
    "start_time": "2022-11-21T19:30:24.328Z"
   },
   {
    "duration": 6,
    "start_time": "2022-11-21T19:30:24.624Z"
   },
   {
    "duration": 12,
    "start_time": "2022-11-21T19:30:24.911Z"
   },
   {
    "duration": 8,
    "start_time": "2022-11-21T19:30:25.280Z"
   },
   {
    "duration": 6,
    "start_time": "2022-11-21T19:30:25.879Z"
   },
   {
    "duration": 6,
    "start_time": "2022-11-21T19:30:26.639Z"
   },
   {
    "duration": 701,
    "start_time": "2022-11-21T19:33:25.709Z"
   },
   {
    "duration": 13,
    "start_time": "2022-11-21T19:33:44.756Z"
   },
   {
    "duration": 14,
    "start_time": "2022-11-21T19:39:11.289Z"
   },
   {
    "duration": 12,
    "start_time": "2022-11-21T19:39:21.458Z"
   },
   {
    "duration": 383,
    "start_time": "2022-11-21T19:39:30.056Z"
   },
   {
    "duration": 359,
    "start_time": "2022-11-21T19:42:04.158Z"
   },
   {
    "duration": 355,
    "start_time": "2022-11-21T19:42:10.527Z"
   },
   {
    "duration": 341,
    "start_time": "2022-11-21T19:42:15.135Z"
   },
   {
    "duration": 174,
    "start_time": "2022-11-21T19:43:40.981Z"
   },
   {
    "duration": 340,
    "start_time": "2022-11-21T19:43:47.901Z"
   },
   {
    "duration": 347,
    "start_time": "2022-11-21T19:44:16.085Z"
   },
   {
    "duration": 15,
    "start_time": "2022-11-21T19:45:40.980Z"
   },
   {
    "duration": 13,
    "start_time": "2022-11-21T19:46:38.620Z"
   },
   {
    "duration": 409,
    "start_time": "2022-11-21T19:46:49.978Z"
   },
   {
    "duration": 369,
    "start_time": "2022-11-21T19:47:06.589Z"
   },
   {
    "duration": 379,
    "start_time": "2022-11-21T19:47:13.913Z"
   },
   {
    "duration": 15,
    "start_time": "2022-11-21T20:00:13.600Z"
   },
   {
    "duration": 280,
    "start_time": "2022-11-21T20:04:14.525Z"
   },
   {
    "duration": 266,
    "start_time": "2022-11-21T20:04:22.796Z"
   },
   {
    "duration": 276,
    "start_time": "2022-11-21T20:04:33.100Z"
   },
   {
    "duration": 285,
    "start_time": "2022-11-21T20:05:03.325Z"
   },
   {
    "duration": 271,
    "start_time": "2022-11-21T20:05:39.580Z"
   },
   {
    "duration": 282,
    "start_time": "2022-11-21T20:05:42.579Z"
   },
   {
    "duration": 294,
    "start_time": "2022-11-21T20:07:29.306Z"
   },
   {
    "duration": 10,
    "start_time": "2022-11-21T20:12:24.471Z"
   },
   {
    "duration": 262,
    "start_time": "2022-11-21T20:13:16.603Z"
   },
   {
    "duration": 10,
    "start_time": "2022-11-21T20:13:33.926Z"
   },
   {
    "duration": 10,
    "start_time": "2022-11-21T20:13:56.067Z"
   },
   {
    "duration": 1221,
    "start_time": "2022-11-21T20:14:07.805Z"
   },
   {
    "duration": 76,
    "start_time": "2022-11-21T20:14:09.028Z"
   },
   {
    "duration": 13,
    "start_time": "2022-11-21T20:14:09.105Z"
   },
   {
    "duration": 14,
    "start_time": "2022-11-21T20:14:09.119Z"
   },
   {
    "duration": 3,
    "start_time": "2022-11-21T20:14:09.136Z"
   },
   {
    "duration": 12,
    "start_time": "2022-11-21T20:14:09.141Z"
   },
   {
    "duration": 9,
    "start_time": "2022-11-21T20:14:09.155Z"
   },
   {
    "duration": 7,
    "start_time": "2022-11-21T20:14:09.166Z"
   },
   {
    "duration": 44,
    "start_time": "2022-11-21T20:14:09.175Z"
   },
   {
    "duration": 9,
    "start_time": "2022-11-21T20:14:09.221Z"
   },
   {
    "duration": 5,
    "start_time": "2022-11-21T20:14:09.232Z"
   },
   {
    "duration": 7,
    "start_time": "2022-11-21T20:14:09.239Z"
   },
   {
    "duration": 13,
    "start_time": "2022-11-21T20:14:09.247Z"
   },
   {
    "duration": 390,
    "start_time": "2022-11-21T20:14:09.262Z"
   },
   {
    "duration": 12,
    "start_time": "2022-11-21T20:14:09.654Z"
   },
   {
    "duration": 312,
    "start_time": "2022-11-21T20:14:09.668Z"
   },
   {
    "duration": 404,
    "start_time": "2022-11-21T20:14:09.983Z"
   },
   {
    "duration": 0,
    "start_time": "2022-11-21T20:14:10.389Z"
   },
   {
    "duration": 295,
    "start_time": "2022-11-21T20:14:22.060Z"
   },
   {
    "duration": 12,
    "start_time": "2022-11-21T20:14:26.064Z"
   },
   {
    "duration": 291,
    "start_time": "2022-11-21T20:15:48.307Z"
   },
   {
    "duration": 12,
    "start_time": "2022-11-21T20:16:02.068Z"
   },
   {
    "duration": 1142,
    "start_time": "2022-11-21T20:16:07.977Z"
   },
   {
    "duration": 77,
    "start_time": "2022-11-21T20:16:09.122Z"
   },
   {
    "duration": 12,
    "start_time": "2022-11-21T20:16:09.200Z"
   },
   {
    "duration": 12,
    "start_time": "2022-11-21T20:16:09.214Z"
   },
   {
    "duration": 3,
    "start_time": "2022-11-21T20:16:09.227Z"
   },
   {
    "duration": 11,
    "start_time": "2022-11-21T20:16:09.232Z"
   },
   {
    "duration": 7,
    "start_time": "2022-11-21T20:16:09.245Z"
   },
   {
    "duration": 7,
    "start_time": "2022-11-21T20:16:09.254Z"
   },
   {
    "duration": 11,
    "start_time": "2022-11-21T20:16:09.262Z"
   },
   {
    "duration": 38,
    "start_time": "2022-11-21T20:16:09.276Z"
   },
   {
    "duration": 15,
    "start_time": "2022-11-21T20:16:09.315Z"
   },
   {
    "duration": 9,
    "start_time": "2022-11-21T20:16:09.332Z"
   },
   {
    "duration": 18,
    "start_time": "2022-11-21T20:16:09.342Z"
   },
   {
    "duration": 369,
    "start_time": "2022-11-21T20:16:09.362Z"
   },
   {
    "duration": 11,
    "start_time": "2022-11-21T20:16:09.733Z"
   },
   {
    "duration": 328,
    "start_time": "2022-11-21T20:16:09.746Z"
   },
   {
    "duration": 303,
    "start_time": "2022-11-21T20:16:10.076Z"
   },
   {
    "duration": 112,
    "start_time": "2022-11-21T20:16:10.381Z"
   },
   {
    "duration": 11,
    "start_time": "2022-11-21T20:16:50.106Z"
   },
   {
    "duration": 896,
    "start_time": "2022-11-21T20:17:02.433Z"
   },
   {
    "duration": 362,
    "start_time": "2022-11-21T20:17:18.697Z"
   },
   {
    "duration": 286,
    "start_time": "2022-11-21T20:18:50.392Z"
   },
   {
    "duration": 325,
    "start_time": "2022-11-21T20:19:12.959Z"
   },
   {
    "duration": 321,
    "start_time": "2022-11-21T20:19:16.610Z"
   },
   {
    "duration": 284,
    "start_time": "2022-11-21T20:19:42.776Z"
   },
   {
    "duration": 11,
    "start_time": "2022-11-21T20:33:50.267Z"
   },
   {
    "duration": 379,
    "start_time": "2022-11-21T20:34:11.204Z"
   },
   {
    "duration": 308,
    "start_time": "2022-11-21T20:34:26.939Z"
   },
   {
    "duration": 280,
    "start_time": "2022-11-21T20:34:36.924Z"
   },
   {
    "duration": 283,
    "start_time": "2022-11-21T20:35:03.731Z"
   },
   {
    "duration": 12,
    "start_time": "2022-11-21T20:40:01.558Z"
   },
   {
    "duration": 15,
    "start_time": "2022-11-21T20:40:28.686Z"
   },
   {
    "duration": 421,
    "start_time": "2022-11-21T20:41:44.901Z"
   },
   {
    "duration": 375,
    "start_time": "2022-11-21T20:42:02.452Z"
   },
   {
    "duration": 403,
    "start_time": "2022-11-21T20:43:01.940Z"
   },
   {
    "duration": 340,
    "start_time": "2022-11-21T20:49:26.620Z"
   },
   {
    "duration": 309,
    "start_time": "2022-11-21T20:49:27.480Z"
   },
   {
    "duration": 12,
    "start_time": "2022-11-21T20:51:37.948Z"
   },
   {
    "duration": 43,
    "start_time": "2022-11-21T20:51:47.404Z"
   },
   {
    "duration": 10,
    "start_time": "2022-11-21T20:51:55.748Z"
   },
   {
    "duration": 10,
    "start_time": "2022-11-21T20:52:17.996Z"
   },
   {
    "duration": 9,
    "start_time": "2022-11-21T20:52:24.565Z"
   },
   {
    "duration": 756,
    "start_time": "2022-11-21T20:52:29.940Z"
   },
   {
    "duration": 308,
    "start_time": "2022-11-21T20:52:44.935Z"
   },
   {
    "duration": 323,
    "start_time": "2022-11-21T20:53:39.707Z"
   },
   {
    "duration": 46,
    "start_time": "2022-11-21T20:58:26.135Z"
   },
   {
    "duration": 419,
    "start_time": "2022-11-21T20:58:44.975Z"
   },
   {
    "duration": 46,
    "start_time": "2022-11-21T20:58:55.720Z"
   },
   {
    "duration": 497,
    "start_time": "2022-11-21T20:59:04.261Z"
   },
   {
    "duration": 411,
    "start_time": "2022-11-21T20:59:20.542Z"
   },
   {
    "duration": 15,
    "start_time": "2022-11-21T21:03:19.347Z"
   },
   {
    "duration": 12,
    "start_time": "2022-11-21T21:03:28.180Z"
   },
   {
    "duration": 12,
    "start_time": "2022-11-21T21:03:49.603Z"
   },
   {
    "duration": 12,
    "start_time": "2022-11-21T21:04:09.651Z"
   },
   {
    "duration": 178,
    "start_time": "2022-11-21T21:04:19.419Z"
   },
   {
    "duration": 424,
    "start_time": "2022-11-21T21:05:31.272Z"
   },
   {
    "duration": 215,
    "start_time": "2022-11-21T21:05:49.225Z"
   },
   {
    "duration": 9,
    "start_time": "2022-11-21T21:08:37.502Z"
   },
   {
    "duration": 677,
    "start_time": "2022-11-21T21:08:47.583Z"
   },
   {
    "duration": 6,
    "start_time": "2022-11-21T21:09:13.870Z"
   },
   {
    "duration": 10,
    "start_time": "2022-11-21T21:09:32.302Z"
   },
   {
    "duration": 391,
    "start_time": "2022-11-21T21:11:32.533Z"
   },
   {
    "duration": 426,
    "start_time": "2022-11-21T21:12:17.612Z"
   },
   {
    "duration": 1123,
    "start_time": "2022-11-21T21:12:31.203Z"
   },
   {
    "duration": 78,
    "start_time": "2022-11-21T21:12:32.327Z"
   },
   {
    "duration": 13,
    "start_time": "2022-11-21T21:12:32.406Z"
   },
   {
    "duration": 13,
    "start_time": "2022-11-21T21:12:32.421Z"
   },
   {
    "duration": 14,
    "start_time": "2022-11-21T21:12:32.436Z"
   },
   {
    "duration": 12,
    "start_time": "2022-11-21T21:12:32.451Z"
   },
   {
    "duration": 9,
    "start_time": "2022-11-21T21:12:32.465Z"
   },
   {
    "duration": 6,
    "start_time": "2022-11-21T21:12:32.475Z"
   },
   {
    "duration": 15,
    "start_time": "2022-11-21T21:12:32.482Z"
   },
   {
    "duration": 8,
    "start_time": "2022-11-21T21:12:32.512Z"
   },
   {
    "duration": 7,
    "start_time": "2022-11-21T21:12:32.521Z"
   },
   {
    "duration": 7,
    "start_time": "2022-11-21T21:12:32.530Z"
   },
   {
    "duration": 14,
    "start_time": "2022-11-21T21:12:32.539Z"
   },
   {
    "duration": 391,
    "start_time": "2022-11-21T21:12:32.556Z"
   },
   {
    "duration": 13,
    "start_time": "2022-11-21T21:12:32.949Z"
   },
   {
    "duration": 327,
    "start_time": "2022-11-21T21:12:32.963Z"
   },
   {
    "duration": 301,
    "start_time": "2022-11-21T21:12:33.292Z"
   },
   {
    "duration": 374,
    "start_time": "2022-11-21T21:12:33.595Z"
   },
   {
    "duration": 305,
    "start_time": "2022-11-21T21:12:33.971Z"
   },
   {
    "duration": 109,
    "start_time": "2022-11-21T21:12:34.278Z"
   },
   {
    "duration": 0,
    "start_time": "2022-11-21T21:12:34.389Z"
   },
   {
    "duration": 0,
    "start_time": "2022-11-21T21:12:34.390Z"
   },
   {
    "duration": 0,
    "start_time": "2022-11-21T21:12:34.391Z"
   },
   {
    "duration": 0,
    "start_time": "2022-11-21T21:12:34.392Z"
   },
   {
    "duration": 15,
    "start_time": "2022-11-21T21:13:10.579Z"
   },
   {
    "duration": 414,
    "start_time": "2022-11-21T21:13:18.084Z"
   },
   {
    "duration": 334,
    "start_time": "2022-11-21T21:13:22.099Z"
   },
   {
    "duration": 386,
    "start_time": "2022-11-21T21:13:40.459Z"
   },
   {
    "duration": 245,
    "start_time": "2022-11-21T21:14:12.116Z"
   },
   {
    "duration": 9,
    "start_time": "2022-11-21T21:14:24.193Z"
   },
   {
    "duration": 8,
    "start_time": "2022-11-21T21:14:59.828Z"
   },
   {
    "duration": 192,
    "start_time": "2022-11-21T21:18:18.280Z"
   },
   {
    "duration": 8,
    "start_time": "2022-11-21T21:20:15.125Z"
   },
   {
    "duration": 9,
    "start_time": "2022-11-21T21:20:21.982Z"
   },
   {
    "duration": 9,
    "start_time": "2022-11-21T21:20:28.917Z"
   },
   {
    "duration": 10,
    "start_time": "2022-11-21T21:21:15.573Z"
   },
   {
    "duration": 9,
    "start_time": "2022-11-21T21:25:38.841Z"
   },
   {
    "duration": 5,
    "start_time": "2022-11-21T21:25:53.104Z"
   },
   {
    "duration": 9,
    "start_time": "2022-11-21T21:26:21.586Z"
   },
   {
    "duration": 8,
    "start_time": "2022-11-21T21:26:43.312Z"
   },
   {
    "duration": 14,
    "start_time": "2022-11-21T21:28:40.632Z"
   },
   {
    "duration": 12,
    "start_time": "2022-11-21T21:28:50.247Z"
   },
   {
    "duration": 15,
    "start_time": "2022-11-21T21:29:13.717Z"
   },
   {
    "duration": 13,
    "start_time": "2022-11-21T21:29:22.057Z"
   },
   {
    "duration": 3,
    "start_time": "2022-11-21T21:29:42.451Z"
   },
   {
    "duration": 4,
    "start_time": "2022-11-21T21:30:13.861Z"
   },
   {
    "duration": 4,
    "start_time": "2022-11-21T21:31:24.612Z"
   },
   {
    "duration": 4,
    "start_time": "2022-11-21T21:31:25.539Z"
   },
   {
    "duration": 1144,
    "start_time": "2022-11-21T21:31:31.674Z"
   },
   {
    "duration": 77,
    "start_time": "2022-11-21T21:31:32.820Z"
   },
   {
    "duration": 11,
    "start_time": "2022-11-21T21:31:32.899Z"
   },
   {
    "duration": 12,
    "start_time": "2022-11-21T21:31:32.912Z"
   },
   {
    "duration": 3,
    "start_time": "2022-11-21T21:31:32.926Z"
   },
   {
    "duration": 14,
    "start_time": "2022-11-21T21:31:32.930Z"
   },
   {
    "duration": 10,
    "start_time": "2022-11-21T21:31:32.946Z"
   },
   {
    "duration": 15,
    "start_time": "2022-11-21T21:31:32.957Z"
   },
   {
    "duration": 12,
    "start_time": "2022-11-21T21:31:32.973Z"
   },
   {
    "duration": 26,
    "start_time": "2022-11-21T21:31:32.987Z"
   },
   {
    "duration": 7,
    "start_time": "2022-11-21T21:31:33.015Z"
   },
   {
    "duration": 8,
    "start_time": "2022-11-21T21:31:33.024Z"
   },
   {
    "duration": 16,
    "start_time": "2022-11-21T21:31:33.033Z"
   },
   {
    "duration": 377,
    "start_time": "2022-11-21T21:31:33.050Z"
   },
   {
    "duration": 12,
    "start_time": "2022-11-21T21:31:33.430Z"
   },
   {
    "duration": 307,
    "start_time": "2022-11-21T21:31:33.444Z"
   },
   {
    "duration": 283,
    "start_time": "2022-11-21T21:31:33.754Z"
   },
   {
    "duration": 375,
    "start_time": "2022-11-21T21:31:34.039Z"
   },
   {
    "duration": 297,
    "start_time": "2022-11-21T21:31:34.416Z"
   },
   {
    "duration": 407,
    "start_time": "2022-11-21T21:31:34.715Z"
   },
   {
    "duration": 313,
    "start_time": "2022-11-21T21:31:35.124Z"
   },
   {
    "duration": 397,
    "start_time": "2022-11-21T21:31:35.439Z"
   },
   {
    "duration": 265,
    "start_time": "2022-11-21T21:31:35.837Z"
   },
   {
    "duration": 16,
    "start_time": "2022-11-21T21:31:36.103Z"
   },
   {
    "duration": 197,
    "start_time": "2022-11-21T21:31:36.120Z"
   },
   {
    "duration": 4,
    "start_time": "2022-11-21T21:31:36.319Z"
   },
   {
    "duration": 10,
    "start_time": "2022-11-21T21:31:36.324Z"
   },
   {
    "duration": 5,
    "start_time": "2022-11-21T21:31:36.342Z"
   },
   {
    "duration": 33,
    "start_time": "2022-11-21T21:31:36.349Z"
   },
   {
    "duration": 6,
    "start_time": "2022-11-21T21:32:11.420Z"
   },
   {
    "duration": 118,
    "start_time": "2022-11-21T21:34:19.339Z"
   },
   {
    "duration": 14,
    "start_time": "2022-11-21T21:34:30.969Z"
   },
   {
    "duration": 13,
    "start_time": "2022-11-21T21:34:40.944Z"
   },
   {
    "duration": 13,
    "start_time": "2022-11-21T21:35:01.713Z"
   },
   {
    "duration": 28,
    "start_time": "2022-11-21T21:39:07.446Z"
   },
   {
    "duration": 63,
    "start_time": "2022-11-21T21:39:57.612Z"
   },
   {
    "duration": 69,
    "start_time": "2022-11-21T21:40:16.844Z"
   },
   {
    "duration": 70,
    "start_time": "2022-11-21T21:40:32.772Z"
   },
   {
    "duration": 115,
    "start_time": "2022-11-21T21:40:43.277Z"
   },
   {
    "duration": 175,
    "start_time": "2022-11-21T21:40:59.948Z"
   },
   {
    "duration": 255,
    "start_time": "2022-11-21T21:41:36.276Z"
   },
   {
    "duration": 212,
    "start_time": "2022-11-21T21:41:54.941Z"
   },
   {
    "duration": 122,
    "start_time": "2022-11-21T21:45:14.528Z"
   },
   {
    "duration": 222,
    "start_time": "2022-11-21T21:47:45.477Z"
   },
   {
    "duration": 152,
    "start_time": "2022-11-21T21:49:17.966Z"
   },
   {
    "duration": 158,
    "start_time": "2022-11-21T21:50:45.261Z"
   },
   {
    "duration": 11,
    "start_time": "2022-11-21T21:53:16.194Z"
   },
   {
    "duration": 10,
    "start_time": "2022-11-21T21:53:27.866Z"
   },
   {
    "duration": 6,
    "start_time": "2022-11-21T21:55:17.633Z"
   },
   {
    "duration": 10,
    "start_time": "2022-11-21T21:55:31.264Z"
   },
   {
    "duration": 10,
    "start_time": "2022-11-21T21:58:50.541Z"
   },
   {
    "duration": 26,
    "start_time": "2022-11-21T22:01:33.780Z"
   },
   {
    "duration": 14,
    "start_time": "2022-11-21T22:04:26.131Z"
   },
   {
    "duration": 1141,
    "start_time": "2022-11-21T22:07:06.874Z"
   },
   {
    "duration": 78,
    "start_time": "2022-11-21T22:07:08.016Z"
   },
   {
    "duration": 12,
    "start_time": "2022-11-21T22:07:08.096Z"
   },
   {
    "duration": 12,
    "start_time": "2022-11-21T22:07:08.110Z"
   },
   {
    "duration": 3,
    "start_time": "2022-11-21T22:07:08.124Z"
   },
   {
    "duration": 11,
    "start_time": "2022-11-21T22:07:08.128Z"
   },
   {
    "duration": 9,
    "start_time": "2022-11-21T22:07:08.141Z"
   },
   {
    "duration": 8,
    "start_time": "2022-11-21T22:07:08.152Z"
   },
   {
    "duration": 10,
    "start_time": "2022-11-21T22:07:08.161Z"
   },
   {
    "duration": 37,
    "start_time": "2022-11-21T22:07:08.175Z"
   },
   {
    "duration": 6,
    "start_time": "2022-11-21T22:07:08.214Z"
   },
   {
    "duration": 12,
    "start_time": "2022-11-21T22:07:08.221Z"
   },
   {
    "duration": 22,
    "start_time": "2022-11-21T22:07:08.235Z"
   },
   {
    "duration": 368,
    "start_time": "2022-11-21T22:07:08.259Z"
   },
   {
    "duration": 13,
    "start_time": "2022-11-21T22:07:08.629Z"
   },
   {
    "duration": 309,
    "start_time": "2022-11-21T22:07:08.643Z"
   },
   {
    "duration": 290,
    "start_time": "2022-11-21T22:07:08.955Z"
   },
   {
    "duration": 388,
    "start_time": "2022-11-21T22:07:09.247Z"
   },
   {
    "duration": 295,
    "start_time": "2022-11-21T22:07:09.637Z"
   },
   {
    "duration": 404,
    "start_time": "2022-11-21T22:07:09.933Z"
   },
   {
    "duration": 321,
    "start_time": "2022-11-21T22:07:10.339Z"
   },
   {
    "duration": 395,
    "start_time": "2022-11-21T22:07:10.661Z"
   },
   {
    "duration": 269,
    "start_time": "2022-11-21T22:07:11.058Z"
   },
   {
    "duration": 9,
    "start_time": "2022-11-21T22:07:11.328Z"
   },
   {
    "duration": 216,
    "start_time": "2022-11-21T22:07:11.338Z"
   },
   {
    "duration": 5,
    "start_time": "2022-11-21T22:07:11.556Z"
   },
   {
    "duration": 232,
    "start_time": "2022-11-21T22:07:11.562Z"
   },
   {
    "duration": 168,
    "start_time": "2022-11-21T22:07:11.797Z"
   },
   {
    "duration": 10,
    "start_time": "2022-11-21T22:07:11.967Z"
   },
   {
    "duration": 9,
    "start_time": "2022-11-21T22:07:11.978Z"
   },
   {
    "duration": 46,
    "start_time": "2022-11-21T22:07:11.988Z"
   },
   {
    "duration": 14,
    "start_time": "2022-11-21T22:07:12.035Z"
   },
   {
    "duration": 44,
    "start_time": "2022-11-22T04:51:24.336Z"
   },
   {
    "duration": 1342,
    "start_time": "2022-11-22T20:23:07.339Z"
   },
   {
    "duration": 195,
    "start_time": "2022-11-22T20:23:08.683Z"
   },
   {
    "duration": 12,
    "start_time": "2022-11-22T20:23:09.401Z"
   },
   {
    "duration": 11,
    "start_time": "2022-11-22T20:23:12.792Z"
   },
   {
    "duration": 8,
    "start_time": "2022-11-22T20:23:19.746Z"
   },
   {
    "duration": 7,
    "start_time": "2022-11-22T20:25:30.346Z"
   },
   {
    "duration": 7,
    "start_time": "2022-11-22T20:25:38.305Z"
   },
   {
    "duration": 2,
    "start_time": "2022-11-22T20:25:40.711Z"
   },
   {
    "duration": 9,
    "start_time": "2022-11-22T20:25:41.443Z"
   },
   {
    "duration": 9,
    "start_time": "2022-11-22T20:25:42.546Z"
   },
   {
    "duration": 6,
    "start_time": "2022-11-22T20:25:43.347Z"
   },
   {
    "duration": 10,
    "start_time": "2022-11-22T20:25:45.107Z"
   },
   {
    "duration": 7,
    "start_time": "2022-11-22T20:25:54.806Z"
   },
   {
    "duration": 7,
    "start_time": "2022-11-22T20:26:07.243Z"
   },
   {
    "duration": 14,
    "start_time": "2022-11-22T20:27:46.796Z"
   },
   {
    "duration": 11,
    "start_time": "2022-11-22T20:28:18.926Z"
   },
   {
    "duration": 12,
    "start_time": "2022-11-22T20:28:29.257Z"
   },
   {
    "duration": 10,
    "start_time": "2022-11-22T20:28:37.709Z"
   },
   {
    "duration": 5,
    "start_time": "2022-11-22T20:28:41.246Z"
   },
   {
    "duration": 13,
    "start_time": "2022-11-22T20:28:47.642Z"
   },
   {
    "duration": 11,
    "start_time": "2022-11-22T20:28:55.696Z"
   },
   {
    "duration": 11,
    "start_time": "2022-11-22T20:29:06.895Z"
   },
   {
    "duration": 9,
    "start_time": "2022-11-22T20:29:24.046Z"
   },
   {
    "duration": 94,
    "start_time": "2022-11-22T20:32:25.042Z"
   },
   {
    "duration": 1129,
    "start_time": "2022-11-22T20:33:49.320Z"
   },
   {
    "duration": 80,
    "start_time": "2022-11-22T20:33:50.451Z"
   },
   {
    "duration": 11,
    "start_time": "2022-11-22T20:33:51.349Z"
   },
   {
    "duration": 11,
    "start_time": "2022-11-22T20:33:51.737Z"
   },
   {
    "duration": 3,
    "start_time": "2022-11-22T20:33:52.607Z"
   },
   {
    "duration": 13,
    "start_time": "2022-11-22T20:33:52.934Z"
   },
   {
    "duration": 8,
    "start_time": "2022-11-22T20:33:53.248Z"
   },
   {
    "duration": 6,
    "start_time": "2022-11-22T20:33:53.678Z"
   },
   {
    "duration": 10,
    "start_time": "2022-11-22T20:33:53.974Z"
   },
   {
    "duration": 8,
    "start_time": "2022-11-22T20:33:54.343Z"
   },
   {
    "duration": 5,
    "start_time": "2022-11-22T20:33:55.214Z"
   },
   {
    "duration": 6,
    "start_time": "2022-11-22T20:33:55.822Z"
   },
   {
    "duration": 13,
    "start_time": "2022-11-22T20:33:57.822Z"
   },
   {
    "duration": 353,
    "start_time": "2022-11-22T20:33:58.558Z"
   },
   {
    "duration": 12,
    "start_time": "2022-11-22T20:33:59.238Z"
   },
   {
    "duration": 273,
    "start_time": "2022-11-22T20:33:59.798Z"
   },
   {
    "duration": 94,
    "start_time": "2022-11-22T20:34:03.905Z"
   },
   {
    "duration": 9,
    "start_time": "2022-11-22T20:35:30.118Z"
   },
   {
    "duration": 14,
    "start_time": "2022-11-22T20:35:49.813Z"
   },
   {
    "duration": 1302,
    "start_time": "2022-11-22T20:36:00.886Z"
   },
   {
    "duration": 13,
    "start_time": "2022-11-22T20:36:44.229Z"
   },
   {
    "duration": 1237,
    "start_time": "2022-11-22T20:38:14.836Z"
   },
   {
    "duration": 9,
    "start_time": "2022-11-22T20:38:26.659Z"
   },
   {
    "duration": 273,
    "start_time": "2022-11-22T20:38:33.098Z"
   },
   {
    "duration": 388,
    "start_time": "2022-11-22T20:38:41.427Z"
   },
   {
    "duration": 314,
    "start_time": "2022-11-22T20:38:49.891Z"
   },
   {
    "duration": 405,
    "start_time": "2022-11-22T20:38:54.780Z"
   },
   {
    "duration": 315,
    "start_time": "2022-11-22T20:38:57.490Z"
   },
   {
    "duration": 444,
    "start_time": "2022-11-22T20:38:59.843Z"
   },
   {
    "duration": 257,
    "start_time": "2022-11-22T20:39:03.299Z"
   },
   {
    "duration": 8,
    "start_time": "2022-11-22T20:39:04.770Z"
   },
   {
    "duration": 175,
    "start_time": "2022-11-22T20:39:07.498Z"
   },
   {
    "duration": 6,
    "start_time": "2022-11-22T20:39:09.746Z"
   },
   {
    "duration": 234,
    "start_time": "2022-11-22T20:39:21.210Z"
   },
   {
    "duration": 77,
    "start_time": "2022-11-22T20:46:56.237Z"
   },
   {
    "duration": 121,
    "start_time": "2022-11-22T20:47:15.462Z"
   },
   {
    "duration": 127,
    "start_time": "2022-11-22T20:47:18.213Z"
   },
   {
    "duration": 172,
    "start_time": "2022-11-22T20:49:35.133Z"
   },
   {
    "duration": 11,
    "start_time": "2022-11-22T20:49:39.947Z"
   },
   {
    "duration": 11,
    "start_time": "2022-11-22T20:57:38.029Z"
   },
   {
    "duration": 23,
    "start_time": "2022-11-22T20:57:44.740Z"
   },
   {
    "duration": 14,
    "start_time": "2022-11-22T20:57:54.284Z"
   },
   {
    "duration": 11,
    "start_time": "2022-11-22T20:59:34.276Z"
   },
   {
    "duration": 25,
    "start_time": "2022-11-22T21:00:33.515Z"
   },
   {
    "duration": 1143,
    "start_time": "2022-11-22T21:10:47.409Z"
   },
   {
    "duration": 78,
    "start_time": "2022-11-22T21:10:48.555Z"
   },
   {
    "duration": 12,
    "start_time": "2022-11-22T21:10:48.636Z"
   },
   {
    "duration": 12,
    "start_time": "2022-11-22T21:10:48.650Z"
   },
   {
    "duration": 3,
    "start_time": "2022-11-22T21:10:48.664Z"
   },
   {
    "duration": 12,
    "start_time": "2022-11-22T21:10:48.668Z"
   },
   {
    "duration": 8,
    "start_time": "2022-11-22T21:10:48.682Z"
   },
   {
    "duration": 7,
    "start_time": "2022-11-22T21:10:48.691Z"
   },
   {
    "duration": 12,
    "start_time": "2022-11-22T21:10:48.700Z"
   },
   {
    "duration": 40,
    "start_time": "2022-11-22T21:10:48.714Z"
   },
   {
    "duration": 30,
    "start_time": "2022-11-22T21:10:48.756Z"
   },
   {
    "duration": 10,
    "start_time": "2022-11-22T21:10:48.787Z"
   },
   {
    "duration": 18,
    "start_time": "2022-11-22T21:10:48.800Z"
   },
   {
    "duration": 395,
    "start_time": "2022-11-22T21:10:48.820Z"
   },
   {
    "duration": 12,
    "start_time": "2022-11-22T21:10:49.217Z"
   },
   {
    "duration": 309,
    "start_time": "2022-11-22T21:10:49.231Z"
   },
   {
    "duration": 19,
    "start_time": "2022-11-22T21:10:49.541Z"
   },
   {
    "duration": 44,
    "start_time": "2022-11-22T21:10:49.562Z"
   },
   {
    "duration": 267,
    "start_time": "2022-11-22T21:10:49.608Z"
   },
   {
    "duration": 352,
    "start_time": "2022-11-22T21:10:49.877Z"
   },
   {
    "duration": 299,
    "start_time": "2022-11-22T21:10:50.231Z"
   },
   {
    "duration": 406,
    "start_time": "2022-11-22T21:10:50.531Z"
   },
   {
    "duration": 297,
    "start_time": "2022-11-22T21:10:50.938Z"
   },
   {
    "duration": 407,
    "start_time": "2022-11-22T21:10:51.237Z"
   },
   {
    "duration": 274,
    "start_time": "2022-11-22T21:10:51.645Z"
   },
   {
    "duration": 9,
    "start_time": "2022-11-22T21:10:51.921Z"
   },
   {
    "duration": 220,
    "start_time": "2022-11-22T21:10:51.932Z"
   },
   {
    "duration": 7,
    "start_time": "2022-11-22T21:10:52.153Z"
   },
   {
    "duration": 229,
    "start_time": "2022-11-22T21:10:52.161Z"
   },
   {
    "duration": 201,
    "start_time": "2022-11-22T21:10:52.392Z"
   },
   {
    "duration": 166,
    "start_time": "2022-11-22T21:10:52.595Z"
   },
   {
    "duration": 11,
    "start_time": "2022-11-22T21:10:52.763Z"
   },
   {
    "duration": 8,
    "start_time": "2022-11-22T21:10:52.776Z"
   },
   {
    "duration": 38,
    "start_time": "2022-11-22T21:10:52.786Z"
   },
   {
    "duration": 29,
    "start_time": "2022-11-22T21:10:52.826Z"
   },
   {
    "duration": 1132,
    "start_time": "2022-12-16T20:18:16.079Z"
   },
   {
    "duration": 219,
    "start_time": "2022-12-16T20:18:17.216Z"
   },
   {
    "duration": 11,
    "start_time": "2022-12-16T20:18:17.441Z"
   },
   {
    "duration": 21,
    "start_time": "2022-12-16T20:18:17.454Z"
   },
   {
    "duration": 14,
    "start_time": "2022-12-16T20:18:17.476Z"
   },
   {
    "duration": 14,
    "start_time": "2022-12-16T20:18:17.491Z"
   },
   {
    "duration": 8,
    "start_time": "2022-12-16T20:18:17.507Z"
   },
   {
    "duration": 8,
    "start_time": "2022-12-16T20:18:17.516Z"
   },
   {
    "duration": 13,
    "start_time": "2022-12-16T20:18:17.527Z"
   },
   {
    "duration": 12,
    "start_time": "2022-12-16T20:18:17.541Z"
   },
   {
    "duration": 7,
    "start_time": "2022-12-16T20:18:17.555Z"
   },
   {
    "duration": 9,
    "start_time": "2022-12-16T20:18:17.564Z"
   },
   {
    "duration": 17,
    "start_time": "2022-12-16T20:18:17.574Z"
   },
   {
    "duration": 404,
    "start_time": "2022-12-16T20:18:17.592Z"
   },
   {
    "duration": 13,
    "start_time": "2022-12-16T20:18:17.998Z"
   },
   {
    "duration": 329,
    "start_time": "2022-12-16T20:18:18.012Z"
   },
   {
    "duration": 11,
    "start_time": "2022-12-16T20:18:18.343Z"
   },
   {
    "duration": 6,
    "start_time": "2022-12-16T20:18:18.355Z"
   },
   {
    "duration": 326,
    "start_time": "2022-12-16T20:18:18.363Z"
   },
   {
    "duration": 380,
    "start_time": "2022-12-16T20:18:18.691Z"
   },
   {
    "duration": 307,
    "start_time": "2022-12-16T20:18:19.073Z"
   },
   {
    "duration": 428,
    "start_time": "2022-12-16T20:18:19.382Z"
   },
   {
    "duration": 333,
    "start_time": "2022-12-16T20:18:19.811Z"
   },
   {
    "duration": 418,
    "start_time": "2022-12-16T20:18:20.145Z"
   },
   {
    "duration": 293,
    "start_time": "2022-12-16T20:18:20.564Z"
   },
   {
    "duration": 8,
    "start_time": "2022-12-16T20:18:20.859Z"
   },
   {
    "duration": 239,
    "start_time": "2022-12-16T20:18:20.870Z"
   },
   {
    "duration": 7,
    "start_time": "2022-12-16T20:18:21.111Z"
   },
   {
    "duration": 232,
    "start_time": "2022-12-16T20:18:21.120Z"
   },
   {
    "duration": 132,
    "start_time": "2022-12-16T20:18:21.354Z"
   },
   {
    "duration": 173,
    "start_time": "2022-12-16T20:18:21.488Z"
   },
   {
    "duration": 10,
    "start_time": "2022-12-16T20:18:21.663Z"
   },
   {
    "duration": 10,
    "start_time": "2022-12-16T20:18:21.675Z"
   },
   {
    "duration": 42,
    "start_time": "2022-12-16T20:18:21.686Z"
   },
   {
    "duration": 14,
    "start_time": "2022-12-16T20:18:21.730Z"
   }
  ],
  "kernelspec": {
   "display_name": "Python 3 (ipykernel)",
   "language": "python",
   "name": "python3"
  },
  "language_info": {
   "codemirror_mode": {
    "name": "ipython",
    "version": 3
   },
   "file_extension": ".py",
   "mimetype": "text/x-python",
   "name": "python",
   "nbconvert_exporter": "python",
   "pygments_lexer": "ipython3",
   "version": "3.9.5"
  },
  "toc": {
   "base_numbering": 1,
   "nav_menu": {},
   "number_sections": true,
   "sideBar": true,
   "skip_h1_title": true,
   "title_cell": "Оглавление",
   "title_sidebar": "Contents",
   "toc_cell": true,
   "toc_position": {
    "height": "calc(100% - 180px)",
    "left": "10px",
    "top": "150px",
    "width": "361.62px"
   },
   "toc_section_display": true,
   "toc_window_display": false
  }
 },
 "nbformat": 4,
 "nbformat_minor": 2
}
