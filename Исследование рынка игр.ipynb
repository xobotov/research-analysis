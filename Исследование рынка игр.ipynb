{
 "cells": [
  {
   "cell_type": "markdown",
   "metadata": {
    "toc": true
   },
   "source": [
    "<h1>Содержание<span class=\"tocSkip\"></span></h1>\n",
    "<div class=\"toc\"><ul class=\"toc-item\"><li><span><a href=\"#Наименование-столбцов\" data-toc-modified-id=\"Наименование-столбцов-1\"><span class=\"toc-item-num\">1&nbsp;&nbsp;</span>Наименование столбцов</a></span></li><li><span><a href=\"#Тип-данных\" data-toc-modified-id=\"Тип-данных-2\"><span class=\"toc-item-num\">2&nbsp;&nbsp;</span>Тип данных</a></span></li><li><span><a href=\"#исследовательский-анализ-данных\" data-toc-modified-id=\"исследовательский-анализ-данных-3\"><span class=\"toc-item-num\">3&nbsp;&nbsp;</span>исследовательский анализ данных</a></span><ul class=\"toc-item\"><li><span><a href=\"#Посмотрите,-сколько-игр-выпускалось-в-разные-годы.-Важны-ли-данные-за-все-периоды?\" data-toc-modified-id=\"Посмотрите,-сколько-игр-выпускалось-в-разные-годы.-Важны-ли-данные-за-все-периоды?-3.1\"><span class=\"toc-item-num\">3.1&nbsp;&nbsp;</span>Посмотрите, сколько игр выпускалось в разные годы. Важны ли данные за все периоды?</a></span></li><li><span><a href=\"#Посмотрите,-как-менялись-продажи-по-платформам.\" data-toc-modified-id=\"Посмотрите,-как-менялись-продажи-по-платформам.-3.2\"><span class=\"toc-item-num\">3.2&nbsp;&nbsp;</span>Посмотрите, как менялись продажи по платформам.</a></span></li><li><span><a href=\"#Какие-платформы-лидируют-по-продажам,-растут-или-падают?-Выберите-несколько-потенциально-прибыльных-платформ.\" data-toc-modified-id=\"Какие-платформы-лидируют-по-продажам,-растут-или-падают?-Выберите-несколько-потенциально-прибыльных-платформ.-3.3\"><span class=\"toc-item-num\">3.3&nbsp;&nbsp;</span>Какие платформы лидируют по продажам, растут или падают? Выберите несколько потенциально прибыльных платформ.</a></span></li><li><span><a href=\"#Посмотрите,-как-влияют-на-продажи-внутри-одной-популярной-платформы-отзывы-пользователей-и-критиков\" data-toc-modified-id=\"Посмотрите,-как-влияют-на-продажи-внутри-одной-популярной-платформы-отзывы-пользователей-и-критиков-3.4\"><span class=\"toc-item-num\">3.4&nbsp;&nbsp;</span>Посмотрите, как влияют на продажи внутри одной популярной платформы отзывы пользователей и критиков</a></span></li><li><span><a href=\"#Корреляция\" data-toc-modified-id=\"Корреляция-3.5\"><span class=\"toc-item-num\">3.5&nbsp;&nbsp;</span>Корреляция</a></span></li><li><span><a href=\"#Жанры\" data-toc-modified-id=\"Жанры-3.6\"><span class=\"toc-item-num\">3.6&nbsp;&nbsp;</span>Жанры</a></span></li></ul></li><li><span><a href=\"#Составьте-портрет-пользователя-каждого-региона\" data-toc-modified-id=\"Составьте-портрет-пользователя-каждого-региона-4\"><span class=\"toc-item-num\">4&nbsp;&nbsp;</span>Составьте портрет пользователя каждого региона</a></span></li><li><span><a href=\"#Проверьте-гипотезы\" data-toc-modified-id=\"Проверьте-гипотезы-5\"><span class=\"toc-item-num\">5&nbsp;&nbsp;</span>Проверьте гипотезы</a></span></li><li><span><a href=\"#Вывод\" data-toc-modified-id=\"Вывод-6\"><span class=\"toc-item-num\">6&nbsp;&nbsp;</span>Вывод</a></span></li></ul></div>"
   ]
  },
  {
   "cell_type": "markdown",
   "metadata": {},
   "source": [
    "Перед нами данные интернет магазина \"Стримчик\". Их открытых источников доступны исторические данные о продажах игр, оценки пользователей и экспертов, жанры и платформы. Данные до 2016 года. Цель нашего проекта проанализирвоать это год, это поможет сделать рекламные компании в 2017 году еще более эффективными."
   ]
  },
  {
   "cell_type": "markdown",
   "metadata": {},
   "source": [
    "***План***\n",
    "\n",
    "1. **Откройте файл с данными и изучите общую информацию**\n",
    "2. **Подготовьте данные**\n",
    " - Замените названия столбцов (приведите к нижнему регистру);\n",
    " - Преобразуйте данные в нужные типы. Опишите, в каких столбцах заменили тип данных и почему;\n",
    " - Обработайте пропуски при необходимости:\n",
    " - Объясните, почему заполнили пропуски определённым образом или почему не стали это делать;\n",
    " - Опишите причины, которые могли привести к пропускам;\n",
    " - Обратите внимание на аббревиатуру 'tbd' в столбце с оценкой пользователей. Отдельно разберите это значение и опишите, как его обработать;\n",
    " - Посчитайте суммарные продажи во всех регионах и запишите их в отдельный столбец.\n",
    "3. **Проведите исследовательский анализ данных**\n",
    " - Посмотрите, сколько игр выпускалось в разные годы. Важны ли данные за все периоды?\n",
    " - Посмотрите, как менялись продажи по платформам. Выберите платформы с наибольшими суммарными продажами и постройте распределение по годам. За какой характерный срок появляются новые и исчезают старые платформы?\n",
    " - Возьмите данные за соответствующий актуальный период. Актуальный период определите самостоятельно в результате исследования предыдущих вопросов. Основной фактор — эти данные помогут построить прогноз на 2017 год.\n",
    " - Не учитывайте в работе данные за предыдущие годы.\n",
    " - Какие платформы лидируют по продажам, растут или падают? Выберите несколько потенциально прибыльных платформ.\n",
    " - Постройте график «ящик с усами» по глобальным продажам игр в разбивке по платформам. Опишите результат.\n",
    " - Посмотрите, как влияют на продажи внутри одной популярной платформы отзывы пользователей и критиков. Постройте диаграмму рассеяния и посчитайте корреляцию между отзывами и продажами. Сформулируйте выводы.\n",
    " - Соотнесите выводы с продажами игр на других платформах.\n",
    " - Посмотрите на общее распределение игр по жанрам. Что можно сказать о самых прибыльных жанрах? Выделяются ли жанры с высокими и низкими продажами?\n",
    "4. **Составьте портрет пользователя каждого региона**\n",
    " - Определите для пользователя каждого региона (NA, EU, JP):\n",
    " - Самые популярные платформы (топ-5). Опишите различия в долях продаж.\n",
    " - Самые популярные жанры (топ-5). Поясните разницу.\n",
    " - Влияет ли рейтинг ESRB на продажи в отдельном регионе?\n",
    "5. **Проверьте гипотезы**\n",
    " - Средние пользовательские рейтинги платформ Xbox One и PC одинаковые;\n",
    " - Средние пользовательские рейтинги жанров Action (англ. «действие», экшен-игры) и Sports (англ. «спортивные соревнования») разные.\n",
    " - Задайте самостоятельно пороговое значение alpha.\n",
    "6. **Напишите общий вывод**\n",
    "\n",
    "**Описание данных**\n",
    "- Name — название игры\n",
    "- Platform — платформа\n",
    "- Year_of_Release — год выпуска\n",
    "- Genre — жанр игры\n",
    "- NA_sales — продажи в Северной Америке (миллионы проданных копий)\n",
    "- EU_sales — продажи в Европе (миллионы проданных копий)\n",
    "- JP_sales — продажи в Японии (миллионы проданных копий)\n",
    "- Other_sales — продажи в других странах (миллионы проданных копий)\n",
    "- Critic_Score — оценка критиков (максимум 100)\n",
    "- User_Score — оценка пользователей (максимум 10)\n",
    "- Rating — рейтинг от организации ESRB (англ. Entertainment Software Rating Board). Эта ассоциация определяет рейтинг компьютерных игр и присваивает им подходящую возрастную категорию.\n"
   ]
  },
  {
   "cell_type": "markdown",
   "metadata": {},
   "source": [
    "# Общая информация"
   ]
  },
  {
   "cell_type": "markdown",
   "metadata": {},
   "source": [
    "Вызовим нужные библиотеки и посмотрим общую информацию."
   ]
  },
  {
   "cell_type": "code",
   "execution_count": 1,
   "metadata": {},
   "outputs": [],
   "source": [
    "import pandas as pd\n",
    "import numpy as np\n",
    "import matplotlib.pyplot as plt\n",
    "import seaborn as sns\n",
    "from datetime import datetime\n",
    "from scipy import stats as st"
   ]
  },
  {
   "cell_type": "code",
   "execution_count": 2,
   "metadata": {},
   "outputs": [],
   "source": [
    "data = pd.read_csv('/datasets/games.csv')"
   ]
  },
  {
   "cell_type": "code",
   "execution_count": 3,
   "metadata": {},
   "outputs": [
    {
     "data": {
      "text/html": [
       "<div>\n",
       "<style scoped>\n",
       "    .dataframe tbody tr th:only-of-type {\n",
       "        vertical-align: middle;\n",
       "    }\n",
       "\n",
       "    .dataframe tbody tr th {\n",
       "        vertical-align: top;\n",
       "    }\n",
       "\n",
       "    .dataframe thead th {\n",
       "        text-align: right;\n",
       "    }\n",
       "</style>\n",
       "<table border=\"1\" class=\"dataframe\">\n",
       "  <thead>\n",
       "    <tr style=\"text-align: right;\">\n",
       "      <th></th>\n",
       "      <th>Name</th>\n",
       "      <th>Platform</th>\n",
       "      <th>Year_of_Release</th>\n",
       "      <th>Genre</th>\n",
       "      <th>NA_sales</th>\n",
       "      <th>EU_sales</th>\n",
       "      <th>JP_sales</th>\n",
       "      <th>Other_sales</th>\n",
       "      <th>Critic_Score</th>\n",
       "      <th>User_Score</th>\n",
       "      <th>Rating</th>\n",
       "    </tr>\n",
       "  </thead>\n",
       "  <tbody>\n",
       "    <tr>\n",
       "      <th>0</th>\n",
       "      <td>Wii Sports</td>\n",
       "      <td>Wii</td>\n",
       "      <td>2006.0</td>\n",
       "      <td>Sports</td>\n",
       "      <td>41.36</td>\n",
       "      <td>28.96</td>\n",
       "      <td>3.77</td>\n",
       "      <td>8.45</td>\n",
       "      <td>76.0</td>\n",
       "      <td>8</td>\n",
       "      <td>E</td>\n",
       "    </tr>\n",
       "    <tr>\n",
       "      <th>1</th>\n",
       "      <td>Super Mario Bros.</td>\n",
       "      <td>NES</td>\n",
       "      <td>1985.0</td>\n",
       "      <td>Platform</td>\n",
       "      <td>29.08</td>\n",
       "      <td>3.58</td>\n",
       "      <td>6.81</td>\n",
       "      <td>0.77</td>\n",
       "      <td>NaN</td>\n",
       "      <td>NaN</td>\n",
       "      <td>NaN</td>\n",
       "    </tr>\n",
       "    <tr>\n",
       "      <th>2</th>\n",
       "      <td>Mario Kart Wii</td>\n",
       "      <td>Wii</td>\n",
       "      <td>2008.0</td>\n",
       "      <td>Racing</td>\n",
       "      <td>15.68</td>\n",
       "      <td>12.76</td>\n",
       "      <td>3.79</td>\n",
       "      <td>3.29</td>\n",
       "      <td>82.0</td>\n",
       "      <td>8.3</td>\n",
       "      <td>E</td>\n",
       "    </tr>\n",
       "    <tr>\n",
       "      <th>3</th>\n",
       "      <td>Wii Sports Resort</td>\n",
       "      <td>Wii</td>\n",
       "      <td>2009.0</td>\n",
       "      <td>Sports</td>\n",
       "      <td>15.61</td>\n",
       "      <td>10.93</td>\n",
       "      <td>3.28</td>\n",
       "      <td>2.95</td>\n",
       "      <td>80.0</td>\n",
       "      <td>8</td>\n",
       "      <td>E</td>\n",
       "    </tr>\n",
       "    <tr>\n",
       "      <th>4</th>\n",
       "      <td>Pokemon Red/Pokemon Blue</td>\n",
       "      <td>GB</td>\n",
       "      <td>1996.0</td>\n",
       "      <td>Role-Playing</td>\n",
       "      <td>11.27</td>\n",
       "      <td>8.89</td>\n",
       "      <td>10.22</td>\n",
       "      <td>1.00</td>\n",
       "      <td>NaN</td>\n",
       "      <td>NaN</td>\n",
       "      <td>NaN</td>\n",
       "    </tr>\n",
       "    <tr>\n",
       "      <th>5</th>\n",
       "      <td>Tetris</td>\n",
       "      <td>GB</td>\n",
       "      <td>1989.0</td>\n",
       "      <td>Puzzle</td>\n",
       "      <td>23.20</td>\n",
       "      <td>2.26</td>\n",
       "      <td>4.22</td>\n",
       "      <td>0.58</td>\n",
       "      <td>NaN</td>\n",
       "      <td>NaN</td>\n",
       "      <td>NaN</td>\n",
       "    </tr>\n",
       "    <tr>\n",
       "      <th>6</th>\n",
       "      <td>New Super Mario Bros.</td>\n",
       "      <td>DS</td>\n",
       "      <td>2006.0</td>\n",
       "      <td>Platform</td>\n",
       "      <td>11.28</td>\n",
       "      <td>9.14</td>\n",
       "      <td>6.50</td>\n",
       "      <td>2.88</td>\n",
       "      <td>89.0</td>\n",
       "      <td>8.5</td>\n",
       "      <td>E</td>\n",
       "    </tr>\n",
       "    <tr>\n",
       "      <th>7</th>\n",
       "      <td>Wii Play</td>\n",
       "      <td>Wii</td>\n",
       "      <td>2006.0</td>\n",
       "      <td>Misc</td>\n",
       "      <td>13.96</td>\n",
       "      <td>9.18</td>\n",
       "      <td>2.93</td>\n",
       "      <td>2.84</td>\n",
       "      <td>58.0</td>\n",
       "      <td>6.6</td>\n",
       "      <td>E</td>\n",
       "    </tr>\n",
       "    <tr>\n",
       "      <th>8</th>\n",
       "      <td>New Super Mario Bros. Wii</td>\n",
       "      <td>Wii</td>\n",
       "      <td>2009.0</td>\n",
       "      <td>Platform</td>\n",
       "      <td>14.44</td>\n",
       "      <td>6.94</td>\n",
       "      <td>4.70</td>\n",
       "      <td>2.24</td>\n",
       "      <td>87.0</td>\n",
       "      <td>8.4</td>\n",
       "      <td>E</td>\n",
       "    </tr>\n",
       "    <tr>\n",
       "      <th>9</th>\n",
       "      <td>Duck Hunt</td>\n",
       "      <td>NES</td>\n",
       "      <td>1984.0</td>\n",
       "      <td>Shooter</td>\n",
       "      <td>26.93</td>\n",
       "      <td>0.63</td>\n",
       "      <td>0.28</td>\n",
       "      <td>0.47</td>\n",
       "      <td>NaN</td>\n",
       "      <td>NaN</td>\n",
       "      <td>NaN</td>\n",
       "    </tr>\n",
       "    <tr>\n",
       "      <th>10</th>\n",
       "      <td>Nintendogs</td>\n",
       "      <td>DS</td>\n",
       "      <td>2005.0</td>\n",
       "      <td>Simulation</td>\n",
       "      <td>9.05</td>\n",
       "      <td>10.95</td>\n",
       "      <td>1.93</td>\n",
       "      <td>2.74</td>\n",
       "      <td>NaN</td>\n",
       "      <td>NaN</td>\n",
       "      <td>NaN</td>\n",
       "    </tr>\n",
       "    <tr>\n",
       "      <th>11</th>\n",
       "      <td>Mario Kart DS</td>\n",
       "      <td>DS</td>\n",
       "      <td>2005.0</td>\n",
       "      <td>Racing</td>\n",
       "      <td>9.71</td>\n",
       "      <td>7.47</td>\n",
       "      <td>4.13</td>\n",
       "      <td>1.90</td>\n",
       "      <td>91.0</td>\n",
       "      <td>8.6</td>\n",
       "      <td>E</td>\n",
       "    </tr>\n",
       "    <tr>\n",
       "      <th>12</th>\n",
       "      <td>Pokemon Gold/Pokemon Silver</td>\n",
       "      <td>GB</td>\n",
       "      <td>1999.0</td>\n",
       "      <td>Role-Playing</td>\n",
       "      <td>9.00</td>\n",
       "      <td>6.18</td>\n",
       "      <td>7.20</td>\n",
       "      <td>0.71</td>\n",
       "      <td>NaN</td>\n",
       "      <td>NaN</td>\n",
       "      <td>NaN</td>\n",
       "    </tr>\n",
       "    <tr>\n",
       "      <th>13</th>\n",
       "      <td>Wii Fit</td>\n",
       "      <td>Wii</td>\n",
       "      <td>2007.0</td>\n",
       "      <td>Sports</td>\n",
       "      <td>8.92</td>\n",
       "      <td>8.03</td>\n",
       "      <td>3.60</td>\n",
       "      <td>2.15</td>\n",
       "      <td>80.0</td>\n",
       "      <td>7.7</td>\n",
       "      <td>E</td>\n",
       "    </tr>\n",
       "    <tr>\n",
       "      <th>14</th>\n",
       "      <td>Kinect Adventures!</td>\n",
       "      <td>X360</td>\n",
       "      <td>2010.0</td>\n",
       "      <td>Misc</td>\n",
       "      <td>15.00</td>\n",
       "      <td>4.89</td>\n",
       "      <td>0.24</td>\n",
       "      <td>1.69</td>\n",
       "      <td>61.0</td>\n",
       "      <td>6.3</td>\n",
       "      <td>E</td>\n",
       "    </tr>\n",
       "    <tr>\n",
       "      <th>15</th>\n",
       "      <td>Wii Fit Plus</td>\n",
       "      <td>Wii</td>\n",
       "      <td>2009.0</td>\n",
       "      <td>Sports</td>\n",
       "      <td>9.01</td>\n",
       "      <td>8.49</td>\n",
       "      <td>2.53</td>\n",
       "      <td>1.77</td>\n",
       "      <td>80.0</td>\n",
       "      <td>7.4</td>\n",
       "      <td>E</td>\n",
       "    </tr>\n",
       "    <tr>\n",
       "      <th>16</th>\n",
       "      <td>Grand Theft Auto V</td>\n",
       "      <td>PS3</td>\n",
       "      <td>2013.0</td>\n",
       "      <td>Action</td>\n",
       "      <td>7.02</td>\n",
       "      <td>9.09</td>\n",
       "      <td>0.98</td>\n",
       "      <td>3.96</td>\n",
       "      <td>97.0</td>\n",
       "      <td>8.2</td>\n",
       "      <td>M</td>\n",
       "    </tr>\n",
       "    <tr>\n",
       "      <th>17</th>\n",
       "      <td>Grand Theft Auto: San Andreas</td>\n",
       "      <td>PS2</td>\n",
       "      <td>2004.0</td>\n",
       "      <td>Action</td>\n",
       "      <td>9.43</td>\n",
       "      <td>0.40</td>\n",
       "      <td>0.41</td>\n",
       "      <td>10.57</td>\n",
       "      <td>95.0</td>\n",
       "      <td>9</td>\n",
       "      <td>M</td>\n",
       "    </tr>\n",
       "    <tr>\n",
       "      <th>18</th>\n",
       "      <td>Super Mario World</td>\n",
       "      <td>SNES</td>\n",
       "      <td>1990.0</td>\n",
       "      <td>Platform</td>\n",
       "      <td>12.78</td>\n",
       "      <td>3.75</td>\n",
       "      <td>3.54</td>\n",
       "      <td>0.55</td>\n",
       "      <td>NaN</td>\n",
       "      <td>NaN</td>\n",
       "      <td>NaN</td>\n",
       "    </tr>\n",
       "    <tr>\n",
       "      <th>19</th>\n",
       "      <td>Brain Age: Train Your Brain in Minutes a Day</td>\n",
       "      <td>DS</td>\n",
       "      <td>2005.0</td>\n",
       "      <td>Misc</td>\n",
       "      <td>4.74</td>\n",
       "      <td>9.20</td>\n",
       "      <td>4.16</td>\n",
       "      <td>2.04</td>\n",
       "      <td>77.0</td>\n",
       "      <td>7.9</td>\n",
       "      <td>E</td>\n",
       "    </tr>\n",
       "  </tbody>\n",
       "</table>\n",
       "</div>"
      ],
      "text/plain": [
       "                                            Name Platform  Year_of_Release  \\\n",
       "0                                     Wii Sports      Wii           2006.0   \n",
       "1                              Super Mario Bros.      NES           1985.0   \n",
       "2                                 Mario Kart Wii      Wii           2008.0   \n",
       "3                              Wii Sports Resort      Wii           2009.0   \n",
       "4                       Pokemon Red/Pokemon Blue       GB           1996.0   \n",
       "5                                         Tetris       GB           1989.0   \n",
       "6                          New Super Mario Bros.       DS           2006.0   \n",
       "7                                       Wii Play      Wii           2006.0   \n",
       "8                      New Super Mario Bros. Wii      Wii           2009.0   \n",
       "9                                      Duck Hunt      NES           1984.0   \n",
       "10                                    Nintendogs       DS           2005.0   \n",
       "11                                 Mario Kart DS       DS           2005.0   \n",
       "12                   Pokemon Gold/Pokemon Silver       GB           1999.0   \n",
       "13                                       Wii Fit      Wii           2007.0   \n",
       "14                            Kinect Adventures!     X360           2010.0   \n",
       "15                                  Wii Fit Plus      Wii           2009.0   \n",
       "16                            Grand Theft Auto V      PS3           2013.0   \n",
       "17                 Grand Theft Auto: San Andreas      PS2           2004.0   \n",
       "18                             Super Mario World     SNES           1990.0   \n",
       "19  Brain Age: Train Your Brain in Minutes a Day       DS           2005.0   \n",
       "\n",
       "           Genre  NA_sales  EU_sales  JP_sales  Other_sales  Critic_Score  \\\n",
       "0         Sports     41.36     28.96      3.77         8.45          76.0   \n",
       "1       Platform     29.08      3.58      6.81         0.77           NaN   \n",
       "2         Racing     15.68     12.76      3.79         3.29          82.0   \n",
       "3         Sports     15.61     10.93      3.28         2.95          80.0   \n",
       "4   Role-Playing     11.27      8.89     10.22         1.00           NaN   \n",
       "5         Puzzle     23.20      2.26      4.22         0.58           NaN   \n",
       "6       Platform     11.28      9.14      6.50         2.88          89.0   \n",
       "7           Misc     13.96      9.18      2.93         2.84          58.0   \n",
       "8       Platform     14.44      6.94      4.70         2.24          87.0   \n",
       "9        Shooter     26.93      0.63      0.28         0.47           NaN   \n",
       "10    Simulation      9.05     10.95      1.93         2.74           NaN   \n",
       "11        Racing      9.71      7.47      4.13         1.90          91.0   \n",
       "12  Role-Playing      9.00      6.18      7.20         0.71           NaN   \n",
       "13        Sports      8.92      8.03      3.60         2.15          80.0   \n",
       "14          Misc     15.00      4.89      0.24         1.69          61.0   \n",
       "15        Sports      9.01      8.49      2.53         1.77          80.0   \n",
       "16        Action      7.02      9.09      0.98         3.96          97.0   \n",
       "17        Action      9.43      0.40      0.41        10.57          95.0   \n",
       "18      Platform     12.78      3.75      3.54         0.55           NaN   \n",
       "19          Misc      4.74      9.20      4.16         2.04          77.0   \n",
       "\n",
       "   User_Score Rating  \n",
       "0           8      E  \n",
       "1         NaN    NaN  \n",
       "2         8.3      E  \n",
       "3           8      E  \n",
       "4         NaN    NaN  \n",
       "5         NaN    NaN  \n",
       "6         8.5      E  \n",
       "7         6.6      E  \n",
       "8         8.4      E  \n",
       "9         NaN    NaN  \n",
       "10        NaN    NaN  \n",
       "11        8.6      E  \n",
       "12        NaN    NaN  \n",
       "13        7.7      E  \n",
       "14        6.3      E  \n",
       "15        7.4      E  \n",
       "16        8.2      M  \n",
       "17          9      M  \n",
       "18        NaN    NaN  \n",
       "19        7.9      E  "
      ]
     },
     "execution_count": 3,
     "metadata": {},
     "output_type": "execute_result"
    }
   ],
   "source": [
    "data.head(20)"
   ]
  },
  {
   "cell_type": "code",
   "execution_count": 4,
   "metadata": {},
   "outputs": [
    {
     "data": {
      "text/html": [
       "<div>\n",
       "<style scoped>\n",
       "    .dataframe tbody tr th:only-of-type {\n",
       "        vertical-align: middle;\n",
       "    }\n",
       "\n",
       "    .dataframe tbody tr th {\n",
       "        vertical-align: top;\n",
       "    }\n",
       "\n",
       "    .dataframe thead th {\n",
       "        text-align: right;\n",
       "    }\n",
       "</style>\n",
       "<table border=\"1\" class=\"dataframe\">\n",
       "  <thead>\n",
       "    <tr style=\"text-align: right;\">\n",
       "      <th></th>\n",
       "      <th>Year_of_Release</th>\n",
       "      <th>NA_sales</th>\n",
       "      <th>EU_sales</th>\n",
       "      <th>JP_sales</th>\n",
       "      <th>Other_sales</th>\n",
       "      <th>Critic_Score</th>\n",
       "    </tr>\n",
       "  </thead>\n",
       "  <tbody>\n",
       "    <tr>\n",
       "      <th>count</th>\n",
       "      <td>16446.000000</td>\n",
       "      <td>16715.000000</td>\n",
       "      <td>16715.000000</td>\n",
       "      <td>16715.000000</td>\n",
       "      <td>16715.000000</td>\n",
       "      <td>8137.000000</td>\n",
       "    </tr>\n",
       "    <tr>\n",
       "      <th>mean</th>\n",
       "      <td>2006.484616</td>\n",
       "      <td>0.263377</td>\n",
       "      <td>0.145060</td>\n",
       "      <td>0.077617</td>\n",
       "      <td>0.047342</td>\n",
       "      <td>68.967679</td>\n",
       "    </tr>\n",
       "    <tr>\n",
       "      <th>std</th>\n",
       "      <td>5.877050</td>\n",
       "      <td>0.813604</td>\n",
       "      <td>0.503339</td>\n",
       "      <td>0.308853</td>\n",
       "      <td>0.186731</td>\n",
       "      <td>13.938165</td>\n",
       "    </tr>\n",
       "    <tr>\n",
       "      <th>min</th>\n",
       "      <td>1980.000000</td>\n",
       "      <td>0.000000</td>\n",
       "      <td>0.000000</td>\n",
       "      <td>0.000000</td>\n",
       "      <td>0.000000</td>\n",
       "      <td>13.000000</td>\n",
       "    </tr>\n",
       "    <tr>\n",
       "      <th>25%</th>\n",
       "      <td>2003.000000</td>\n",
       "      <td>0.000000</td>\n",
       "      <td>0.000000</td>\n",
       "      <td>0.000000</td>\n",
       "      <td>0.000000</td>\n",
       "      <td>60.000000</td>\n",
       "    </tr>\n",
       "    <tr>\n",
       "      <th>50%</th>\n",
       "      <td>2007.000000</td>\n",
       "      <td>0.080000</td>\n",
       "      <td>0.020000</td>\n",
       "      <td>0.000000</td>\n",
       "      <td>0.010000</td>\n",
       "      <td>71.000000</td>\n",
       "    </tr>\n",
       "    <tr>\n",
       "      <th>75%</th>\n",
       "      <td>2010.000000</td>\n",
       "      <td>0.240000</td>\n",
       "      <td>0.110000</td>\n",
       "      <td>0.040000</td>\n",
       "      <td>0.030000</td>\n",
       "      <td>79.000000</td>\n",
       "    </tr>\n",
       "    <tr>\n",
       "      <th>max</th>\n",
       "      <td>2016.000000</td>\n",
       "      <td>41.360000</td>\n",
       "      <td>28.960000</td>\n",
       "      <td>10.220000</td>\n",
       "      <td>10.570000</td>\n",
       "      <td>98.000000</td>\n",
       "    </tr>\n",
       "  </tbody>\n",
       "</table>\n",
       "</div>"
      ],
      "text/plain": [
       "       Year_of_Release      NA_sales      EU_sales      JP_sales  \\\n",
       "count     16446.000000  16715.000000  16715.000000  16715.000000   \n",
       "mean       2006.484616      0.263377      0.145060      0.077617   \n",
       "std           5.877050      0.813604      0.503339      0.308853   \n",
       "min        1980.000000      0.000000      0.000000      0.000000   \n",
       "25%        2003.000000      0.000000      0.000000      0.000000   \n",
       "50%        2007.000000      0.080000      0.020000      0.000000   \n",
       "75%        2010.000000      0.240000      0.110000      0.040000   \n",
       "max        2016.000000     41.360000     28.960000     10.220000   \n",
       "\n",
       "        Other_sales  Critic_Score  \n",
       "count  16715.000000   8137.000000  \n",
       "mean       0.047342     68.967679  \n",
       "std        0.186731     13.938165  \n",
       "min        0.000000     13.000000  \n",
       "25%        0.000000     60.000000  \n",
       "50%        0.010000     71.000000  \n",
       "75%        0.030000     79.000000  \n",
       "max       10.570000     98.000000  "
      ]
     },
     "execution_count": 4,
     "metadata": {},
     "output_type": "execute_result"
    }
   ],
   "source": [
    "data.describe()"
   ]
  },
  {
   "cell_type": "code",
   "execution_count": 5,
   "metadata": {},
   "outputs": [
    {
     "name": "stdout",
     "output_type": "stream",
     "text": [
      "<class 'pandas.core.frame.DataFrame'>\n",
      "RangeIndex: 16715 entries, 0 to 16714\n",
      "Data columns (total 11 columns):\n",
      " #   Column           Non-Null Count  Dtype  \n",
      "---  ------           --------------  -----  \n",
      " 0   Name             16713 non-null  object \n",
      " 1   Platform         16715 non-null  object \n",
      " 2   Year_of_Release  16446 non-null  float64\n",
      " 3   Genre            16713 non-null  object \n",
      " 4   NA_sales         16715 non-null  float64\n",
      " 5   EU_sales         16715 non-null  float64\n",
      " 6   JP_sales         16715 non-null  float64\n",
      " 7   Other_sales      16715 non-null  float64\n",
      " 8   Critic_Score     8137 non-null   float64\n",
      " 9   User_Score       10014 non-null  object \n",
      " 10  Rating           9949 non-null   object \n",
      "dtypes: float64(6), object(5)\n",
      "memory usage: 1.4+ MB\n"
     ]
    }
   ],
   "source": [
    "data.info()"
   ]
  },
  {
   "cell_type": "code",
   "execution_count": 6,
   "metadata": {
    "scrolled": true
   },
   "outputs": [
    {
     "data": {
      "text/plain": [
       "Name                  2\n",
       "Platform              0\n",
       "Year_of_Release     269\n",
       "Genre                 2\n",
       "NA_sales              0\n",
       "EU_sales              0\n",
       "JP_sales              0\n",
       "Other_sales           0\n",
       "Critic_Score       8578\n",
       "User_Score         6701\n",
       "Rating             6766\n",
       "dtype: int64"
      ]
     },
     "execution_count": 6,
     "metadata": {},
     "output_type": "execute_result"
    }
   ],
   "source": [
    "data.isna().sum()"
   ]
  },
  {
   "cell_type": "code",
   "execution_count": 7,
   "metadata": {},
   "outputs": [],
   "source": [
    "def pass_value_barh(df):\n",
    "    try:\n",
    "        (\n",
    "            (df.isna().mean()*100)\n",
    "            .to_frame()\n",
    "            .rename(columns = {0:'space'})\n",
    "            .query('space > 0')\n",
    "            .sort_values(by = 'space', ascending = True)\n",
    "            .plot(kind= 'barh', figsize=(19,6), rot = -5, legend = False, fontsize = 16)\n",
    "            .set_title('Пропуски' + \"\\n\", fontsize = 22, color = 'SteelBlue')    \n",
    "        );    \n",
    "    except:\n",
    "        print('пропусков не осталось :) ')"
   ]
  },
  {
   "cell_type": "code",
   "execution_count": 8,
   "metadata": {},
   "outputs": [
    {
     "data": {
      "image/png": "[encoded data removed]",
      "text/plain": [
       "<Figure size 1368x432 with 1 Axes>"
      ]
     },
     "metadata": {
      "needs_background": "light"
     },
     "output_type": "display_data"
    }
   ],
   "source": [
    "pass_value_barh(data)"
   ]
  },
  {
   "cell_type": "code",
   "execution_count": 9,
   "metadata": {},
   "outputs": [
    {
     "data": {
      "image/png": "[encoded data removed]",
      "text/plain": [
       "<Figure size 1440x720 with 6 Axes>"
      ]
     },
     "metadata": {
      "needs_background": "light"
     },
     "output_type": "display_data"
    }
   ],
   "source": [
    "data.hist(figsize=(20,10));"
   ]
  },
  {
   "cell_type": "markdown",
   "metadata": {},
   "source": [
    "Предпросмотр данных завершен:\n",
    " 1) Нужно перевести дату к нужному типу данных\n",
    " 2) Привести к нужному регистру данные\n",
    " 3) Разобрать пропуски"
   ]
  },
  {
   "cell_type": "markdown",
   "metadata": {},
   "source": [
    "# Предобработка данных"
   ]
  },
  {
   "cell_type": "markdown",
   "metadata": {},
   "source": [
    "1. Замените названия столбцов (приведите к нижнему регистру);\n",
    "2. Преобразуйте данные в нужные типы. Опишите, в каких столбцах заменили тип данных и почему;\n",
    "3. Обработайте пропуски при необходимости:\n",
    "4. Объясните, почему заполнили пропуски определённым образом или почему не стали это делать;\n",
    "5. Опишите причины, которые могли привести к пропускам;\n",
    "6. Обратите внимание на аббревиатуру 'tbd' в столбце с оценкой пользователей. Отдельно разберите это значение и опишите, как его обработать;\n",
    "7. Посчитайте суммарные продажи во всех регионах и запишите их в отдельный столбец."
   ]
  },
  {
   "cell_type": "markdown",
   "metadata": {},
   "source": [
    "## Наименование столбцов"
   ]
  },
  {
   "cell_type": "markdown",
   "metadata": {},
   "source": [
    "Приведем наименование столбцов к нижнему регистру"
   ]
  },
  {
   "cell_type": "code",
   "execution_count": 10,
   "metadata": {},
   "outputs": [],
   "source": [
    "data.columns = map(str.lower, data.columns)"
   ]
  },
  {
   "cell_type": "markdown",
   "metadata": {},
   "source": [
    "Выведим таблицу еще раз, посмотрим на резултат"
   ]
  },
  {
   "cell_type": "code",
   "execution_count": 11,
   "metadata": {},
   "outputs": [
    {
     "data": {
      "text/html": [
       "<div>\n",
       "<style scoped>\n",
       "    .dataframe tbody tr th:only-of-type {\n",
       "        vertical-align: middle;\n",
       "    }\n",
       "\n",
       "    .dataframe tbody tr th {\n",
       "        vertical-align: top;\n",
       "    }\n",
       "\n",
       "    .dataframe thead th {\n",
       "        text-align: right;\n",
       "    }\n",
       "</style>\n",
       "<table border=\"1\" class=\"dataframe\">\n",
       "  <thead>\n",
       "    <tr style=\"text-align: right;\">\n",
       "      <th></th>\n",
       "      <th>name</th>\n",
       "      <th>platform</th>\n",
       "      <th>year_of_release</th>\n",
       "      <th>genre</th>\n",
       "      <th>na_sales</th>\n",
       "      <th>eu_sales</th>\n",
       "      <th>jp_sales</th>\n",
       "      <th>other_sales</th>\n",
       "      <th>critic_score</th>\n",
       "      <th>user_score</th>\n",
       "      <th>rating</th>\n",
       "    </tr>\n",
       "  </thead>\n",
       "  <tbody>\n",
       "    <tr>\n",
       "      <th>0</th>\n",
       "      <td>Wii Sports</td>\n",
       "      <td>Wii</td>\n",
       "      <td>2006.0</td>\n",
       "      <td>Sports</td>\n",
       "      <td>41.36</td>\n",
       "      <td>28.96</td>\n",
       "      <td>3.77</td>\n",
       "      <td>8.45</td>\n",
       "      <td>76.0</td>\n",
       "      <td>8</td>\n",
       "      <td>E</td>\n",
       "    </tr>\n",
       "    <tr>\n",
       "      <th>1</th>\n",
       "      <td>Super Mario Bros.</td>\n",
       "      <td>NES</td>\n",
       "      <td>1985.0</td>\n",
       "      <td>Platform</td>\n",
       "      <td>29.08</td>\n",
       "      <td>3.58</td>\n",
       "      <td>6.81</td>\n",
       "      <td>0.77</td>\n",
       "      <td>NaN</td>\n",
       "      <td>NaN</td>\n",
       "      <td>NaN</td>\n",
       "    </tr>\n",
       "    <tr>\n",
       "      <th>2</th>\n",
       "      <td>Mario Kart Wii</td>\n",
       "      <td>Wii</td>\n",
       "      <td>2008.0</td>\n",
       "      <td>Racing</td>\n",
       "      <td>15.68</td>\n",
       "      <td>12.76</td>\n",
       "      <td>3.79</td>\n",
       "      <td>3.29</td>\n",
       "      <td>82.0</td>\n",
       "      <td>8.3</td>\n",
       "      <td>E</td>\n",
       "    </tr>\n",
       "    <tr>\n",
       "      <th>3</th>\n",
       "      <td>Wii Sports Resort</td>\n",
       "      <td>Wii</td>\n",
       "      <td>2009.0</td>\n",
       "      <td>Sports</td>\n",
       "      <td>15.61</td>\n",
       "      <td>10.93</td>\n",
       "      <td>3.28</td>\n",
       "      <td>2.95</td>\n",
       "      <td>80.0</td>\n",
       "      <td>8</td>\n",
       "      <td>E</td>\n",
       "    </tr>\n",
       "    <tr>\n",
       "      <th>4</th>\n",
       "      <td>Pokemon Red/Pokemon Blue</td>\n",
       "      <td>GB</td>\n",
       "      <td>1996.0</td>\n",
       "      <td>Role-Playing</td>\n",
       "      <td>11.27</td>\n",
       "      <td>8.89</td>\n",
       "      <td>10.22</td>\n",
       "      <td>1.00</td>\n",
       "      <td>NaN</td>\n",
       "      <td>NaN</td>\n",
       "      <td>NaN</td>\n",
       "    </tr>\n",
       "  </tbody>\n",
       "</table>\n",
       "</div>"
      ],
      "text/plain": [
       "                       name platform  year_of_release         genre  na_sales  \\\n",
       "0                Wii Sports      Wii           2006.0        Sports     41.36   \n",
       "1         Super Mario Bros.      NES           1985.0      Platform     29.08   \n",
       "2            Mario Kart Wii      Wii           2008.0        Racing     15.68   \n",
       "3         Wii Sports Resort      Wii           2009.0        Sports     15.61   \n",
       "4  Pokemon Red/Pokemon Blue       GB           1996.0  Role-Playing     11.27   \n",
       "\n",
       "   eu_sales  jp_sales  other_sales  critic_score user_score rating  \n",
       "0     28.96      3.77         8.45          76.0          8      E  \n",
       "1      3.58      6.81         0.77           NaN        NaN    NaN  \n",
       "2     12.76      3.79         3.29          82.0        8.3      E  \n",
       "3     10.93      3.28         2.95          80.0          8      E  \n",
       "4      8.89     10.22         1.00           NaN        NaN    NaN  "
      ]
     },
     "execution_count": 11,
     "metadata": {},
     "output_type": "execute_result"
    }
   ],
   "source": [
    "data.head()"
   ]
  },
  {
   "cell_type": "markdown",
   "metadata": {},
   "source": [
    "## Тип данных"
   ]
  },
  {
   "cell_type": "markdown",
   "metadata": {},
   "source": [
    "Приведем год к нормальному типу данных"
   ]
  },
  {
   "cell_type": "code",
   "execution_count": 12,
   "metadata": {},
   "outputs": [
    {
     "name": "stdout",
     "output_type": "stream",
     "text": [
      "<class 'pandas.core.frame.DataFrame'>\n",
      "RangeIndex: 16715 entries, 0 to 16714\n",
      "Data columns (total 11 columns):\n",
      " #   Column           Non-Null Count  Dtype  \n",
      "---  ------           --------------  -----  \n",
      " 0   name             16713 non-null  object \n",
      " 1   platform         16715 non-null  object \n",
      " 2   year_of_release  16446 non-null  float64\n",
      " 3   genre            16713 non-null  object \n",
      " 4   na_sales         16715 non-null  float64\n",
      " 5   eu_sales         16715 non-null  float64\n",
      " 6   jp_sales         16715 non-null  float64\n",
      " 7   other_sales      16715 non-null  float64\n",
      " 8   critic_score     8137 non-null   float64\n",
      " 9   user_score       10014 non-null  object \n",
      " 10  rating           9949 non-null   object \n",
      "dtypes: float64(6), object(5)\n",
      "memory usage: 1.4+ MB\n"
     ]
    }
   ],
   "source": [
    "data.info()"
   ]
  },
  {
   "cell_type": "code",
   "execution_count": 13,
   "metadata": {},
   "outputs": [
    {
     "data": {
      "text/html": [
       "<div>\n",
       "<style scoped>\n",
       "    .dataframe tbody tr th:only-of-type {\n",
       "        vertical-align: middle;\n",
       "    }\n",
       "\n",
       "    .dataframe tbody tr th {\n",
       "        vertical-align: top;\n",
       "    }\n",
       "\n",
       "    .dataframe thead th {\n",
       "        text-align: right;\n",
       "    }\n",
       "</style>\n",
       "<table border=\"1\" class=\"dataframe\">\n",
       "  <thead>\n",
       "    <tr style=\"text-align: right;\">\n",
       "      <th></th>\n",
       "      <th>name</th>\n",
       "      <th>platform</th>\n",
       "      <th>year_of_release</th>\n",
       "      <th>genre</th>\n",
       "      <th>na_sales</th>\n",
       "      <th>eu_sales</th>\n",
       "      <th>jp_sales</th>\n",
       "      <th>other_sales</th>\n",
       "      <th>critic_score</th>\n",
       "      <th>user_score</th>\n",
       "      <th>rating</th>\n",
       "    </tr>\n",
       "  </thead>\n",
       "  <tbody>\n",
       "    <tr>\n",
       "      <th>0</th>\n",
       "      <td>Wii Sports</td>\n",
       "      <td>Wii</td>\n",
       "      <td>2006</td>\n",
       "      <td>Sports</td>\n",
       "      <td>41.36</td>\n",
       "      <td>28.96</td>\n",
       "      <td>3.77</td>\n",
       "      <td>8.45</td>\n",
       "      <td>76.0</td>\n",
       "      <td>8</td>\n",
       "      <td>E</td>\n",
       "    </tr>\n",
       "    <tr>\n",
       "      <th>1</th>\n",
       "      <td>Super Mario Bros.</td>\n",
       "      <td>NES</td>\n",
       "      <td>1985</td>\n",
       "      <td>Platform</td>\n",
       "      <td>29.08</td>\n",
       "      <td>3.58</td>\n",
       "      <td>6.81</td>\n",
       "      <td>0.77</td>\n",
       "      <td>NaN</td>\n",
       "      <td>NaN</td>\n",
       "      <td>NaN</td>\n",
       "    </tr>\n",
       "    <tr>\n",
       "      <th>2</th>\n",
       "      <td>Mario Kart Wii</td>\n",
       "      <td>Wii</td>\n",
       "      <td>2008</td>\n",
       "      <td>Racing</td>\n",
       "      <td>15.68</td>\n",
       "      <td>12.76</td>\n",
       "      <td>3.79</td>\n",
       "      <td>3.29</td>\n",
       "      <td>82.0</td>\n",
       "      <td>8.3</td>\n",
       "      <td>E</td>\n",
       "    </tr>\n",
       "    <tr>\n",
       "      <th>3</th>\n",
       "      <td>Wii Sports Resort</td>\n",
       "      <td>Wii</td>\n",
       "      <td>2009</td>\n",
       "      <td>Sports</td>\n",
       "      <td>15.61</td>\n",
       "      <td>10.93</td>\n",
       "      <td>3.28</td>\n",
       "      <td>2.95</td>\n",
       "      <td>80.0</td>\n",
       "      <td>8</td>\n",
       "      <td>E</td>\n",
       "    </tr>\n",
       "    <tr>\n",
       "      <th>4</th>\n",
       "      <td>Pokemon Red/Pokemon Blue</td>\n",
       "      <td>GB</td>\n",
       "      <td>1996</td>\n",
       "      <td>Role-Playing</td>\n",
       "      <td>11.27</td>\n",
       "      <td>8.89</td>\n",
       "      <td>10.22</td>\n",
       "      <td>1.00</td>\n",
       "      <td>NaN</td>\n",
       "      <td>NaN</td>\n",
       "      <td>NaN</td>\n",
       "    </tr>\n",
       "    <tr>\n",
       "      <th>5</th>\n",
       "      <td>Tetris</td>\n",
       "      <td>GB</td>\n",
       "      <td>1989</td>\n",
       "      <td>Puzzle</td>\n",
       "      <td>23.20</td>\n",
       "      <td>2.26</td>\n",
       "      <td>4.22</td>\n",
       "      <td>0.58</td>\n",
       "      <td>NaN</td>\n",
       "      <td>NaN</td>\n",
       "      <td>NaN</td>\n",
       "    </tr>\n",
       "    <tr>\n",
       "      <th>6</th>\n",
       "      <td>New Super Mario Bros.</td>\n",
       "      <td>DS</td>\n",
       "      <td>2006</td>\n",
       "      <td>Platform</td>\n",
       "      <td>11.28</td>\n",
       "      <td>9.14</td>\n",
       "      <td>6.50</td>\n",
       "      <td>2.88</td>\n",
       "      <td>89.0</td>\n",
       "      <td>8.5</td>\n",
       "      <td>E</td>\n",
       "    </tr>\n",
       "    <tr>\n",
       "      <th>7</th>\n",
       "      <td>Wii Play</td>\n",
       "      <td>Wii</td>\n",
       "      <td>2006</td>\n",
       "      <td>Misc</td>\n",
       "      <td>13.96</td>\n",
       "      <td>9.18</td>\n",
       "      <td>2.93</td>\n",
       "      <td>2.84</td>\n",
       "      <td>58.0</td>\n",
       "      <td>6.6</td>\n",
       "      <td>E</td>\n",
       "    </tr>\n",
       "    <tr>\n",
       "      <th>8</th>\n",
       "      <td>New Super Mario Bros. Wii</td>\n",
       "      <td>Wii</td>\n",
       "      <td>2009</td>\n",
       "      <td>Platform</td>\n",
       "      <td>14.44</td>\n",
       "      <td>6.94</td>\n",
       "      <td>4.70</td>\n",
       "      <td>2.24</td>\n",
       "      <td>87.0</td>\n",
       "      <td>8.4</td>\n",
       "      <td>E</td>\n",
       "    </tr>\n",
       "    <tr>\n",
       "      <th>9</th>\n",
       "      <td>Duck Hunt</td>\n",
       "      <td>NES</td>\n",
       "      <td>1984</td>\n",
       "      <td>Shooter</td>\n",
       "      <td>26.93</td>\n",
       "      <td>0.63</td>\n",
       "      <td>0.28</td>\n",
       "      <td>0.47</td>\n",
       "      <td>NaN</td>\n",
       "      <td>NaN</td>\n",
       "      <td>NaN</td>\n",
       "    </tr>\n",
       "    <tr>\n",
       "      <th>10</th>\n",
       "      <td>Nintendogs</td>\n",
       "      <td>DS</td>\n",
       "      <td>2005</td>\n",
       "      <td>Simulation</td>\n",
       "      <td>9.05</td>\n",
       "      <td>10.95</td>\n",
       "      <td>1.93</td>\n",
       "      <td>2.74</td>\n",
       "      <td>NaN</td>\n",
       "      <td>NaN</td>\n",
       "      <td>NaN</td>\n",
       "    </tr>\n",
       "    <tr>\n",
       "      <th>11</th>\n",
       "      <td>Mario Kart DS</td>\n",
       "      <td>DS</td>\n",
       "      <td>2005</td>\n",
       "      <td>Racing</td>\n",
       "      <td>9.71</td>\n",
       "      <td>7.47</td>\n",
       "      <td>4.13</td>\n",
       "      <td>1.90</td>\n",
       "      <td>91.0</td>\n",
       "      <td>8.6</td>\n",
       "      <td>E</td>\n",
       "    </tr>\n",
       "    <tr>\n",
       "      <th>12</th>\n",
       "      <td>Pokemon Gold/Pokemon Silver</td>\n",
       "      <td>GB</td>\n",
       "      <td>1999</td>\n",
       "      <td>Role-Playing</td>\n",
       "      <td>9.00</td>\n",
       "      <td>6.18</td>\n",
       "      <td>7.20</td>\n",
       "      <td>0.71</td>\n",
       "      <td>NaN</td>\n",
       "      <td>NaN</td>\n",
       "      <td>NaN</td>\n",
       "    </tr>\n",
       "    <tr>\n",
       "      <th>13</th>\n",
       "      <td>Wii Fit</td>\n",
       "      <td>Wii</td>\n",
       "      <td>2007</td>\n",
       "      <td>Sports</td>\n",
       "      <td>8.92</td>\n",
       "      <td>8.03</td>\n",
       "      <td>3.60</td>\n",
       "      <td>2.15</td>\n",
       "      <td>80.0</td>\n",
       "      <td>7.7</td>\n",
       "      <td>E</td>\n",
       "    </tr>\n",
       "    <tr>\n",
       "      <th>14</th>\n",
       "      <td>Kinect Adventures!</td>\n",
       "      <td>X360</td>\n",
       "      <td>2010</td>\n",
       "      <td>Misc</td>\n",
       "      <td>15.00</td>\n",
       "      <td>4.89</td>\n",
       "      <td>0.24</td>\n",
       "      <td>1.69</td>\n",
       "      <td>61.0</td>\n",
       "      <td>6.3</td>\n",
       "      <td>E</td>\n",
       "    </tr>\n",
       "    <tr>\n",
       "      <th>15</th>\n",
       "      <td>Wii Fit Plus</td>\n",
       "      <td>Wii</td>\n",
       "      <td>2009</td>\n",
       "      <td>Sports</td>\n",
       "      <td>9.01</td>\n",
       "      <td>8.49</td>\n",
       "      <td>2.53</td>\n",
       "      <td>1.77</td>\n",
       "      <td>80.0</td>\n",
       "      <td>7.4</td>\n",
       "      <td>E</td>\n",
       "    </tr>\n",
       "    <tr>\n",
       "      <th>16</th>\n",
       "      <td>Grand Theft Auto V</td>\n",
       "      <td>PS3</td>\n",
       "      <td>2013</td>\n",
       "      <td>Action</td>\n",
       "      <td>7.02</td>\n",
       "      <td>9.09</td>\n",
       "      <td>0.98</td>\n",
       "      <td>3.96</td>\n",
       "      <td>97.0</td>\n",
       "      <td>8.2</td>\n",
       "      <td>M</td>\n",
       "    </tr>\n",
       "    <tr>\n",
       "      <th>17</th>\n",
       "      <td>Grand Theft Auto: San Andreas</td>\n",
       "      <td>PS2</td>\n",
       "      <td>2004</td>\n",
       "      <td>Action</td>\n",
       "      <td>9.43</td>\n",
       "      <td>0.40</td>\n",
       "      <td>0.41</td>\n",
       "      <td>10.57</td>\n",
       "      <td>95.0</td>\n",
       "      <td>9</td>\n",
       "      <td>M</td>\n",
       "    </tr>\n",
       "    <tr>\n",
       "      <th>18</th>\n",
       "      <td>Super Mario World</td>\n",
       "      <td>SNES</td>\n",
       "      <td>1990</td>\n",
       "      <td>Platform</td>\n",
       "      <td>12.78</td>\n",
       "      <td>3.75</td>\n",
       "      <td>3.54</td>\n",
       "      <td>0.55</td>\n",
       "      <td>NaN</td>\n",
       "      <td>NaN</td>\n",
       "      <td>NaN</td>\n",
       "    </tr>\n",
       "    <tr>\n",
       "      <th>19</th>\n",
       "      <td>Brain Age: Train Your Brain in Minutes a Day</td>\n",
       "      <td>DS</td>\n",
       "      <td>2005</td>\n",
       "      <td>Misc</td>\n",
       "      <td>4.74</td>\n",
       "      <td>9.20</td>\n",
       "      <td>4.16</td>\n",
       "      <td>2.04</td>\n",
       "      <td>77.0</td>\n",
       "      <td>7.9</td>\n",
       "      <td>E</td>\n",
       "    </tr>\n",
       "  </tbody>\n",
       "</table>\n",
       "</div>"
      ],
      "text/plain": [
       "                                            name platform  year_of_release  \\\n",
       "0                                     Wii Sports      Wii             2006   \n",
       "1                              Super Mario Bros.      NES             1985   \n",
       "2                                 Mario Kart Wii      Wii             2008   \n",
       "3                              Wii Sports Resort      Wii             2009   \n",
       "4                       Pokemon Red/Pokemon Blue       GB             1996   \n",
       "5                                         Tetris       GB             1989   \n",
       "6                          New Super Mario Bros.       DS             2006   \n",
       "7                                       Wii Play      Wii             2006   \n",
       "8                      New Super Mario Bros. Wii      Wii             2009   \n",
       "9                                      Duck Hunt      NES             1984   \n",
       "10                                    Nintendogs       DS             2005   \n",
       "11                                 Mario Kart DS       DS             2005   \n",
       "12                   Pokemon Gold/Pokemon Silver       GB             1999   \n",
       "13                                       Wii Fit      Wii             2007   \n",
       "14                            Kinect Adventures!     X360             2010   \n",
       "15                                  Wii Fit Plus      Wii             2009   \n",
       "16                            Grand Theft Auto V      PS3             2013   \n",
       "17                 Grand Theft Auto: San Andreas      PS2             2004   \n",
       "18                             Super Mario World     SNES             1990   \n",
       "19  Brain Age: Train Your Brain in Minutes a Day       DS             2005   \n",
       "\n",
       "           genre  na_sales  eu_sales  jp_sales  other_sales  critic_score  \\\n",
       "0         Sports     41.36     28.96      3.77         8.45          76.0   \n",
       "1       Platform     29.08      3.58      6.81         0.77           NaN   \n",
       "2         Racing     15.68     12.76      3.79         3.29          82.0   \n",
       "3         Sports     15.61     10.93      3.28         2.95          80.0   \n",
       "4   Role-Playing     11.27      8.89     10.22         1.00           NaN   \n",
       "5         Puzzle     23.20      2.26      4.22         0.58           NaN   \n",
       "6       Platform     11.28      9.14      6.50         2.88          89.0   \n",
       "7           Misc     13.96      9.18      2.93         2.84          58.0   \n",
       "8       Platform     14.44      6.94      4.70         2.24          87.0   \n",
       "9        Shooter     26.93      0.63      0.28         0.47           NaN   \n",
       "10    Simulation      9.05     10.95      1.93         2.74           NaN   \n",
       "11        Racing      9.71      7.47      4.13         1.90          91.0   \n",
       "12  Role-Playing      9.00      6.18      7.20         0.71           NaN   \n",
       "13        Sports      8.92      8.03      3.60         2.15          80.0   \n",
       "14          Misc     15.00      4.89      0.24         1.69          61.0   \n",
       "15        Sports      9.01      8.49      2.53         1.77          80.0   \n",
       "16        Action      7.02      9.09      0.98         3.96          97.0   \n",
       "17        Action      9.43      0.40      0.41        10.57          95.0   \n",
       "18      Platform     12.78      3.75      3.54         0.55           NaN   \n",
       "19          Misc      4.74      9.20      4.16         2.04          77.0   \n",
       "\n",
       "   user_score rating  \n",
       "0           8      E  \n",
       "1         NaN    NaN  \n",
       "2         8.3      E  \n",
       "3           8      E  \n",
       "4         NaN    NaN  \n",
       "5         NaN    NaN  \n",
       "6         8.5      E  \n",
       "7         6.6      E  \n",
       "8         8.4      E  \n",
       "9         NaN    NaN  \n",
       "10        NaN    NaN  \n",
       "11        8.6      E  \n",
       "12        NaN    NaN  \n",
       "13        7.7      E  \n",
       "14        6.3      E  \n",
       "15        7.4      E  \n",
       "16        8.2      M  \n",
       "17          9      M  \n",
       "18        NaN    NaN  \n",
       "19        7.9      E  "
      ]
     },
     "execution_count": 13,
     "metadata": {},
     "output_type": "execute_result"
    }
   ],
   "source": [
    "data = data.dropna(subset=['year_of_release']) \n",
    "data['year_of_release'] = pd.to_datetime(data['year_of_release'], format='%Y').dt.year\n",
    "data.head(20)"
   ]
  },
  {
   "cell_type": "code",
   "execution_count": 14,
   "metadata": {},
   "outputs": [
    {
     "name": "stdout",
     "output_type": "stream",
     "text": [
      "<class 'pandas.core.frame.DataFrame'>\n",
      "Int64Index: 16446 entries, 0 to 16714\n",
      "Data columns (total 11 columns):\n",
      " #   Column           Non-Null Count  Dtype  \n",
      "---  ------           --------------  -----  \n",
      " 0   name             16444 non-null  object \n",
      " 1   platform         16446 non-null  object \n",
      " 2   year_of_release  16446 non-null  int64  \n",
      " 3   genre            16444 non-null  object \n",
      " 4   na_sales         16446 non-null  float64\n",
      " 5   eu_sales         16446 non-null  float64\n",
      " 6   jp_sales         16446 non-null  float64\n",
      " 7   other_sales      16446 non-null  float64\n",
      " 8   critic_score     7983 non-null   float64\n",
      " 9   user_score       9839 non-null   object \n",
      " 10  rating           9768 non-null   object \n",
      "dtypes: float64(5), int64(1), object(5)\n",
      "memory usage: 1.5+ MB\n"
     ]
    }
   ],
   "source": [
    "data.info()"
   ]
  },
  {
   "cell_type": "markdown",
   "metadata": {},
   "source": [
    "Проверим нужны ли нам все года, так как в основном дальнейший анализ мы будем вести с учетом года"
   ]
  },
  {
   "cell_type": "code",
   "execution_count": 15,
   "metadata": {},
   "outputs": [
    {
     "name": "stdout",
     "output_type": "stream",
     "text": [
      "year_of_release\n",
      "1980       9\n",
      "1981      46\n",
      "1982      36\n",
      "1983      17\n",
      "1984      14\n",
      "1985      14\n",
      "1986      21\n",
      "1987      16\n",
      "1988      15\n",
      "1989      17\n",
      "1990      16\n",
      "1991      41\n",
      "1992      43\n",
      "1993      60\n",
      "1994     121\n",
      "1995     219\n",
      "1996     263\n",
      "1997     289\n",
      "1998     379\n",
      "1999     338\n",
      "2000     350\n",
      "2001     482\n",
      "2002     829\n",
      "2003     775\n",
      "2004     762\n",
      "2005     939\n",
      "2006    1006\n",
      "2007    1197\n",
      "2008    1427\n",
      "2009    1426\n",
      "2010    1255\n",
      "2011    1136\n",
      "2012     653\n",
      "2013     544\n",
      "2014     581\n",
      "2015     606\n",
      "2016     502\n",
      "Name: name, dtype: int64\n"
     ]
    },
    {
     "data": {
      "image/png": "[encoded data removed]",
      "text/plain": [
       "<Figure size 1440x720 with 1 Axes>"
      ]
     },
     "metadata": {
      "needs_background": "light"
     },
     "output_type": "display_data"
    }
   ],
   "source": [
    "print(data.groupby('year_of_release')['name'].count())\n",
    "data.groupby('year_of_release')['name'].count().plot(x = 'year_of_release', kind = 'bar', figsize=(20,10), fontsize=15)\\\n",
    ".set_title('years 1980-2016' + \"\\n\", fontsize = 22, color = 'SteelBlue');"
   ]
  },
  {
   "cell_type": "markdown",
   "metadata": {},
   "source": [
    "Видно что, до 1993 года выборка очень маленькая, оставим все что моложе 1992."
   ]
  },
  {
   "cell_type": "code",
   "execution_count": 16,
   "metadata": {},
   "outputs": [
    {
     "data": {
      "image/png": "[encoded data removed]",
      "text/plain": [
       "<Figure size 1440x720 with 1 Axes>"
      ]
     },
     "metadata": {
      "needs_background": "light"
     },
     "output_type": "display_data"
    }
   ],
   "source": [
    "data = data.query('year_of_release >= 1993')\n",
    "data.groupby('year_of_release')['name'].count().plot(x = 'year_of_release', kind = 'bar', figsize=(20,10), fontsize=15)\\\n",
    ".set_title('years 1993-2016' + \"\\n\", fontsize = 22, color = 'SteelBlue');"
   ]
  },
  {
   "cell_type": "markdown",
   "metadata": {},
   "source": [
    "С годом разобрались давайте перейдем к `user_score`"
   ]
  },
  {
   "cell_type": "code",
   "execution_count": 17,
   "metadata": {},
   "outputs": [
    {
     "data": {
      "text/plain": [
       "array(['8', '8.3', nan, '8.5', '6.6', '8.4', '8.6', '7.7', '6.3', '7.4',\n",
       "       '8.2', '9', '7.9', '8.1', '8.7', '7.1', '3.4', '5.3', '4.8', '3.2',\n",
       "       '8.9', '6.4', '7.8', '7.5', '2.6', '7.2', '9.2', '7', '7.3', '4.3',\n",
       "       '7.6', '5.7', '5', '9.1', '6.5', 'tbd', '8.8', '6.9', '9.4', '6.8',\n",
       "       '6.1', '6.7', '5.4', '4', '4.9', '4.5', '9.3', '6.2', '4.2', '6',\n",
       "       '3.7', '4.1', '5.8', '5.6', '5.5', '4.4', '4.6', '5.9', '3.9',\n",
       "       '3.1', '2.9', '5.2', '3.3', '4.7', '5.1', '3.5', '2.5', '1.9', '3',\n",
       "       '2.7', '2.2', '2', '9.5', '2.1', '3.6', '2.8', '1.8', '3.8', '0',\n",
       "       '1.6', '9.6', '2.4', '1.7', '1.1', '0.3', '1.5', '0.7', '1.2',\n",
       "       '2.3', '0.5', '1.3', '0.2', '0.6', '1.4', '0.9', '1', '9.7'],\n",
       "      dtype=object)"
      ]
     },
     "execution_count": 17,
     "metadata": {},
     "output_type": "execute_result"
    }
   ],
   "source": [
    "data['user_score'].unique()"
   ]
  },
  {
   "cell_type": "markdown",
   "metadata": {},
   "source": [
    "Посмотерли все уникальыне значения в столбце оценки игроков. Смущает только **tbd** *(to be determined - рейтинг пока не определен)*. Давайте построим график и посмотрим каких данных много и что с ними можно сделать."
   ]
  },
  {
   "cell_type": "code",
   "execution_count": 18,
   "metadata": {
    "scrolled": true
   },
   "outputs": [
    {
     "data": {
      "image/png": "[encoded data removed]",
      "text/plain": [
       "<Figure size 1440x360 with 1 Axes>"
      ]
     },
     "metadata": {
      "needs_background": "light"
     },
     "output_type": "display_data"
    }
   ],
   "source": [
    "data.groupby('name')['user_score'].count().hist(bins=10, figsize = (20,5));"
   ]
  },
  {
   "cell_type": "code",
   "execution_count": 19,
   "metadata": {},
   "outputs": [
    {
     "data": {
      "text/html": [
       "<div>\n",
       "<style scoped>\n",
       "    .dataframe tbody tr th:only-of-type {\n",
       "        vertical-align: middle;\n",
       "    }\n",
       "\n",
       "    .dataframe tbody tr th {\n",
       "        vertical-align: top;\n",
       "    }\n",
       "\n",
       "    .dataframe thead th {\n",
       "        text-align: right;\n",
       "    }\n",
       "</style>\n",
       "<table border=\"1\" class=\"dataframe\">\n",
       "  <thead>\n",
       "    <tr style=\"text-align: right;\">\n",
       "      <th></th>\n",
       "      <th>user_score</th>\n",
       "    </tr>\n",
       "  </thead>\n",
       "  <tbody>\n",
       "    <tr>\n",
       "      <th>tbd</th>\n",
       "      <td>2376</td>\n",
       "    </tr>\n",
       "    <tr>\n",
       "      <th>7.8</th>\n",
       "      <td>322</td>\n",
       "    </tr>\n",
       "    <tr>\n",
       "      <th>8</th>\n",
       "      <td>285</td>\n",
       "    </tr>\n",
       "    <tr>\n",
       "      <th>8.2</th>\n",
       "      <td>275</td>\n",
       "    </tr>\n",
       "    <tr>\n",
       "      <th>8.3</th>\n",
       "      <td>252</td>\n",
       "    </tr>\n",
       "    <tr>\n",
       "      <th>7.5</th>\n",
       "      <td>249</td>\n",
       "    </tr>\n",
       "    <tr>\n",
       "      <th>8.5</th>\n",
       "      <td>247</td>\n",
       "    </tr>\n",
       "    <tr>\n",
       "      <th>7.9</th>\n",
       "      <td>246</td>\n",
       "    </tr>\n",
       "    <tr>\n",
       "      <th>8.1</th>\n",
       "      <td>237</td>\n",
       "    </tr>\n",
       "    <tr>\n",
       "      <th>7.7</th>\n",
       "      <td>236</td>\n",
       "    </tr>\n",
       "    <tr>\n",
       "      <th>7.3</th>\n",
       "      <td>232</td>\n",
       "    </tr>\n",
       "    <tr>\n",
       "      <th>8.4</th>\n",
       "      <td>221</td>\n",
       "    </tr>\n",
       "    <tr>\n",
       "      <th>7</th>\n",
       "      <td>216</td>\n",
       "    </tr>\n",
       "    <tr>\n",
       "      <th>7.4</th>\n",
       "      <td>213</td>\n",
       "    </tr>\n",
       "    <tr>\n",
       "      <th>7.6</th>\n",
       "      <td>213</td>\n",
       "    </tr>\n",
       "    <tr>\n",
       "      <th>8.6</th>\n",
       "      <td>209</td>\n",
       "    </tr>\n",
       "    <tr>\n",
       "      <th>6.8</th>\n",
       "      <td>191</td>\n",
       "    </tr>\n",
       "    <tr>\n",
       "      <th>8.7</th>\n",
       "      <td>186</td>\n",
       "    </tr>\n",
       "    <tr>\n",
       "      <th>7.1</th>\n",
       "      <td>180</td>\n",
       "    </tr>\n",
       "    <tr>\n",
       "      <th>8.8</th>\n",
       "      <td>179</td>\n",
       "    </tr>\n",
       "  </tbody>\n",
       "</table>\n",
       "</div>"
      ],
      "text/plain": [
       "     user_score\n",
       "tbd        2376\n",
       "7.8         322\n",
       "8           285\n",
       "8.2         275\n",
       "8.3         252\n",
       "7.5         249\n",
       "8.5         247\n",
       "7.9         246\n",
       "8.1         237\n",
       "7.7         236\n",
       "7.3         232\n",
       "8.4         221\n",
       "7           216\n",
       "7.4         213\n",
       "7.6         213\n",
       "8.6         209\n",
       "6.8         191\n",
       "8.7         186\n",
       "7.1         180\n",
       "8.8         179"
      ]
     },
     "execution_count": 19,
     "metadata": {},
     "output_type": "execute_result"
    }
   ],
   "source": [
    "data['user_score'].value_counts().sort_values(ascending=False).to_frame().head(20)"
   ]
  },
  {
   "cell_type": "code",
   "execution_count": 20,
   "metadata": {
    "scrolled": false
   },
   "outputs": [
    {
     "data": {
      "text/html": [
       "<div>\n",
       "<style scoped>\n",
       "    .dataframe tbody tr th:only-of-type {\n",
       "        vertical-align: middle;\n",
       "    }\n",
       "\n",
       "    .dataframe tbody tr th {\n",
       "        vertical-align: top;\n",
       "    }\n",
       "\n",
       "    .dataframe thead th {\n",
       "        text-align: right;\n",
       "    }\n",
       "</style>\n",
       "<table border=\"1\" class=\"dataframe\">\n",
       "  <thead>\n",
       "    <tr style=\"text-align: right;\">\n",
       "      <th></th>\n",
       "      <th>user_score</th>\n",
       "    </tr>\n",
       "  </thead>\n",
       "  <tbody>\n",
       "    <tr>\n",
       "      <th>0</th>\n",
       "      <td>1</td>\n",
       "    </tr>\n",
       "    <tr>\n",
       "      <th>9.7</th>\n",
       "      <td>1</td>\n",
       "    </tr>\n",
       "    <tr>\n",
       "      <th>0.5</th>\n",
       "      <td>2</td>\n",
       "    </tr>\n",
       "    <tr>\n",
       "      <th>1.1</th>\n",
       "      <td>2</td>\n",
       "    </tr>\n",
       "    <tr>\n",
       "      <th>0.6</th>\n",
       "      <td>2</td>\n",
       "    </tr>\n",
       "    <tr>\n",
       "      <th>0.2</th>\n",
       "      <td>2</td>\n",
       "    </tr>\n",
       "    <tr>\n",
       "      <th>1.5</th>\n",
       "      <td>2</td>\n",
       "    </tr>\n",
       "    <tr>\n",
       "      <th>1.9</th>\n",
       "      <td>2</td>\n",
       "    </tr>\n",
       "    <tr>\n",
       "      <th>0.7</th>\n",
       "      <td>2</td>\n",
       "    </tr>\n",
       "    <tr>\n",
       "      <th>1.3</th>\n",
       "      <td>2</td>\n",
       "    </tr>\n",
       "    <tr>\n",
       "      <th>1</th>\n",
       "      <td>2</td>\n",
       "    </tr>\n",
       "    <tr>\n",
       "      <th>9.6</th>\n",
       "      <td>2</td>\n",
       "    </tr>\n",
       "    <tr>\n",
       "      <th>0.9</th>\n",
       "      <td>2</td>\n",
       "    </tr>\n",
       "    <tr>\n",
       "      <th>0.3</th>\n",
       "      <td>2</td>\n",
       "    </tr>\n",
       "    <tr>\n",
       "      <th>2.3</th>\n",
       "      <td>2</td>\n",
       "    </tr>\n",
       "    <tr>\n",
       "      <th>1.2</th>\n",
       "      <td>3</td>\n",
       "    </tr>\n",
       "    <tr>\n",
       "      <th>1.6</th>\n",
       "      <td>3</td>\n",
       "    </tr>\n",
       "    <tr>\n",
       "      <th>2.6</th>\n",
       "      <td>4</td>\n",
       "    </tr>\n",
       "    <tr>\n",
       "      <th>1.8</th>\n",
       "      <td>5</td>\n",
       "    </tr>\n",
       "    <tr>\n",
       "      <th>2.2</th>\n",
       "      <td>5</td>\n",
       "    </tr>\n",
       "  </tbody>\n",
       "</table>\n",
       "</div>"
      ],
      "text/plain": [
       "     user_score\n",
       "0             1\n",
       "9.7           1\n",
       "0.5           2\n",
       "1.1           2\n",
       "0.6           2\n",
       "0.2           2\n",
       "1.5           2\n",
       "1.9           2\n",
       "0.7           2\n",
       "1.3           2\n",
       "1             2\n",
       "9.6           2\n",
       "0.9           2\n",
       "0.3           2\n",
       "2.3           2\n",
       "1.2           3\n",
       "1.6           3\n",
       "2.6           4\n",
       "1.8           5\n",
       "2.2           5"
      ]
     },
     "execution_count": 20,
     "metadata": {},
     "output_type": "execute_result"
    }
   ],
   "source": [
    "data['user_score'].value_counts().sort_values().to_frame().head(20)"
   ]
  },
  {
   "cell_type": "markdown",
   "metadata": {},
   "source": [
    "Видно большое колличество неопределенного рейтинга."
   ]
  },
  {
   "cell_type": "code",
   "execution_count": 21,
   "metadata": {},
   "outputs": [],
   "source": [
    "data.loc[data['user_score'] == 'tbd', 'user_score']=np.nan"
   ]
  },
  {
   "cell_type": "markdown",
   "metadata": {},
   "source": [
    "Заменяем их на **NaN**"
   ]
  },
  {
   "cell_type": "code",
   "execution_count": 22,
   "metadata": {},
   "outputs": [
    {
     "data": {
      "image/png": "[encoded data removed]",
      "text/plain": [
       "<Figure size 2160x720 with 1 Axes>"
      ]
     },
     "metadata": {
      "needs_background": "light"
     },
     "output_type": "display_data"
    }
   ],
   "source": [
    "data.groupby('user_score')['name'].count().plot(x = 'user_score', kind = 'bar', figsize=(30,10), fontsize=15)\\\n",
    ".set_title('user_score' + \"\\n\", fontsize = 22, color = 'SteelBlue');"
   ]
  },
  {
   "cell_type": "code",
   "execution_count": 23,
   "metadata": {},
   "outputs": [
    {
     "data": {
      "text/html": [
       "<div>\n",
       "<style scoped>\n",
       "    .dataframe tbody tr th:only-of-type {\n",
       "        vertical-align: middle;\n",
       "    }\n",
       "\n",
       "    .dataframe tbody tr th {\n",
       "        vertical-align: top;\n",
       "    }\n",
       "\n",
       "    .dataframe thead th {\n",
       "        text-align: right;\n",
       "    }\n",
       "</style>\n",
       "<table border=\"1\" class=\"dataframe\">\n",
       "  <thead>\n",
       "    <tr style=\"text-align: right;\">\n",
       "      <th></th>\n",
       "      <th>user_score</th>\n",
       "    </tr>\n",
       "  </thead>\n",
       "  <tbody>\n",
       "    <tr>\n",
       "      <th>7.8</th>\n",
       "      <td>322</td>\n",
       "    </tr>\n",
       "    <tr>\n",
       "      <th>8.0</th>\n",
       "      <td>285</td>\n",
       "    </tr>\n",
       "    <tr>\n",
       "      <th>8.2</th>\n",
       "      <td>275</td>\n",
       "    </tr>\n",
       "    <tr>\n",
       "      <th>8.3</th>\n",
       "      <td>252</td>\n",
       "    </tr>\n",
       "    <tr>\n",
       "      <th>7.5</th>\n",
       "      <td>249</td>\n",
       "    </tr>\n",
       "    <tr>\n",
       "      <th>8.5</th>\n",
       "      <td>247</td>\n",
       "    </tr>\n",
       "    <tr>\n",
       "      <th>7.9</th>\n",
       "      <td>246</td>\n",
       "    </tr>\n",
       "    <tr>\n",
       "      <th>8.1</th>\n",
       "      <td>237</td>\n",
       "    </tr>\n",
       "    <tr>\n",
       "      <th>7.7</th>\n",
       "      <td>236</td>\n",
       "    </tr>\n",
       "    <tr>\n",
       "      <th>7.3</th>\n",
       "      <td>232</td>\n",
       "    </tr>\n",
       "    <tr>\n",
       "      <th>8.4</th>\n",
       "      <td>221</td>\n",
       "    </tr>\n",
       "    <tr>\n",
       "      <th>7.0</th>\n",
       "      <td>216</td>\n",
       "    </tr>\n",
       "    <tr>\n",
       "      <th>7.6</th>\n",
       "      <td>213</td>\n",
       "    </tr>\n",
       "    <tr>\n",
       "      <th>7.4</th>\n",
       "      <td>213</td>\n",
       "    </tr>\n",
       "    <tr>\n",
       "      <th>8.6</th>\n",
       "      <td>209</td>\n",
       "    </tr>\n",
       "    <tr>\n",
       "      <th>6.8</th>\n",
       "      <td>191</td>\n",
       "    </tr>\n",
       "    <tr>\n",
       "      <th>8.7</th>\n",
       "      <td>186</td>\n",
       "    </tr>\n",
       "    <tr>\n",
       "      <th>7.1</th>\n",
       "      <td>180</td>\n",
       "    </tr>\n",
       "    <tr>\n",
       "      <th>8.8</th>\n",
       "      <td>179</td>\n",
       "    </tr>\n",
       "    <tr>\n",
       "      <th>7.2</th>\n",
       "      <td>166</td>\n",
       "    </tr>\n",
       "  </tbody>\n",
       "</table>\n",
       "</div>"
      ],
      "text/plain": [
       "     user_score\n",
       "7.8         322\n",
       "8.0         285\n",
       "8.2         275\n",
       "8.3         252\n",
       "7.5         249\n",
       "8.5         247\n",
       "7.9         246\n",
       "8.1         237\n",
       "7.7         236\n",
       "7.3         232\n",
       "8.4         221\n",
       "7.0         216\n",
       "7.6         213\n",
       "7.4         213\n",
       "8.6         209\n",
       "6.8         191\n",
       "8.7         186\n",
       "7.1         180\n",
       "8.8         179\n",
       "7.2         166"
      ]
     },
     "execution_count": 23,
     "metadata": {},
     "output_type": "execute_result"
    }
   ],
   "source": [
    "data['user_score'] = data['user_score'].astype('float')\n",
    "data['user_score'].value_counts().sort_values(ascending=False).to_frame().head(20)"
   ]
  },
  {
   "cell_type": "code",
   "execution_count": 24,
   "metadata": {
    "scrolled": true
   },
   "outputs": [
    {
     "data": {
      "text/plain": [
       "8681"
      ]
     },
     "execution_count": 24,
     "metadata": {},
     "output_type": "execute_result"
    }
   ],
   "source": [
    "data['user_score'].isna().sum()"
   ]
  },
  {
   "cell_type": "code",
   "execution_count": 25,
   "metadata": {},
   "outputs": [
    {
     "data": {
      "text/plain": [
       "count    7460.000000\n",
       "mean        7.127024\n",
       "std         1.498533\n",
       "min         0.000000\n",
       "25%         6.400000\n",
       "50%         7.500000\n",
       "75%         8.200000\n",
       "max         9.700000\n",
       "Name: user_score, dtype: float64"
      ]
     },
     "execution_count": 25,
     "metadata": {},
     "output_type": "execute_result"
    }
   ],
   "source": [
    "data['user_score'].describe()"
   ]
  },
  {
   "cell_type": "markdown",
   "metadata": {},
   "source": [
    "Видно, что большенство оценок с 6.5 до 8. Подставлять медианные значения в пропуски не будем, так как пропуков очень много."
   ]
  },
  {
   "cell_type": "code",
   "execution_count": 26,
   "metadata": {},
   "outputs": [
    {
     "data": {
      "text/plain": [
       "0"
      ]
     },
     "execution_count": 26,
     "metadata": {},
     "output_type": "execute_result"
    }
   ],
   "source": [
    "data.duplicated().sum()"
   ]
  },
  {
   "cell_type": "markdown",
   "metadata": {},
   "source": [
    "Дубликаты отсутствуют"
   ]
  },
  {
   "cell_type": "code",
   "execution_count": 27,
   "metadata": {},
   "outputs": [
    {
     "data": {
      "text/plain": [
       "platform           0.000000\n",
       "year_of_release    0.000000\n",
       "na_sales           0.000000\n",
       "eu_sales           0.000000\n",
       "jp_sales           0.000000\n",
       "other_sales        0.000000\n",
       "name               0.000124\n",
       "genre              0.000124\n",
       "rating             0.395081\n",
       "critic_score       0.505607\n",
       "user_score         0.537823\n",
       "dtype: float64"
      ]
     },
     "execution_count": 27,
     "metadata": {},
     "output_type": "execute_result"
    }
   ],
   "source": [
    "data.isnull().mean().sort_values()"
   ]
  },
  {
   "cell_type": "markdown",
   "metadata": {},
   "source": [
    "проверим пропуски. Давайте удалим строик `genre` `name`. Процент пропусков минимален"
   ]
  },
  {
   "cell_type": "code",
   "execution_count": 28,
   "metadata": {},
   "outputs": [
    {
     "data": {
      "text/plain": [
       "name               0.000000\n",
       "platform           0.000000\n",
       "year_of_release    0.000000\n",
       "genre              0.000000\n",
       "na_sales           0.000000\n",
       "eu_sales           0.000000\n",
       "jp_sales           0.000000\n",
       "other_sales        0.000000\n",
       "rating             0.395006\n",
       "critic_score       0.505546\n",
       "user_score         0.537766\n",
       "dtype: float64"
      ]
     },
     "execution_count": 28,
     "metadata": {},
     "output_type": "execute_result"
    }
   ],
   "source": [
    "data = data.dropna(subset=['name','genre']).reset_index(drop=True)\n",
    "data.isnull().mean().sort_values()"
   ]
  },
  {
   "cell_type": "markdown",
   "metadata": {},
   "source": [
    "Посмотрим, что там с оценками критиков."
   ]
  },
  {
   "cell_type": "code",
   "execution_count": 29,
   "metadata": {},
   "outputs": [
    {
     "data": {
      "text/plain": [
       "array([76., 82., 80., nan, 89., 58., 87., 91., 61., 97., 95., 77., 88.,\n",
       "       83., 94., 93., 85., 86., 98., 96., 90., 84., 73., 74., 78., 92.,\n",
       "       71., 72., 68., 62., 49., 67., 81., 66., 56., 79., 70., 59., 64.,\n",
       "       75., 60., 63., 69., 50., 25., 42., 44., 55., 48., 57., 29., 47.,\n",
       "       65., 54., 20., 53., 37., 38., 33., 52., 30., 32., 43., 45., 51.,\n",
       "       40., 46., 39., 34., 41., 36., 31., 27., 35., 26., 19., 28., 23.,\n",
       "       24., 21., 17., 13.])"
      ]
     },
     "execution_count": 29,
     "metadata": {},
     "output_type": "execute_result"
    }
   ],
   "source": [
    "data['critic_score'].unique()"
   ]
  },
  {
   "cell_type": "code",
   "execution_count": 30,
   "metadata": {},
   "outputs": [
    {
     "data": {
      "text/plain": [
       "count    7980.000000\n",
       "mean       68.994236\n",
       "std        13.920962\n",
       "min        13.000000\n",
       "25%        60.000000\n",
       "50%        71.000000\n",
       "75%        79.000000\n",
       "max        98.000000\n",
       "Name: critic_score, dtype: float64"
      ]
     },
     "execution_count": 30,
     "metadata": {},
     "output_type": "execute_result"
    }
   ],
   "source": [
    "data['critic_score'].describe()"
   ]
  },
  {
   "cell_type": "markdown",
   "metadata": {},
   "source": [
    "Ошибок никаких нет. Есть пропуски, но заполнять их чем-то также не имеет смысла, так как пропусков почти половина от наших данных."
   ]
  },
  {
   "cell_type": "code",
   "execution_count": 31,
   "metadata": {},
   "outputs": [
    {
     "data": {
      "text/plain": [
       "array(['E', nan, 'M', 'T', 'E10+', 'K-A', 'AO', 'EC', 'RP'], dtype=object)"
      ]
     },
     "execution_count": 31,
     "metadata": {},
     "output_type": "execute_result"
    }
   ],
   "source": [
    "data['rating'].unique()"
   ]
  },
  {
   "cell_type": "markdown",
   "metadata": {},
   "source": [
    "- «EC» («Early childhood») — «Для детей младшего возраста»:\n",
    "- «E» («Everyone») — «Для всех»\n",
    "- «E10+» («Everyone 10 and older») — «Для всех от 10 лет и старше» (Первоначально \"K-A\" (\"Kids to Adults\"))\n",
    "- «T» («Teen») — «Подросткам»\n",
    "- «M» («Mature») — «Для взрослых»\n",
    "- «AO» («Adults Only 18+») — «Только для взрослых»\n",
    "- «RP» («Rating Pending») — «Рейтинг ожидается»\n",
    "\n",
    "Немного изучив тематику возрастных ограничений мы можем понять. Что рейтинг **E10+** можно объеденить с **K-A**\n",
    "а все пропуски объявить, как **RP**"
   ]
  },
  {
   "cell_type": "code",
   "execution_count": 32,
   "metadata": {},
   "outputs": [
    {
     "data": {
      "image/png": "[encoded data removed]",
      "text/plain": [
       "<Figure size 1080x360 with 1 Axes>"
      ]
     },
     "metadata": {
      "needs_background": "light"
     },
     "output_type": "display_data"
    }
   ],
   "source": [
    "data.groupby('rating')['name'].count().plot(x = 'rating', kind = 'bar', figsize=(15,5), fontsize=15)\\\n",
    ".set_title('rating' + \"\\n\", fontsize = 22, color = 'SteelBlue');"
   ]
  },
  {
   "cell_type": "code",
   "execution_count": 33,
   "metadata": {},
   "outputs": [],
   "source": [
    "data['rating'] = data['rating'].replace(['K-A'], ['E10+'])"
   ]
  },
  {
   "cell_type": "code",
   "execution_count": 34,
   "metadata": {},
   "outputs": [],
   "source": [
    "data['rating'] = data['rating'].fillna(\"RP\")"
   ]
  },
  {
   "cell_type": "code",
   "execution_count": 35,
   "metadata": {
    "scrolled": false
   },
   "outputs": [
    {
     "data": {
      "image/png": "[encoded data removed]",
      "text/plain": [
       "<Figure size 1080x360 with 1 Axes>"
      ]
     },
     "metadata": {
      "needs_background": "light"
     },
     "output_type": "display_data"
    }
   ],
   "source": [
    "data.groupby('rating')['name'].count().plot(x = 'rating', kind = 'bar', figsize=(15,5), fontsize=15)\\\n",
    ".set_title('rating' + \"\\n\", fontsize = 22, color = 'SteelBlue');"
   ]
  },
  {
   "cell_type": "markdown",
   "metadata": {},
   "source": [
    "Теперь наши данные красивые и мы не потеряли ни одной строки"
   ]
  },
  {
   "cell_type": "code",
   "execution_count": 36,
   "metadata": {},
   "outputs": [
    {
     "data": {
      "text/plain": [
       "name               0.000000\n",
       "platform           0.000000\n",
       "year_of_release    0.000000\n",
       "genre              0.000000\n",
       "na_sales           0.000000\n",
       "eu_sales           0.000000\n",
       "jp_sales           0.000000\n",
       "other_sales        0.000000\n",
       "rating             0.000000\n",
       "critic_score       0.505546\n",
       "user_score         0.537766\n",
       "dtype: float64"
      ]
     },
     "execution_count": 36,
     "metadata": {},
     "output_type": "execute_result"
    }
   ],
   "source": [
    "data = data.dropna(subset=['name','genre']) \n",
    "data.isnull().mean().sort_values()"
   ]
  },
  {
   "cell_type": "markdown",
   "metadata": {},
   "source": [
    "давайте добавим столбец с суммой продаж, он нам поможет в дальнейшем для подсчета данных с платформами."
   ]
  },
  {
   "cell_type": "code",
   "execution_count": 37,
   "metadata": {},
   "outputs": [
    {
     "data": {
      "text/html": [
       "<div>\n",
       "<style scoped>\n",
       "    .dataframe tbody tr th:only-of-type {\n",
       "        vertical-align: middle;\n",
       "    }\n",
       "\n",
       "    .dataframe tbody tr th {\n",
       "        vertical-align: top;\n",
       "    }\n",
       "\n",
       "    .dataframe thead th {\n",
       "        text-align: right;\n",
       "    }\n",
       "</style>\n",
       "<table border=\"1\" class=\"dataframe\">\n",
       "  <thead>\n",
       "    <tr style=\"text-align: right;\">\n",
       "      <th></th>\n",
       "      <th>name</th>\n",
       "      <th>platform</th>\n",
       "      <th>year_of_release</th>\n",
       "      <th>genre</th>\n",
       "      <th>na_sales</th>\n",
       "      <th>eu_sales</th>\n",
       "      <th>jp_sales</th>\n",
       "      <th>other_sales</th>\n",
       "      <th>critic_score</th>\n",
       "      <th>user_score</th>\n",
       "      <th>rating</th>\n",
       "      <th>total_sales</th>\n",
       "    </tr>\n",
       "  </thead>\n",
       "  <tbody>\n",
       "    <tr>\n",
       "      <th>0</th>\n",
       "      <td>Wii Sports</td>\n",
       "      <td>Wii</td>\n",
       "      <td>2006</td>\n",
       "      <td>Sports</td>\n",
       "      <td>41.36</td>\n",
       "      <td>28.96</td>\n",
       "      <td>3.77</td>\n",
       "      <td>8.45</td>\n",
       "      <td>76.0</td>\n",
       "      <td>8.0</td>\n",
       "      <td>E</td>\n",
       "      <td>82.54</td>\n",
       "    </tr>\n",
       "    <tr>\n",
       "      <th>1</th>\n",
       "      <td>Mario Kart Wii</td>\n",
       "      <td>Wii</td>\n",
       "      <td>2008</td>\n",
       "      <td>Racing</td>\n",
       "      <td>15.68</td>\n",
       "      <td>12.76</td>\n",
       "      <td>3.79</td>\n",
       "      <td>3.29</td>\n",
       "      <td>82.0</td>\n",
       "      <td>8.3</td>\n",
       "      <td>E</td>\n",
       "      <td>35.52</td>\n",
       "    </tr>\n",
       "    <tr>\n",
       "      <th>2</th>\n",
       "      <td>Wii Sports Resort</td>\n",
       "      <td>Wii</td>\n",
       "      <td>2009</td>\n",
       "      <td>Sports</td>\n",
       "      <td>15.61</td>\n",
       "      <td>10.93</td>\n",
       "      <td>3.28</td>\n",
       "      <td>2.95</td>\n",
       "      <td>80.0</td>\n",
       "      <td>8.0</td>\n",
       "      <td>E</td>\n",
       "      <td>32.77</td>\n",
       "    </tr>\n",
       "    <tr>\n",
       "      <th>3</th>\n",
       "      <td>Pokemon Red/Pokemon Blue</td>\n",
       "      <td>GB</td>\n",
       "      <td>1996</td>\n",
       "      <td>Role-Playing</td>\n",
       "      <td>11.27</td>\n",
       "      <td>8.89</td>\n",
       "      <td>10.22</td>\n",
       "      <td>1.00</td>\n",
       "      <td>NaN</td>\n",
       "      <td>NaN</td>\n",
       "      <td>RP</td>\n",
       "      <td>31.38</td>\n",
       "    </tr>\n",
       "    <tr>\n",
       "      <th>4</th>\n",
       "      <td>New Super Mario Bros.</td>\n",
       "      <td>DS</td>\n",
       "      <td>2006</td>\n",
       "      <td>Platform</td>\n",
       "      <td>11.28</td>\n",
       "      <td>9.14</td>\n",
       "      <td>6.50</td>\n",
       "      <td>2.88</td>\n",
       "      <td>89.0</td>\n",
       "      <td>8.5</td>\n",
       "      <td>E</td>\n",
       "      <td>29.80</td>\n",
       "    </tr>\n",
       "  </tbody>\n",
       "</table>\n",
       "</div>"
      ],
      "text/plain": [
       "                       name platform  year_of_release         genre  na_sales  \\\n",
       "0                Wii Sports      Wii             2006        Sports     41.36   \n",
       "1            Mario Kart Wii      Wii             2008        Racing     15.68   \n",
       "2         Wii Sports Resort      Wii             2009        Sports     15.61   \n",
       "3  Pokemon Red/Pokemon Blue       GB             1996  Role-Playing     11.27   \n",
       "4     New Super Mario Bros.       DS             2006      Platform     11.28   \n",
       "\n",
       "   eu_sales  jp_sales  other_sales  critic_score  user_score rating  \\\n",
       "0     28.96      3.77         8.45          76.0         8.0      E   \n",
       "1     12.76      3.79         3.29          82.0         8.3      E   \n",
       "2     10.93      3.28         2.95          80.0         8.0      E   \n",
       "3      8.89     10.22         1.00           NaN         NaN     RP   \n",
       "4      9.14      6.50         2.88          89.0         8.5      E   \n",
       "\n",
       "   total_sales  \n",
       "0        82.54  \n",
       "1        35.52  \n",
       "2        32.77  \n",
       "3        31.38  \n",
       "4        29.80  "
      ]
     },
     "execution_count": 37,
     "metadata": {},
     "output_type": "execute_result"
    }
   ],
   "source": [
    "data['total_sales'] = data['na_sales'] + data['eu_sales'] + data['jp_sales'] + data['other_sales']\n",
    "data.head()"
   ]
  },
  {
   "cell_type": "markdown",
   "metadata": {},
   "source": [
    "Проверим наши платформы. Так как наша цель сделать пргноз, а не ретроспективу. Давайте дальше будем работать только со строками, где фигурируют актуальные приставки. На данном этапе просто удалим строки, с приставками, которые представленны наименьшим колличеством игр"
   ]
  },
  {
   "cell_type": "code",
   "execution_count": 38,
   "metadata": {},
   "outputs": [
    {
     "data": {
      "text/plain": [
       "array(['Wii', 'GB', 'DS', 'X360', 'PS3', 'PS2', 'GBA', 'PS4', '3DS',\n",
       "       'N64', 'PS', 'SNES', 'XB', 'PC', 'PSP', 'XOne', 'WiiU', 'GC', 'DC',\n",
       "       'PSV', 'SAT', 'GEN', 'NES', 'SCD', 'WS', 'NG', 'TG16', '3DO',\n",
       "       'PCFX'], dtype=object)"
      ]
     },
     "execution_count": 38,
     "metadata": {},
     "output_type": "execute_result"
    }
   ],
   "source": [
    "data['platform'].unique()"
   ]
  },
  {
   "cell_type": "code",
   "execution_count": 39,
   "metadata": {},
   "outputs": [
    {
     "data": {
      "image/png": "[encoded data removed]",
      "text/plain": [
       "<Figure size 1080x360 with 1 Axes>"
      ]
     },
     "metadata": {
      "needs_background": "light"
     },
     "output_type": "display_data"
    }
   ],
   "source": [
    "data['platform'].hist(bins=10, figsize=(15,5));"
   ]
  },
  {
   "cell_type": "code",
   "execution_count": 40,
   "metadata": {},
   "outputs": [
    {
     "data": {
      "text/plain": [
       "PS2     2127\n",
       "DS      2120\n",
       "PS3     1306\n",
       "Wii     1286\n",
       "X360    1232\n",
       "PSP     1193\n",
       "PS      1190\n",
       "PC       950\n",
       "GBA      811\n",
       "XB       803\n",
       "GC       542\n",
       "3DS      512\n",
       "PSV      429\n",
       "PS4      392\n",
       "N64      316\n",
       "XOne     247\n",
       "SNES     190\n",
       "SAT      173\n",
       "WiiU     147\n",
       "GB        67\n",
       "DC        52\n",
       "GEN       19\n",
       "NG        12\n",
       "SCD        6\n",
       "WS         6\n",
       "NES        5\n",
       "3DO        3\n",
       "TG16       2\n",
       "PCFX       1\n",
       "Name: platform, dtype: int64"
      ]
     },
     "execution_count": 40,
     "metadata": {},
     "output_type": "execute_result"
    }
   ],
   "source": [
    "data['platform'].value_counts()"
   ]
  },
  {
   "cell_type": "markdown",
   "metadata": {},
   "source": [
    "Удалим все до `WiiU`"
   ]
  },
  {
   "cell_type": "code",
   "execution_count": 41,
   "metadata": {
    "scrolled": false
   },
   "outputs": [
    {
     "data": {
      "text/plain": [
       "PS2     2127\n",
       "DS      2120\n",
       "PS3     1306\n",
       "Wii     1286\n",
       "X360    1232\n",
       "PSP     1193\n",
       "PS      1190\n",
       "PC       950\n",
       "GBA      811\n",
       "XB       803\n",
       "GC       542\n",
       "3DS      512\n",
       "PSV      429\n",
       "PS4      392\n",
       "N64      316\n",
       "XOne     247\n",
       "SNES     190\n",
       "SAT      173\n",
       "WiiU     147\n",
       "GB        67\n",
       "DC        52\n",
       "GEN       19\n",
       "NG        12\n",
       "SCD        6\n",
       "WS         6\n",
       "NES        5\n",
       "3DO        3\n",
       "TG16       2\n",
       "PCFX       1\n",
       "Name: platform, dtype: int64"
      ]
     },
     "execution_count": 41,
     "metadata": {},
     "output_type": "execute_result"
    }
   ],
   "source": [
    "data['platform'].value_counts()"
   ]
  },
  {
   "cell_type": "code",
   "execution_count": 42,
   "metadata": {},
   "outputs": [
    {
     "data": {
      "text/html": [
       "<div>\n",
       "<style scoped>\n",
       "    .dataframe tbody tr th:only-of-type {\n",
       "        vertical-align: middle;\n",
       "    }\n",
       "\n",
       "    .dataframe tbody tr th {\n",
       "        vertical-align: top;\n",
       "    }\n",
       "\n",
       "    .dataframe thead th {\n",
       "        text-align: right;\n",
       "    }\n",
       "</style>\n",
       "<table border=\"1\" class=\"dataframe\">\n",
       "  <thead>\n",
       "    <tr style=\"text-align: right;\">\n",
       "      <th></th>\n",
       "      <th>year_of_release</th>\n",
       "      <th>na_sales</th>\n",
       "      <th>eu_sales</th>\n",
       "      <th>jp_sales</th>\n",
       "      <th>other_sales</th>\n",
       "      <th>critic_score</th>\n",
       "      <th>user_score</th>\n",
       "      <th>total_sales</th>\n",
       "    </tr>\n",
       "  </thead>\n",
       "  <tbody>\n",
       "    <tr>\n",
       "      <th>count</th>\n",
       "      <td>16139.000000</td>\n",
       "      <td>16139.000000</td>\n",
       "      <td>16139.000000</td>\n",
       "      <td>16139.000000</td>\n",
       "      <td>16139.000000</td>\n",
       "      <td>7980.000000</td>\n",
       "      <td>7460.000000</td>\n",
       "      <td>16139.000000</td>\n",
       "    </tr>\n",
       "    <tr>\n",
       "      <th>mean</th>\n",
       "      <td>2006.867030</td>\n",
       "      <td>0.249932</td>\n",
       "      <td>0.145312</td>\n",
       "      <td>0.069991</td>\n",
       "      <td>0.047816</td>\n",
       "      <td>68.994236</td>\n",
       "      <td>7.127024</td>\n",
       "      <td>0.513051</td>\n",
       "    </tr>\n",
       "    <tr>\n",
       "      <th>std</th>\n",
       "      <td>5.198898</td>\n",
       "      <td>0.715796</td>\n",
       "      <td>0.507525</td>\n",
       "      <td>0.283935</td>\n",
       "      <td>0.189045</td>\n",
       "      <td>13.920962</td>\n",
       "      <td>1.498533</td>\n",
       "      <td>1.470401</td>\n",
       "    </tr>\n",
       "    <tr>\n",
       "      <th>min</th>\n",
       "      <td>1993.000000</td>\n",
       "      <td>0.000000</td>\n",
       "      <td>0.000000</td>\n",
       "      <td>0.000000</td>\n",
       "      <td>0.000000</td>\n",
       "      <td>13.000000</td>\n",
       "      <td>0.000000</td>\n",
       "      <td>0.000000</td>\n",
       "    </tr>\n",
       "    <tr>\n",
       "      <th>25%</th>\n",
       "      <td>2003.000000</td>\n",
       "      <td>0.000000</td>\n",
       "      <td>0.000000</td>\n",
       "      <td>0.000000</td>\n",
       "      <td>0.000000</td>\n",
       "      <td>60.000000</td>\n",
       "      <td>6.400000</td>\n",
       "      <td>0.060000</td>\n",
       "    </tr>\n",
       "    <tr>\n",
       "      <th>50%</th>\n",
       "      <td>2008.000000</td>\n",
       "      <td>0.080000</td>\n",
       "      <td>0.020000</td>\n",
       "      <td>0.000000</td>\n",
       "      <td>0.010000</td>\n",
       "      <td>71.000000</td>\n",
       "      <td>7.500000</td>\n",
       "      <td>0.160000</td>\n",
       "    </tr>\n",
       "    <tr>\n",
       "      <th>75%</th>\n",
       "      <td>2010.000000</td>\n",
       "      <td>0.230000</td>\n",
       "      <td>0.110000</td>\n",
       "      <td>0.030000</td>\n",
       "      <td>0.030000</td>\n",
       "      <td>79.000000</td>\n",
       "      <td>8.200000</td>\n",
       "      <td>0.450000</td>\n",
       "    </tr>\n",
       "    <tr>\n",
       "      <th>max</th>\n",
       "      <td>2016.000000</td>\n",
       "      <td>41.360000</td>\n",
       "      <td>28.960000</td>\n",
       "      <td>10.220000</td>\n",
       "      <td>10.570000</td>\n",
       "      <td>98.000000</td>\n",
       "      <td>9.700000</td>\n",
       "      <td>82.540000</td>\n",
       "    </tr>\n",
       "  </tbody>\n",
       "</table>\n",
       "</div>"
      ],
      "text/plain": [
       "       year_of_release      na_sales      eu_sales      jp_sales  \\\n",
       "count     16139.000000  16139.000000  16139.000000  16139.000000   \n",
       "mean       2006.867030      0.249932      0.145312      0.069991   \n",
       "std           5.198898      0.715796      0.507525      0.283935   \n",
       "min        1993.000000      0.000000      0.000000      0.000000   \n",
       "25%        2003.000000      0.000000      0.000000      0.000000   \n",
       "50%        2008.000000      0.080000      0.020000      0.000000   \n",
       "75%        2010.000000      0.230000      0.110000      0.030000   \n",
       "max        2016.000000     41.360000     28.960000     10.220000   \n",
       "\n",
       "        other_sales  critic_score   user_score   total_sales  \n",
       "count  16139.000000   7980.000000  7460.000000  16139.000000  \n",
       "mean       0.047816     68.994236     7.127024      0.513051  \n",
       "std        0.189045     13.920962     1.498533      1.470401  \n",
       "min        0.000000     13.000000     0.000000      0.000000  \n",
       "25%        0.000000     60.000000     6.400000      0.060000  \n",
       "50%        0.010000     71.000000     7.500000      0.160000  \n",
       "75%        0.030000     79.000000     8.200000      0.450000  \n",
       "max       10.570000     98.000000     9.700000     82.540000  "
      ]
     },
     "execution_count": 42,
     "metadata": {},
     "output_type": "execute_result"
    }
   ],
   "source": [
    "data.describe()"
   ]
  },
  {
   "cell_type": "code",
   "execution_count": 43,
   "metadata": {},
   "outputs": [
    {
     "data": {
      "text/html": [
       "<div>\n",
       "<style scoped>\n",
       "    .dataframe tbody tr th:only-of-type {\n",
       "        vertical-align: middle;\n",
       "    }\n",
       "\n",
       "    .dataframe tbody tr th {\n",
       "        vertical-align: top;\n",
       "    }\n",
       "\n",
       "    .dataframe thead th {\n",
       "        text-align: right;\n",
       "    }\n",
       "</style>\n",
       "<table border=\"1\" class=\"dataframe\">\n",
       "  <thead>\n",
       "    <tr style=\"text-align: right;\">\n",
       "      <th></th>\n",
       "      <th>name</th>\n",
       "      <th>platform</th>\n",
       "      <th>year_of_release</th>\n",
       "      <th>genre</th>\n",
       "      <th>na_sales</th>\n",
       "      <th>eu_sales</th>\n",
       "      <th>jp_sales</th>\n",
       "      <th>other_sales</th>\n",
       "      <th>critic_score</th>\n",
       "      <th>user_score</th>\n",
       "      <th>rating</th>\n",
       "      <th>total_sales</th>\n",
       "    </tr>\n",
       "  </thead>\n",
       "  <tbody>\n",
       "    <tr>\n",
       "      <th>0</th>\n",
       "      <td>Wii Sports</td>\n",
       "      <td>Wii</td>\n",
       "      <td>2006</td>\n",
       "      <td>Sports</td>\n",
       "      <td>41.36</td>\n",
       "      <td>28.96</td>\n",
       "      <td>3.77</td>\n",
       "      <td>8.45</td>\n",
       "      <td>76.0</td>\n",
       "      <td>8.0</td>\n",
       "      <td>E</td>\n",
       "      <td>82.54</td>\n",
       "    </tr>\n",
       "    <tr>\n",
       "      <th>1</th>\n",
       "      <td>Mario Kart Wii</td>\n",
       "      <td>Wii</td>\n",
       "      <td>2008</td>\n",
       "      <td>Racing</td>\n",
       "      <td>15.68</td>\n",
       "      <td>12.76</td>\n",
       "      <td>3.79</td>\n",
       "      <td>3.29</td>\n",
       "      <td>82.0</td>\n",
       "      <td>8.3</td>\n",
       "      <td>E</td>\n",
       "      <td>35.52</td>\n",
       "    </tr>\n",
       "    <tr>\n",
       "      <th>2</th>\n",
       "      <td>Wii Sports Resort</td>\n",
       "      <td>Wii</td>\n",
       "      <td>2009</td>\n",
       "      <td>Sports</td>\n",
       "      <td>15.61</td>\n",
       "      <td>10.93</td>\n",
       "      <td>3.28</td>\n",
       "      <td>2.95</td>\n",
       "      <td>80.0</td>\n",
       "      <td>8.0</td>\n",
       "      <td>E</td>\n",
       "      <td>32.77</td>\n",
       "    </tr>\n",
       "    <tr>\n",
       "      <th>3</th>\n",
       "      <td>Pokemon Red/Pokemon Blue</td>\n",
       "      <td>GB</td>\n",
       "      <td>1996</td>\n",
       "      <td>Role-Playing</td>\n",
       "      <td>11.27</td>\n",
       "      <td>8.89</td>\n",
       "      <td>10.22</td>\n",
       "      <td>1.00</td>\n",
       "      <td>NaN</td>\n",
       "      <td>NaN</td>\n",
       "      <td>RP</td>\n",
       "      <td>31.38</td>\n",
       "    </tr>\n",
       "    <tr>\n",
       "      <th>4</th>\n",
       "      <td>New Super Mario Bros.</td>\n",
       "      <td>DS</td>\n",
       "      <td>2006</td>\n",
       "      <td>Platform</td>\n",
       "      <td>11.28</td>\n",
       "      <td>9.14</td>\n",
       "      <td>6.50</td>\n",
       "      <td>2.88</td>\n",
       "      <td>89.0</td>\n",
       "      <td>8.5</td>\n",
       "      <td>E</td>\n",
       "      <td>29.80</td>\n",
       "    </tr>\n",
       "    <tr>\n",
       "      <th>5</th>\n",
       "      <td>Wii Play</td>\n",
       "      <td>Wii</td>\n",
       "      <td>2006</td>\n",
       "      <td>Misc</td>\n",
       "      <td>13.96</td>\n",
       "      <td>9.18</td>\n",
       "      <td>2.93</td>\n",
       "      <td>2.84</td>\n",
       "      <td>58.0</td>\n",
       "      <td>6.6</td>\n",
       "      <td>E</td>\n",
       "      <td>28.91</td>\n",
       "    </tr>\n",
       "    <tr>\n",
       "      <th>6</th>\n",
       "      <td>New Super Mario Bros. Wii</td>\n",
       "      <td>Wii</td>\n",
       "      <td>2009</td>\n",
       "      <td>Platform</td>\n",
       "      <td>14.44</td>\n",
       "      <td>6.94</td>\n",
       "      <td>4.70</td>\n",
       "      <td>2.24</td>\n",
       "      <td>87.0</td>\n",
       "      <td>8.4</td>\n",
       "      <td>E</td>\n",
       "      <td>28.32</td>\n",
       "    </tr>\n",
       "    <tr>\n",
       "      <th>7</th>\n",
       "      <td>Nintendogs</td>\n",
       "      <td>DS</td>\n",
       "      <td>2005</td>\n",
       "      <td>Simulation</td>\n",
       "      <td>9.05</td>\n",
       "      <td>10.95</td>\n",
       "      <td>1.93</td>\n",
       "      <td>2.74</td>\n",
       "      <td>NaN</td>\n",
       "      <td>NaN</td>\n",
       "      <td>RP</td>\n",
       "      <td>24.67</td>\n",
       "    </tr>\n",
       "    <tr>\n",
       "      <th>8</th>\n",
       "      <td>Mario Kart DS</td>\n",
       "      <td>DS</td>\n",
       "      <td>2005</td>\n",
       "      <td>Racing</td>\n",
       "      <td>9.71</td>\n",
       "      <td>7.47</td>\n",
       "      <td>4.13</td>\n",
       "      <td>1.90</td>\n",
       "      <td>91.0</td>\n",
       "      <td>8.6</td>\n",
       "      <td>E</td>\n",
       "      <td>23.21</td>\n",
       "    </tr>\n",
       "    <tr>\n",
       "      <th>9</th>\n",
       "      <td>Pokemon Gold/Pokemon Silver</td>\n",
       "      <td>GB</td>\n",
       "      <td>1999</td>\n",
       "      <td>Role-Playing</td>\n",
       "      <td>9.00</td>\n",
       "      <td>6.18</td>\n",
       "      <td>7.20</td>\n",
       "      <td>0.71</td>\n",
       "      <td>NaN</td>\n",
       "      <td>NaN</td>\n",
       "      <td>RP</td>\n",
       "      <td>23.09</td>\n",
       "    </tr>\n",
       "    <tr>\n",
       "      <th>10</th>\n",
       "      <td>Wii Fit</td>\n",
       "      <td>Wii</td>\n",
       "      <td>2007</td>\n",
       "      <td>Sports</td>\n",
       "      <td>8.92</td>\n",
       "      <td>8.03</td>\n",
       "      <td>3.60</td>\n",
       "      <td>2.15</td>\n",
       "      <td>80.0</td>\n",
       "      <td>7.7</td>\n",
       "      <td>E</td>\n",
       "      <td>22.70</td>\n",
       "    </tr>\n",
       "    <tr>\n",
       "      <th>11</th>\n",
       "      <td>Kinect Adventures!</td>\n",
       "      <td>X360</td>\n",
       "      <td>2010</td>\n",
       "      <td>Misc</td>\n",
       "      <td>15.00</td>\n",
       "      <td>4.89</td>\n",
       "      <td>0.24</td>\n",
       "      <td>1.69</td>\n",
       "      <td>61.0</td>\n",
       "      <td>6.3</td>\n",
       "      <td>E</td>\n",
       "      <td>21.82</td>\n",
       "    </tr>\n",
       "    <tr>\n",
       "      <th>12</th>\n",
       "      <td>Wii Fit Plus</td>\n",
       "      <td>Wii</td>\n",
       "      <td>2009</td>\n",
       "      <td>Sports</td>\n",
       "      <td>9.01</td>\n",
       "      <td>8.49</td>\n",
       "      <td>2.53</td>\n",
       "      <td>1.77</td>\n",
       "      <td>80.0</td>\n",
       "      <td>7.4</td>\n",
       "      <td>E</td>\n",
       "      <td>21.80</td>\n",
       "    </tr>\n",
       "    <tr>\n",
       "      <th>13</th>\n",
       "      <td>Grand Theft Auto V</td>\n",
       "      <td>PS3</td>\n",
       "      <td>2013</td>\n",
       "      <td>Action</td>\n",
       "      <td>7.02</td>\n",
       "      <td>9.09</td>\n",
       "      <td>0.98</td>\n",
       "      <td>3.96</td>\n",
       "      <td>97.0</td>\n",
       "      <td>8.2</td>\n",
       "      <td>M</td>\n",
       "      <td>21.05</td>\n",
       "    </tr>\n",
       "    <tr>\n",
       "      <th>14</th>\n",
       "      <td>Grand Theft Auto: San Andreas</td>\n",
       "      <td>PS2</td>\n",
       "      <td>2004</td>\n",
       "      <td>Action</td>\n",
       "      <td>9.43</td>\n",
       "      <td>0.40</td>\n",
       "      <td>0.41</td>\n",
       "      <td>10.57</td>\n",
       "      <td>95.0</td>\n",
       "      <td>9.0</td>\n",
       "      <td>M</td>\n",
       "      <td>20.81</td>\n",
       "    </tr>\n",
       "    <tr>\n",
       "      <th>15</th>\n",
       "      <td>Brain Age: Train Your Brain in Minutes a Day</td>\n",
       "      <td>DS</td>\n",
       "      <td>2005</td>\n",
       "      <td>Misc</td>\n",
       "      <td>4.74</td>\n",
       "      <td>9.20</td>\n",
       "      <td>4.16</td>\n",
       "      <td>2.04</td>\n",
       "      <td>77.0</td>\n",
       "      <td>7.9</td>\n",
       "      <td>E</td>\n",
       "      <td>20.14</td>\n",
       "    </tr>\n",
       "    <tr>\n",
       "      <th>16</th>\n",
       "      <td>Pokemon Diamond/Pokemon Pearl</td>\n",
       "      <td>DS</td>\n",
       "      <td>2006</td>\n",
       "      <td>Role-Playing</td>\n",
       "      <td>6.38</td>\n",
       "      <td>4.46</td>\n",
       "      <td>6.04</td>\n",
       "      <td>1.36</td>\n",
       "      <td>NaN</td>\n",
       "      <td>NaN</td>\n",
       "      <td>RP</td>\n",
       "      <td>18.24</td>\n",
       "    </tr>\n",
       "    <tr>\n",
       "      <th>17</th>\n",
       "      <td>Grand Theft Auto V</td>\n",
       "      <td>X360</td>\n",
       "      <td>2013</td>\n",
       "      <td>Action</td>\n",
       "      <td>9.66</td>\n",
       "      <td>5.14</td>\n",
       "      <td>0.06</td>\n",
       "      <td>1.41</td>\n",
       "      <td>97.0</td>\n",
       "      <td>8.1</td>\n",
       "      <td>M</td>\n",
       "      <td>16.27</td>\n",
       "    </tr>\n",
       "    <tr>\n",
       "      <th>18</th>\n",
       "      <td>Grand Theft Auto: Vice City</td>\n",
       "      <td>PS2</td>\n",
       "      <td>2002</td>\n",
       "      <td>Action</td>\n",
       "      <td>8.41</td>\n",
       "      <td>5.49</td>\n",
       "      <td>0.47</td>\n",
       "      <td>1.78</td>\n",
       "      <td>95.0</td>\n",
       "      <td>8.7</td>\n",
       "      <td>M</td>\n",
       "      <td>16.15</td>\n",
       "    </tr>\n",
       "    <tr>\n",
       "      <th>19</th>\n",
       "      <td>Pokemon Ruby/Pokemon Sapphire</td>\n",
       "      <td>GBA</td>\n",
       "      <td>2002</td>\n",
       "      <td>Role-Playing</td>\n",
       "      <td>6.06</td>\n",
       "      <td>3.90</td>\n",
       "      <td>5.38</td>\n",
       "      <td>0.50</td>\n",
       "      <td>NaN</td>\n",
       "      <td>NaN</td>\n",
       "      <td>RP</td>\n",
       "      <td>15.84</td>\n",
       "    </tr>\n",
       "  </tbody>\n",
       "</table>\n",
       "</div>"
      ],
      "text/plain": [
       "                                            name platform  year_of_release  \\\n",
       "0                                     Wii Sports      Wii             2006   \n",
       "1                                 Mario Kart Wii      Wii             2008   \n",
       "2                              Wii Sports Resort      Wii             2009   \n",
       "3                       Pokemon Red/Pokemon Blue       GB             1996   \n",
       "4                          New Super Mario Bros.       DS             2006   \n",
       "5                                       Wii Play      Wii             2006   \n",
       "6                      New Super Mario Bros. Wii      Wii             2009   \n",
       "7                                     Nintendogs       DS             2005   \n",
       "8                                  Mario Kart DS       DS             2005   \n",
       "9                    Pokemon Gold/Pokemon Silver       GB             1999   \n",
       "10                                       Wii Fit      Wii             2007   \n",
       "11                            Kinect Adventures!     X360             2010   \n",
       "12                                  Wii Fit Plus      Wii             2009   \n",
       "13                            Grand Theft Auto V      PS3             2013   \n",
       "14                 Grand Theft Auto: San Andreas      PS2             2004   \n",
       "15  Brain Age: Train Your Brain in Minutes a Day       DS             2005   \n",
       "16                 Pokemon Diamond/Pokemon Pearl       DS             2006   \n",
       "17                            Grand Theft Auto V     X360             2013   \n",
       "18                   Grand Theft Auto: Vice City      PS2             2002   \n",
       "19                 Pokemon Ruby/Pokemon Sapphire      GBA             2002   \n",
       "\n",
       "           genre  na_sales  eu_sales  jp_sales  other_sales  critic_score  \\\n",
       "0         Sports     41.36     28.96      3.77         8.45          76.0   \n",
       "1         Racing     15.68     12.76      3.79         3.29          82.0   \n",
       "2         Sports     15.61     10.93      3.28         2.95          80.0   \n",
       "3   Role-Playing     11.27      8.89     10.22         1.00           NaN   \n",
       "4       Platform     11.28      9.14      6.50         2.88          89.0   \n",
       "5           Misc     13.96      9.18      2.93         2.84          58.0   \n",
       "6       Platform     14.44      6.94      4.70         2.24          87.0   \n",
       "7     Simulation      9.05     10.95      1.93         2.74           NaN   \n",
       "8         Racing      9.71      7.47      4.13         1.90          91.0   \n",
       "9   Role-Playing      9.00      6.18      7.20         0.71           NaN   \n",
       "10        Sports      8.92      8.03      3.60         2.15          80.0   \n",
       "11          Misc     15.00      4.89      0.24         1.69          61.0   \n",
       "12        Sports      9.01      8.49      2.53         1.77          80.0   \n",
       "13        Action      7.02      9.09      0.98         3.96          97.0   \n",
       "14        Action      9.43      0.40      0.41        10.57          95.0   \n",
       "15          Misc      4.74      9.20      4.16         2.04          77.0   \n",
       "16  Role-Playing      6.38      4.46      6.04         1.36           NaN   \n",
       "17        Action      9.66      5.14      0.06         1.41          97.0   \n",
       "18        Action      8.41      5.49      0.47         1.78          95.0   \n",
       "19  Role-Playing      6.06      3.90      5.38         0.50           NaN   \n",
       "\n",
       "    user_score rating  total_sales  \n",
       "0          8.0      E        82.54  \n",
       "1          8.3      E        35.52  \n",
       "2          8.0      E        32.77  \n",
       "3          NaN     RP        31.38  \n",
       "4          8.5      E        29.80  \n",
       "5          6.6      E        28.91  \n",
       "6          8.4      E        28.32  \n",
       "7          NaN     RP        24.67  \n",
       "8          8.6      E        23.21  \n",
       "9          NaN     RP        23.09  \n",
       "10         7.7      E        22.70  \n",
       "11         6.3      E        21.82  \n",
       "12         7.4      E        21.80  \n",
       "13         8.2      M        21.05  \n",
       "14         9.0      M        20.81  \n",
       "15         7.9      E        20.14  \n",
       "16         NaN     RP        18.24  \n",
       "17         8.1      M        16.27  \n",
       "18         8.7      M        16.15  \n",
       "19         NaN     RP        15.84  "
      ]
     },
     "execution_count": 43,
     "metadata": {},
     "output_type": "execute_result"
    }
   ],
   "source": [
    "data.head(20)"
   ]
  },
  {
   "cell_type": "code",
   "execution_count": 44,
   "metadata": {
    "scrolled": true
   },
   "outputs": [
    {
     "name": "stdout",
     "output_type": "stream",
     "text": [
      "<class 'pandas.core.frame.DataFrame'>\n",
      "Int64Index: 16139 entries, 0 to 16138\n",
      "Data columns (total 12 columns):\n",
      " #   Column           Non-Null Count  Dtype  \n",
      "---  ------           --------------  -----  \n",
      " 0   name             16139 non-null  object \n",
      " 1   platform         16139 non-null  object \n",
      " 2   year_of_release  16139 non-null  int64  \n",
      " 3   genre            16139 non-null  object \n",
      " 4   na_sales         16139 non-null  float64\n",
      " 5   eu_sales         16139 non-null  float64\n",
      " 6   jp_sales         16139 non-null  float64\n",
      " 7   other_sales      16139 non-null  float64\n",
      " 8   critic_score     7980 non-null   float64\n",
      " 9   user_score       7460 non-null   float64\n",
      " 10  rating           16139 non-null  object \n",
      " 11  total_sales      16139 non-null  float64\n",
      "dtypes: float64(7), int64(1), object(4)\n",
      "memory usage: 1.6+ MB\n"
     ]
    }
   ],
   "source": [
    "data.info()"
   ]
  },
  {
   "cell_type": "markdown",
   "metadata": {},
   "source": [
    "## исследовательский анализ данных"
   ]
  },
  {
   "cell_type": "markdown",
   "metadata": {},
   "source": [
    "- Посмотрите, сколько игр выпускалось в разные годы. Важны ли данные за все периоды?\n",
    "- Посмотрите, как менялись продажи по платформам. Выберите платформы с наибольшими суммарными продажами и постройте распределение по годам. За какой характерный срок появляются новые и исчезают старые платформы?\n",
    "- Возьмите данные за соответствующий актуальный период. Актуальный период определите самостоятельно в результате исследования предыдущих вопросов. Основной фактор — эти данные помогут построить прогноз на 2017 год.\n",
    "- Не учитывайте в работе данные за предыдущие годы.\n",
    "- Какие платформы лидируют по продажам, растут или падают? Выберите несколько потенциально прибыльных платформ.\n",
    "- Постройте график «ящик с усами» по глобальным продажам игр в разбивке по платформам. Опишите результат.\n",
    "- Посмотрите, как влияют на продажи внутри одной популярной платформы отзывы пользователей и критиков. Постройте диаграмму рассеяния и посчитайте корреляцию между отзывами и продажами. Сформулируйте выводы.\n",
    "- Соотнесите выводы с продажами игр на других платформах.\n",
    "- Посмотрите на общее распределение игр по жанрам. Что можно сказать о самых прибыльных жанрах? Выделяются ли жанры с высокими и низкими продажами?"
   ]
  },
  {
   "cell_type": "markdown",
   "metadata": {},
   "source": [
    "### Посмотрите, сколько игр выпускалось в разные годы. Важны ли данные за все периоды?\n",
    "Посмотрим график выпуска игр по годам и решим подходит ли нам выборка"
   ]
  },
  {
   "cell_type": "code",
   "execution_count": 45,
   "metadata": {},
   "outputs": [
    {
     "data": {
      "image/png": "[encoded data removed]",
      "text/plain": [
       "<Figure size 1368x432 with 1 Axes>"
      ]
     },
     "metadata": {
      "needs_background": "light"
     },
     "output_type": "display_data"
    }
   ],
   "source": [
    "data['year_of_release'].hist(bins=50, figsize=(19,6));"
   ]
  },
  {
   "cell_type": "markdown",
   "metadata": {},
   "source": [
    "Оставим все что моложе 2000 года. До этого давнный сегмент только начинал свое зарождение. Видим, что пик проходил где-то в 2008 - 2010 годах"
   ]
  },
  {
   "cell_type": "code",
   "execution_count": 46,
   "metadata": {},
   "outputs": [],
   "source": [
    "data_game = data.query('year_of_release >= 2012')"
   ]
  },
  {
   "cell_type": "code",
   "execution_count": 47,
   "metadata": {},
   "outputs": [
    {
     "data": {
      "image/png": "[encoded data removed]",
      "text/plain": [
       "<Figure size 720x360 with 1 Axes>"
      ]
     },
     "metadata": {
      "needs_background": "light"
     },
     "output_type": "display_data"
    }
   ],
   "source": [
    "data_game['year_of_release'].hist(bins=5, figsize=(10,5));"
   ]
  },
  {
   "cell_type": "markdown",
   "metadata": {},
   "source": [
    "Возьмем данные с 2012 года для последующиего анализа. После 2012 года, было резкое снижение. Возможно это связанно с развитием мобильного гейминга и упадка индустрии игр н аконсолях."
   ]
  },
  {
   "cell_type": "markdown",
   "metadata": {},
   "source": [
    "### Посмотрите, как менялись продажи по платформам.\n",
    "\n",
    "Посмотрите, как менялись продажи по платформам. Выберите платформы с наибольшими суммарными продажами и постройте распределение по годам. За какой характерный срок появляются новые и исчезают старые платформы?"
   ]
  },
  {
   "cell_type": "code",
   "execution_count": 48,
   "metadata": {
    "scrolled": false
   },
   "outputs": [
    {
     "name": "stdout",
     "output_type": "stream",
     "text": [
      "platform\n",
      "PS2     2127\n",
      "DS      2120\n",
      "PS3     1306\n",
      "Wii     1286\n",
      "X360    1232\n",
      "PSP     1193\n",
      "PS      1190\n",
      "PC       950\n",
      "GBA      811\n",
      "XB       803\n",
      "GC       542\n",
      "3DS      512\n",
      "PSV      429\n",
      "PS4      392\n",
      "N64      316\n",
      "XOne     247\n",
      "SNES     190\n",
      "SAT      173\n",
      "WiiU     147\n",
      "GB        67\n",
      "DC        52\n",
      "GEN       19\n",
      "NG        12\n",
      "SCD        6\n",
      "WS         6\n",
      "NES        5\n",
      "3DO        3\n",
      "TG16       2\n",
      "PCFX       1\n",
      "Name: total_sales, dtype: int64\n"
     ]
    }
   ],
   "source": [
    "print(data.groupby('platform')['total_sales'].count().sort_values(ascending = False))"
   ]
  },
  {
   "cell_type": "markdown",
   "metadata": {},
   "source": [
    "Видим список самых популярных платформ. Ниже покажу график. Потом построим распределение по годам."
   ]
  },
  {
   "cell_type": "code",
   "execution_count": 49,
   "metadata": {},
   "outputs": [
    {
     "data": {
      "image/png": "[encoded data removed]",
      "text/plain": [
       "<Figure size 720x720 with 1 Axes>"
      ]
     },
     "metadata": {
      "needs_background": "light"
     },
     "output_type": "display_data"
    }
   ],
   "source": [
    "data.groupby('platform')['total_sales'].count()\\\n",
    ".sort_values(ascending = False).plot(x = 'platform', kind = 'bar', figsize=(10,10));"
   ]
  },
  {
   "cell_type": "code",
   "execution_count": 50,
   "metadata": {},
   "outputs": [
    {
     "data": {
      "text/html": [
       "<div>\n",
       "<style scoped>\n",
       "    .dataframe tbody tr th:only-of-type {\n",
       "        vertical-align: middle;\n",
       "    }\n",
       "\n",
       "    .dataframe tbody tr th {\n",
       "        vertical-align: top;\n",
       "    }\n",
       "\n",
       "    .dataframe thead th {\n",
       "        text-align: right;\n",
       "    }\n",
       "</style>\n",
       "<table border=\"1\" class=\"dataframe\">\n",
       "  <thead>\n",
       "    <tr style=\"text-align: right;\">\n",
       "      <th>platform</th>\n",
       "      <th>3DO</th>\n",
       "      <th>3DS</th>\n",
       "      <th>DC</th>\n",
       "      <th>DS</th>\n",
       "      <th>GB</th>\n",
       "      <th>GBA</th>\n",
       "      <th>GC</th>\n",
       "      <th>GEN</th>\n",
       "      <th>N64</th>\n",
       "      <th>NES</th>\n",
       "      <th>...</th>\n",
       "      <th>SAT</th>\n",
       "      <th>SCD</th>\n",
       "      <th>SNES</th>\n",
       "      <th>TG16</th>\n",
       "      <th>WS</th>\n",
       "      <th>Wii</th>\n",
       "      <th>WiiU</th>\n",
       "      <th>X360</th>\n",
       "      <th>XB</th>\n",
       "      <th>XOne</th>\n",
       "    </tr>\n",
       "    <tr>\n",
       "      <th>year_of_release</th>\n",
       "      <th></th>\n",
       "      <th></th>\n",
       "      <th></th>\n",
       "      <th></th>\n",
       "      <th></th>\n",
       "      <th></th>\n",
       "      <th></th>\n",
       "      <th></th>\n",
       "      <th></th>\n",
       "      <th></th>\n",
       "      <th></th>\n",
       "      <th></th>\n",
       "      <th></th>\n",
       "      <th></th>\n",
       "      <th></th>\n",
       "      <th></th>\n",
       "      <th></th>\n",
       "      <th></th>\n",
       "      <th></th>\n",
       "      <th></th>\n",
       "      <th></th>\n",
       "    </tr>\n",
       "  </thead>\n",
       "  <tbody>\n",
       "    <tr>\n",
       "      <th>1993</th>\n",
       "      <td>0</td>\n",
       "      <td>0</td>\n",
       "      <td>0</td>\n",
       "      <td>0</td>\n",
       "      <td>0</td>\n",
       "      <td>0</td>\n",
       "      <td>0</td>\n",
       "      <td>7</td>\n",
       "      <td>0</td>\n",
       "      <td>4</td>\n",
       "      <td>...</td>\n",
       "      <td>0</td>\n",
       "      <td>1</td>\n",
       "      <td>46</td>\n",
       "      <td>0</td>\n",
       "      <td>0</td>\n",
       "      <td>0</td>\n",
       "      <td>0</td>\n",
       "      <td>0</td>\n",
       "      <td>0</td>\n",
       "      <td>0</td>\n",
       "    </tr>\n",
       "    <tr>\n",
       "      <th>1994</th>\n",
       "      <td>1</td>\n",
       "      <td>0</td>\n",
       "      <td>0</td>\n",
       "      <td>0</td>\n",
       "      <td>3</td>\n",
       "      <td>0</td>\n",
       "      <td>0</td>\n",
       "      <td>12</td>\n",
       "      <td>0</td>\n",
       "      <td>1</td>\n",
       "      <td>...</td>\n",
       "      <td>19</td>\n",
       "      <td>5</td>\n",
       "      <td>53</td>\n",
       "      <td>0</td>\n",
       "      <td>0</td>\n",
       "      <td>0</td>\n",
       "      <td>0</td>\n",
       "      <td>0</td>\n",
       "      <td>0</td>\n",
       "      <td>0</td>\n",
       "    </tr>\n",
       "    <tr>\n",
       "      <th>1995</th>\n",
       "      <td>2</td>\n",
       "      <td>0</td>\n",
       "      <td>0</td>\n",
       "      <td>0</td>\n",
       "      <td>4</td>\n",
       "      <td>0</td>\n",
       "      <td>0</td>\n",
       "      <td>0</td>\n",
       "      <td>0</td>\n",
       "      <td>0</td>\n",
       "      <td>...</td>\n",
       "      <td>52</td>\n",
       "      <td>0</td>\n",
       "      <td>54</td>\n",
       "      <td>2</td>\n",
       "      <td>0</td>\n",
       "      <td>0</td>\n",
       "      <td>0</td>\n",
       "      <td>0</td>\n",
       "      <td>0</td>\n",
       "      <td>0</td>\n",
       "    </tr>\n",
       "    <tr>\n",
       "      <th>1996</th>\n",
       "      <td>0</td>\n",
       "      <td>0</td>\n",
       "      <td>0</td>\n",
       "      <td>0</td>\n",
       "      <td>6</td>\n",
       "      <td>0</td>\n",
       "      <td>0</td>\n",
       "      <td>0</td>\n",
       "      <td>18</td>\n",
       "      <td>0</td>\n",
       "      <td>...</td>\n",
       "      <td>38</td>\n",
       "      <td>0</td>\n",
       "      <td>30</td>\n",
       "      <td>0</td>\n",
       "      <td>0</td>\n",
       "      <td>0</td>\n",
       "      <td>0</td>\n",
       "      <td>0</td>\n",
       "      <td>0</td>\n",
       "      <td>0</td>\n",
       "    </tr>\n",
       "    <tr>\n",
       "      <th>1997</th>\n",
       "      <td>0</td>\n",
       "      <td>0</td>\n",
       "      <td>0</td>\n",
       "      <td>0</td>\n",
       "      <td>8</td>\n",
       "      <td>0</td>\n",
       "      <td>0</td>\n",
       "      <td>0</td>\n",
       "      <td>49</td>\n",
       "      <td>0</td>\n",
       "      <td>...</td>\n",
       "      <td>34</td>\n",
       "      <td>0</td>\n",
       "      <td>4</td>\n",
       "      <td>0</td>\n",
       "      <td>0</td>\n",
       "      <td>0</td>\n",
       "      <td>0</td>\n",
       "      <td>0</td>\n",
       "      <td>0</td>\n",
       "      <td>0</td>\n",
       "    </tr>\n",
       "    <tr>\n",
       "      <th>1998</th>\n",
       "      <td>0</td>\n",
       "      <td>0</td>\n",
       "      <td>7</td>\n",
       "      <td>0</td>\n",
       "      <td>8</td>\n",
       "      <td>0</td>\n",
       "      <td>0</td>\n",
       "      <td>0</td>\n",
       "      <td>77</td>\n",
       "      <td>0</td>\n",
       "      <td>...</td>\n",
       "      <td>29</td>\n",
       "      <td>0</td>\n",
       "      <td>2</td>\n",
       "      <td>0</td>\n",
       "      <td>0</td>\n",
       "      <td>0</td>\n",
       "      <td>0</td>\n",
       "      <td>0</td>\n",
       "      <td>0</td>\n",
       "      <td>0</td>\n",
       "    </tr>\n",
       "    <tr>\n",
       "      <th>1999</th>\n",
       "      <td>0</td>\n",
       "      <td>0</td>\n",
       "      <td>14</td>\n",
       "      <td>0</td>\n",
       "      <td>11</td>\n",
       "      <td>0</td>\n",
       "      <td>0</td>\n",
       "      <td>0</td>\n",
       "      <td>102</td>\n",
       "      <td>0</td>\n",
       "      <td>...</td>\n",
       "      <td>1</td>\n",
       "      <td>0</td>\n",
       "      <td>1</td>\n",
       "      <td>0</td>\n",
       "      <td>2</td>\n",
       "      <td>0</td>\n",
       "      <td>0</td>\n",
       "      <td>0</td>\n",
       "      <td>0</td>\n",
       "      <td>0</td>\n",
       "    </tr>\n",
       "    <tr>\n",
       "      <th>2000</th>\n",
       "      <td>0</td>\n",
       "      <td>0</td>\n",
       "      <td>20</td>\n",
       "      <td>0</td>\n",
       "      <td>17</td>\n",
       "      <td>1</td>\n",
       "      <td>0</td>\n",
       "      <td>0</td>\n",
       "      <td>60</td>\n",
       "      <td>0</td>\n",
       "      <td>...</td>\n",
       "      <td>0</td>\n",
       "      <td>0</td>\n",
       "      <td>0</td>\n",
       "      <td>0</td>\n",
       "      <td>2</td>\n",
       "      <td>0</td>\n",
       "      <td>0</td>\n",
       "      <td>0</td>\n",
       "      <td>1</td>\n",
       "      <td>0</td>\n",
       "    </tr>\n",
       "    <tr>\n",
       "      <th>2001</th>\n",
       "      <td>0</td>\n",
       "      <td>0</td>\n",
       "      <td>8</td>\n",
       "      <td>0</td>\n",
       "      <td>10</td>\n",
       "      <td>107</td>\n",
       "      <td>22</td>\n",
       "      <td>0</td>\n",
       "      <td>9</td>\n",
       "      <td>0</td>\n",
       "      <td>...</td>\n",
       "      <td>0</td>\n",
       "      <td>0</td>\n",
       "      <td>0</td>\n",
       "      <td>0</td>\n",
       "      <td>2</td>\n",
       "      <td>0</td>\n",
       "      <td>0</td>\n",
       "      <td>0</td>\n",
       "      <td>33</td>\n",
       "      <td>0</td>\n",
       "    </tr>\n",
       "    <tr>\n",
       "      <th>2002</th>\n",
       "      <td>0</td>\n",
       "      <td>0</td>\n",
       "      <td>1</td>\n",
       "      <td>0</td>\n",
       "      <td>0</td>\n",
       "      <td>198</td>\n",
       "      <td>152</td>\n",
       "      <td>0</td>\n",
       "      <td>1</td>\n",
       "      <td>0</td>\n",
       "      <td>...</td>\n",
       "      <td>0</td>\n",
       "      <td>0</td>\n",
       "      <td>0</td>\n",
       "      <td>0</td>\n",
       "      <td>0</td>\n",
       "      <td>0</td>\n",
       "      <td>0</td>\n",
       "      <td>0</td>\n",
       "      <td>158</td>\n",
       "      <td>0</td>\n",
       "    </tr>\n",
       "    <tr>\n",
       "      <th>2003</th>\n",
       "      <td>0</td>\n",
       "      <td>0</td>\n",
       "      <td>0</td>\n",
       "      <td>0</td>\n",
       "      <td>0</td>\n",
       "      <td>150</td>\n",
       "      <td>144</td>\n",
       "      <td>0</td>\n",
       "      <td>0</td>\n",
       "      <td>0</td>\n",
       "      <td>...</td>\n",
       "      <td>0</td>\n",
       "      <td>0</td>\n",
       "      <td>0</td>\n",
       "      <td>0</td>\n",
       "      <td>0</td>\n",
       "      <td>0</td>\n",
       "      <td>0</td>\n",
       "      <td>0</td>\n",
       "      <td>189</td>\n",
       "      <td>0</td>\n",
       "    </tr>\n",
       "    <tr>\n",
       "      <th>2004</th>\n",
       "      <td>0</td>\n",
       "      <td>0</td>\n",
       "      <td>0</td>\n",
       "      <td>23</td>\n",
       "      <td>0</td>\n",
       "      <td>175</td>\n",
       "      <td>83</td>\n",
       "      <td>0</td>\n",
       "      <td>0</td>\n",
       "      <td>0</td>\n",
       "      <td>...</td>\n",
       "      <td>0</td>\n",
       "      <td>0</td>\n",
       "      <td>0</td>\n",
       "      <td>0</td>\n",
       "      <td>0</td>\n",
       "      <td>0</td>\n",
       "      <td>0</td>\n",
       "      <td>0</td>\n",
       "      <td>177</td>\n",
       "      <td>0</td>\n",
       "    </tr>\n",
       "    <tr>\n",
       "      <th>2005</th>\n",
       "      <td>0</td>\n",
       "      <td>0</td>\n",
       "      <td>0</td>\n",
       "      <td>118</td>\n",
       "      <td>0</td>\n",
       "      <td>135</td>\n",
       "      <td>97</td>\n",
       "      <td>0</td>\n",
       "      <td>0</td>\n",
       "      <td>0</td>\n",
       "      <td>...</td>\n",
       "      <td>0</td>\n",
       "      <td>0</td>\n",
       "      <td>0</td>\n",
       "      <td>0</td>\n",
       "      <td>0</td>\n",
       "      <td>0</td>\n",
       "      <td>0</td>\n",
       "      <td>18</td>\n",
       "      <td>179</td>\n",
       "      <td>0</td>\n",
       "    </tr>\n",
       "    <tr>\n",
       "      <th>2006</th>\n",
       "      <td>0</td>\n",
       "      <td>0</td>\n",
       "      <td>0</td>\n",
       "      <td>201</td>\n",
       "      <td>0</td>\n",
       "      <td>39</td>\n",
       "      <td>40</td>\n",
       "      <td>0</td>\n",
       "      <td>0</td>\n",
       "      <td>0</td>\n",
       "      <td>...</td>\n",
       "      <td>0</td>\n",
       "      <td>0</td>\n",
       "      <td>0</td>\n",
       "      <td>0</td>\n",
       "      <td>0</td>\n",
       "      <td>44</td>\n",
       "      <td>0</td>\n",
       "      <td>93</td>\n",
       "      <td>62</td>\n",
       "      <td>0</td>\n",
       "    </tr>\n",
       "    <tr>\n",
       "      <th>2007</th>\n",
       "      <td>0</td>\n",
       "      <td>0</td>\n",
       "      <td>1</td>\n",
       "      <td>376</td>\n",
       "      <td>0</td>\n",
       "      <td>6</td>\n",
       "      <td>4</td>\n",
       "      <td>0</td>\n",
       "      <td>0</td>\n",
       "      <td>0</td>\n",
       "      <td>...</td>\n",
       "      <td>0</td>\n",
       "      <td>0</td>\n",
       "      <td>0</td>\n",
       "      <td>0</td>\n",
       "      <td>0</td>\n",
       "      <td>185</td>\n",
       "      <td>0</td>\n",
       "      <td>123</td>\n",
       "      <td>3</td>\n",
       "      <td>0</td>\n",
       "    </tr>\n",
       "    <tr>\n",
       "      <th>2008</th>\n",
       "      <td>0</td>\n",
       "      <td>0</td>\n",
       "      <td>1</td>\n",
       "      <td>492</td>\n",
       "      <td>0</td>\n",
       "      <td>0</td>\n",
       "      <td>0</td>\n",
       "      <td>0</td>\n",
       "      <td>0</td>\n",
       "      <td>0</td>\n",
       "      <td>...</td>\n",
       "      <td>0</td>\n",
       "      <td>0</td>\n",
       "      <td>0</td>\n",
       "      <td>0</td>\n",
       "      <td>0</td>\n",
       "      <td>282</td>\n",
       "      <td>0</td>\n",
       "      <td>146</td>\n",
       "      <td>1</td>\n",
       "      <td>0</td>\n",
       "    </tr>\n",
       "    <tr>\n",
       "      <th>2009</th>\n",
       "      <td>0</td>\n",
       "      <td>0</td>\n",
       "      <td>0</td>\n",
       "      <td>403</td>\n",
       "      <td>0</td>\n",
       "      <td>0</td>\n",
       "      <td>0</td>\n",
       "      <td>0</td>\n",
       "      <td>0</td>\n",
       "      <td>0</td>\n",
       "      <td>...</td>\n",
       "      <td>0</td>\n",
       "      <td>0</td>\n",
       "      <td>0</td>\n",
       "      <td>0</td>\n",
       "      <td>0</td>\n",
       "      <td>325</td>\n",
       "      <td>0</td>\n",
       "      <td>172</td>\n",
       "      <td>0</td>\n",
       "      <td>0</td>\n",
       "    </tr>\n",
       "    <tr>\n",
       "      <th>2010</th>\n",
       "      <td>0</td>\n",
       "      <td>0</td>\n",
       "      <td>0</td>\n",
       "      <td>323</td>\n",
       "      <td>0</td>\n",
       "      <td>0</td>\n",
       "      <td>0</td>\n",
       "      <td>0</td>\n",
       "      <td>0</td>\n",
       "      <td>0</td>\n",
       "      <td>...</td>\n",
       "      <td>0</td>\n",
       "      <td>0</td>\n",
       "      <td>0</td>\n",
       "      <td>0</td>\n",
       "      <td>0</td>\n",
       "      <td>253</td>\n",
       "      <td>0</td>\n",
       "      <td>182</td>\n",
       "      <td>0</td>\n",
       "      <td>0</td>\n",
       "    </tr>\n",
       "    <tr>\n",
       "      <th>2011</th>\n",
       "      <td>0</td>\n",
       "      <td>116</td>\n",
       "      <td>0</td>\n",
       "      <td>153</td>\n",
       "      <td>0</td>\n",
       "      <td>0</td>\n",
       "      <td>0</td>\n",
       "      <td>0</td>\n",
       "      <td>0</td>\n",
       "      <td>0</td>\n",
       "      <td>...</td>\n",
       "      <td>0</td>\n",
       "      <td>0</td>\n",
       "      <td>0</td>\n",
       "      <td>0</td>\n",
       "      <td>0</td>\n",
       "      <td>143</td>\n",
       "      <td>0</td>\n",
       "      <td>206</td>\n",
       "      <td>0</td>\n",
       "      <td>0</td>\n",
       "    </tr>\n",
       "    <tr>\n",
       "      <th>2012</th>\n",
       "      <td>0</td>\n",
       "      <td>93</td>\n",
       "      <td>0</td>\n",
       "      <td>23</td>\n",
       "      <td>0</td>\n",
       "      <td>0</td>\n",
       "      <td>0</td>\n",
       "      <td>0</td>\n",
       "      <td>0</td>\n",
       "      <td>0</td>\n",
       "      <td>...</td>\n",
       "      <td>0</td>\n",
       "      <td>0</td>\n",
       "      <td>0</td>\n",
       "      <td>0</td>\n",
       "      <td>0</td>\n",
       "      <td>31</td>\n",
       "      <td>32</td>\n",
       "      <td>106</td>\n",
       "      <td>0</td>\n",
       "      <td>0</td>\n",
       "    </tr>\n",
       "    <tr>\n",
       "      <th>2013</th>\n",
       "      <td>0</td>\n",
       "      <td>91</td>\n",
       "      <td>0</td>\n",
       "      <td>8</td>\n",
       "      <td>0</td>\n",
       "      <td>0</td>\n",
       "      <td>0</td>\n",
       "      <td>0</td>\n",
       "      <td>0</td>\n",
       "      <td>0</td>\n",
       "      <td>...</td>\n",
       "      <td>0</td>\n",
       "      <td>0</td>\n",
       "      <td>0</td>\n",
       "      <td>0</td>\n",
       "      <td>0</td>\n",
       "      <td>12</td>\n",
       "      <td>42</td>\n",
       "      <td>75</td>\n",
       "      <td>0</td>\n",
       "      <td>19</td>\n",
       "    </tr>\n",
       "    <tr>\n",
       "      <th>2014</th>\n",
       "      <td>0</td>\n",
       "      <td>80</td>\n",
       "      <td>0</td>\n",
       "      <td>0</td>\n",
       "      <td>0</td>\n",
       "      <td>0</td>\n",
       "      <td>0</td>\n",
       "      <td>0</td>\n",
       "      <td>0</td>\n",
       "      <td>0</td>\n",
       "      <td>...</td>\n",
       "      <td>0</td>\n",
       "      <td>0</td>\n",
       "      <td>0</td>\n",
       "      <td>0</td>\n",
       "      <td>0</td>\n",
       "      <td>6</td>\n",
       "      <td>31</td>\n",
       "      <td>63</td>\n",
       "      <td>0</td>\n",
       "      <td>61</td>\n",
       "    </tr>\n",
       "    <tr>\n",
       "      <th>2015</th>\n",
       "      <td>0</td>\n",
       "      <td>86</td>\n",
       "      <td>0</td>\n",
       "      <td>0</td>\n",
       "      <td>0</td>\n",
       "      <td>0</td>\n",
       "      <td>0</td>\n",
       "      <td>0</td>\n",
       "      <td>0</td>\n",
       "      <td>0</td>\n",
       "      <td>...</td>\n",
       "      <td>0</td>\n",
       "      <td>0</td>\n",
       "      <td>0</td>\n",
       "      <td>0</td>\n",
       "      <td>0</td>\n",
       "      <td>4</td>\n",
       "      <td>28</td>\n",
       "      <td>35</td>\n",
       "      <td>0</td>\n",
       "      <td>80</td>\n",
       "    </tr>\n",
       "    <tr>\n",
       "      <th>2016</th>\n",
       "      <td>0</td>\n",
       "      <td>46</td>\n",
       "      <td>0</td>\n",
       "      <td>0</td>\n",
       "      <td>0</td>\n",
       "      <td>0</td>\n",
       "      <td>0</td>\n",
       "      <td>0</td>\n",
       "      <td>0</td>\n",
       "      <td>0</td>\n",
       "      <td>...</td>\n",
       "      <td>0</td>\n",
       "      <td>0</td>\n",
       "      <td>0</td>\n",
       "      <td>0</td>\n",
       "      <td>0</td>\n",
       "      <td>1</td>\n",
       "      <td>14</td>\n",
       "      <td>13</td>\n",
       "      <td>0</td>\n",
       "      <td>87</td>\n",
       "    </tr>\n",
       "  </tbody>\n",
       "</table>\n",
       "<p>24 rows × 29 columns</p>\n",
       "</div>"
      ],
      "text/plain": [
       "platform         3DO  3DS  DC   DS  GB  GBA   GC  GEN  N64  NES  ...  SAT  \\\n",
       "year_of_release                                                  ...        \n",
       "1993               0    0   0    0   0    0    0    7    0    4  ...    0   \n",
       "1994               1    0   0    0   3    0    0   12    0    1  ...   19   \n",
       "1995               2    0   0    0   4    0    0    0    0    0  ...   52   \n",
       "1996               0    0   0    0   6    0    0    0   18    0  ...   38   \n",
       "1997               0    0   0    0   8    0    0    0   49    0  ...   34   \n",
       "1998               0    0   7    0   8    0    0    0   77    0  ...   29   \n",
       "1999               0    0  14    0  11    0    0    0  102    0  ...    1   \n",
       "2000               0    0  20    0  17    1    0    0   60    0  ...    0   \n",
       "2001               0    0   8    0  10  107   22    0    9    0  ...    0   \n",
       "2002               0    0   1    0   0  198  152    0    1    0  ...    0   \n",
       "2003               0    0   0    0   0  150  144    0    0    0  ...    0   \n",
       "2004               0    0   0   23   0  175   83    0    0    0  ...    0   \n",
       "2005               0    0   0  118   0  135   97    0    0    0  ...    0   \n",
       "2006               0    0   0  201   0   39   40    0    0    0  ...    0   \n",
       "2007               0    0   1  376   0    6    4    0    0    0  ...    0   \n",
       "2008               0    0   1  492   0    0    0    0    0    0  ...    0   \n",
       "2009               0    0   0  403   0    0    0    0    0    0  ...    0   \n",
       "2010               0    0   0  323   0    0    0    0    0    0  ...    0   \n",
       "2011               0  116   0  153   0    0    0    0    0    0  ...    0   \n",
       "2012               0   93   0   23   0    0    0    0    0    0  ...    0   \n",
       "2013               0   91   0    8   0    0    0    0    0    0  ...    0   \n",
       "2014               0   80   0    0   0    0    0    0    0    0  ...    0   \n",
       "2015               0   86   0    0   0    0    0    0    0    0  ...    0   \n",
       "2016               0   46   0    0   0    0    0    0    0    0  ...    0   \n",
       "\n",
       "platform         SCD  SNES  TG16  WS  Wii  WiiU  X360   XB  XOne  \n",
       "year_of_release                                                   \n",
       "1993               1    46     0   0    0     0     0    0     0  \n",
       "1994               5    53     0   0    0     0     0    0     0  \n",
       "1995               0    54     2   0    0     0     0    0     0  \n",
       "1996               0    30     0   0    0     0     0    0     0  \n",
       "1997               0     4     0   0    0     0     0    0     0  \n",
       "1998               0     2     0   0    0     0     0    0     0  \n",
       "1999               0     1     0   2    0     0     0    0     0  \n",
       "2000               0     0     0   2    0     0     0    1     0  \n",
       "2001               0     0     0   2    0     0     0   33     0  \n",
       "2002               0     0     0   0    0     0     0  158     0  \n",
       "2003               0     0     0   0    0     0     0  189     0  \n",
       "2004               0     0     0   0    0     0     0  177     0  \n",
       "2005               0     0     0   0    0     0    18  179     0  \n",
       "2006               0     0     0   0   44     0    93   62     0  \n",
       "2007               0     0     0   0  185     0   123    3     0  \n",
       "2008               0     0     0   0  282     0   146    1     0  \n",
       "2009               0     0     0   0  325     0   172    0     0  \n",
       "2010               0     0     0   0  253     0   182    0     0  \n",
       "2011               0     0     0   0  143     0   206    0     0  \n",
       "2012               0     0     0   0   31    32   106    0     0  \n",
       "2013               0     0     0   0   12    42    75    0    19  \n",
       "2014               0     0     0   0    6    31    63    0    61  \n",
       "2015               0     0     0   0    4    28    35    0    80  \n",
       "2016               0     0     0   0    1    14    13    0    87  \n",
       "\n",
       "[24 rows x 29 columns]"
      ]
     },
     "execution_count": 50,
     "metadata": {},
     "output_type": "execute_result"
    }
   ],
   "source": [
    "platform_age = pd.pivot_table(data, index='year_of_release', values='total_sales', columns='platform', aggfunc=len, fill_value=0)\n",
    "platform_age"
   ]
  },
  {
   "cell_type": "markdown",
   "metadata": {},
   "source": [
    "Сводная таблица показала нам продажи по годам. Но давайте все таки приведм их в более понятный вид для заказчика"
   ]
  },
  {
   "cell_type": "code",
   "execution_count": 51,
   "metadata": {},
   "outputs": [
    {
     "name": "stdout",
     "output_type": "stream",
     "text": [
      "platform\n",
      "3DO      1\n",
      "3DS      5\n",
      "DC      10\n",
      "DS       9\n",
      "GB       7\n",
      "GBA      7\n",
      "GC       6\n",
      "GEN      1\n",
      "N64      6\n",
      "NES      1\n",
      "NG       3\n",
      "PC      22\n",
      "PCFX     0\n",
      "PS       9\n",
      "PS2     11\n",
      "PS3     10\n",
      "PS4      3\n",
      "PSP     11\n",
      "PSV      5\n",
      "SAT      5\n",
      "SCD      1\n",
      "SNES     6\n",
      "TG16     0\n",
      "WS       2\n",
      "Wii     10\n",
      "WiiU     4\n",
      "X360    11\n",
      "XB       8\n",
      "XOne     3\n",
      "Name: year_of_release, dtype: int64\n"
     ]
    }
   ],
   "source": [
    "platform_age_group = data.groupby('platform')['year_of_release'].max() - data.groupby('platform')['year_of_release'].min() \n",
    "print(platform_age_group)"
   ]
  },
  {
   "cell_type": "code",
   "execution_count": 52,
   "metadata": {},
   "outputs": [
    {
     "data": {
      "text/plain": [
       "6.0"
      ]
     },
     "execution_count": 52,
     "metadata": {},
     "output_type": "execute_result"
    }
   ],
   "source": [
    "platform_age_group.mean().round()"
   ]
  },
  {
   "cell_type": "code",
   "execution_count": 53,
   "metadata": {},
   "outputs": [
    {
     "data": {
      "text/plain": [
       "6.0"
      ]
     },
     "execution_count": 53,
     "metadata": {},
     "output_type": "execute_result"
    }
   ],
   "source": [
    "platform_age_group.median().round()"
   ]
  },
  {
   "cell_type": "markdown",
   "metadata": {},
   "source": [
    "В среднем жизнь консоли 6 лет, медианное значение тоже 6 лет."
   ]
  },
  {
   "cell_type": "markdown",
   "metadata": {},
   "source": [
    "### Какие платформы лидируют по продажам, растут или падают? Выберите несколько потенциально прибыльных платформ."
   ]
  },
  {
   "cell_type": "code",
   "execution_count": 54,
   "metadata": {},
   "outputs": [],
   "source": [
    "data_platform = data_game.query('platform != \"GB\" and platform != \"DC\" and platform != \"GEN\" and platform != \"NG\" and platform != \"WS\"\\\n",
    "and platform != \"SCD\" and platform != \"NES\" and platform != \"3DO\" and platform != \"TG16\" and platform != \"PCFX\" and platform != \"SAT\"\\\n",
    "and platform != \"SNES\" and platform != \"N64\" and platform != \"PSV\" and platform != \"3DS\" and platform != \"GC\" and platform != \"XB\"\\\n",
    "and platform != \"GBA\" and platform != \"PS\" and platform != \"PSP\" and platform != \"X360\" and platform != \"Wii\" and platform != \"PS3\"\\\n",
    "and platform != \"DS\" and platform != \"PS2\"')\n"
   ]
  },
  {
   "cell_type": "code",
   "execution_count": 55,
   "metadata": {},
   "outputs": [
    {
     "data": {
      "image/png": "[encoded data removed]",
      "text/plain": [
       "<Figure size 1440x1080 with 1 Axes>"
      ]
     },
     "metadata": {
      "needs_background": "light"
     },
     "output_type": "display_data"
    }
   ],
   "source": [
    "data_platform.boxplot(by='platform', column = 'total_sales', figsize=(20,15));"
   ]
  },
  {
   "cell_type": "code",
   "execution_count": 56,
   "metadata": {},
   "outputs": [
    {
     "data": {
      "image/png": "[encoded data removed]",
      "text/plain": [
       "<Figure size 1440x1080 with 1 Axes>"
      ]
     },
     "metadata": {
      "needs_background": "light"
     },
     "output_type": "display_data"
    }
   ],
   "source": [
    "data_platform.boxplot(by='platform', column = 'total_sales', figsize=(20,15)).set_ylim(0,5);"
   ]
  },
  {
   "cell_type": "markdown",
   "metadata": {},
   "source": [
    "По нашему второму графику топ преспектиынх платформ видны медианные значения продаж. XOne показатели чуть выше, чем у ее претиндетнов."
   ]
  },
  {
   "cell_type": "markdown",
   "metadata": {},
   "source": [
    " ### Посмотрите, как влияют на продажи внутри одной популярной платформы отзывы пользователей и критиков"
   ]
  },
  {
   "cell_type": "markdown",
   "metadata": {},
   "source": [
    "Давайте для примера возьмем XOne"
   ]
  },
  {
   "cell_type": "code",
   "execution_count": 57,
   "metadata": {},
   "outputs": [
    {
     "data": {
      "image/png": "[encoded data removed]",
      "text/plain": [
       "<Figure size 1080x576 with 1 Axes>"
      ]
     },
     "metadata": {
      "needs_background": "light"
     },
     "output_type": "display_data"
    }
   ],
   "source": [
    "XBOX360 = data_game.query('platform == \"XOne\"')\n",
    "XBOX360.plot(x = 'critic_score', y = 'total_sales', kind = 'scatter',\\\n",
    "             figsize=(15, 8), sharex=False, alpha=0.5, c = 'r', s = 4);"
   ]
  },
  {
   "cell_type": "code",
   "execution_count": 58,
   "metadata": {},
   "outputs": [
    {
     "data": {
      "image/png": "[encoded data removed]",
      "text/plain": [
       "<Figure size 1080x576 with 1 Axes>"
      ]
     },
     "metadata": {
      "needs_background": "light"
     },
     "output_type": "display_data"
    }
   ],
   "source": [
    "XBOX360.plot(x = 'user_score', y = 'total_sales', kind = 'scatter',\\\n",
    "             figsize=(15, 8), sharex=False, alpha=0.5, c = 'r', s = 4);"
   ]
  },
  {
   "cell_type": "markdown",
   "metadata": {},
   "source": [
    "Графики показывают, что оценки почти равны, что у критиков, что у пользователей. У критиков даже местами чуть завышенее."
   ]
  },
  {
   "cell_type": "code",
   "execution_count": 59,
   "metadata": {},
   "outputs": [
    {
     "name": "stdout",
     "output_type": "stream",
     "text": [
      "пользователи: 6.5\n",
      "критики: 73.3\n"
     ]
    }
   ],
   "source": [
    "print('пользователи: {:.1f}'.format(XBOX360['user_score'].mean()))\n",
    "print('критики: {:.1f}'.format(XBOX360['critic_score'].mean()))"
   ]
  },
  {
   "cell_type": "markdown",
   "metadata": {},
   "source": [
    "Чуть выше оценки к критиков"
   ]
  },
  {
   "cell_type": "code",
   "execution_count": 60,
   "metadata": {},
   "outputs": [
    {
     "name": "stdout",
     "output_type": "stream",
     "text": [
      "пользователи: 6.8\n",
      "критики: 76.0\n"
     ]
    }
   ],
   "source": [
    "print('пользователи: {:.1f}'.format(XBOX360['user_score'].median()))\n",
    "print('критики: {:.1f}'.format(XBOX360['critic_score'].median()))"
   ]
  },
  {
   "cell_type": "markdown",
   "metadata": {},
   "source": [
    "Мединанное значение чуть выше среднего, но примерно в тех же диапозонах"
   ]
  },
  {
   "cell_type": "markdown",
   "metadata": {},
   "source": [
    "### Корреляция"
   ]
  },
  {
   "cell_type": "code",
   "execution_count": 61,
   "metadata": {},
   "outputs": [
    {
     "name": "stdout",
     "output_type": "stream",
     "text": [
      "0.0044288176754932575\n",
      "0.3081967459207781\n"
     ]
    }
   ],
   "source": [
    "print(data_game['user_score'].corr(data_game['total_sales']))\n",
    "print(data_game['critic_score'].corr(data_game['total_sales']))"
   ]
  },
  {
   "cell_type": "markdown",
   "metadata": {},
   "source": [
    "У критиков связь с продажами больше. НО все равно меньше 0,5, поэтому можно сделать выводы, что это никак не влияет."
   ]
  },
  {
   "cell_type": "code",
   "execution_count": 62,
   "metadata": {},
   "outputs": [
    {
     "data": {
      "text/html": [
       "<div>\n",
       "<style scoped>\n",
       "    .dataframe tbody tr th:only-of-type {\n",
       "        vertical-align: middle;\n",
       "    }\n",
       "\n",
       "    .dataframe tbody tr th {\n",
       "        vertical-align: top;\n",
       "    }\n",
       "\n",
       "    .dataframe thead th {\n",
       "        text-align: right;\n",
       "    }\n",
       "</style>\n",
       "<table border=\"1\" class=\"dataframe\">\n",
       "  <thead>\n",
       "    <tr style=\"text-align: right;\">\n",
       "      <th></th>\n",
       "      <th>year_of_release</th>\n",
       "      <th>na_sales</th>\n",
       "      <th>eu_sales</th>\n",
       "      <th>jp_sales</th>\n",
       "      <th>other_sales</th>\n",
       "      <th>critic_score</th>\n",
       "      <th>user_score</th>\n",
       "      <th>total_sales</th>\n",
       "    </tr>\n",
       "  </thead>\n",
       "  <tbody>\n",
       "    <tr>\n",
       "      <th>year_of_release</th>\n",
       "      <td>1.000000</td>\n",
       "      <td>-0.242667</td>\n",
       "      <td>-0.194925</td>\n",
       "      <td>-0.127050</td>\n",
       "      <td>-0.243414</td>\n",
       "      <td>0.063712</td>\n",
       "      <td>0.079481</td>\n",
       "      <td>-0.239183</td>\n",
       "    </tr>\n",
       "    <tr>\n",
       "      <th>na_sales</th>\n",
       "      <td>-0.242667</td>\n",
       "      <td>1.000000</td>\n",
       "      <td>0.765367</td>\n",
       "      <td>0.425725</td>\n",
       "      <td>0.988088</td>\n",
       "      <td>0.388636</td>\n",
       "      <td>-0.069318</td>\n",
       "      <td>0.970433</td>\n",
       "    </tr>\n",
       "    <tr>\n",
       "      <th>eu_sales</th>\n",
       "      <td>-0.194925</td>\n",
       "      <td>0.765367</td>\n",
       "      <td>1.000000</td>\n",
       "      <td>0.421071</td>\n",
       "      <td>0.852986</td>\n",
       "      <td>0.379162</td>\n",
       "      <td>-0.055911</td>\n",
       "      <td>0.898045</td>\n",
       "    </tr>\n",
       "    <tr>\n",
       "      <th>jp_sales</th>\n",
       "      <td>-0.127050</td>\n",
       "      <td>0.425725</td>\n",
       "      <td>0.421071</td>\n",
       "      <td>1.000000</td>\n",
       "      <td>0.441717</td>\n",
       "      <td>0.202954</td>\n",
       "      <td>0.069591</td>\n",
       "      <td>0.452701</td>\n",
       "    </tr>\n",
       "    <tr>\n",
       "      <th>other_sales</th>\n",
       "      <td>-0.243414</td>\n",
       "      <td>0.988088</td>\n",
       "      <td>0.852986</td>\n",
       "      <td>0.441717</td>\n",
       "      <td>1.000000</td>\n",
       "      <td>0.411825</td>\n",
       "      <td>-0.069645</td>\n",
       "      <td>0.995238</td>\n",
       "    </tr>\n",
       "    <tr>\n",
       "      <th>critic_score</th>\n",
       "      <td>0.063712</td>\n",
       "      <td>0.388636</td>\n",
       "      <td>0.379162</td>\n",
       "      <td>0.202954</td>\n",
       "      <td>0.411825</td>\n",
       "      <td>1.000000</td>\n",
       "      <td>0.472462</td>\n",
       "      <td>0.416998</td>\n",
       "    </tr>\n",
       "    <tr>\n",
       "      <th>user_score</th>\n",
       "      <td>0.079481</td>\n",
       "      <td>-0.069318</td>\n",
       "      <td>-0.055911</td>\n",
       "      <td>0.069591</td>\n",
       "      <td>-0.069645</td>\n",
       "      <td>0.472462</td>\n",
       "      <td>1.000000</td>\n",
       "      <td>-0.068925</td>\n",
       "    </tr>\n",
       "    <tr>\n",
       "      <th>total_sales</th>\n",
       "      <td>-0.239183</td>\n",
       "      <td>0.970433</td>\n",
       "      <td>0.898045</td>\n",
       "      <td>0.452701</td>\n",
       "      <td>0.995238</td>\n",
       "      <td>0.416998</td>\n",
       "      <td>-0.068925</td>\n",
       "      <td>1.000000</td>\n",
       "    </tr>\n",
       "  </tbody>\n",
       "</table>\n",
       "</div>"
      ],
      "text/plain": [
       "                 year_of_release  na_sales  eu_sales  jp_sales  other_sales  \\\n",
       "year_of_release         1.000000 -0.242667 -0.194925 -0.127050    -0.243414   \n",
       "na_sales               -0.242667  1.000000  0.765367  0.425725     0.988088   \n",
       "eu_sales               -0.194925  0.765367  1.000000  0.421071     0.852986   \n",
       "jp_sales               -0.127050  0.425725  0.421071  1.000000     0.441717   \n",
       "other_sales            -0.243414  0.988088  0.852986  0.441717     1.000000   \n",
       "critic_score            0.063712  0.388636  0.379162  0.202954     0.411825   \n",
       "user_score              0.079481 -0.069318 -0.055911  0.069591    -0.069645   \n",
       "total_sales            -0.239183  0.970433  0.898045  0.452701     0.995238   \n",
       "\n",
       "                 critic_score  user_score  total_sales  \n",
       "year_of_release      0.063712    0.079481    -0.239183  \n",
       "na_sales             0.388636   -0.069318     0.970433  \n",
       "eu_sales             0.379162   -0.055911     0.898045  \n",
       "jp_sales             0.202954    0.069591     0.452701  \n",
       "other_sales          0.411825   -0.069645     0.995238  \n",
       "critic_score         1.000000    0.472462     0.416998  \n",
       "user_score           0.472462    1.000000    -0.068925  \n",
       "total_sales          0.416998   -0.068925     1.000000  "
      ]
     },
     "execution_count": 62,
     "metadata": {},
     "output_type": "execute_result"
    }
   ],
   "source": [
    "XBOX360.corr()"
   ]
  },
  {
   "cell_type": "code",
   "execution_count": 63,
   "metadata": {
    "scrolled": true
   },
   "outputs": [
    {
     "data": {
      "text/html": [
       "<div>\n",
       "<style scoped>\n",
       "    .dataframe tbody tr th:only-of-type {\n",
       "        vertical-align: middle;\n",
       "    }\n",
       "\n",
       "    .dataframe tbody tr th {\n",
       "        vertical-align: top;\n",
       "    }\n",
       "\n",
       "    .dataframe thead th {\n",
       "        text-align: right;\n",
       "    }\n",
       "</style>\n",
       "<table border=\"1\" class=\"dataframe\">\n",
       "  <thead>\n",
       "    <tr style=\"text-align: right;\">\n",
       "      <th></th>\n",
       "      <th>year_of_release</th>\n",
       "      <th>na_sales</th>\n",
       "      <th>eu_sales</th>\n",
       "      <th>jp_sales</th>\n",
       "      <th>other_sales</th>\n",
       "      <th>critic_score</th>\n",
       "      <th>user_score</th>\n",
       "      <th>total_sales</th>\n",
       "    </tr>\n",
       "  </thead>\n",
       "  <tbody>\n",
       "    <tr>\n",
       "      <th>year_of_release</th>\n",
       "      <td>1.000000</td>\n",
       "      <td>-0.092848</td>\n",
       "      <td>-0.053163</td>\n",
       "      <td>-0.063587</td>\n",
       "      <td>-0.057375</td>\n",
       "      <td>0.014969</td>\n",
       "      <td>-0.019996</td>\n",
       "      <td>-0.083488</td>\n",
       "    </tr>\n",
       "    <tr>\n",
       "      <th>na_sales</th>\n",
       "      <td>-0.092848</td>\n",
       "      <td>1.000000</td>\n",
       "      <td>0.767484</td>\n",
       "      <td>0.271010</td>\n",
       "      <td>0.792277</td>\n",
       "      <td>0.290240</td>\n",
       "      <td>-0.014217</td>\n",
       "      <td>0.920981</td>\n",
       "    </tr>\n",
       "    <tr>\n",
       "      <th>eu_sales</th>\n",
       "      <td>-0.053163</td>\n",
       "      <td>0.767484</td>\n",
       "      <td>1.000000</td>\n",
       "      <td>0.265134</td>\n",
       "      <td>0.936906</td>\n",
       "      <td>0.283254</td>\n",
       "      <td>-0.022042</td>\n",
       "      <td>0.927487</td>\n",
       "    </tr>\n",
       "    <tr>\n",
       "      <th>jp_sales</th>\n",
       "      <td>-0.063587</td>\n",
       "      <td>0.271010</td>\n",
       "      <td>0.265134</td>\n",
       "      <td>1.000000</td>\n",
       "      <td>0.203078</td>\n",
       "      <td>0.116596</td>\n",
       "      <td>0.163980</td>\n",
       "      <td>0.450363</td>\n",
       "    </tr>\n",
       "    <tr>\n",
       "      <th>other_sales</th>\n",
       "      <td>-0.057375</td>\n",
       "      <td>0.792277</td>\n",
       "      <td>0.936906</td>\n",
       "      <td>0.203078</td>\n",
       "      <td>1.000000</td>\n",
       "      <td>0.272509</td>\n",
       "      <td>-0.010909</td>\n",
       "      <td>0.909525</td>\n",
       "    </tr>\n",
       "    <tr>\n",
       "      <th>critic_score</th>\n",
       "      <td>0.014969</td>\n",
       "      <td>0.290240</td>\n",
       "      <td>0.283254</td>\n",
       "      <td>0.116596</td>\n",
       "      <td>0.272509</td>\n",
       "      <td>1.000000</td>\n",
       "      <td>0.517727</td>\n",
       "      <td>0.308197</td>\n",
       "    </tr>\n",
       "    <tr>\n",
       "      <th>user_score</th>\n",
       "      <td>-0.019996</td>\n",
       "      <td>-0.014217</td>\n",
       "      <td>-0.022042</td>\n",
       "      <td>0.163980</td>\n",
       "      <td>-0.010909</td>\n",
       "      <td>0.517727</td>\n",
       "      <td>1.000000</td>\n",
       "      <td>0.004429</td>\n",
       "    </tr>\n",
       "    <tr>\n",
       "      <th>total_sales</th>\n",
       "      <td>-0.083488</td>\n",
       "      <td>0.920981</td>\n",
       "      <td>0.927487</td>\n",
       "      <td>0.450363</td>\n",
       "      <td>0.909525</td>\n",
       "      <td>0.308197</td>\n",
       "      <td>0.004429</td>\n",
       "      <td>1.000000</td>\n",
       "    </tr>\n",
       "  </tbody>\n",
       "</table>\n",
       "</div>"
      ],
      "text/plain": [
       "                 year_of_release  na_sales  eu_sales  jp_sales  other_sales  \\\n",
       "year_of_release         1.000000 -0.092848 -0.053163 -0.063587    -0.057375   \n",
       "na_sales               -0.092848  1.000000  0.767484  0.271010     0.792277   \n",
       "eu_sales               -0.053163  0.767484  1.000000  0.265134     0.936906   \n",
       "jp_sales               -0.063587  0.271010  0.265134  1.000000     0.203078   \n",
       "other_sales            -0.057375  0.792277  0.936906  0.203078     1.000000   \n",
       "critic_score            0.014969  0.290240  0.283254  0.116596     0.272509   \n",
       "user_score             -0.019996 -0.014217 -0.022042  0.163980    -0.010909   \n",
       "total_sales            -0.083488  0.920981  0.927487  0.450363     0.909525   \n",
       "\n",
       "                 critic_score  user_score  total_sales  \n",
       "year_of_release      0.014969   -0.019996    -0.083488  \n",
       "na_sales             0.290240   -0.014217     0.920981  \n",
       "eu_sales             0.283254   -0.022042     0.927487  \n",
       "jp_sales             0.116596    0.163980     0.450363  \n",
       "other_sales          0.272509   -0.010909     0.909525  \n",
       "critic_score         1.000000    0.517727     0.308197  \n",
       "user_score           0.517727    1.000000     0.004429  \n",
       "total_sales          0.308197    0.004429     1.000000  "
      ]
     },
     "execution_count": 63,
     "metadata": {},
     "output_type": "execute_result"
    }
   ],
   "source": [
    "data_game.corr()"
   ]
  },
  {
   "cell_type": "markdown",
   "metadata": {},
   "source": [
    "По XOne мы видим как продажи в США больше всего влияют на общие продажи, а вот продажи в японии наоборот, почти не влияют на обшие продажи. На общей корреляции ситуация схоже, но зависимсость от США чуть меньше. Так же зависимость от оценки критиков."
   ]
  },
  {
   "cell_type": "markdown",
   "metadata": {},
   "source": [
    "### Жанры"
   ]
  },
  {
   "cell_type": "code",
   "execution_count": 64,
   "metadata": {
    "scrolled": true
   },
   "outputs": [
    {
     "data": {
      "text/plain": [
       "genre\n",
       "Action          1648.43\n",
       "Sports          1269.92\n",
       "Shooter          979.32\n",
       "Role-Playing     901.19\n",
       "Misc             776.83\n",
       "Racing           694.95\n",
       "Platform         659.27\n",
       "Fighting         419.80\n",
       "Simulation       382.03\n",
       "Adventure        214.06\n",
       "Strategy         171.26\n",
       "Puzzle           163.07\n",
       "Name: total_sales, dtype: float64"
      ]
     },
     "execution_count": 64,
     "metadata": {},
     "output_type": "execute_result"
    }
   ],
   "source": [
    "data.groupby('genre')['total_sales'].sum().sort_values(ascending = False)"
   ]
  },
  {
   "cell_type": "code",
   "execution_count": 65,
   "metadata": {},
   "outputs": [
    {
     "data": {
      "text/plain": [
       "genre\n",
       "Platform        0.24\n",
       "Shooter         0.23\n",
       "Sports          0.22\n",
       "Fighting        0.20\n",
       "Action          0.18\n",
       "Racing          0.18\n",
       "Role-Playing    0.18\n",
       "Misc            0.16\n",
       "Simulation      0.15\n",
       "Strategy        0.10\n",
       "Puzzle          0.09\n",
       "Adventure       0.05\n",
       "Name: total_sales, dtype: float64"
      ]
     },
     "execution_count": 65,
     "metadata": {},
     "output_type": "execute_result"
    }
   ],
   "source": [
    "data.groupby('genre')['total_sales'].median().sort_values(ascending = False)"
   ]
  },
  {
   "cell_type": "markdown",
   "metadata": {},
   "source": [
    "Рассмотрим cредние продажи по жанрам. Аркады и спортивные игры продаются лучше всего. Стратегии и Головоломки хуже всего.\n",
    "Если же берем медиану. То файтинги, спортивные игры, шутеры и платформеры продаются лучше всего. Головоломки все так же просидают"
   ]
  },
  {
   "cell_type": "code",
   "execution_count": 66,
   "metadata": {},
   "outputs": [
    {
     "data": {
      "image/png": "[encoded data removed]",
      "text/plain": [
       "<Figure size 1080x576 with 1 Axes>"
      ]
     },
     "metadata": {
      "needs_background": "light"
     },
     "output_type": "display_data"
    }
   ],
   "source": [
    "data.groupby('genre')['total_sales'].sum().sort_values(ascending = False).plot(kind = 'bar', figsize=(15, 8));"
   ]
  },
  {
   "cell_type": "code",
   "execution_count": 67,
   "metadata": {},
   "outputs": [
    {
     "data": {
      "image/png": "[encoded data removed]",
      "text/plain": [
       "<Figure size 1080x576 with 1 Axes>"
      ]
     },
     "metadata": {
      "needs_background": "light"
     },
     "output_type": "display_data"
    }
   ],
   "source": [
    "data.groupby('genre')['total_sales'].median().sort_values(ascending = False).plot(kind = 'bar', figsize=(15, 8));"
   ]
  },
  {
   "cell_type": "markdown",
   "metadata": {},
   "source": [
    "## Составьте портрет пользователя каждого региона"
   ]
  },
  {
   "cell_type": "markdown",
   "metadata": {},
   "source": [
    "**Определите для пользователя каждого региона (NA, EU, JP):**\n",
    "- Самые популярные платформы (топ-5). Опишите различия в долях продаж.\n",
    "- Самые популярные жанры (топ-5). Поясните разницу.\n",
    "- Влияет ли рейтинг ESRB на продажи в отдельном регионе?"
   ]
  },
  {
   "cell_type": "code",
   "execution_count": 68,
   "metadata": {},
   "outputs": [
    {
     "name": "stdout",
     "output_type": "stream",
     "text": [
      "platform\n",
      "PS4     141.09\n",
      "PS3     106.86\n",
      "X360     74.52\n",
      "XOne     51.59\n",
      "3DS      42.64\n",
      "Name: eu_sales, dtype: float64\n",
      "AxesSubplot(0.125,0.125;0.775x0.755)\n"
     ]
    },
    {
     "data": {
      "image/png": "[encoded data removed]",
      "text/plain": [
       "<Figure size 1080x576 with 1 Axes>"
      ]
     },
     "metadata": {
      "needs_background": "light"
     },
     "output_type": "display_data"
    }
   ],
   "source": [
    "print(data_game.groupby('platform')['eu_sales'].sum().sort_values(ascending = False).head(5));\n",
    "print(data_game.groupby('platform')['eu_sales'].sum().sort_values(ascending = False).plot(kind = 'bar', figsize=(15, 8)));\n"
   ]
  },
  {
   "cell_type": "code",
   "execution_count": 69,
   "metadata": {},
   "outputs": [
    {
     "name": "stdout",
     "output_type": "stream",
     "text": [
      "AxesSubplot(0.125,0.125;0.775x0.755)\n"
     ]
    },
    {
     "data": {
      "image/png": "[encoded data removed]",
      "text/plain": [
       "<Figure size 288x216 with 1 Axes>"
      ]
     },
     "metadata": {
      "needs_background": "light"
     },
     "output_type": "display_data"
    }
   ],
   "source": [
    "print(data_platform.groupby('platform')['eu_sales'].sum().sort_values(ascending = False).plot(kind = 'bar', figsize=(4, 3)))"
   ]
  },
  {
   "cell_type": "code",
   "execution_count": 70,
   "metadata": {},
   "outputs": [
    {
     "name": "stdout",
     "output_type": "stream",
     "text": [
      "platform\n",
      "X360    140.05\n",
      "PS4     108.74\n",
      "PS3     103.38\n",
      "XOne     93.12\n",
      "3DS      55.31\n",
      "Name: na_sales, dtype: float64\n",
      "AxesSubplot(0.125,0.125;0.775x0.755)\n"
     ]
    },
    {
     "data": {
      "image/png": "[encoded data removed]",
      "text/plain": [
       "<Figure size 1080x576 with 1 Axes>"
      ]
     },
     "metadata": {
      "needs_background": "light"
     },
     "output_type": "display_data"
    }
   ],
   "source": [
    "print(data_game.groupby('platform')['na_sales'].sum().sort_values(ascending = False).head(5));\n",
    "print(data_game.groupby('platform')['na_sales'].sum().sort_values(ascending = False).plot(kind = 'bar', figsize=(15, 8)));"
   ]
  },
  {
   "cell_type": "code",
   "execution_count": 71,
   "metadata": {},
   "outputs": [
    {
     "name": "stdout",
     "output_type": "stream",
     "text": [
      "AxesSubplot(0.125,0.125;0.775x0.755)\n"
     ]
    },
    {
     "data": {
      "image/png": "[encoded data removed]",
      "text/plain": [
       "<Figure size 288x216 with 1 Axes>"
      ]
     },
     "metadata": {
      "needs_background": "light"
     },
     "output_type": "display_data"
    }
   ],
   "source": [
    "print(data_platform.groupby('platform')['na_sales'].sum().sort_values(ascending = False).plot(kind = 'bar', figsize=(4, 3)))"
   ]
  },
  {
   "cell_type": "code",
   "execution_count": 72,
   "metadata": {
    "scrolled": false
   },
   "outputs": [
    {
     "name": "stdout",
     "output_type": "stream",
     "text": [
      "platform\n",
      "3DS     87.79\n",
      "PS3     35.29\n",
      "PSV     21.04\n",
      "PS4     15.96\n",
      "WiiU    13.01\n",
      "Name: jp_sales, dtype: float64\n",
      "AxesSubplot(0.125,0.125;0.775x0.755)\n"
     ]
    },
    {
     "data": {
      "image/png": "[encoded data removed]",
      "text/plain": [
       "<Figure size 1080x576 with 1 Axes>"
      ]
     },
     "metadata": {
      "needs_background": "light"
     },
     "output_type": "display_data"
    }
   ],
   "source": [
    "print(data_game.groupby('platform')['jp_sales'].sum().sort_values(ascending = False).head(5));\n",
    "print(data_game.groupby('platform')['jp_sales'].sum().sort_values(ascending = False).plot(kind = 'bar', figsize=(15, 8)));"
   ]
  },
  {
   "cell_type": "code",
   "execution_count": 73,
   "metadata": {},
   "outputs": [
    {
     "name": "stdout",
     "output_type": "stream",
     "text": [
      "AxesSubplot(0.125,0.125;0.775x0.755)\n"
     ]
    },
    {
     "data": {
      "image/png": "[encoded data removed]",
      "text/plain": [
       "<Figure size 288x216 with 1 Axes>"
      ]
     },
     "metadata": {
      "needs_background": "light"
     },
     "output_type": "display_data"
    }
   ],
   "source": [
    "print(data_platform.groupby('platform')['jp_sales'].sum().sort_values(ascending = False).plot(kind = 'bar', figsize=(4, 3)))"
   ]
  },
  {
   "cell_type": "markdown",
   "metadata": {},
   "source": [
    "- Графики ярко показывают, что продажи по платформам сильно отличаются. В Америке большую часть продаж занимает X360(не актуален) можно ориентироваться на хорошие продажи PS4, но если смотреть насколько популярна предыдущая версия XBOX продавалась в штатах, то продажи XOne в 2017 году должны обогнать PS4\n",
    "- в Европе PS4, \n",
    "- в Японие львиную долю рынка держит 3DS(но он уже не актуален), так что тут также ориентируемся на PS4"
   ]
  },
  {
   "cell_type": "markdown",
   "metadata": {},
   "source": [
    "Проведем такой же анализ, но уже по жанру"
   ]
  },
  {
   "cell_type": "code",
   "execution_count": 74,
   "metadata": {},
   "outputs": [
    {
     "name": "stdout",
     "output_type": "stream",
     "text": [
      "genre\n",
      "Action          159.34\n",
      "Shooter         113.47\n",
      "Sports           69.09\n",
      "Role-Playing     48.53\n",
      "Racing           27.29\n",
      "Name: eu_sales, dtype: float64\n",
      "AxesSubplot(0.125,0.125;0.775x0.755)\n"
     ]
    },
    {
     "data": {
      "image/png": "[encoded data removed]",
      "text/plain": [
       "<Figure size 1080x576 with 1 Axes>"
      ]
     },
     "metadata": {
      "needs_background": "light"
     },
     "output_type": "display_data"
    }
   ],
   "source": [
    "print(data_game.groupby('genre')['eu_sales'].sum().sort_values(ascending = False).head(5));\n",
    "print(data_game.groupby('genre')['eu_sales'].sum().sort_values(ascending = False).plot(kind = 'bar', figsize=(15, 8)));"
   ]
  },
  {
   "cell_type": "code",
   "execution_count": 75,
   "metadata": {},
   "outputs": [
    {
     "name": "stdout",
     "output_type": "stream",
     "text": [
      "genre\n",
      "Action          177.84\n",
      "Shooter         144.77\n",
      "Sports           81.53\n",
      "Role-Playing     64.00\n",
      "Misc             38.19\n",
      "Name: na_sales, dtype: float64\n",
      "AxesSubplot(0.125,0.125;0.775x0.755)\n"
     ]
    },
    {
     "data": {
      "image/png": "[encoded data removed]",
      "text/plain": [
       "<Figure size 1080x576 with 1 Axes>"
      ]
     },
     "metadata": {
      "needs_background": "light"
     },
     "output_type": "display_data"
    }
   ],
   "source": [
    "print(data_game.groupby('genre')['na_sales'].sum().sort_values(ascending = False).head(5));\n",
    "print(data_game.groupby('genre')['na_sales'].sum().sort_values(ascending = False).plot(kind = 'bar', figsize=(15, 8)));"
   ]
  },
  {
   "cell_type": "code",
   "execution_count": 76,
   "metadata": {},
   "outputs": [
    {
     "name": "stdout",
     "output_type": "stream",
     "text": [
      "genre\n",
      "Role-Playing    65.44\n",
      "Action          52.80\n",
      "Misc            12.86\n",
      "Simulation      10.41\n",
      "Fighting         9.44\n",
      "Name: jp_sales, dtype: float64\n",
      "AxesSubplot(0.125,0.125;0.775x0.755)\n"
     ]
    },
    {
     "data": {
      "image/png": "[encoded data removed]",
      "text/plain": [
       "<Figure size 1080x576 with 1 Axes>"
      ]
     },
     "metadata": {
      "needs_background": "light"
     },
     "output_type": "display_data"
    }
   ],
   "source": [
    "print(data_game.groupby('genre')['jp_sales'].sum().sort_values(ascending = False).head(5));\n",
    "print(data_game.groupby('genre')['jp_sales'].sum().sort_values(ascending = False).plot(kind = 'bar', figsize=(15, 8)));"
   ]
  },
  {
   "cell_type": "markdown",
   "metadata": {},
   "source": [
    "В европе преобладает шутер и Action, в америке такая же ситуация. В Японии на первый план выходить жанр Role-Playing"
   ]
  },
  {
   "cell_type": "code",
   "execution_count": 77,
   "metadata": {},
   "outputs": [
    {
     "name": "stdout",
     "output_type": "stream",
     "text": [
      "rating\n",
      "M       193.96\n",
      "E       113.03\n",
      "RP       91.50\n",
      "E10+     55.37\n",
      "T        52.96\n",
      "Name: eu_sales, dtype: float64\n",
      "AxesSubplot(0.125,0.125;0.775x0.755)\n"
     ]
    },
    {
     "data": {
      "image/png": "[encoded data removed]",
      "text/plain": [
       "<Figure size 720x360 with 1 Axes>"
      ]
     },
     "metadata": {
      "needs_background": "light"
     },
     "output_type": "display_data"
    }
   ],
   "source": [
    "print(data_game.groupby('rating')['eu_sales'].sum().sort_values(ascending = False).head(5));\n",
    "print(data_game.groupby('rating')['eu_sales'].sum().sort_values(ascending = False).plot(kind = 'bar', figsize=(10, 5)));"
   ]
  },
  {
   "cell_type": "code",
   "execution_count": 78,
   "metadata": {},
   "outputs": [
    {
     "name": "stdout",
     "output_type": "stream",
     "text": [
      "rating\n",
      "M       231.57\n",
      "E       114.37\n",
      "RP      103.31\n",
      "E10+     75.70\n",
      "T        66.02\n",
      "Name: na_sales, dtype: float64\n",
      "AxesSubplot(0.125,0.125;0.775x0.755)\n"
     ]
    },
    {
     "data": {
      "image/png": "[encoded data removed]",
      "text/plain": [
       "<Figure size 720x360 with 1 Axes>"
      ]
     },
     "metadata": {
      "needs_background": "light"
     },
     "output_type": "display_data"
    }
   ],
   "source": [
    "print(data_game.groupby('rating')['na_sales'].sum().sort_values(ascending = False).head(5));\n",
    "print(data_game.groupby('rating')['na_sales'].sum().sort_values(ascending = False).plot(kind = 'bar', figsize=(10, 5)));"
   ]
  },
  {
   "cell_type": "code",
   "execution_count": 79,
   "metadata": {},
   "outputs": [
    {
     "name": "stdout",
     "output_type": "stream",
     "text": [
      "rating\n",
      "RP      108.84\n",
      "E        28.33\n",
      "T        26.02\n",
      "M        21.20\n",
      "E10+      8.19\n",
      "Name: jp_sales, dtype: float64\n",
      "AxesSubplot(0.125,0.125;0.775x0.755)\n"
     ]
    },
    {
     "data": {
      "image/png": "[encoded data removed]",
      "text/plain": [
       "<Figure size 720x360 with 1 Axes>"
      ]
     },
     "metadata": {
      "needs_background": "light"
     },
     "output_type": "display_data"
    }
   ],
   "source": [
    "print(data_game.groupby('rating')['jp_sales'].sum().sort_values(ascending = False).head(5));\n",
    "print(data_game.groupby('rating')['jp_sales'].sum().sort_values(ascending = False).plot(kind = 'bar', figsize=(10, 5)));"
   ]
  },
  {
   "cell_type": "markdown",
   "metadata": {},
   "source": [
    "В Европе и Америке преобладает рейтинг - «M» («Mature») — «Для взрослых». Меньше всего - «Подросткам» «M» («Mature»)\n",
    "В Японии - много игр без рейтинга, на втором месте игрв с рейтингом \"для всех\". Хуже всего продаются игры с рейтингом \"для всех от 10 лет\""
   ]
  },
  {
   "cell_type": "markdown",
   "metadata": {},
   "source": [
    "## Проверьте гипотезы"
   ]
  },
  {
   "cell_type": "markdown",
   "metadata": {},
   "source": [
    "- Cредние пользовательские рейтинги платформ Xbox One и PC одинаковые;\n",
    "- Средние пользовательские рейтинги жанров Action (англ. «действие», экшен-игры) и Sports (англ. «спортивные соревнования») разные."
   ]
  },
  {
   "cell_type": "markdown",
   "metadata": {},
   "source": [
    "Сперва нужно убрать пропуски в столбце user_score, для этого создадим новую таблицу,в которой удалим все строки с пропущенными значениями в столбце user_score:\n",
    "\n",
    "Подготовим срезы данных для Xbox One и PC:"
   ]
  },
  {
   "cell_type": "code",
   "execution_count": 80,
   "metadata": {},
   "outputs": [
    {
     "name": "stdout",
     "output_type": "stream",
     "text": [
      "<class 'pandas.core.frame.DataFrame'>\n",
      "RangeIndex: 1531 entries, 0 to 1530\n",
      "Data columns (total 12 columns):\n",
      " #   Column           Non-Null Count  Dtype  \n",
      "---  ------           --------------  -----  \n",
      " 0   name             1531 non-null   object \n",
      " 1   platform         1531 non-null   object \n",
      " 2   year_of_release  1531 non-null   int64  \n",
      " 3   genre            1531 non-null   object \n",
      " 4   na_sales         1531 non-null   float64\n",
      " 5   eu_sales         1531 non-null   float64\n",
      " 6   jp_sales         1531 non-null   float64\n",
      " 7   other_sales      1531 non-null   float64\n",
      " 8   critic_score     1297 non-null   float64\n",
      " 9   user_score       1531 non-null   float64\n",
      " 10  rating           1531 non-null   object \n",
      " 11  total_sales      1531 non-null   float64\n",
      "dtypes: float64(7), int64(1), object(4)\n",
      "memory usage: 143.7+ KB\n"
     ]
    }
   ],
   "source": [
    "test = data_game.dropna(subset=['user_score']).reset_index(drop = True)\n",
    "test.info()"
   ]
  },
  {
   "cell_type": "code",
   "execution_count": 81,
   "metadata": {},
   "outputs": [],
   "source": [
    "Xbox_One = test.query('platform == \"XOne\"')\n",
    "PC = test.query('platform == \"PC\"')"
   ]
  },
  {
   "cell_type": "markdown",
   "metadata": {},
   "source": [
    "Сформулируем нулевую гипотезу, она звучит так: \"Средние пользовательские рейтинги платформ Xbox One и PC одинаковые\".\n",
    "\n",
    "Проверим гипотезу с пороговым значением альфа = 0.05:"
   ]
  },
  {
   "cell_type": "code",
   "execution_count": 82,
   "metadata": {},
   "outputs": [
    {
     "name": "stdout",
     "output_type": "stream",
     "text": [
      "p-значение: 0.5535080500643661\n",
      "Не получилось отвергнуть нулевую гипотезу\n"
     ]
    }
   ],
   "source": [
    "alpha = 0.05 \n",
    "\n",
    "results = st.ttest_ind(Xbox_One.user_score, PC.user_score)\n",
    "\n",
    "print('p-значение:', results.pvalue)\n",
    "\n",
    "if (results.pvalue < alpha):\n",
    "    print(\"Отвергаем нулевую гипотезу\")\n",
    "else:\n",
    "    print(\"Не получилось отвергнуть нулевую гипотезу\")"
   ]
  },
  {
   "cell_type": "markdown",
   "metadata": {},
   "source": [
    "Полученное значение p-value (0.55) говорит о том, что отвергнуть нулевую гипотезу не получилось. Нулевой гипотезой будет являться следующее выражение: \"Средние пользовательские рейтинги платформ Xbox One и PC одинаковые\". Нулевая гипотеза и будет являться достоверной.\n",
    "\n",
    "Проверим гипотезу, что средние пользовательские рейтинги жанров Action (англ. «действие») и Sports (англ. «виды спорта») разные.\n",
    "\n",
    "Сформулируем нулевую гипотезу, она звучит так: \"Пользовательские рейтинги жанров Action и Sports одинаковые\"."
   ]
  },
  {
   "cell_type": "code",
   "execution_count": 83,
   "metadata": {},
   "outputs": [],
   "source": [
    "Action = test.query('genre == \"Action\"')\n",
    "Sports = test.query('genre == \"Sports\"')"
   ]
  },
  {
   "cell_type": "code",
   "execution_count": 84,
   "metadata": {},
   "outputs": [
    {
     "name": "stdout",
     "output_type": "stream",
     "text": [
      "p-значение: 3.7163089460934874e-26\n",
      "Отвергаем нулевую гипотезу\n"
     ]
    }
   ],
   "source": [
    "alpha = 0.05 \n",
    "\n",
    "results2 = st.ttest_ind(Action.user_score, Sports.user_score)\n",
    "\n",
    "print('p-значение:', results2.pvalue)\n",
    "\n",
    "if (results2.pvalue < alpha):\n",
    "    print(\"Отвергаем нулевую гипотезу\")\n",
    "else:\n",
    "    print(\"Не получилось отвергнуть нулевую гипотезу\")"
   ]
  },
  {
   "cell_type": "markdown",
   "metadata": {},
   "source": [
    "Полученное значение p-value говорит о том, что можно с уверенностью отвергать нулевую гипотезу. Альтернативной гипотезой будет являться следующее выражение: \"Средние пользовательские рейтинги жанров Action и Sports разные\". Альтернативная гипотеза будет являться достоверной."
   ]
  },
  {
   "cell_type": "markdown",
   "metadata": {},
   "source": [
    "## Вывод"
   ]
  },
  {
   "cell_type": "markdown",
   "metadata": {},
   "source": [
    "Перед выполнением работы была поставлена задача: выявить определяющие успешность игры закономерности. Это позволит сделать ставку на потенциально популярный продукт и спланировать рекламные кампании. Данные были взяты из открытых источников с 1980 по 2016 годы.\n",
    "\n",
    "Для итоговго анализа были отсеины даты до 2012 года. Также были отсеины не популярные приставки. \n",
    "Анализ показал, что рекламные компании должны быть разные для каждого региона, так как данные сильно отличаются. В целом СТоит рассматривать такие приставки как XBOXONE и PS4 на Европу и Америку. В Японии ориентироваться на 3DS.\n",
    "\n",
    "Вывод обоснован, что предыдущее поколение устрорело и с момента их запуска прошло уже 7 лет. В анализе мы посчитали, что средний срок востребованности приставки 3 года. ЧТо касается жанров, то стоит обратить внимание на экшен и шутер на Европе. Ролевые игры в Японии.\n",
    "\n",
    "Рейтинг игры лучше всего расматривать M, в японии нужно уточнять корректность данных по этому показателю. Так как сейчас большая часть рейтинга \"не определенно\". Если его просто откинуть то ориентируемся на рейтинг с пометкой \"для всех\""
   ]
  },
  {
   "cell_type": "markdown",
   "metadata": {},
   "source": []
  }
 ],
 "metadata": {
  "ExecuteTimeLog": [
   {
    "duration": 1230,
    "start_time": "2022-09-12T19:59:15.522Z"
   },
   {
    "duration": 4,
    "start_time": "2022-09-12T20:01:14.472Z"
   },
   {
    "duration": 91,
    "start_time": "2022-09-12T20:02:31.744Z"
   },
   {
    "duration": 189,
    "start_time": "2022-09-12T20:02:40.071Z"
   },
   {
    "duration": 22,
    "start_time": "2022-09-12T20:03:57.147Z"
   },
   {
    "duration": 14,
    "start_time": "2022-09-12T20:05:54.598Z"
   },
   {
    "duration": 44,
    "start_time": "2022-09-12T20:07:10.482Z"
   },
   {
    "duration": 7,
    "start_time": "2022-09-12T20:07:12.009Z"
   },
   {
    "duration": 51,
    "start_time": "2022-09-12T20:07:22.774Z"
   },
   {
    "duration": 21,
    "start_time": "2022-09-12T20:07:23.402Z"
   },
   {
    "duration": 8,
    "start_time": "2022-09-12T20:07:41.085Z"
   },
   {
    "duration": 719,
    "start_time": "2022-09-12T20:08:09.398Z"
   },
   {
    "duration": 672,
    "start_time": "2022-09-12T20:08:19.092Z"
   },
   {
    "duration": 19,
    "start_time": "2022-09-12T20:08:57.347Z"
   },
   {
    "duration": 16,
    "start_time": "2022-09-12T20:08:59.443Z"
   },
   {
    "duration": 803,
    "start_time": "2022-09-12T20:09:31.122Z"
   },
   {
    "duration": 681,
    "start_time": "2022-09-12T20:09:40.394Z"
   },
   {
    "duration": 606,
    "start_time": "2022-09-12T20:09:55.084Z"
   },
   {
    "duration": 29,
    "start_time": "2022-09-12T20:13:31.994Z"
   },
   {
    "duration": 5,
    "start_time": "2022-09-12T20:28:04.455Z"
   },
   {
    "duration": 5,
    "start_time": "2022-09-12T20:28:33.241Z"
   },
   {
    "duration": 277,
    "start_time": "2022-09-12T20:28:52.743Z"
   },
   {
    "duration": 5,
    "start_time": "2022-09-12T20:30:03.852Z"
   },
   {
    "duration": 11,
    "start_time": "2022-09-12T20:31:28.491Z"
   },
   {
    "duration": 4,
    "start_time": "2022-09-12T20:31:37.947Z"
   },
   {
    "duration": 24,
    "start_time": "2022-09-12T20:33:27.785Z"
   },
   {
    "duration": 4,
    "start_time": "2022-09-12T20:33:58.799Z"
   },
   {
    "duration": 18,
    "start_time": "2022-09-12T20:34:00.653Z"
   },
   {
    "duration": 26,
    "start_time": "2022-09-12T20:39:22.566Z"
   },
   {
    "duration": 21,
    "start_time": "2022-09-12T20:46:18.225Z"
   },
   {
    "duration": 24,
    "start_time": "2022-09-12T20:46:41.542Z"
   },
   {
    "duration": 20,
    "start_time": "2022-09-12T20:47:00.611Z"
   },
   {
    "duration": 121,
    "start_time": "2022-09-12T20:47:09.696Z"
   },
   {
    "duration": 29,
    "start_time": "2022-09-12T20:47:23.015Z"
   },
   {
    "duration": 1074,
    "start_time": "2022-09-12T20:47:33.575Z"
   },
   {
    "duration": 52,
    "start_time": "2022-09-12T20:47:34.651Z"
   },
   {
    "duration": 22,
    "start_time": "2022-09-12T20:47:34.705Z"
   },
   {
    "duration": 25,
    "start_time": "2022-09-12T20:47:34.728Z"
   },
   {
    "duration": 36,
    "start_time": "2022-09-12T20:47:34.754Z"
   },
   {
    "duration": 7,
    "start_time": "2022-09-12T20:47:34.792Z"
   },
   {
    "duration": 3,
    "start_time": "2022-09-12T20:47:34.801Z"
   },
   {
    "duration": 165,
    "start_time": "2022-09-12T20:47:34.806Z"
   },
   {
    "duration": 603,
    "start_time": "2022-09-12T20:47:34.973Z"
   },
   {
    "duration": 13,
    "start_time": "2022-09-12T20:47:35.578Z"
   },
   {
    "duration": 5,
    "start_time": "2022-09-12T20:47:35.592Z"
   },
   {
    "duration": 19,
    "start_time": "2022-09-12T20:47:35.599Z"
   },
   {
    "duration": 23,
    "start_time": "2022-09-12T20:47:35.620Z"
   },
   {
    "duration": 97,
    "start_time": "2022-09-12T20:47:45.003Z"
   },
   {
    "duration": 20,
    "start_time": "2022-09-12T20:48:20.083Z"
   },
   {
    "duration": 13,
    "start_time": "2022-09-12T20:48:24.835Z"
   },
   {
    "duration": 11,
    "start_time": "2022-09-12T20:48:30.720Z"
   },
   {
    "duration": 25,
    "start_time": "2022-09-12T20:48:36.870Z"
   },
   {
    "duration": 13,
    "start_time": "2022-09-12T20:49:13.956Z"
   },
   {
    "duration": 13,
    "start_time": "2022-09-12T20:52:24.792Z"
   },
   {
    "duration": 1092,
    "start_time": "2022-09-12T20:52:39.811Z"
   },
   {
    "duration": 50,
    "start_time": "2022-09-12T20:52:40.905Z"
   },
   {
    "duration": 23,
    "start_time": "2022-09-12T20:52:40.956Z"
   },
   {
    "duration": 29,
    "start_time": "2022-09-12T20:52:40.980Z"
   },
   {
    "duration": 13,
    "start_time": "2022-09-12T20:52:41.010Z"
   },
   {
    "duration": 8,
    "start_time": "2022-09-12T20:52:41.025Z"
   },
   {
    "duration": 4,
    "start_time": "2022-09-12T20:52:41.034Z"
   },
   {
    "duration": 194,
    "start_time": "2022-09-12T20:52:41.040Z"
   },
   {
    "duration": 658,
    "start_time": "2022-09-12T20:52:41.236Z"
   },
   {
    "duration": 4,
    "start_time": "2022-09-12T20:52:41.897Z"
   },
   {
    "duration": 9,
    "start_time": "2022-09-12T20:52:41.903Z"
   },
   {
    "duration": 20,
    "start_time": "2022-09-12T20:52:41.914Z"
   },
   {
    "duration": 12,
    "start_time": "2022-09-12T20:52:41.936Z"
   },
   {
    "duration": 38,
    "start_time": "2022-09-12T20:52:41.950Z"
   },
   {
    "duration": 14,
    "start_time": "2022-09-12T20:53:11.646Z"
   },
   {
    "duration": 94,
    "start_time": "2022-09-12T20:54:21.617Z"
   },
   {
    "duration": 309,
    "start_time": "2022-09-12T20:54:33.759Z"
   },
   {
    "duration": 397,
    "start_time": "2022-09-12T20:54:47.606Z"
   },
   {
    "duration": 338,
    "start_time": "2022-09-12T20:55:16.503Z"
   },
   {
    "duration": 331,
    "start_time": "2022-09-12T20:55:28.288Z"
   },
   {
    "duration": 342,
    "start_time": "2022-09-12T20:56:35.828Z"
   },
   {
    "duration": 11,
    "start_time": "2022-09-12T21:01:19.489Z"
   },
   {
    "duration": 18,
    "start_time": "2022-09-12T21:01:57.371Z"
   },
   {
    "duration": 2048,
    "start_time": "2022-09-12T21:02:31.050Z"
   },
   {
    "duration": 22,
    "start_time": "2022-09-12T21:04:07.870Z"
   },
   {
    "duration": 18,
    "start_time": "2022-09-12T21:04:42.713Z"
   },
   {
    "duration": 23,
    "start_time": "2022-09-12T21:06:43.407Z"
   },
   {
    "duration": 13,
    "start_time": "2022-09-12T21:08:18.891Z"
   },
   {
    "duration": 16,
    "start_time": "2022-09-12T21:08:39.211Z"
   },
   {
    "duration": 11,
    "start_time": "2022-09-12T21:10:05.108Z"
   },
   {
    "duration": 11,
    "start_time": "2022-09-12T21:10:16.466Z"
   },
   {
    "duration": 9,
    "start_time": "2022-09-12T21:10:27.947Z"
   },
   {
    "duration": 1060,
    "start_time": "2022-09-12T21:10:39.094Z"
   },
   {
    "duration": 52,
    "start_time": "2022-09-12T21:10:40.156Z"
   },
   {
    "duration": 21,
    "start_time": "2022-09-12T21:10:40.210Z"
   },
   {
    "duration": 27,
    "start_time": "2022-09-12T21:10:40.233Z"
   },
   {
    "duration": 30,
    "start_time": "2022-09-12T21:10:40.261Z"
   },
   {
    "duration": 8,
    "start_time": "2022-09-12T21:10:40.293Z"
   },
   {
    "duration": 4,
    "start_time": "2022-09-12T21:10:40.302Z"
   },
   {
    "duration": 162,
    "start_time": "2022-09-12T21:10:40.307Z"
   },
   {
    "duration": 619,
    "start_time": "2022-09-12T21:10:40.470Z"
   },
   {
    "duration": 5,
    "start_time": "2022-09-12T21:10:41.092Z"
   },
   {
    "duration": 7,
    "start_time": "2022-09-12T21:10:41.099Z"
   },
   {
    "duration": 16,
    "start_time": "2022-09-12T21:10:41.107Z"
   },
   {
    "duration": 19,
    "start_time": "2022-09-12T21:10:41.124Z"
   },
   {
    "duration": 26,
    "start_time": "2022-09-12T21:10:41.145Z"
   },
   {
    "duration": 19,
    "start_time": "2022-09-12T21:10:41.172Z"
   },
   {
    "duration": 349,
    "start_time": "2022-09-12T21:10:41.194Z"
   },
   {
    "duration": 308,
    "start_time": "2022-09-12T21:14:36.349Z"
   },
   {
    "duration": 8,
    "start_time": "2022-09-12T21:15:38.991Z"
   },
   {
    "duration": 11,
    "start_time": "2022-09-12T21:16:48.617Z"
   },
   {
    "duration": 13,
    "start_time": "2022-09-12T21:16:54.307Z"
   },
   {
    "duration": 92,
    "start_time": "2022-09-12T21:17:48.313Z"
   },
   {
    "duration": 89,
    "start_time": "2022-09-12T21:17:51.693Z"
   },
   {
    "duration": 394,
    "start_time": "2022-09-12T21:17:58.642Z"
   },
   {
    "duration": 403,
    "start_time": "2022-09-12T21:18:07.104Z"
   },
   {
    "duration": 413,
    "start_time": "2022-09-12T21:18:26.296Z"
   },
   {
    "duration": 43,
    "start_time": "2022-09-12T21:18:45.871Z"
   },
   {
    "duration": 67,
    "start_time": "2022-09-12T21:18:55.496Z"
   },
   {
    "duration": 365,
    "start_time": "2022-09-12T21:18:58.492Z"
   },
   {
    "duration": 22,
    "start_time": "2022-09-12T21:19:16.669Z"
   },
   {
    "duration": 1028,
    "start_time": "2022-09-12T21:21:43.738Z"
   },
   {
    "duration": 55,
    "start_time": "2022-09-12T21:21:44.768Z"
   },
   {
    "duration": 20,
    "start_time": "2022-09-12T21:21:44.825Z"
   },
   {
    "duration": 27,
    "start_time": "2022-09-12T21:21:44.847Z"
   },
   {
    "duration": 25,
    "start_time": "2022-09-12T21:21:44.876Z"
   },
   {
    "duration": 8,
    "start_time": "2022-09-12T21:21:44.902Z"
   },
   {
    "duration": 5,
    "start_time": "2022-09-12T21:21:44.911Z"
   },
   {
    "duration": 177,
    "start_time": "2022-09-12T21:21:44.917Z"
   },
   {
    "duration": 629,
    "start_time": "2022-09-12T21:21:45.095Z"
   },
   {
    "duration": 4,
    "start_time": "2022-09-12T21:21:45.727Z"
   },
   {
    "duration": 14,
    "start_time": "2022-09-12T21:21:45.732Z"
   },
   {
    "duration": 15,
    "start_time": "2022-09-12T21:21:45.747Z"
   },
   {
    "duration": 26,
    "start_time": "2022-09-12T21:21:45.763Z"
   },
   {
    "duration": 31,
    "start_time": "2022-09-12T21:21:45.791Z"
   },
   {
    "duration": 11,
    "start_time": "2022-09-12T21:21:45.824Z"
   },
   {
    "duration": 333,
    "start_time": "2022-09-12T21:21:45.837Z"
   },
   {
    "duration": 284,
    "start_time": "2022-09-12T21:21:46.172Z"
   },
   {
    "duration": 333,
    "start_time": "2022-09-12T21:21:59.416Z"
   },
   {
    "duration": 261,
    "start_time": "2022-09-12T21:22:35.200Z"
   },
   {
    "duration": 306,
    "start_time": "2022-09-12T21:22:47.588Z"
   },
   {
    "duration": 90,
    "start_time": "2022-09-12T21:23:16.268Z"
   },
   {
    "duration": 257,
    "start_time": "2022-09-12T21:23:31.945Z"
   },
   {
    "duration": 261,
    "start_time": "2022-09-12T21:23:49.558Z"
   },
   {
    "duration": 98,
    "start_time": "2022-09-12T21:26:27.214Z"
   },
   {
    "duration": 5,
    "start_time": "2022-09-12T21:29:08.098Z"
   },
   {
    "duration": 1163,
    "start_time": "2022-09-12T21:34:51.699Z"
   },
   {
    "duration": 1124,
    "start_time": "2022-09-12T21:35:19.576Z"
   },
   {
    "duration": 297,
    "start_time": "2022-09-12T21:35:49.606Z"
   },
   {
    "duration": 145,
    "start_time": "2022-09-12T21:35:55.426Z"
   },
   {
    "duration": 203,
    "start_time": "2022-09-12T21:36:17.693Z"
   },
   {
    "duration": 183,
    "start_time": "2022-09-12T21:37:01.458Z"
   },
   {
    "duration": 205,
    "start_time": "2022-09-12T21:37:20.392Z"
   },
   {
    "duration": 127,
    "start_time": "2022-09-12T21:37:24.188Z"
   },
   {
    "duration": 126,
    "start_time": "2022-09-12T21:37:43.971Z"
   },
   {
    "duration": 134,
    "start_time": "2022-09-12T21:37:50.538Z"
   },
   {
    "duration": 150,
    "start_time": "2022-09-12T21:37:58.473Z"
   },
   {
    "duration": 120,
    "start_time": "2022-09-12T21:38:13.837Z"
   },
   {
    "duration": 213,
    "start_time": "2022-09-12T21:38:20.088Z"
   },
   {
    "duration": 140,
    "start_time": "2022-09-12T21:38:51.161Z"
   },
   {
    "duration": 127,
    "start_time": "2022-09-12T21:39:02.738Z"
   },
   {
    "duration": 124,
    "start_time": "2022-09-12T21:39:14.825Z"
   },
   {
    "duration": 132,
    "start_time": "2022-09-12T21:39:22.262Z"
   },
   {
    "duration": 155,
    "start_time": "2022-09-12T21:39:30.564Z"
   },
   {
    "duration": 141,
    "start_time": "2022-09-12T21:39:38.305Z"
   },
   {
    "duration": 7,
    "start_time": "2022-09-12T21:40:07.282Z"
   },
   {
    "duration": 9,
    "start_time": "2022-09-12T21:40:59.245Z"
   },
   {
    "duration": 8,
    "start_time": "2022-09-12T21:42:28.271Z"
   },
   {
    "duration": 9,
    "start_time": "2022-09-12T21:42:46.346Z"
   },
   {
    "duration": 108,
    "start_time": "2022-09-12T21:44:30.517Z"
   },
   {
    "duration": 78,
    "start_time": "2022-09-12T21:44:38.923Z"
   },
   {
    "duration": 88,
    "start_time": "2022-09-12T21:44:55.010Z"
   },
   {
    "duration": 82,
    "start_time": "2022-09-12T21:45:04.555Z"
   },
   {
    "duration": 81,
    "start_time": "2022-09-12T21:45:26.718Z"
   },
   {
    "duration": 155,
    "start_time": "2022-09-12T21:46:06.961Z"
   },
   {
    "duration": 139,
    "start_time": "2022-09-12T21:46:13.277Z"
   },
   {
    "duration": 137,
    "start_time": "2022-09-12T21:46:18.152Z"
   },
   {
    "duration": 173,
    "start_time": "2022-09-12T21:46:27.730Z"
   },
   {
    "duration": 155,
    "start_time": "2022-09-12T21:46:33.499Z"
   },
   {
    "duration": 157,
    "start_time": "2022-09-12T21:46:37.117Z"
   },
   {
    "duration": 11,
    "start_time": "2022-09-12T21:47:33.617Z"
   },
   {
    "duration": 9,
    "start_time": "2022-09-12T21:47:41.463Z"
   },
   {
    "duration": 8,
    "start_time": "2022-09-12T21:48:08.495Z"
   },
   {
    "duration": 7,
    "start_time": "2022-09-12T21:49:24.042Z"
   },
   {
    "duration": 15,
    "start_time": "2022-09-12T21:50:45.038Z"
   },
   {
    "duration": 7,
    "start_time": "2022-09-12T21:54:20.608Z"
   },
   {
    "duration": 5,
    "start_time": "2022-09-12T21:56:10.450Z"
   },
   {
    "duration": 8,
    "start_time": "2022-09-12T21:56:21.143Z"
   },
   {
    "duration": 8,
    "start_time": "2022-09-12T21:57:02.393Z"
   },
   {
    "duration": 82,
    "start_time": "2022-09-12T21:57:13.517Z"
   },
   {
    "duration": 5,
    "start_time": "2022-09-12T21:57:16.574Z"
   },
   {
    "duration": 11,
    "start_time": "2022-09-12T21:58:44.211Z"
   },
   {
    "duration": 4,
    "start_time": "2022-09-12T21:58:50.805Z"
   },
   {
    "duration": 9,
    "start_time": "2022-09-12T21:59:43.440Z"
   },
   {
    "duration": 9,
    "start_time": "2022-09-12T22:01:11.264Z"
   },
   {
    "duration": 10,
    "start_time": "2022-09-12T22:01:17.665Z"
   },
   {
    "duration": 7,
    "start_time": "2022-09-12T22:01:43.727Z"
   },
   {
    "duration": 8,
    "start_time": "2022-09-12T22:01:51.105Z"
   },
   {
    "duration": 883,
    "start_time": "2022-09-12T22:04:19.892Z"
   },
   {
    "duration": 717,
    "start_time": "2022-09-12T22:04:36.955Z"
   },
   {
    "duration": 1172,
    "start_time": "2022-09-12T22:05:07.476Z"
   },
   {
    "duration": 1128,
    "start_time": "2022-09-12T22:05:20.596Z"
   },
   {
    "duration": 1316,
    "start_time": "2022-09-12T22:05:36.779Z"
   },
   {
    "duration": 1097,
    "start_time": "2022-09-12T22:06:25.167Z"
   },
   {
    "duration": 58,
    "start_time": "2022-09-12T22:06:26.266Z"
   },
   {
    "duration": 22,
    "start_time": "2022-09-12T22:06:26.325Z"
   },
   {
    "duration": 26,
    "start_time": "2022-09-12T22:06:26.349Z"
   },
   {
    "duration": 23,
    "start_time": "2022-09-12T22:06:26.376Z"
   },
   {
    "duration": 8,
    "start_time": "2022-09-12T22:06:26.401Z"
   },
   {
    "duration": 5,
    "start_time": "2022-09-12T22:06:26.411Z"
   },
   {
    "duration": 178,
    "start_time": "2022-09-12T22:06:26.417Z"
   },
   {
    "duration": 603,
    "start_time": "2022-09-12T22:06:26.596Z"
   },
   {
    "duration": 4,
    "start_time": "2022-09-12T22:06:27.202Z"
   },
   {
    "duration": 5,
    "start_time": "2022-09-12T22:06:27.208Z"
   },
   {
    "duration": 14,
    "start_time": "2022-09-12T22:06:27.214Z"
   },
   {
    "duration": 13,
    "start_time": "2022-09-12T22:06:27.230Z"
   },
   {
    "duration": 50,
    "start_time": "2022-09-12T22:06:27.245Z"
   },
   {
    "duration": 15,
    "start_time": "2022-09-12T22:06:27.297Z"
   },
   {
    "duration": 382,
    "start_time": "2022-09-12T22:06:27.314Z"
   },
   {
    "duration": 272,
    "start_time": "2022-09-12T22:06:27.698Z"
   },
   {
    "duration": 8,
    "start_time": "2022-09-12T22:06:27.976Z"
   },
   {
    "duration": 217,
    "start_time": "2022-09-12T22:06:27.989Z"
   },
   {
    "duration": 8,
    "start_time": "2022-09-12T22:06:28.208Z"
   },
   {
    "duration": 7,
    "start_time": "2022-09-12T22:06:28.218Z"
   },
   {
    "duration": 6,
    "start_time": "2022-09-12T22:06:28.227Z"
   },
   {
    "duration": 11,
    "start_time": "2022-09-12T22:06:28.235Z"
   },
   {
    "duration": 1142,
    "start_time": "2022-09-12T22:06:28.248Z"
   },
   {
    "duration": 11,
    "start_time": "2022-09-12T22:06:29.392Z"
   },
   {
    "duration": 3,
    "start_time": "2022-09-12T22:06:29.405Z"
   },
   {
    "duration": 1108,
    "start_time": "2022-09-12T22:06:59.503Z"
   },
   {
    "duration": 8,
    "start_time": "2022-09-12T22:08:28.626Z"
   },
   {
    "duration": 13,
    "start_time": "2022-09-12T22:12:53.796Z"
   },
   {
    "duration": 9,
    "start_time": "2022-09-12T22:18:28.943Z"
   },
   {
    "duration": 13,
    "start_time": "2022-09-12T22:21:35.560Z"
   },
   {
    "duration": 9,
    "start_time": "2022-09-12T22:21:38.641Z"
   },
   {
    "duration": 94,
    "start_time": "2022-09-12T22:24:13.576Z"
   },
   {
    "duration": 24,
    "start_time": "2022-09-12T22:24:18.373Z"
   },
   {
    "duration": 1306,
    "start_time": "2022-09-12T22:25:31.599Z"
   },
   {
    "duration": 5,
    "start_time": "2022-09-12T22:25:40.332Z"
   },
   {
    "duration": 17,
    "start_time": "2022-09-12T22:26:19.153Z"
   },
   {
    "duration": 17,
    "start_time": "2022-09-12T22:27:54.677Z"
   },
   {
    "duration": 16,
    "start_time": "2022-09-12T22:28:04.980Z"
   },
   {
    "duration": 15,
    "start_time": "2022-09-12T22:28:11.250Z"
   },
   {
    "duration": 13,
    "start_time": "2022-09-12T22:28:49.085Z"
   },
   {
    "duration": 8,
    "start_time": "2022-09-12T22:30:52.025Z"
   },
   {
    "duration": 5,
    "start_time": "2022-09-12T22:32:19.691Z"
   },
   {
    "duration": 74,
    "start_time": "2022-09-12T22:41:46.560Z"
   },
   {
    "duration": 129,
    "start_time": "2022-09-12T22:41:51.161Z"
   },
   {
    "duration": 94,
    "start_time": "2022-09-12T22:42:04.814Z"
   },
   {
    "duration": 154,
    "start_time": "2022-09-12T22:42:17.785Z"
   },
   {
    "duration": 9,
    "start_time": "2022-09-12T22:43:05.356Z"
   },
   {
    "duration": 202,
    "start_time": "2022-09-12T22:43:49.729Z"
   },
   {
    "duration": 153,
    "start_time": "2022-09-12T22:43:59.663Z"
   },
   {
    "duration": 222,
    "start_time": "2022-09-12T22:44:10.492Z"
   },
   {
    "duration": 6,
    "start_time": "2022-09-12T22:45:19.184Z"
   },
   {
    "duration": 4,
    "start_time": "2022-09-12T22:45:36.246Z"
   },
   {
    "duration": 4,
    "start_time": "2022-09-12T22:46:38.476Z"
   },
   {
    "duration": 128,
    "start_time": "2022-09-12T22:46:46.108Z"
   },
   {
    "duration": 13,
    "start_time": "2022-09-12T22:47:36.688Z"
   },
   {
    "duration": 6,
    "start_time": "2022-09-12T22:48:45.379Z"
   },
   {
    "duration": 5,
    "start_time": "2022-09-12T22:49:53.035Z"
   },
   {
    "duration": 9,
    "start_time": "2022-09-12T22:53:28.690Z"
   },
   {
    "duration": 15,
    "start_time": "2022-09-12T22:53:35.018Z"
   },
   {
    "duration": 227,
    "start_time": "2022-09-12T22:58:03.002Z"
   },
   {
    "duration": 226,
    "start_time": "2022-09-12T22:58:24.919Z"
   },
   {
    "duration": 196,
    "start_time": "2022-09-12T22:58:40.460Z"
   },
   {
    "duration": 201,
    "start_time": "2022-09-12T22:58:56.039Z"
   },
   {
    "duration": 26,
    "start_time": "2022-09-12T22:59:13.707Z"
   },
   {
    "duration": 173,
    "start_time": "2022-09-12T22:59:45.420Z"
   },
   {
    "duration": 187,
    "start_time": "2022-09-12T23:00:03.643Z"
   },
   {
    "duration": 12,
    "start_time": "2022-09-12T23:00:55.255Z"
   },
   {
    "duration": 6,
    "start_time": "2022-09-12T23:01:23.455Z"
   },
   {
    "duration": 46,
    "start_time": "2022-09-12T23:07:03.666Z"
   },
   {
    "duration": 43,
    "start_time": "2022-09-12T23:07:26.880Z"
   },
   {
    "duration": 12,
    "start_time": "2022-09-12T23:08:22.203Z"
   },
   {
    "duration": 64,
    "start_time": "2022-09-12T23:08:47.981Z"
   },
   {
    "duration": 36,
    "start_time": "2022-09-12T23:08:52.213Z"
   },
   {
    "duration": 42,
    "start_time": "2022-09-12T23:09:02.989Z"
   },
   {
    "duration": 39,
    "start_time": "2022-09-12T23:09:16.735Z"
   },
   {
    "duration": 45,
    "start_time": "2022-09-12T23:09:24.883Z"
   },
   {
    "duration": 1025,
    "start_time": "2022-09-12T23:09:50.316Z"
   },
   {
    "duration": 49,
    "start_time": "2022-09-12T23:09:51.343Z"
   },
   {
    "duration": 20,
    "start_time": "2022-09-12T23:09:51.394Z"
   },
   {
    "duration": 25,
    "start_time": "2022-09-12T23:09:51.416Z"
   },
   {
    "duration": 12,
    "start_time": "2022-09-12T23:09:51.442Z"
   },
   {
    "duration": 26,
    "start_time": "2022-09-12T23:09:51.455Z"
   },
   {
    "duration": 4,
    "start_time": "2022-09-12T23:09:51.483Z"
   },
   {
    "duration": 166,
    "start_time": "2022-09-12T23:09:51.488Z"
   },
   {
    "duration": 594,
    "start_time": "2022-09-12T23:09:51.655Z"
   },
   {
    "duration": 4,
    "start_time": "2022-09-12T23:09:52.252Z"
   },
   {
    "duration": 6,
    "start_time": "2022-09-12T23:09:52.257Z"
   },
   {
    "duration": 20,
    "start_time": "2022-09-12T23:09:52.265Z"
   },
   {
    "duration": 17,
    "start_time": "2022-09-12T23:09:52.287Z"
   },
   {
    "duration": 25,
    "start_time": "2022-09-12T23:09:52.305Z"
   },
   {
    "duration": 11,
    "start_time": "2022-09-12T23:09:52.331Z"
   },
   {
    "duration": 342,
    "start_time": "2022-09-12T23:09:52.344Z"
   },
   {
    "duration": 273,
    "start_time": "2022-09-12T23:09:52.688Z"
   },
   {
    "duration": 4,
    "start_time": "2022-09-12T23:09:52.963Z"
   },
   {
    "duration": 208,
    "start_time": "2022-09-12T23:09:52.977Z"
   },
   {
    "duration": 9,
    "start_time": "2022-09-12T23:09:53.187Z"
   },
   {
    "duration": 10,
    "start_time": "2022-09-12T23:09:53.197Z"
   },
   {
    "duration": 6,
    "start_time": "2022-09-12T23:09:53.208Z"
   },
   {
    "duration": 1094,
    "start_time": "2022-09-12T23:09:53.216Z"
   },
   {
    "duration": 11,
    "start_time": "2022-09-12T23:09:54.312Z"
   },
   {
    "duration": 4,
    "start_time": "2022-09-12T23:09:54.324Z"
   },
   {
    "duration": 9,
    "start_time": "2022-09-12T23:09:54.330Z"
   },
   {
    "duration": 12,
    "start_time": "2022-09-12T23:09:54.340Z"
   },
   {
    "duration": 9,
    "start_time": "2022-09-12T23:09:54.378Z"
   },
   {
    "duration": 12,
    "start_time": "2022-09-12T23:09:54.388Z"
   },
   {
    "duration": 5,
    "start_time": "2022-09-12T23:09:54.402Z"
   },
   {
    "duration": 29,
    "start_time": "2022-09-12T23:09:54.408Z"
   },
   {
    "duration": 9,
    "start_time": "2022-09-12T23:09:54.439Z"
   },
   {
    "duration": 152,
    "start_time": "2022-09-12T23:09:54.450Z"
   },
   {
    "duration": 5,
    "start_time": "2022-09-12T23:09:54.604Z"
   },
   {
    "duration": 6,
    "start_time": "2022-09-12T23:09:54.610Z"
   },
   {
    "duration": 141,
    "start_time": "2022-09-12T23:09:54.617Z"
   },
   {
    "duration": 19,
    "start_time": "2022-09-12T23:09:54.759Z"
   },
   {
    "duration": 14,
    "start_time": "2022-09-12T23:09:54.780Z"
   },
   {
    "duration": 6,
    "start_time": "2022-09-12T23:09:54.796Z"
   },
   {
    "duration": 204,
    "start_time": "2022-09-12T23:09:54.804Z"
   },
   {
    "duration": 7,
    "start_time": "2022-09-12T23:09:55.009Z"
   },
   {
    "duration": 51,
    "start_time": "2022-09-12T23:09:55.017Z"
   },
   {
    "duration": 142,
    "start_time": "2022-09-12T23:10:02.220Z"
   },
   {
    "duration": 45,
    "start_time": "2022-09-12T23:10:10.578Z"
   },
   {
    "duration": 13,
    "start_time": "2022-09-12T23:10:40.295Z"
   },
   {
    "duration": 7,
    "start_time": "2022-09-12T23:10:50.969Z"
   },
   {
    "duration": 33,
    "start_time": "2022-09-12T23:11:05.924Z"
   },
   {
    "duration": 19,
    "start_time": "2022-09-12T23:11:16.472Z"
   },
   {
    "duration": 12,
    "start_time": "2022-09-12T23:11:27.760Z"
   },
   {
    "duration": 44,
    "start_time": "2022-09-13T18:40:32.141Z"
   },
   {
    "duration": 44,
    "start_time": "2022-09-13T18:42:06.343Z"
   },
   {
    "duration": 11,
    "start_time": "2022-09-13T18:42:16.011Z"
   },
   {
    "duration": 47,
    "start_time": "2022-09-13T18:42:16.023Z"
   },
   {
    "duration": 16,
    "start_time": "2022-09-13T18:42:16.072Z"
   },
   {
    "duration": 29,
    "start_time": "2022-09-13T18:42:16.090Z"
   },
   {
    "duration": 12,
    "start_time": "2022-09-13T18:42:16.120Z"
   },
   {
    "duration": 8,
    "start_time": "2022-09-13T18:42:16.133Z"
   },
   {
    "duration": 3,
    "start_time": "2022-09-13T18:42:16.143Z"
   },
   {
    "duration": 169,
    "start_time": "2022-09-13T18:42:16.148Z"
   },
   {
    "duration": 598,
    "start_time": "2022-09-13T18:42:16.318Z"
   },
   {
    "duration": 4,
    "start_time": "2022-09-13T18:42:16.918Z"
   },
   {
    "duration": 6,
    "start_time": "2022-09-13T18:42:16.923Z"
   },
   {
    "duration": 17,
    "start_time": "2022-09-13T18:42:16.930Z"
   },
   {
    "duration": 14,
    "start_time": "2022-09-13T18:42:16.949Z"
   },
   {
    "duration": 22,
    "start_time": "2022-09-13T18:42:16.965Z"
   },
   {
    "duration": 34,
    "start_time": "2022-09-13T18:42:16.989Z"
   },
   {
    "duration": 324,
    "start_time": "2022-09-13T18:42:17.024Z"
   },
   {
    "duration": 273,
    "start_time": "2022-09-13T18:42:17.349Z"
   },
   {
    "duration": 5,
    "start_time": "2022-09-13T18:42:17.623Z"
   },
   {
    "duration": 146,
    "start_time": "2022-09-13T18:42:17.629Z"
   },
   {
    "duration": 8,
    "start_time": "2022-09-13T18:42:17.777Z"
   },
   {
    "duration": 11,
    "start_time": "2022-09-13T18:42:17.787Z"
   },
   {
    "duration": 7,
    "start_time": "2022-09-13T18:42:17.799Z"
   },
   {
    "duration": 1078,
    "start_time": "2022-09-13T18:48:19.649Z"
   },
   {
    "duration": 1084,
    "start_time": "2022-09-13T18:48:33.421Z"
   },
   {
    "duration": 50,
    "start_time": "2022-09-13T18:48:34.507Z"
   },
   {
    "duration": 22,
    "start_time": "2022-09-13T18:48:34.558Z"
   },
   {
    "duration": 27,
    "start_time": "2022-09-13T18:48:34.582Z"
   },
   {
    "duration": 22,
    "start_time": "2022-09-13T18:48:34.610Z"
   },
   {
    "duration": 9,
    "start_time": "2022-09-13T18:48:34.633Z"
   },
   {
    "duration": 6,
    "start_time": "2022-09-13T18:48:34.643Z"
   },
   {
    "duration": 192,
    "start_time": "2022-09-13T18:48:34.650Z"
   },
   {
    "duration": 648,
    "start_time": "2022-09-13T18:48:34.844Z"
   },
   {
    "duration": 4,
    "start_time": "2022-09-13T18:48:35.494Z"
   },
   {
    "duration": 5,
    "start_time": "2022-09-13T18:48:35.500Z"
   },
   {
    "duration": 27,
    "start_time": "2022-09-13T18:48:35.506Z"
   },
   {
    "duration": 15,
    "start_time": "2022-09-13T18:48:35.535Z"
   },
   {
    "duration": 24,
    "start_time": "2022-09-13T18:48:35.551Z"
   },
   {
    "duration": 12,
    "start_time": "2022-09-13T18:48:35.576Z"
   },
   {
    "duration": 395,
    "start_time": "2022-09-13T18:48:35.589Z"
   },
   {
    "duration": 274,
    "start_time": "2022-09-13T18:48:35.986Z"
   },
   {
    "duration": 5,
    "start_time": "2022-09-13T18:48:36.261Z"
   },
   {
    "duration": 228,
    "start_time": "2022-09-13T18:48:36.268Z"
   },
   {
    "duration": 8,
    "start_time": "2022-09-13T18:48:36.498Z"
   },
   {
    "duration": 22,
    "start_time": "2022-09-13T18:48:36.508Z"
   },
   {
    "duration": 27,
    "start_time": "2022-09-13T18:48:36.532Z"
   },
   {
    "duration": 1171,
    "start_time": "2022-09-13T18:48:36.560Z"
   },
   {
    "duration": 11,
    "start_time": "2022-09-13T18:48:37.733Z"
   },
   {
    "duration": 16,
    "start_time": "2022-09-13T18:48:37.745Z"
   },
   {
    "duration": 28,
    "start_time": "2022-09-13T18:48:37.762Z"
   },
   {
    "duration": 18,
    "start_time": "2022-09-13T18:48:37.791Z"
   },
   {
    "duration": 16,
    "start_time": "2022-09-13T18:48:37.812Z"
   },
   {
    "duration": 27,
    "start_time": "2022-09-13T18:48:37.830Z"
   },
   {
    "duration": 6,
    "start_time": "2022-09-13T18:48:37.858Z"
   },
   {
    "duration": 31,
    "start_time": "2022-09-13T18:48:37.866Z"
   },
   {
    "duration": 19,
    "start_time": "2022-09-13T18:48:37.899Z"
   },
   {
    "duration": 166,
    "start_time": "2022-09-13T18:48:37.920Z"
   },
   {
    "duration": 5,
    "start_time": "2022-09-13T18:48:38.087Z"
   },
   {
    "duration": 28,
    "start_time": "2022-09-13T18:48:38.094Z"
   },
   {
    "duration": 157,
    "start_time": "2022-09-13T18:48:38.123Z"
   },
   {
    "duration": 14,
    "start_time": "2022-09-13T18:48:38.282Z"
   },
   {
    "duration": 32,
    "start_time": "2022-09-13T18:48:38.297Z"
   },
   {
    "duration": 8,
    "start_time": "2022-09-13T18:48:38.330Z"
   },
   {
    "duration": 211,
    "start_time": "2022-09-13T18:48:38.339Z"
   },
   {
    "duration": 6,
    "start_time": "2022-09-13T18:48:38.552Z"
   },
   {
    "duration": 20,
    "start_time": "2022-09-13T18:48:38.559Z"
   },
   {
    "duration": 32,
    "start_time": "2022-09-13T18:48:38.581Z"
   },
   {
    "duration": 50,
    "start_time": "2022-09-13T18:48:38.615Z"
   },
   {
    "duration": 19,
    "start_time": "2022-09-13T18:48:38.667Z"
   },
   {
    "duration": 14,
    "start_time": "2022-09-13T18:48:38.688Z"
   },
   {
    "duration": 134,
    "start_time": "2022-09-13T18:48:38.703Z"
   },
   {
    "duration": 136,
    "start_time": "2022-09-13T18:48:54.897Z"
   },
   {
    "duration": 118,
    "start_time": "2022-09-13T18:49:02.500Z"
   },
   {
    "duration": 162,
    "start_time": "2022-09-13T18:49:42.565Z"
   },
   {
    "duration": 260,
    "start_time": "2022-09-13T18:49:51.952Z"
   },
   {
    "duration": 192,
    "start_time": "2022-09-13T18:50:01.739Z"
   },
   {
    "duration": 275,
    "start_time": "2022-09-13T18:50:16.260Z"
   },
   {
    "duration": 194,
    "start_time": "2022-09-13T18:50:27.492Z"
   },
   {
    "duration": 6,
    "start_time": "2022-09-13T18:54:17.612Z"
   },
   {
    "duration": 222,
    "start_time": "2022-09-13T18:54:26.304Z"
   },
   {
    "duration": 10,
    "start_time": "2022-09-13T18:59:08.955Z"
   },
   {
    "duration": 209,
    "start_time": "2022-09-13T18:59:09.909Z"
   },
   {
    "duration": 184,
    "start_time": "2022-09-13T18:59:15.486Z"
   },
   {
    "duration": 170,
    "start_time": "2022-09-13T18:59:23.137Z"
   },
   {
    "duration": 158,
    "start_time": "2022-09-13T18:59:35.786Z"
   },
   {
    "duration": 264,
    "start_time": "2022-09-13T18:59:41.541Z"
   },
   {
    "duration": 161,
    "start_time": "2022-09-13T18:59:46.613Z"
   },
   {
    "duration": 47,
    "start_time": "2022-09-14T17:57:38.720Z"
   },
   {
    "duration": 1247,
    "start_time": "2022-09-14T17:57:47.857Z"
   },
   {
    "duration": 93,
    "start_time": "2022-09-14T17:57:49.106Z"
   },
   {
    "duration": 22,
    "start_time": "2022-09-14T17:57:49.200Z"
   },
   {
    "duration": 28,
    "start_time": "2022-09-14T17:57:49.224Z"
   },
   {
    "duration": 13,
    "start_time": "2022-09-14T17:57:49.255Z"
   },
   {
    "duration": 13,
    "start_time": "2022-09-14T17:57:49.269Z"
   },
   {
    "duration": 4,
    "start_time": "2022-09-14T17:57:49.284Z"
   },
   {
    "duration": 169,
    "start_time": "2022-09-14T17:57:49.309Z"
   },
   {
    "duration": 611,
    "start_time": "2022-09-14T17:57:49.480Z"
   },
   {
    "duration": 4,
    "start_time": "2022-09-14T17:57:50.092Z"
   },
   {
    "duration": 14,
    "start_time": "2022-09-14T17:57:50.097Z"
   },
   {
    "duration": 19,
    "start_time": "2022-09-14T17:57:50.112Z"
   },
   {
    "duration": 16,
    "start_time": "2022-09-14T17:57:50.133Z"
   },
   {
    "duration": 23,
    "start_time": "2022-09-14T17:57:50.152Z"
   },
   {
    "duration": 12,
    "start_time": "2022-09-14T17:57:50.176Z"
   },
   {
    "duration": 349,
    "start_time": "2022-09-14T17:57:50.189Z"
   },
   {
    "duration": 265,
    "start_time": "2022-09-14T17:57:50.539Z"
   },
   {
    "duration": 4,
    "start_time": "2022-09-14T17:57:50.806Z"
   },
   {
    "duration": 206,
    "start_time": "2022-09-14T17:57:50.812Z"
   },
   {
    "duration": 9,
    "start_time": "2022-09-14T17:57:51.020Z"
   },
   {
    "duration": 16,
    "start_time": "2022-09-14T17:57:51.031Z"
   },
   {
    "duration": 27,
    "start_time": "2022-09-14T17:57:51.049Z"
   },
   {
    "duration": 1063,
    "start_time": "2022-09-14T17:57:51.078Z"
   },
   {
    "duration": 12,
    "start_time": "2022-09-14T17:57:52.143Z"
   },
   {
    "duration": 20,
    "start_time": "2022-09-14T17:57:52.156Z"
   },
   {
    "duration": 22,
    "start_time": "2022-09-14T17:57:52.178Z"
   },
   {
    "duration": 14,
    "start_time": "2022-09-14T17:57:52.201Z"
   },
   {
    "duration": 19,
    "start_time": "2022-09-14T17:57:52.216Z"
   },
   {
    "duration": 15,
    "start_time": "2022-09-14T17:57:52.236Z"
   },
   {
    "duration": 4,
    "start_time": "2022-09-14T17:57:52.253Z"
   },
   {
    "duration": 23,
    "start_time": "2022-09-14T17:57:52.259Z"
   },
   {
    "duration": 10,
    "start_time": "2022-09-14T17:57:52.284Z"
   },
   {
    "duration": 151,
    "start_time": "2022-09-14T17:57:52.295Z"
   },
   {
    "duration": 5,
    "start_time": "2022-09-14T17:57:52.447Z"
   },
   {
    "duration": 6,
    "start_time": "2022-09-14T17:57:52.453Z"
   },
   {
    "duration": 142,
    "start_time": "2022-09-14T17:57:52.460Z"
   },
   {
    "duration": 12,
    "start_time": "2022-09-14T17:57:52.609Z"
   },
   {
    "duration": 14,
    "start_time": "2022-09-14T17:57:52.622Z"
   },
   {
    "duration": 4,
    "start_time": "2022-09-14T17:57:52.637Z"
   },
   {
    "duration": 206,
    "start_time": "2022-09-14T17:57:52.643Z"
   },
   {
    "duration": 6,
    "start_time": "2022-09-14T17:57:52.852Z"
   },
   {
    "duration": 18,
    "start_time": "2022-09-14T17:57:52.859Z"
   },
   {
    "duration": 22,
    "start_time": "2022-09-14T17:57:52.878Z"
   },
   {
    "duration": 34,
    "start_time": "2022-09-14T17:57:52.902Z"
   },
   {
    "duration": 18,
    "start_time": "2022-09-14T17:57:52.937Z"
   },
   {
    "duration": 14,
    "start_time": "2022-09-14T17:57:52.957Z"
   },
   {
    "duration": 190,
    "start_time": "2022-09-14T17:57:52.973Z"
   },
   {
    "duration": 5,
    "start_time": "2022-09-14T17:57:53.164Z"
   },
   {
    "duration": 184,
    "start_time": "2022-09-14T17:57:53.171Z"
   },
   {
    "duration": 220,
    "start_time": "2022-09-14T18:13:17.254Z"
   },
   {
    "duration": 124,
    "start_time": "2022-09-14T18:13:34.832Z"
   },
   {
    "duration": 5,
    "start_time": "2022-09-14T18:13:41.393Z"
   },
   {
    "duration": 196,
    "start_time": "2022-09-14T18:13:43.441Z"
   },
   {
    "duration": 105,
    "start_time": "2022-09-14T18:14:03.907Z"
   },
   {
    "duration": 5,
    "start_time": "2022-09-14T18:14:09.593Z"
   },
   {
    "duration": 2,
    "start_time": "2022-09-14T18:16:44.108Z"
   },
   {
    "duration": 1044,
    "start_time": "2022-09-14T18:16:52.039Z"
   },
   {
    "duration": 52,
    "start_time": "2022-09-14T18:16:53.085Z"
   },
   {
    "duration": 22,
    "start_time": "2022-09-14T18:16:53.138Z"
   },
   {
    "duration": 25,
    "start_time": "2022-09-14T18:16:53.161Z"
   },
   {
    "duration": 25,
    "start_time": "2022-09-14T18:16:53.187Z"
   },
   {
    "duration": 7,
    "start_time": "2022-09-14T18:16:53.214Z"
   },
   {
    "duration": 4,
    "start_time": "2022-09-14T18:16:53.223Z"
   },
   {
    "duration": 195,
    "start_time": "2022-09-14T18:16:53.228Z"
   },
   {
    "duration": 585,
    "start_time": "2022-09-14T18:16:53.424Z"
   },
   {
    "duration": 4,
    "start_time": "2022-09-14T18:16:54.011Z"
   },
   {
    "duration": 6,
    "start_time": "2022-09-14T18:16:54.016Z"
   },
   {
    "duration": 16,
    "start_time": "2022-09-14T18:16:54.023Z"
   },
   {
    "duration": 13,
    "start_time": "2022-09-14T18:16:54.040Z"
   },
   {
    "duration": 23,
    "start_time": "2022-09-14T18:16:54.054Z"
   },
   {
    "duration": 34,
    "start_time": "2022-09-14T18:16:54.078Z"
   },
   {
    "duration": 331,
    "start_time": "2022-09-14T18:16:54.113Z"
   },
   {
    "duration": 307,
    "start_time": "2022-09-14T18:16:54.446Z"
   },
   {
    "duration": 5,
    "start_time": "2022-09-14T18:16:54.755Z"
   },
   {
    "duration": 208,
    "start_time": "2022-09-14T18:16:54.762Z"
   },
   {
    "duration": 8,
    "start_time": "2022-09-14T18:16:54.972Z"
   },
   {
    "duration": 11,
    "start_time": "2022-09-14T18:16:54.981Z"
   },
   {
    "duration": 17,
    "start_time": "2022-09-14T18:16:54.993Z"
   },
   {
    "duration": 1086,
    "start_time": "2022-09-14T18:16:55.011Z"
   },
   {
    "duration": 17,
    "start_time": "2022-09-14T18:16:56.098Z"
   },
   {
    "duration": 3,
    "start_time": "2022-09-14T18:16:56.116Z"
   },
   {
    "duration": 8,
    "start_time": "2022-09-14T18:16:56.121Z"
   },
   {
    "duration": 15,
    "start_time": "2022-09-14T18:16:56.131Z"
   },
   {
    "duration": 9,
    "start_time": "2022-09-14T18:16:56.149Z"
   },
   {
    "duration": 16,
    "start_time": "2022-09-14T18:16:56.160Z"
   },
   {
    "duration": 35,
    "start_time": "2022-09-14T18:16:56.178Z"
   },
   {
    "duration": 11,
    "start_time": "2022-09-14T18:16:56.214Z"
   },
   {
    "duration": 6,
    "start_time": "2022-09-14T18:16:56.226Z"
   },
   {
    "duration": 179,
    "start_time": "2022-09-14T18:16:56.233Z"
   },
   {
    "duration": 5,
    "start_time": "2022-09-14T18:16:56.413Z"
   },
   {
    "duration": 8,
    "start_time": "2022-09-14T18:16:56.419Z"
   },
   {
    "duration": 161,
    "start_time": "2022-09-14T18:16:56.428Z"
   },
   {
    "duration": 20,
    "start_time": "2022-09-14T18:16:56.590Z"
   },
   {
    "duration": 13,
    "start_time": "2022-09-14T18:16:56.611Z"
   },
   {
    "duration": 4,
    "start_time": "2022-09-14T18:16:56.626Z"
   },
   {
    "duration": 212,
    "start_time": "2022-09-14T18:16:56.631Z"
   },
   {
    "duration": 6,
    "start_time": "2022-09-14T18:16:56.844Z"
   },
   {
    "duration": 15,
    "start_time": "2022-09-14T18:16:56.851Z"
   },
   {
    "duration": 6,
    "start_time": "2022-09-14T18:16:56.867Z"
   },
   {
    "duration": 45,
    "start_time": "2022-09-14T18:16:56.874Z"
   },
   {
    "duration": 18,
    "start_time": "2022-09-14T18:16:56.921Z"
   },
   {
    "duration": 22,
    "start_time": "2022-09-14T18:16:56.940Z"
   },
   {
    "duration": 184,
    "start_time": "2022-09-14T18:16:56.963Z"
   },
   {
    "duration": 2,
    "start_time": "2022-09-14T18:16:57.149Z"
   },
   {
    "duration": 121,
    "start_time": "2022-09-14T18:16:57.153Z"
   },
   {
    "duration": 6,
    "start_time": "2022-09-14T18:16:57.275Z"
   },
   {
    "duration": 5,
    "start_time": "2022-09-14T18:17:44.334Z"
   },
   {
    "duration": 114,
    "start_time": "2022-09-14T18:17:47.456Z"
   },
   {
    "duration": 120,
    "start_time": "2022-09-14T18:18:02.702Z"
   },
   {
    "duration": 123,
    "start_time": "2022-09-14T18:19:54.462Z"
   },
   {
    "duration": 256,
    "start_time": "2022-09-14T18:20:00.269Z"
   },
   {
    "duration": 195,
    "start_time": "2022-09-14T18:20:05.164Z"
   },
   {
    "duration": 185,
    "start_time": "2022-09-14T18:20:23.675Z"
   },
   {
    "duration": 29,
    "start_time": "2022-09-14T18:22:15.618Z"
   },
   {
    "duration": 10,
    "start_time": "2022-09-14T18:24:45.798Z"
   },
   {
    "duration": 4,
    "start_time": "2022-09-14T18:25:11.600Z"
   },
   {
    "duration": 8,
    "start_time": "2022-09-14T18:25:29.298Z"
   },
   {
    "duration": 4,
    "start_time": "2022-09-14T18:25:58.110Z"
   },
   {
    "duration": 4,
    "start_time": "2022-09-14T18:26:03.525Z"
   },
   {
    "duration": 4,
    "start_time": "2022-09-14T18:26:07.005Z"
   },
   {
    "duration": 4,
    "start_time": "2022-09-14T18:26:55.888Z"
   },
   {
    "duration": 11,
    "start_time": "2022-09-14T18:32:34.155Z"
   },
   {
    "duration": 282,
    "start_time": "2022-09-14T18:32:45.448Z"
   },
   {
    "duration": 293,
    "start_time": "2022-09-14T18:33:02.211Z"
   },
   {
    "duration": 294,
    "start_time": "2022-09-14T18:33:20.151Z"
   },
   {
    "duration": 293,
    "start_time": "2022-09-14T18:33:27.834Z"
   },
   {
    "duration": 1049,
    "start_time": "2022-09-14T19:03:55.435Z"
   },
   {
    "duration": 152,
    "start_time": "2022-09-14T19:04:04.150Z"
   },
   {
    "duration": 155,
    "start_time": "2022-09-14T19:05:49.150Z"
   },
   {
    "duration": 143,
    "start_time": "2022-09-14T19:05:55.867Z"
   },
   {
    "duration": 149,
    "start_time": "2022-09-14T19:11:13.311Z"
   },
   {
    "duration": 161,
    "start_time": "2022-09-14T19:11:32.878Z"
   },
   {
    "duration": 158,
    "start_time": "2022-09-14T19:11:42.349Z"
   },
   {
    "duration": 146,
    "start_time": "2022-09-14T19:14:47.413Z"
   },
   {
    "duration": 54,
    "start_time": "2022-09-14T19:22:52.576Z"
   },
   {
    "duration": 65,
    "start_time": "2022-09-14T19:23:03.019Z"
   },
   {
    "duration": 8,
    "start_time": "2022-09-14T19:23:07.631Z"
   },
   {
    "duration": 5,
    "start_time": "2022-09-14T19:23:24.415Z"
   },
   {
    "duration": 37,
    "start_time": "2022-09-14T19:23:34.809Z"
   },
   {
    "duration": 49,
    "start_time": "2022-09-14T19:23:46.666Z"
   },
   {
    "duration": 4,
    "start_time": "2022-09-14T19:23:58.998Z"
   },
   {
    "duration": 4,
    "start_time": "2022-09-14T19:24:38.746Z"
   },
   {
    "duration": 9,
    "start_time": "2022-09-14T19:28:18.008Z"
   },
   {
    "duration": 11,
    "start_time": "2022-09-14T19:28:23.559Z"
   },
   {
    "duration": 6,
    "start_time": "2022-09-14T19:28:32.035Z"
   },
   {
    "duration": 6,
    "start_time": "2022-09-14T19:29:04.609Z"
   },
   {
    "duration": 16,
    "start_time": "2022-09-14T19:30:44.466Z"
   },
   {
    "duration": 7,
    "start_time": "2022-09-14T19:32:21.835Z"
   },
   {
    "duration": 145,
    "start_time": "2022-09-14T19:38:50.359Z"
   },
   {
    "duration": 180,
    "start_time": "2022-09-14T19:38:54.409Z"
   },
   {
    "duration": 220,
    "start_time": "2022-09-14T19:39:17.934Z"
   },
   {
    "duration": 134,
    "start_time": "2022-09-14T19:44:24.834Z"
   },
   {
    "duration": 232,
    "start_time": "2022-09-14T19:44:46.199Z"
   },
   {
    "duration": 155,
    "start_time": "2022-09-14T19:45:02.744Z"
   },
   {
    "duration": 207,
    "start_time": "2022-09-14T19:45:15.699Z"
   },
   {
    "duration": 159,
    "start_time": "2022-09-14T19:45:23.539Z"
   },
   {
    "duration": 156,
    "start_time": "2022-09-14T19:45:48.571Z"
   },
   {
    "duration": 22,
    "start_time": "2022-09-14T19:50:13.293Z"
   },
   {
    "duration": 176,
    "start_time": "2022-09-14T19:50:38.393Z"
   },
   {
    "duration": 180,
    "start_time": "2022-09-14T19:54:10.066Z"
   },
   {
    "duration": 161,
    "start_time": "2022-09-14T19:54:21.865Z"
   },
   {
    "duration": 188,
    "start_time": "2022-09-14T19:56:04.801Z"
   },
   {
    "duration": 12,
    "start_time": "2022-09-14T19:58:35.762Z"
   },
   {
    "duration": 141,
    "start_time": "2022-09-14T19:59:20.973Z"
   },
   {
    "duration": 116,
    "start_time": "2022-09-14T19:59:32.233Z"
   },
   {
    "duration": 196,
    "start_time": "2022-09-14T20:01:30.093Z"
   },
   {
    "duration": 102,
    "start_time": "2022-09-14T20:01:33.033Z"
   },
   {
    "duration": 4,
    "start_time": "2022-09-14T20:03:59.172Z"
   },
   {
    "duration": 8,
    "start_time": "2022-09-14T20:15:47.301Z"
   },
   {
    "duration": 11,
    "start_time": "2022-09-14T20:15:56.775Z"
   },
   {
    "duration": 13,
    "start_time": "2022-09-14T20:38:03.293Z"
   },
   {
    "duration": 6,
    "start_time": "2022-09-14T20:40:56.846Z"
   },
   {
    "duration": 9,
    "start_time": "2022-09-14T20:41:25.698Z"
   },
   {
    "duration": 6,
    "start_time": "2022-09-14T20:41:40.797Z"
   },
   {
    "duration": 7,
    "start_time": "2022-09-14T20:44:31.522Z"
   },
   {
    "duration": 5,
    "start_time": "2022-09-14T20:44:43.709Z"
   },
   {
    "duration": 1158,
    "start_time": "2022-09-14T21:11:42.716Z"
   },
   {
    "duration": 56,
    "start_time": "2022-09-14T21:11:43.876Z"
   },
   {
    "duration": 22,
    "start_time": "2022-09-14T21:11:43.934Z"
   },
   {
    "duration": 26,
    "start_time": "2022-09-14T21:11:43.958Z"
   },
   {
    "duration": 32,
    "start_time": "2022-09-14T21:11:43.986Z"
   },
   {
    "duration": 8,
    "start_time": "2022-09-14T21:11:44.020Z"
   },
   {
    "duration": 4,
    "start_time": "2022-09-14T21:11:44.029Z"
   },
   {
    "duration": 191,
    "start_time": "2022-09-14T21:11:44.035Z"
   },
   {
    "duration": 669,
    "start_time": "2022-09-14T21:11:44.227Z"
   },
   {
    "duration": 4,
    "start_time": "2022-09-14T21:11:44.898Z"
   },
   {
    "duration": 3,
    "start_time": "2022-09-14T21:11:44.909Z"
   },
   {
    "duration": 16,
    "start_time": "2022-09-14T21:11:44.913Z"
   },
   {
    "duration": 14,
    "start_time": "2022-09-14T21:11:44.931Z"
   },
   {
    "duration": 38,
    "start_time": "2022-09-14T21:11:44.946Z"
   },
   {
    "duration": 23,
    "start_time": "2022-09-14T21:11:45.009Z"
   },
   {
    "duration": 345,
    "start_time": "2022-09-14T21:11:45.034Z"
   },
   {
    "duration": 269,
    "start_time": "2022-09-14T21:11:45.380Z"
   },
   {
    "duration": 4,
    "start_time": "2022-09-14T21:11:45.651Z"
   },
   {
    "duration": 211,
    "start_time": "2022-09-14T21:11:45.657Z"
   },
   {
    "duration": 8,
    "start_time": "2022-09-14T21:11:45.870Z"
   },
   {
    "duration": 19,
    "start_time": "2022-09-14T21:11:45.879Z"
   },
   {
    "duration": 10,
    "start_time": "2022-09-14T21:11:45.900Z"
   },
   {
    "duration": 1201,
    "start_time": "2022-09-14T21:11:45.911Z"
   },
   {
    "duration": 13,
    "start_time": "2022-09-14T21:11:47.113Z"
   },
   {
    "duration": 15,
    "start_time": "2022-09-14T21:11:47.127Z"
   },
   {
    "duration": 26,
    "start_time": "2022-09-14T21:11:47.144Z"
   },
   {
    "duration": 15,
    "start_time": "2022-09-14T21:11:47.172Z"
   },
   {
    "duration": 18,
    "start_time": "2022-09-14T21:11:47.192Z"
   },
   {
    "duration": 17,
    "start_time": "2022-09-14T21:11:47.212Z"
   },
   {
    "duration": 6,
    "start_time": "2022-09-14T21:11:47.231Z"
   },
   {
    "duration": 15,
    "start_time": "2022-09-14T21:11:47.238Z"
   },
   {
    "duration": 7,
    "start_time": "2022-09-14T21:11:47.255Z"
   },
   {
    "duration": 189,
    "start_time": "2022-09-14T21:11:47.263Z"
   },
   {
    "duration": 5,
    "start_time": "2022-09-14T21:11:47.453Z"
   },
   {
    "duration": 9,
    "start_time": "2022-09-14T21:11:47.459Z"
   },
   {
    "duration": 155,
    "start_time": "2022-09-14T21:11:47.469Z"
   },
   {
    "duration": 14,
    "start_time": "2022-09-14T21:11:47.625Z"
   },
   {
    "duration": 15,
    "start_time": "2022-09-14T21:11:47.640Z"
   },
   {
    "duration": 7,
    "start_time": "2022-09-14T21:11:47.657Z"
   },
   {
    "duration": 236,
    "start_time": "2022-09-14T21:11:47.665Z"
   },
   {
    "duration": 8,
    "start_time": "2022-09-14T21:11:47.903Z"
   },
   {
    "duration": 21,
    "start_time": "2022-09-14T21:11:47.912Z"
   },
   {
    "duration": 7,
    "start_time": "2022-09-14T21:11:47.935Z"
   },
   {
    "duration": 37,
    "start_time": "2022-09-14T21:11:47.943Z"
   },
   {
    "duration": 34,
    "start_time": "2022-09-14T21:11:47.982Z"
   },
   {
    "duration": 37,
    "start_time": "2022-09-14T21:11:48.019Z"
   },
   {
    "duration": 191,
    "start_time": "2022-09-14T21:11:48.057Z"
   },
   {
    "duration": 5,
    "start_time": "2022-09-14T21:11:48.250Z"
   },
   {
    "duration": 142,
    "start_time": "2022-09-14T21:11:48.256Z"
   },
   {
    "duration": 12,
    "start_time": "2022-09-14T21:11:48.400Z"
   },
   {
    "duration": 221,
    "start_time": "2022-09-14T21:11:48.414Z"
   },
   {
    "duration": 30,
    "start_time": "2022-09-14T21:11:48.637Z"
   },
   {
    "duration": 7,
    "start_time": "2022-09-14T21:11:48.668Z"
   },
   {
    "duration": 4,
    "start_time": "2022-09-14T21:11:48.677Z"
   },
   {
    "duration": 32,
    "start_time": "2022-09-14T21:11:48.682Z"
   },
   {
    "duration": 392,
    "start_time": "2022-09-14T21:11:48.716Z"
   },
   {
    "duration": 181,
    "start_time": "2022-09-14T21:11:49.109Z"
   },
   {
    "duration": 154,
    "start_time": "2022-09-14T21:11:49.292Z"
   },
   {
    "duration": 5,
    "start_time": "2022-09-14T21:11:49.448Z"
   },
   {
    "duration": 12,
    "start_time": "2022-09-14T21:11:49.455Z"
   },
   {
    "duration": 10,
    "start_time": "2022-09-14T21:11:49.469Z"
   },
   {
    "duration": 29,
    "start_time": "2022-09-14T21:11:49.481Z"
   },
   {
    "duration": 8,
    "start_time": "2022-09-14T21:11:49.512Z"
   },
   {
    "duration": 195,
    "start_time": "2022-09-14T21:11:49.521Z"
   },
   {
    "duration": 171,
    "start_time": "2022-09-14T21:11:49.718Z"
   },
   {
    "duration": 176,
    "start_time": "2022-09-14T21:11:49.890Z"
   },
   {
    "duration": 160,
    "start_time": "2022-09-14T21:11:50.068Z"
   },
   {
    "duration": 189,
    "start_time": "2022-09-14T21:11:50.229Z"
   },
   {
    "duration": 209,
    "start_time": "2022-09-14T21:11:50.420Z"
   },
   {
    "duration": 181,
    "start_time": "2022-09-14T21:11:50.630Z"
   },
   {
    "duration": 198,
    "start_time": "2022-09-14T21:11:50.812Z"
   },
   {
    "duration": 121,
    "start_time": "2022-09-14T21:11:51.012Z"
   },
   {
    "duration": 119,
    "start_time": "2022-09-14T21:11:51.135Z"
   },
   {
    "duration": 13,
    "start_time": "2022-09-14T21:11:51.255Z"
   },
   {
    "duration": 19,
    "start_time": "2022-09-14T21:11:51.270Z"
   },
   {
    "duration": 11,
    "start_time": "2022-09-14T21:11:51.291Z"
   },
   {
    "duration": 6,
    "start_time": "2022-09-14T21:11:51.308Z"
   },
   {
    "duration": 14,
    "start_time": "2022-09-14T21:11:51.315Z"
   },
   {
    "duration": 1339,
    "start_time": "2022-09-15T10:22:50.926Z"
   },
   {
    "duration": 92,
    "start_time": "2022-09-15T10:22:52.267Z"
   },
   {
    "duration": 23,
    "start_time": "2022-09-15T10:22:52.364Z"
   },
   {
    "duration": 27,
    "start_time": "2022-09-15T10:22:52.389Z"
   },
   {
    "duration": 14,
    "start_time": "2022-09-15T10:22:52.417Z"
   },
   {
    "duration": 9,
    "start_time": "2022-09-15T10:22:52.447Z"
   },
   {
    "duration": 4,
    "start_time": "2022-09-15T10:22:52.457Z"
   },
   {
    "duration": 190,
    "start_time": "2022-09-15T10:22:52.463Z"
   },
   {
    "duration": 625,
    "start_time": "2022-09-15T10:22:52.656Z"
   },
   {
    "duration": 4,
    "start_time": "2022-09-15T10:22:53.282Z"
   },
   {
    "duration": 11,
    "start_time": "2022-09-15T10:22:53.287Z"
   },
   {
    "duration": 15,
    "start_time": "2022-09-15T10:22:53.299Z"
   },
   {
    "duration": 17,
    "start_time": "2022-09-15T10:22:53.316Z"
   },
   {
    "duration": 25,
    "start_time": "2022-09-15T10:22:53.346Z"
   },
   {
    "duration": 14,
    "start_time": "2022-09-15T10:22:53.373Z"
   },
   {
    "duration": 381,
    "start_time": "2022-09-15T10:22:53.389Z"
   },
   {
    "duration": 290,
    "start_time": "2022-09-15T10:22:53.772Z"
   },
   {
    "duration": 6,
    "start_time": "2022-09-15T10:22:54.064Z"
   },
   {
    "duration": 230,
    "start_time": "2022-09-15T10:22:54.072Z"
   },
   {
    "duration": 9,
    "start_time": "2022-09-15T10:22:54.304Z"
   },
   {
    "duration": 34,
    "start_time": "2022-09-15T10:22:54.314Z"
   },
   {
    "duration": 13,
    "start_time": "2022-09-15T10:22:54.350Z"
   },
   {
    "duration": 1218,
    "start_time": "2022-09-15T10:22:54.365Z"
   },
   {
    "duration": 12,
    "start_time": "2022-09-15T10:22:55.584Z"
   },
   {
    "duration": 12,
    "start_time": "2022-09-15T10:22:55.598Z"
   },
   {
    "duration": 17,
    "start_time": "2022-09-15T10:22:55.611Z"
   },
   {
    "duration": 23,
    "start_time": "2022-09-15T10:22:55.631Z"
   },
   {
    "duration": 10,
    "start_time": "2022-09-15T10:22:55.656Z"
   },
   {
    "duration": 21,
    "start_time": "2022-09-15T10:22:55.668Z"
   },
   {
    "duration": 5,
    "start_time": "2022-09-15T10:22:55.691Z"
   },
   {
    "duration": 11,
    "start_time": "2022-09-15T10:22:55.698Z"
   },
   {
    "duration": 12,
    "start_time": "2022-09-15T10:22:55.710Z"
   },
   {
    "duration": 195,
    "start_time": "2022-09-15T10:22:55.724Z"
   },
   {
    "duration": 6,
    "start_time": "2022-09-15T10:22:55.921Z"
   },
   {
    "duration": 20,
    "start_time": "2022-09-15T10:22:55.928Z"
   },
   {
    "duration": 152,
    "start_time": "2022-09-15T10:22:55.949Z"
   },
   {
    "duration": 15,
    "start_time": "2022-09-15T10:22:56.102Z"
   },
   {
    "duration": 30,
    "start_time": "2022-09-15T10:22:56.118Z"
   },
   {
    "duration": 6,
    "start_time": "2022-09-15T10:22:56.150Z"
   },
   {
    "duration": 306,
    "start_time": "2022-09-15T10:22:56.157Z"
   },
   {
    "duration": 6,
    "start_time": "2022-09-15T10:22:56.465Z"
   },
   {
    "duration": 17,
    "start_time": "2022-09-15T10:22:56.473Z"
   },
   {
    "duration": 6,
    "start_time": "2022-09-15T10:22:56.492Z"
   },
   {
    "duration": 48,
    "start_time": "2022-09-15T10:22:56.499Z"
   },
   {
    "duration": 22,
    "start_time": "2022-09-15T10:22:56.549Z"
   },
   {
    "duration": 12,
    "start_time": "2022-09-15T10:22:56.573Z"
   },
   {
    "duration": 211,
    "start_time": "2022-09-15T10:22:56.587Z"
   },
   {
    "duration": 5,
    "start_time": "2022-09-15T10:22:56.800Z"
   },
   {
    "duration": 137,
    "start_time": "2022-09-15T10:22:56.807Z"
   },
   {
    "duration": 6,
    "start_time": "2022-09-15T10:22:56.946Z"
   },
   {
    "duration": 209,
    "start_time": "2022-09-15T10:22:56.953Z"
   },
   {
    "duration": 31,
    "start_time": "2022-09-15T10:22:57.164Z"
   },
   {
    "duration": 10,
    "start_time": "2022-09-15T10:22:57.196Z"
   },
   {
    "duration": 4,
    "start_time": "2022-09-15T10:22:57.208Z"
   },
   {
    "duration": 9,
    "start_time": "2022-09-15T10:22:57.213Z"
   },
   {
    "duration": 432,
    "start_time": "2022-09-15T10:22:57.223Z"
   },
   {
    "duration": 203,
    "start_time": "2022-09-15T10:22:57.658Z"
   },
   {
    "duration": 175,
    "start_time": "2022-09-15T10:22:57.863Z"
   },
   {
    "duration": 7,
    "start_time": "2022-09-15T10:22:58.040Z"
   },
   {
    "duration": 8,
    "start_time": "2022-09-15T10:22:58.049Z"
   },
   {
    "duration": 7,
    "start_time": "2022-09-15T10:22:58.058Z"
   },
   {
    "duration": 13,
    "start_time": "2022-09-15T10:22:58.066Z"
   },
   {
    "duration": 7,
    "start_time": "2022-09-15T10:22:58.081Z"
   },
   {
    "duration": 209,
    "start_time": "2022-09-15T10:22:58.090Z"
   },
   {
    "duration": 179,
    "start_time": "2022-09-15T10:22:58.301Z"
   },
   {
    "duration": 179,
    "start_time": "2022-09-15T10:22:58.482Z"
   },
   {
    "duration": 167,
    "start_time": "2022-09-15T10:22:58.663Z"
   },
   {
    "duration": 218,
    "start_time": "2022-09-15T10:22:58.832Z"
   },
   {
    "duration": 191,
    "start_time": "2022-09-15T10:22:59.052Z"
   },
   {
    "duration": 190,
    "start_time": "2022-09-15T10:22:59.247Z"
   },
   {
    "duration": 135,
    "start_time": "2022-09-15T10:22:59.439Z"
   },
   {
    "duration": 206,
    "start_time": "2022-09-15T10:22:59.576Z"
   },
   {
    "duration": 115,
    "start_time": "2022-09-15T10:22:59.784Z"
   },
   {
    "duration": 12,
    "start_time": "2022-09-15T10:22:59.901Z"
   },
   {
    "duration": 6,
    "start_time": "2022-09-15T10:22:59.915Z"
   },
   {
    "duration": 26,
    "start_time": "2022-09-15T10:22:59.922Z"
   },
   {
    "duration": 16,
    "start_time": "2022-09-15T10:22:59.949Z"
   },
   {
    "duration": 8,
    "start_time": "2022-09-15T10:22:59.967Z"
   },
   {
    "duration": 1365,
    "start_time": "2022-09-15T18:45:46.630Z"
   },
   {
    "duration": 97,
    "start_time": "2022-09-15T18:47:13.015Z"
   },
   {
    "duration": 53,
    "start_time": "2022-09-15T18:47:17.134Z"
   },
   {
    "duration": 26,
    "start_time": "2022-09-15T18:47:19.304Z"
   },
   {
    "duration": 32,
    "start_time": "2022-09-15T18:47:23.754Z"
   },
   {
    "duration": 14,
    "start_time": "2022-09-15T18:47:30.498Z"
   },
   {
    "duration": 10,
    "start_time": "2022-09-15T18:47:32.124Z"
   },
   {
    "duration": 5,
    "start_time": "2022-09-15T18:47:50.698Z"
   },
   {
    "duration": 208,
    "start_time": "2022-09-15T18:47:52.206Z"
   },
   {
    "duration": 747,
    "start_time": "2022-09-15T18:47:55.815Z"
   },
   {
    "duration": 3,
    "start_time": "2022-09-15T18:51:15.149Z"
   },
   {
    "duration": 18,
    "start_time": "2022-09-15T18:51:19.834Z"
   },
   {
    "duration": 14,
    "start_time": "2022-09-15T18:51:29.376Z"
   },
   {
    "duration": 37,
    "start_time": "2022-09-15T18:51:32.681Z"
   },
   {
    "duration": 399,
    "start_time": "2022-09-15T18:51:35.883Z"
   },
   {
    "duration": 320,
    "start_time": "2022-09-15T18:51:48.165Z"
   },
   {
    "duration": 6,
    "start_time": "2022-09-15T18:51:51.488Z"
   },
   {
    "duration": 235,
    "start_time": "2022-09-15T18:51:56.958Z"
   },
   {
    "duration": 9,
    "start_time": "2022-09-15T18:51:57.756Z"
   },
   {
    "duration": 9,
    "start_time": "2022-09-15T18:52:02.057Z"
   },
   {
    "duration": 6,
    "start_time": "2022-09-15T18:52:29.583Z"
   },
   {
    "duration": 1353,
    "start_time": "2022-09-15T18:52:31.601Z"
   },
   {
    "duration": 12,
    "start_time": "2022-09-15T18:52:34.284Z"
   },
   {
    "duration": 4,
    "start_time": "2022-09-15T18:52:38.552Z"
   },
   {
    "duration": 9,
    "start_time": "2022-09-15T18:52:39.533Z"
   },
   {
    "duration": 15,
    "start_time": "2022-09-15T18:57:05.920Z"
   },
   {
    "duration": 11,
    "start_time": "2022-09-15T18:57:23.477Z"
   },
   {
    "duration": 10,
    "start_time": "2022-09-15T18:57:41.730Z"
   },
   {
    "duration": 19,
    "start_time": "2022-09-15T18:59:21.984Z"
   },
   {
    "duration": 7,
    "start_time": "2022-09-15T18:59:27.818Z"
   },
   {
    "duration": 13,
    "start_time": "2022-09-15T18:59:30.466Z"
   },
   {
    "duration": 1589,
    "start_time": "2022-09-15T18:59:32.896Z"
   },
   {
    "duration": 5,
    "start_time": "2022-09-15T19:01:07.379Z"
   },
   {
    "duration": 190,
    "start_time": "2022-09-15T19:01:28.489Z"
   },
   {
    "duration": 5,
    "start_time": "2022-09-15T19:01:38.596Z"
   },
   {
    "duration": 1120,
    "start_time": "2022-09-15T19:01:51.990Z"
   },
   {
    "duration": 0,
    "start_time": "2022-09-15T19:01:53.111Z"
   },
   {
    "duration": 5,
    "start_time": "2022-09-15T19:02:17.356Z"
   },
   {
    "duration": 163,
    "start_time": "2022-09-15T19:02:19.197Z"
   },
   {
    "duration": 14,
    "start_time": "2022-09-15T19:02:35.957Z"
   },
   {
    "duration": 19,
    "start_time": "2022-09-15T19:02:59.028Z"
   },
   {
    "duration": 5,
    "start_time": "2022-09-15T19:03:10.851Z"
   },
   {
    "duration": 161,
    "start_time": "2022-09-15T19:03:11.888Z"
   },
   {
    "duration": 16,
    "start_time": "2022-09-15T19:03:14.194Z"
   },
   {
    "duration": 1191,
    "start_time": "2022-09-15T19:03:31.273Z"
   },
   {
    "duration": 59,
    "start_time": "2022-09-15T19:03:32.466Z"
   },
   {
    "duration": 26,
    "start_time": "2022-09-15T19:03:32.527Z"
   },
   {
    "duration": 32,
    "start_time": "2022-09-15T19:03:32.556Z"
   },
   {
    "duration": 33,
    "start_time": "2022-09-15T19:03:32.590Z"
   },
   {
    "duration": 23,
    "start_time": "2022-09-15T19:03:32.625Z"
   },
   {
    "duration": 15,
    "start_time": "2022-09-15T19:03:32.652Z"
   },
   {
    "duration": 201,
    "start_time": "2022-09-15T19:03:32.669Z"
   },
   {
    "duration": 765,
    "start_time": "2022-09-15T19:03:32.873Z"
   },
   {
    "duration": 3,
    "start_time": "2022-09-15T19:03:34.869Z"
   },
   {
    "duration": 15,
    "start_time": "2022-09-15T19:03:35.367Z"
   },
   {
    "duration": 13,
    "start_time": "2022-09-15T19:03:35.879Z"
   },
   {
    "duration": 32,
    "start_time": "2022-09-15T19:03:36.033Z"
   },
   {
    "duration": 15,
    "start_time": "2022-09-15T19:03:36.196Z"
   },
   {
    "duration": 421,
    "start_time": "2022-09-15T19:03:36.708Z"
   },
   {
    "duration": 335,
    "start_time": "2022-09-15T19:03:37.132Z"
   },
   {
    "duration": 6,
    "start_time": "2022-09-15T19:03:37.594Z"
   },
   {
    "duration": 260,
    "start_time": "2022-09-15T19:03:38.005Z"
   },
   {
    "duration": 11,
    "start_time": "2022-09-15T19:03:38.268Z"
   },
   {
    "duration": 11,
    "start_time": "2022-09-15T19:03:38.379Z"
   },
   {
    "duration": 5,
    "start_time": "2022-09-15T19:03:38.755Z"
   },
   {
    "duration": 1289,
    "start_time": "2022-09-15T19:03:39.990Z"
   },
   {
    "duration": 11,
    "start_time": "2022-09-15T19:03:41.281Z"
   },
   {
    "duration": 4,
    "start_time": "2022-09-15T19:03:41.294Z"
   },
   {
    "duration": 12,
    "start_time": "2022-09-15T19:03:41.760Z"
   },
   {
    "duration": 15,
    "start_time": "2022-09-15T19:03:45.313Z"
   },
   {
    "duration": 11,
    "start_time": "2022-09-15T19:03:45.648Z"
   },
   {
    "duration": 15,
    "start_time": "2022-09-15T19:03:46.669Z"
   },
   {
    "duration": 6,
    "start_time": "2022-09-15T19:03:48.085Z"
   },
   {
    "duration": 9,
    "start_time": "2022-09-15T19:03:48.291Z"
   },
   {
    "duration": 5,
    "start_time": "2022-09-15T19:03:50.201Z"
   },
   {
    "duration": 190,
    "start_time": "2022-09-15T19:03:52.006Z"
   },
   {
    "duration": 6,
    "start_time": "2022-09-15T19:03:53.572Z"
   },
   {
    "duration": 4,
    "start_time": "2022-09-15T19:03:55.711Z"
   },
   {
    "duration": 162,
    "start_time": "2022-09-15T19:04:06.344Z"
   },
   {
    "duration": 15,
    "start_time": "2022-09-15T19:04:36.591Z"
   },
   {
    "duration": 25,
    "start_time": "2022-09-15T19:04:42.720Z"
   },
   {
    "duration": 5,
    "start_time": "2022-09-15T19:04:45.841Z"
   },
   {
    "duration": 243,
    "start_time": "2022-09-15T19:04:47.798Z"
   },
   {
    "duration": 7,
    "start_time": "2022-09-15T19:04:48.359Z"
   },
   {
    "duration": 8,
    "start_time": "2022-09-15T19:05:09.651Z"
   },
   {
    "duration": 51,
    "start_time": "2022-09-15T19:05:16.103Z"
   },
   {
    "duration": 24,
    "start_time": "2022-09-15T19:05:21.890Z"
   },
   {
    "duration": 15,
    "start_time": "2022-09-15T19:05:23.940Z"
   },
   {
    "duration": 209,
    "start_time": "2022-09-15T19:06:59.999Z"
   },
   {
    "duration": 6,
    "start_time": "2022-09-15T19:07:01.282Z"
   },
   {
    "duration": 161,
    "start_time": "2022-09-15T19:07:03.421Z"
   },
   {
    "duration": 8,
    "start_time": "2022-09-15T19:07:09.283Z"
   },
   {
    "duration": 271,
    "start_time": "2022-09-15T19:07:17.291Z"
   },
   {
    "duration": 38,
    "start_time": "2022-09-15T19:07:21.323Z"
   },
   {
    "duration": 8,
    "start_time": "2022-09-15T19:07:28.128Z"
   },
   {
    "duration": 6,
    "start_time": "2022-09-15T19:07:31.041Z"
   },
   {
    "duration": 5,
    "start_time": "2022-09-15T19:07:33.051Z"
   },
   {
    "duration": 458,
    "start_time": "2022-09-15T19:07:59.858Z"
   },
   {
    "duration": 449,
    "start_time": "2022-09-15T19:12:37.126Z"
   },
   {
    "duration": 446,
    "start_time": "2022-09-15T19:12:54.112Z"
   },
   {
    "duration": 564,
    "start_time": "2022-09-15T19:14:46.731Z"
   },
   {
    "duration": 451,
    "start_time": "2022-09-15T19:14:56.443Z"
   },
   {
    "duration": 112,
    "start_time": "2022-09-15T19:16:26.184Z"
   },
   {
    "duration": 451,
    "start_time": "2022-09-15T19:16:30.456Z"
   },
   {
    "duration": 574,
    "start_time": "2022-09-15T19:17:08.039Z"
   },
   {
    "duration": 451,
    "start_time": "2022-09-15T19:17:16.600Z"
   },
   {
    "duration": 43,
    "start_time": "2022-09-15T19:17:37.655Z"
   },
   {
    "duration": 68,
    "start_time": "2022-09-15T19:17:44.552Z"
   },
   {
    "duration": 332,
    "start_time": "2022-09-15T19:20:41.088Z"
   },
   {
    "duration": 344,
    "start_time": "2022-09-15T19:20:45.346Z"
   },
   {
    "duration": 10,
    "start_time": "2022-09-15T19:23:07.125Z"
   },
   {
    "duration": 69,
    "start_time": "2022-09-15T19:24:53.148Z"
   },
   {
    "duration": 102,
    "start_time": "2022-09-15T19:25:55.532Z"
   },
   {
    "duration": 365,
    "start_time": "2022-09-15T19:26:02.624Z"
   },
   {
    "duration": 10,
    "start_time": "2022-09-15T19:31:12.670Z"
   },
   {
    "duration": 445,
    "start_time": "2022-09-15T19:31:43.177Z"
   },
   {
    "duration": 337,
    "start_time": "2022-09-15T19:31:59.860Z"
   },
   {
    "duration": 354,
    "start_time": "2022-09-15T19:32:06.483Z"
   },
   {
    "duration": 357,
    "start_time": "2022-09-15T19:32:13.867Z"
   },
   {
    "duration": 339,
    "start_time": "2022-09-15T19:32:22.716Z"
   },
   {
    "duration": 408,
    "start_time": "2022-09-15T19:32:28.691Z"
   },
   {
    "duration": 387,
    "start_time": "2022-09-15T19:33:01.193Z"
   },
   {
    "duration": 277,
    "start_time": "2022-09-15T19:33:08.483Z"
   },
   {
    "duration": 262,
    "start_time": "2022-09-15T19:33:16.355Z"
   },
   {
    "duration": 275,
    "start_time": "2022-09-15T19:33:23.006Z"
   },
   {
    "duration": 336,
    "start_time": "2022-09-15T19:33:36.312Z"
   },
   {
    "duration": 424,
    "start_time": "2022-09-15T19:33:47.975Z"
   },
   {
    "duration": 319,
    "start_time": "2022-09-15T19:36:02.070Z"
   },
   {
    "duration": 313,
    "start_time": "2022-09-15T19:36:07.587Z"
   },
   {
    "duration": 311,
    "start_time": "2022-09-15T19:36:14.079Z"
   },
   {
    "duration": 321,
    "start_time": "2022-09-15T19:36:25.183Z"
   },
   {
    "duration": 320,
    "start_time": "2022-09-15T19:36:34.146Z"
   },
   {
    "duration": 422,
    "start_time": "2022-09-15T19:36:42.676Z"
   },
   {
    "duration": 302,
    "start_time": "2022-09-15T19:36:47.105Z"
   },
   {
    "duration": 342,
    "start_time": "2022-09-15T19:36:52.968Z"
   },
   {
    "duration": 290,
    "start_time": "2022-09-15T19:37:01.194Z"
   },
   {
    "duration": 311,
    "start_time": "2022-09-15T19:37:07.800Z"
   },
   {
    "duration": 102,
    "start_time": "2022-09-15T19:44:12.692Z"
   },
   {
    "duration": 61,
    "start_time": "2022-09-15T19:47:06.188Z"
   },
   {
    "duration": 411,
    "start_time": "2022-09-15T19:47:23.644Z"
   },
   {
    "duration": 8,
    "start_time": "2022-09-15T19:48:10.692Z"
   },
   {
    "duration": 210,
    "start_time": "2022-09-15T19:48:19.042Z"
   },
   {
    "duration": 15,
    "start_time": "2022-09-15T19:48:47.121Z"
   },
   {
    "duration": 9,
    "start_time": "2022-09-15T19:49:07.251Z"
   },
   {
    "duration": 14,
    "start_time": "2022-09-15T19:49:19.143Z"
   },
   {
    "duration": 14,
    "start_time": "2022-09-15T19:49:20.866Z"
   },
   {
    "duration": 16,
    "start_time": "2022-09-15T19:49:32.022Z"
   },
   {
    "duration": 3,
    "start_time": "2022-09-15T19:51:27.880Z"
   },
   {
    "duration": 16,
    "start_time": "2022-09-15T19:51:35.863Z"
   },
   {
    "duration": 8,
    "start_time": "2022-09-15T19:52:00.293Z"
   },
   {
    "duration": 8,
    "start_time": "2022-09-15T19:52:01.718Z"
   },
   {
    "duration": 7,
    "start_time": "2022-09-15T19:52:15.765Z"
   },
   {
    "duration": 10,
    "start_time": "2022-09-15T19:52:17.096Z"
   },
   {
    "duration": 7,
    "start_time": "2022-09-15T19:52:27.146Z"
   },
   {
    "duration": 8,
    "start_time": "2022-09-15T19:52:27.851Z"
   },
   {
    "duration": 13,
    "start_time": "2022-09-15T19:52:31.831Z"
   },
   {
    "duration": 17,
    "start_time": "2022-09-15T19:53:01.935Z"
   },
   {
    "duration": 21,
    "start_time": "2022-09-15T19:53:03.031Z"
   },
   {
    "duration": 53,
    "start_time": "2022-09-15T19:59:55.078Z"
   },
   {
    "duration": 32,
    "start_time": "2022-09-15T20:00:06.428Z"
   },
   {
    "duration": 14,
    "start_time": "2022-09-15T20:00:11.417Z"
   },
   {
    "duration": 11,
    "start_time": "2022-09-15T20:00:18.777Z"
   },
   {
    "duration": 232,
    "start_time": "2022-09-15T20:00:25.943Z"
   },
   {
    "duration": 182,
    "start_time": "2022-09-15T20:00:33.366Z"
   },
   {
    "duration": 221,
    "start_time": "2022-09-15T20:00:40.429Z"
   },
   {
    "duration": 250,
    "start_time": "2022-09-15T20:00:49.578Z"
   },
   {
    "duration": 230,
    "start_time": "2022-09-15T20:01:10.123Z"
   },
   {
    "duration": 364,
    "start_time": "2022-09-15T20:02:51.548Z"
   },
   {
    "duration": 272,
    "start_time": "2022-09-15T20:03:40.232Z"
   },
   {
    "duration": 251,
    "start_time": "2022-09-15T20:03:46.179Z"
   },
   {
    "duration": 286,
    "start_time": "2022-09-15T20:04:29.778Z"
   },
   {
    "duration": 178,
    "start_time": "2022-09-15T20:04:41.832Z"
   },
   {
    "duration": 5,
    "start_time": "2022-09-15T20:05:00.950Z"
   },
   {
    "duration": 5,
    "start_time": "2022-09-15T20:05:05.065Z"
   },
   {
    "duration": 7,
    "start_time": "2022-09-15T20:05:07.849Z"
   },
   {
    "duration": 20,
    "start_time": "2022-09-15T20:05:51.573Z"
   },
   {
    "duration": 8,
    "start_time": "2022-09-15T20:09:42.431Z"
   },
   {
    "duration": 201,
    "start_time": "2022-09-15T20:09:45.950Z"
   },
   {
    "duration": 235,
    "start_time": "2022-09-15T20:09:59.788Z"
   },
   {
    "duration": 189,
    "start_time": "2022-09-15T20:10:10.938Z"
   },
   {
    "duration": 10,
    "start_time": "2022-09-15T20:10:43.915Z"
   },
   {
    "duration": 208,
    "start_time": "2022-09-15T20:12:03.408Z"
   },
   {
    "duration": 191,
    "start_time": "2022-09-15T20:12:05.267Z"
   },
   {
    "duration": 188,
    "start_time": "2022-09-15T20:12:11.350Z"
   },
   {
    "duration": 193,
    "start_time": "2022-09-15T20:12:15.086Z"
   },
   {
    "duration": 172,
    "start_time": "2022-09-15T20:12:15.598Z"
   },
   {
    "duration": 234,
    "start_time": "2022-09-15T20:13:24.408Z"
   },
   {
    "duration": 315,
    "start_time": "2022-09-15T20:13:46.167Z"
   },
   {
    "duration": 190,
    "start_time": "2022-09-15T20:13:57.274Z"
   },
   {
    "duration": 183,
    "start_time": "2022-09-15T20:14:04.497Z"
   },
   {
    "duration": 197,
    "start_time": "2022-09-15T20:14:24.457Z"
   },
   {
    "duration": 148,
    "start_time": "2022-09-15T20:14:55.494Z"
   },
   {
    "duration": 122,
    "start_time": "2022-09-15T20:15:24.940Z"
   },
   {
    "duration": 112,
    "start_time": "2022-09-15T20:15:34.486Z"
   },
   {
    "duration": 10,
    "start_time": "2022-09-15T20:17:30.360Z"
   },
   {
    "duration": 158,
    "start_time": "2022-09-15T20:17:40.410Z"
   },
   {
    "duration": 145,
    "start_time": "2022-09-15T20:18:39.432Z"
   },
   {
    "duration": 181,
    "start_time": "2022-09-15T20:18:50.846Z"
   },
   {
    "duration": 114,
    "start_time": "2022-09-15T20:18:56.042Z"
   },
   {
    "duration": 357,
    "start_time": "2022-09-15T20:22:09.086Z"
   },
   {
    "duration": 210,
    "start_time": "2022-09-15T20:22:10.815Z"
   },
   {
    "duration": 206,
    "start_time": "2022-09-15T20:22:11.364Z"
   },
   {
    "duration": 16,
    "start_time": "2022-09-15T20:22:35.216Z"
   },
   {
    "duration": 146,
    "start_time": "2022-09-15T20:22:44.146Z"
   },
   {
    "duration": 121,
    "start_time": "2022-09-15T20:22:51.575Z"
   },
   {
    "duration": 131,
    "start_time": "2022-09-15T20:22:59.828Z"
   },
   {
    "duration": 16,
    "start_time": "2022-09-15T20:23:06.831Z"
   },
   {
    "duration": 7,
    "start_time": "2022-09-15T20:23:08.387Z"
   },
   {
    "duration": 7,
    "start_time": "2022-09-15T20:23:09.021Z"
   },
   {
    "duration": 8,
    "start_time": "2022-09-15T20:23:11.974Z"
   },
   {
    "duration": 6,
    "start_time": "2022-09-15T20:23:12.205Z"
   },
   {
    "duration": 1178,
    "start_time": "2022-12-16T21:01:34.414Z"
   },
   {
    "duration": 103,
    "start_time": "2022-12-16T21:01:35.593Z"
   },
   {
    "duration": 23,
    "start_time": "2022-12-16T21:01:35.697Z"
   },
   {
    "duration": 44,
    "start_time": "2022-12-16T21:01:35.722Z"
   },
   {
    "duration": 13,
    "start_time": "2022-12-16T21:01:35.768Z"
   },
   {
    "duration": 18,
    "start_time": "2022-12-16T21:01:35.783Z"
   },
   {
    "duration": 5,
    "start_time": "2022-12-16T21:01:35.803Z"
   },
   {
    "duration": 186,
    "start_time": "2022-12-16T21:01:35.809Z"
   },
   {
    "duration": 724,
    "start_time": "2022-12-16T21:01:35.999Z"
   },
   {
    "duration": 3,
    "start_time": "2022-12-16T21:01:36.724Z"
   },
   {
    "duration": 17,
    "start_time": "2022-12-16T21:01:36.729Z"
   },
   {
    "duration": 15,
    "start_time": "2022-12-16T21:01:36.747Z"
   },
   {
    "duration": 27,
    "start_time": "2022-12-16T21:01:36.763Z"
   },
   {
    "duration": 13,
    "start_time": "2022-12-16T21:01:36.815Z"
   },
   {
    "duration": 354,
    "start_time": "2022-12-16T21:01:36.830Z"
   },
   {
    "duration": 285,
    "start_time": "2022-12-16T21:01:37.186Z"
   },
   {
    "duration": 6,
    "start_time": "2022-12-16T21:01:37.474Z"
   },
   {
    "duration": 241,
    "start_time": "2022-12-16T21:01:37.481Z"
   },
   {
    "duration": 9,
    "start_time": "2022-12-16T21:01:37.724Z"
   },
   {
    "duration": 10,
    "start_time": "2022-12-16T21:01:37.735Z"
   },
   {
    "duration": 6,
    "start_time": "2022-12-16T21:01:37.746Z"
   },
   {
    "duration": 1198,
    "start_time": "2022-12-16T21:01:37.754Z"
   },
   {
    "duration": 11,
    "start_time": "2022-12-16T21:01:38.953Z"
   },
   {
    "duration": 7,
    "start_time": "2022-12-16T21:01:38.966Z"
   },
   {
    "duration": 10,
    "start_time": "2022-12-16T21:01:38.975Z"
   },
   {
    "duration": 42,
    "start_time": "2022-12-16T21:01:38.986Z"
   },
   {
    "duration": 10,
    "start_time": "2022-12-16T21:01:39.030Z"
   },
   {
    "duration": 16,
    "start_time": "2022-12-16T21:01:39.042Z"
   },
   {
    "duration": 6,
    "start_time": "2022-12-16T21:01:39.059Z"
   },
   {
    "duration": 13,
    "start_time": "2022-12-16T21:01:39.067Z"
   },
   {
    "duration": 35,
    "start_time": "2022-12-16T21:01:39.082Z"
   },
   {
    "duration": 174,
    "start_time": "2022-12-16T21:01:39.119Z"
   },
   {
    "duration": 4,
    "start_time": "2022-12-16T21:01:39.295Z"
   },
   {
    "duration": 22,
    "start_time": "2022-12-16T21:01:39.301Z"
   },
   {
    "duration": 163,
    "start_time": "2022-12-16T21:01:39.325Z"
   },
   {
    "duration": 26,
    "start_time": "2022-12-16T21:01:39.490Z"
   },
   {
    "duration": 18,
    "start_time": "2022-12-16T21:01:39.518Z"
   },
   {
    "duration": 6,
    "start_time": "2022-12-16T21:01:39.538Z"
   },
   {
    "duration": 237,
    "start_time": "2022-12-16T21:01:39.545Z"
   },
   {
    "duration": 8,
    "start_time": "2022-12-16T21:01:39.784Z"
   },
   {
    "duration": 21,
    "start_time": "2022-12-16T21:01:39.797Z"
   },
   {
    "duration": 39,
    "start_time": "2022-12-16T21:01:39.820Z"
   },
   {
    "duration": 20,
    "start_time": "2022-12-16T21:01:39.861Z"
   },
   {
    "duration": 15,
    "start_time": "2022-12-16T21:01:39.882Z"
   },
   {
    "duration": 206,
    "start_time": "2022-12-16T21:01:39.915Z"
   },
   {
    "duration": 5,
    "start_time": "2022-12-16T21:01:40.123Z"
   },
   {
    "duration": 143,
    "start_time": "2022-12-16T21:01:40.130Z"
   },
   {
    "duration": 7,
    "start_time": "2022-12-16T21:01:40.275Z"
   },
   {
    "duration": 267,
    "start_time": "2022-12-16T21:01:40.284Z"
   },
   {
    "duration": 35,
    "start_time": "2022-12-16T21:01:40.553Z"
   },
   {
    "duration": 30,
    "start_time": "2022-12-16T21:01:40.589Z"
   },
   {
    "duration": 5,
    "start_time": "2022-12-16T21:01:40.620Z"
   },
   {
    "duration": 8,
    "start_time": "2022-12-16T21:01:40.627Z"
   },
   {
    "duration": 117,
    "start_time": "2022-12-16T21:01:40.636Z"
   },
   {
    "duration": 246,
    "start_time": "2022-12-16T21:01:40.755Z"
   },
   {
    "duration": 235,
    "start_time": "2022-12-16T21:01:41.002Z"
   },
   {
    "duration": 179,
    "start_time": "2022-12-16T21:01:41.239Z"
   },
   {
    "duration": 168,
    "start_time": "2022-12-16T21:01:41.420Z"
   },
   {
    "duration": 5,
    "start_time": "2022-12-16T21:01:41.590Z"
   },
   {
    "duration": 20,
    "start_time": "2022-12-16T21:01:41.597Z"
   },
   {
    "duration": 9,
    "start_time": "2022-12-16T21:01:41.619Z"
   },
   {
    "duration": 15,
    "start_time": "2022-12-16T21:01:41.629Z"
   },
   {
    "duration": 13,
    "start_time": "2022-12-16T21:01:41.646Z"
   },
   {
    "duration": 7,
    "start_time": "2022-12-16T21:01:41.661Z"
   },
   {
    "duration": 18,
    "start_time": "2022-12-16T21:01:41.669Z"
   },
   {
    "duration": 201,
    "start_time": "2022-12-16T21:01:41.689Z"
   },
   {
    "duration": 185,
    "start_time": "2022-12-16T21:01:41.892Z"
   },
   {
    "duration": 228,
    "start_time": "2022-12-16T21:01:42.080Z"
   },
   {
    "duration": 124,
    "start_time": "2022-12-16T21:01:42.315Z"
   },
   {
    "duration": 201,
    "start_time": "2022-12-16T21:01:42.441Z"
   },
   {
    "duration": 123,
    "start_time": "2022-12-16T21:01:42.645Z"
   },
   {
    "duration": 172,
    "start_time": "2022-12-16T21:01:42.770Z"
   },
   {
    "duration": 208,
    "start_time": "2022-12-16T21:01:42.944Z"
   },
   {
    "duration": 201,
    "start_time": "2022-12-16T21:01:43.154Z"
   },
   {
    "duration": 201,
    "start_time": "2022-12-16T21:01:43.356Z"
   },
   {
    "duration": 192,
    "start_time": "2022-12-16T21:01:43.559Z"
   },
   {
    "duration": 135,
    "start_time": "2022-12-16T21:01:43.752Z"
   },
   {
    "duration": 147,
    "start_time": "2022-12-16T21:01:43.889Z"
   },
   {
    "duration": 137,
    "start_time": "2022-12-16T21:01:44.037Z"
   },
   {
    "duration": 13,
    "start_time": "2022-12-16T21:01:44.176Z"
   },
   {
    "duration": 6,
    "start_time": "2022-12-16T21:01:44.191Z"
   },
   {
    "duration": 21,
    "start_time": "2022-12-16T21:01:44.198Z"
   },
   {
    "duration": 10,
    "start_time": "2022-12-16T21:01:44.221Z"
   },
   {
    "duration": 7,
    "start_time": "2022-12-16T21:01:44.232Z"
   }
  ],
  "kernelspec": {
   "display_name": "Python 3 (ipykernel)",
   "language": "python",
   "name": "python3"
  },
  "language_info": {
   "codemirror_mode": {
    "name": "ipython",
    "version": 3
   },
   "file_extension": ".py",
   "mimetype": "text/x-python",
   "name": "python",
   "nbconvert_exporter": "python",
   "pygments_lexer": "ipython3",
   "version": "3.9.5"
  },
  "toc": {
   "base_numbering": 1,
   "nav_menu": {},
   "number_sections": true,
   "sideBar": true,
   "skip_h1_title": true,
   "title_cell": "Содержание",
   "title_sidebar": "Contents",
   "toc_cell": true,
   "toc_position": {},
   "toc_section_display": true,
   "toc_window_display": false
  }
 },
 "nbformat": 4,
 "nbformat_minor": 2
}
